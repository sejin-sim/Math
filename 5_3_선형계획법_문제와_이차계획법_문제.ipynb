{
  "nbformat": 4,
  "nbformat_minor": 0,
  "metadata": {
    "colab": {
      "name": "5_3_선형계획법 문제와 이차계획법 문제.ipynb",
      "provenance": [],
      "authorship_tag": "ABX9TyN6kaEaKYpBisKMm44+Re4K",
      "include_colab_link": true
    },
    "kernelspec": {
      "name": "python3",
      "display_name": "Python 3"
    },
    "language_info": {
      "name": "python"
    }
  },
  "cells": [
    {
      "cell_type": "markdown",
      "metadata": {
        "id": "view-in-github",
        "colab_type": "text"
      },
      "source": [
        "<a href=\"https://colab.research.google.com/github/sejin-sim/Math/blob/main/5_3_%EC%84%A0%ED%98%95%EA%B3%84%ED%9A%8D%EB%B2%95_%EB%AC%B8%EC%A0%9C%EC%99%80_%EC%9D%B4%EC%B0%A8%EA%B3%84%ED%9A%8D%EB%B2%95_%EB%AC%B8%EC%A0%9C.ipynb\" target=\"_parent\"><img src=\"https://colab.research.google.com/assets/colab-badge.svg\" alt=\"Open In Colab\"/></a>"
      ]
    },
    {
      "cell_type": "markdown",
      "metadata": {
        "id": "P7JaZFSPea5u"
      },
      "source": [
        "##### 기본 셋팅"
      ]
    },
    {
      "cell_type": "code",
      "metadata": {
        "colab": {
          "base_uri": "https://localhost:8080/"
        },
        "id": "wXAFN7RBeV1e",
        "outputId": "a5e5f732-bc1a-454a-e345-2280b1d53b9c"
      },
      "source": [
        "import numpy as np\n",
        "\n",
        "# %matplotlib inline\n",
        "import matplotlib as mpl\n",
        "import matplotlib.pyplot as plt\n",
        "import seaborn as sns\n",
        "import pandas as pd\n",
        "\n",
        "mpl.rc('axes', labelsize=14)\n",
        "mpl.rc('xtick', labelsize=12)\n",
        "mpl.rc('ytick', labelsize=12)\n",
        "mpl.rcParams['axes.unicode_minus'] = False\n",
        "mpl.rcParams.update({\"axes.grid\" : True})\n",
        "\n",
        "plt.rcParams[\"figure.figsize\"] = (15,9)\n",
        "plt.rc(\"font\", size=18)  # 그림의 폰트 크기를 18로 고정\n",
        "\n",
        "np.random.seed(42)\n",
        "\n",
        "# %config InlineBackend.figure_format = 'retina'\n",
        " \n",
        "!apt -qq -y install fonts-nanum\n",
        "fontpath = '/usr/share/fonts/truetype/nanum/NanumBarunGothic.ttf'\n",
        "plt.rc('font', family='NanumBarunGothic') \n",
        "mpl.font_manager._rebuild()\n",
        "\n",
        "import warnings\n",
        "warnings.filterwarnings(action=\"ignore\", message=\"^internal gelsd\")"
      ],
      "execution_count": null,
      "outputs": [
        {
          "output_type": "stream",
          "text": [
            "fonts-nanum is already the newest version (20170925-1).\n",
            "0 upgraded, 0 newly installed, 0 to remove and 40 not upgraded.\n"
          ],
          "name": "stdout"
        }
      ]
    },
    {
      "cell_type": "markdown",
      "metadata": {
        "id": "FtZWPE68egFt"
      },
      "source": [
        "### 1) 선형계획법 문제\n",
        "\n",
        "- 기본형 선형계획법(Linear Programming) : 방정식이나 부등식 제한 조건을 가지는 선형 모형(linear model)의 값을 최소화하는 문제 \n",
        "> $$\n",
        "\\begin{align}\n",
        "\\text{목적함수 }\n",
        "\\arg\\min_x c^Tx \n",
        "\\end{align}\n",
        "$$\n",
        "<br>\n",
        "> $$\n",
        "\\begin{align}\n",
        "\\text{제한조건_선형 연립방정식 }\n",
        "Ax = b \n",
        "\\end{align}\n",
        "$$\n",
        "<br>\n",
        "> $$\n",
        "\\begin{align}\n",
        "\\text{부등식 제한조건_변수값이 모두 음수가 아닌 }\n",
        "x \\geq 0\n",
        "\\end{align}\n",
        "$$\n",
        "\n",
        "- 정규형(canonical form) 선형계획법 예시 : 부등식 조건을 허용\n",
        "> $$\n",
        "\\begin{align}\n",
        "\\arg\\min_x c^Tx \n",
        "\\end{align}\n",
        "$$\n",
        "<br>\n",
        "> $$\n",
        "\\begin{align}\n",
        "Ax \\leq b \n",
        "\\end{align}\n",
        "$$\n",
        "<br>\n",
        "> $$\n",
        "\\begin{align}\n",
        "x \\geq 0\n",
        "\\end{align}\n",
        "$$\n"
      ]
    },
    {
      "cell_type": "markdown",
      "metadata": {
        "id": "D2RTYxULnHyj"
      },
      "source": [
        "#### 예제\n",
        "\n",
        "어떤 공장에서 두가지 제품을 생산해야 한다고 하자. \n",
        "\n",
        "* 제품 A와 제품 B 각각 100개 이상 생산해야 한다.\n",
        "* 시간은 500시간 밖에 없다.\n",
        "* 제품 A는 생산하는데 1시간이 걸리고 제품 B는 2시간이 걸린다.\n",
        "* 특정 부품이 9800개밖에 없다.\n",
        "* 제품 A는 생산하는데 특정 부품을 4개 필요로 하고 제품 B는 생산하는데 특정 부품을 5개 필요로 한다. \n",
        "* 제품 A의 이익은 하나당 3만원이고 제품 B의 이익은 하나당 5만원이다.\n",
        "\n",
        "\n",
        "* 제품 A와 제품 B의 생산량을 각각 $x_1, x_2$라고 하면,\n",
        "> $$ \n",
        "\\begin{align}\n",
        "\\text{목적함수 } -3x_1 -5x_2 \n",
        "\\end{align}\n",
        "$$\n",
        "<br>\n",
        "> $$ \n",
        "\\begin{align}\n",
        "\\begin{aligned}\n",
        "\\text{제한조건 }\n",
        "-x_1 & & &\\leq& -100 \\\\\n",
        " & & -x_2 &\\leq& -100 \\\\\n",
        "x_1 &+& 2 x_2 &\\leq& 500 \\\\\n",
        "4x_1 &+& 5 x_2 &\\leq& 9800 \\\\\n",
        "\\end{aligned}\n",
        "\\end{align}\n",
        "$$\n",
        "<br>\n",
        "> $$ \n",
        "\\begin{align}\n",
        "\\text{제한조건 }\n",
        "x_1 \\geq 0, \\;\\; x_2 \\geq 0 \n",
        "\\end{align}\n",
        "$$\n",
        "\n",
        "- 정규형(=기본형) 선형계획법 문제로 표현 시\n",
        "> $$\n",
        "\\begin{align}\n",
        "\\min_x \n",
        "\\begin{bmatrix} -3 & -5 \\end{bmatrix}\n",
        "\\begin{bmatrix}\n",
        "x_1 \\\\ x_2 \n",
        "\\end{bmatrix}\n",
        "\\end{align}\n",
        "$$\n",
        "<br>\n",
        "> $$ \n",
        "\\begin{align}\n",
        "\\begin{bmatrix}\n",
        "-1 & 0 \\\\\n",
        "0 & -1 \\\\\n",
        "1 & 2 \\\\\n",
        "4 & 5 \\\\\n",
        "\\end{bmatrix}\n",
        "\\begin{bmatrix}\n",
        "x_1 \\\\ x_2 \n",
        "\\end{bmatrix} \\leq\n",
        "\\begin{bmatrix}\n",
        "-100 \\\\ -100 \\\\ 500 \\\\ 9800\n",
        "\\end{bmatrix}\n",
        "\\end{align}\n",
        "$$\n",
        "<br>\n",
        "> $$ \n",
        "\\begin{align}\n",
        "\\begin{bmatrix}\n",
        "x_1 \\\\ x_2\n",
        "\\end{bmatrix}\\geq\n",
        "\\begin{bmatrix}\n",
        "0 \\\\ 0\n",
        "\\end{bmatrix}\n",
        "\\end{align}\n",
        "$$"
      ]
    },
    {
      "cell_type": "markdown",
      "metadata": {
        "id": "ovsoAYh0oAKe"
      },
      "source": [
        "### 2) 사이파이를 이용한 선형계획법 문제 계산\n",
        "\n",
        "scipy.optimize 패키지의 `linprog()` 명령을 사용하면 선형계획법 문제를 풀 수 있다. 사용법은 다음과 같다.\n",
        "\n",
        "```\n",
        "linprog(c, A, b)\n",
        "```\n",
        "\n",
        "* `c`: 목적함수의 계수 벡터\n",
        "* `A`: 등식 제한조건의 계수 행렬\n",
        "* `b`: 등식 제한조건의 상수 벡터\n"
      ]
    },
    {
      "cell_type": "markdown",
      "metadata": {
        "id": "uzKMrBiqoGR5"
      },
      "source": [
        "#### 예제 : 앞선 예제를 코드로 계산\n",
        "+ 제품 A를 300개, 제품 B를 100개 생산할 때 이익이 1400으로 최대가 됨을 알 수 있다."
      ]
    },
    {
      "cell_type": "code",
      "metadata": {
        "colab": {
          "base_uri": "https://localhost:8080/"
        },
        "id": "9jGuV9hLoQOa",
        "outputId": "60cd3001-18d7-4471-fc31-4198004f72b1"
      },
      "source": [
        "import scipy as sp \n",
        "\n",
        "A = np.array([[-1, 0], [0, -1], [1, 2], [4, 5]])\n",
        "b = np.array([-100, -100, 500, 9800])\n",
        "c = np.array([-3, -5])\n",
        "\n",
        "result = sp.optimize.linprog(c, A, b)\n",
        "result"
      ],
      "execution_count": null,
      "outputs": [
        {
          "output_type": "stream",
          "text": [
            "/usr/local/lib/python3.7/dist-packages/numpy/core/fromnumeric.py:87: VisibleDeprecationWarning: Creating an ndarray from ragged nested sequences (which is a list-or-tuple of lists-or-tuples-or ndarrays with different lengths or shapes) is deprecated. If you meant to do this, you must specify 'dtype=object' when creating the ndarray\n",
            "  return ufunc.reduce(obj, axis, dtype, out, **passkwargs)\n"
          ],
          "name": "stderr"
        },
        {
          "output_type": "execute_result",
          "data": {
            "text/plain": [
              "     con: array([], dtype=float64)\n",
              "     fun: -1399.9999948073819\n",
              " message: 'Optimization terminated successfully.'\n",
              "     nit: 6\n",
              "   slack: array([1.99999991e+02, 4.19920389e-06, 3.31138096e-07, 8.10000001e+03])\n",
              "  status: 0\n",
              " success: True\n",
              "       x: array([299.99999127, 100.0000042 ])"
            ]
          },
          "metadata": {
            "tags": []
          },
          "execution_count": 2
        }
      ]
    },
    {
      "cell_type": "markdown",
      "metadata": {
        "id": "RqJhxc9MpG3E"
      },
      "source": [
        "### 3) CVXPY를 이용한 선형계획법 문제 계산\n",
        "\n",
        "CVXPY 또는 PuLP와 같은 파이썬 패키지를 사용하면 선형계획법 문제의 계수 행렬 $A$, $b$, $c$를 직접 숫자로 정의하지 않고 심볼로 정의하여 더 직관적인 파이썬 코드를 만들 수 있다. 다음 코드는 위에서 풀었던 예제를 CVXPY로 다시 계산한 것이다. 다만 이 방법은 변수나 조건의 수가 아주 많을 경우에는 심볼릭 연산으로 인해 속도가 느려질 수 있다.\n",
        "\n",
        "CVXPY는 conda 패키지 매니저로 설치할 수 있다.\n",
        "\n",
        "```\n",
        "conda install cvxpy\n",
        "```"
      ]
    },
    {
      "cell_type": "code",
      "metadata": {
        "colab": {
          "base_uri": "https://localhost:8080/"
        },
        "id": "P1agT6npobt6",
        "outputId": "b1477e5f-a2d7-441a-f33e-63acbf4c26b1"
      },
      "source": [
        "import cvxpy as cp\n",
        "\n",
        "# 변수의 정의\n",
        "a = cp.Variable()  # A의 생산량\n",
        "b = cp.Variable()  # B의 생산량\n",
        "\n",
        "# 조건의 정의\n",
        "constraints = [\n",
        "    a >= 100,  # A를 100개 이상 생산해야 한다.\n",
        "    b >= 100,  # B를 100개 이상 생산해야 한다. \n",
        "    a + 2 * b <= 500, # 500시간 내에 생산해야 한다.\n",
        "    4 * a + 5 * b <= 9800,  # 부품이 9800개 밖에 없다.\n",
        "]\n",
        "\n",
        "# 문제의 정의\n",
        "obj = cp.Maximize(3 * a + 5 * b) # 제품 A의 이익은 하나당 3만원, B는 5만원\n",
        "prob = cp.Problem(obj, constraints)\n",
        "\n",
        "# 계산\n",
        "prob.solve() \n",
        "\n",
        "# 결과\n",
        "print(\"상태:\", prob.status)\n",
        "print(\"최적값:\", a.value, b.value)"
      ],
      "execution_count": null,
      "outputs": [
        {
          "output_type": "stream",
          "text": [
            "상태: optimal\n",
            "최적값: 299.99999911572195 100.00000058337798\n"
          ],
          "name": "stdout"
        }
      ]
    },
    {
      "cell_type": "markdown",
      "metadata": {
        "id": "rG3aQ5CcpZUT"
      },
      "source": [
        "### 4) 이차계획법 문제 (QP 문제)\n",
        "\n",
        "- 이차계획법(Quadratic Programming) 문제 : 방정식이나 부등식 제한 조건을 가지는 일반화된 이차형식(quadratic form)의 값을 최소화하는 문제\n",
        "> $$\n",
        "\\begin{align}\n",
        "\\text{목적함수 } \\dfrac{1}{2}x^TQx + c^Tx\n",
        "\\end{align}\n",
        "$$\n",
        "<br>\n",
        "> $$\n",
        "\\begin{align}\n",
        "\\begin{aligned}\n",
        "\\text{등식 제한조건 }Ax = b \\\\\n",
        "\\text{부호 제한조건 }x \\geq 0\n",
        "\\end{aligned}\n",
        "\\end{align}\n",
        "$$\n",
        "- 잔차 제곱합을 최소화하는 예측 모형에 추가적인 제한조건이 있으면 이차계획법 문제가 됨"
      ]
    },
    {
      "cell_type": "markdown",
      "metadata": {
        "id": "3dd8PMatrKbZ"
      },
      "source": [
        "#### 예제\n",
        "\n",
        "- 앞 절에서 풀었던 등식 제한조건이 있는 최적화 문제도 사실은 이차계획법 문제다.\n",
        "\n",
        "$$\n",
        "\\begin{align}\n",
        "\\arg\\min_x x_1^2 + x_2^2\n",
        "\\end{align}\n",
        "$$\n",
        "\n",
        "$$\n",
        "\\begin{align}\n",
        "x_1 + x_2 - 1 = 0\n",
        "\\end{align}\n",
        "$$\n",
        "\n",
        "- QP 형식으로 바꾸면 다음과 같다.\n",
        "\n",
        "$$ \n",
        "\\begin{align}\n",
        "\\arg\\min_x\n",
        "\\dfrac{1}{2}\n",
        "\\begin{bmatrix}\n",
        "x_1 & x_2\n",
        "\\end{bmatrix}\n",
        "\\begin{bmatrix}\n",
        "2 & 0 \\\\ 0 & 2\n",
        "\\end{bmatrix}\n",
        "\\begin{bmatrix}\n",
        "x_1 \\\\ x_2\n",
        "\\end{bmatrix}\n",
        "+ \n",
        "\\begin{bmatrix}\n",
        "0 & 0\n",
        "\\end{bmatrix}\n",
        "\\begin{bmatrix}\n",
        "x_1 \\\\ x_2\n",
        "\\end{bmatrix}\n",
        "\\end{align}\n",
        "$$\n",
        "\n",
        "$$\n",
        "\\begin{align}\n",
        "\\begin{bmatrix}\n",
        "1 & 1\n",
        "\\end{bmatrix}\n",
        "\\begin{bmatrix}\n",
        "x_1 \\\\ x_2\n",
        "\\end{bmatrix} = 1\n",
        "\\end{align}\n",
        "$$"
      ]
    },
    {
      "cell_type": "markdown",
      "metadata": {
        "id": "ATSBeyerroMw"
      },
      "source": [
        "### 5) CvxOpt를 이용한 이차계획법 문제 계산\n",
        "\n",
        "CvxOpt라는 패키지를 사용하면 이차계획법 문제를 풀 수 있다. CvxOpt를 쓸 때는 NumPy의 `ndarray` 배열을 CvxOpt 전용의 `matrix` 자료형으로 바꿔야 한다. 또 정수 자료형을 사용하지 못하므로 항상 부동소수점 실수가 되도록 명시해야 한다. \n",
        "\n",
        "CvxOpt도 conda 패키지 매니저로 설치할 수 있다.\n",
        "\n",
        "```\n",
        "conda install cvxopt\n",
        "```"
      ]
    },
    {
      "cell_type": "code",
      "metadata": {
        "colab": {
          "base_uri": "https://localhost:8080/"
        },
        "id": "nv2mruS2pLip",
        "outputId": "8692a44b-1326-4cbf-8edc-24fccfad57e7"
      },
      "source": [
        "from cvxopt import matrix, solvers\n",
        "\n",
        "Q = matrix(np.diag([2.0, 2.0]))\n",
        "c = matrix(np.array([0.0, 0.0]))\n",
        "A = matrix(np.array([[1.0, 1.0]]))\n",
        "b = matrix(np.array([[1.0]]))\n",
        "\n",
        "sol = solvers.qp(Q, c, A=A, b=b)\n",
        "np.array(sol['x'])"
      ],
      "execution_count": null,
      "outputs": [
        {
          "output_type": "execute_result",
          "data": {
            "text/plain": [
              "array([[0.5],\n",
              "       [0.5]])"
            ]
          },
          "metadata": {
            "tags": []
          },
          "execution_count": 4
        }
      ]
    },
    {
      "cell_type": "markdown",
      "metadata": {
        "id": "RO4ImnTmrv3n"
      },
      "source": [
        "#### 연습 문제 5.3.1\n",
        "\n",
        "다음 문제가 QP 문제임을 보이고 $N=3$인 경우에 대해 QP 문제의 $Q$, $c$, $A$, $b$를 각각 구하라(문제에서 $x$는 벡터이고 $y$는 실수다).\n",
        "\n",
        "$$\n",
        "\\begin{align}\n",
        "\\arg\\min_{a_i} \\left( \\sum_{i=1}^N a_i - \\dfrac{1}{2}\\sum_{i=1}^N\\sum_{j=1}^N a_i a_j y_i y_j x_i^T x_j \\right)\n",
        "\\end{align}\n",
        "$$\n",
        "\n",
        "$$\n",
        "\\begin{align}\n",
        "\\sum_{i=1}^N a_i y_i = 0\n",
        "\\end{align}\n",
        "$$\n",
        "\n",
        "$$\n",
        "\\begin{align}\n",
        "a_i \\geq 0 \n",
        "\\end{align}\n",
        "$$\n",
        "\n",
        "- 답\n",
        "\n",
        "$$ \n",
        "\\begin{align}\n",
        "\\arg\\min_x\n",
        "-\\dfrac{1}{2}\n",
        "\\begin{bmatrix}\n",
        "a_1 & a_2 & a_3\n",
        "\\end{bmatrix}\n",
        "\\begin{bmatrix}\n",
        "y_1 y_1 x_1^T x_1 & y_1 y_2 x_1^T x_2 & y_1 y_3 x_1^T x_3 \\\\\n",
        "y_2 y_1 x_2^T x_1 & y_2 y_2 x_2^T x_2 & y_2 y_3 x_2^T x_3 \\\\\n",
        "y_3 y_1 x_3^T x_1 & y_3 y_2 x_3^T x_2 & y_3 y_3 x_3^T x_3\n",
        "\\end{bmatrix}\n",
        "\\begin{bmatrix}\n",
        "a_1 \\\\ a_2 \\\\ a_3\n",
        "\\end{bmatrix}\n",
        "+ \n",
        "\\begin{bmatrix}\n",
        "1 & 1 & 1\n",
        "\\end{bmatrix}\n",
        "\\begin{bmatrix}\n",
        "a_1 \\\\ a_2 \\\\ a_3\n",
        "\\end{bmatrix}\n",
        "\\end{align}\n",
        "$$\n",
        "\n",
        "$$\n",
        "\\begin{align}\n",
        "\\begin{bmatrix}\n",
        "y_1 & y_2 & y_3\n",
        "\\end{bmatrix}\n",
        "\\begin{bmatrix}\n",
        "a_1 \\\\ a_2 \\\\ a_3\n",
        "\\end{bmatrix} = 0 \\\\\n",
        "\\end{align}\n",
        "$$\n",
        "\n",
        "$$\n",
        "\\begin{align}\n",
        "a_i \\geq 0 \n",
        "\\end{align}\n",
        "$$\n",
        "\n",
        "$$\n",
        "\\begin{align}\n",
        "Q = \\begin{bmatrix}\n",
        "y_1 y_1 x_1^T x_1 & y_1 y_2 x_1^T x_2 & y_1 y_3 x_1^T x_3 \\\\\n",
        "y_2 y_1 x_2^T x_1 & y_2 y_2 x_2^T x_2 & y_2 y_3 x_2^T x_3 \\\\\n",
        "y_3 y_1 x_3^T x_1 & y_3 y_2 x_3^T x_2 & y_3 y_3 x_3^T x_3\n",
        "\\end{bmatrix}\n",
        "\\end{align}\n",
        "$$\n",
        "\n",
        "$$\n",
        "\\begin{align}\n",
        "c = \\begin{bmatrix}\n",
        "1 & 1 & 1\n",
        "\\end{bmatrix}\n",
        "\\end{align}\n",
        "$$\n",
        "\n",
        "$$\n",
        "\\begin{align}\n",
        "A = \\begin{bmatrix}\n",
        "y_1 & y_2 & y_3\n",
        "\\end{bmatrix}\n",
        "\\end{align}\n",
        "$$\n",
        "\n",
        "$$\n",
        "\\begin{align}\n",
        "B = 0\n",
        "\\end{align}\n",
        "$$"
      ]
    }
  ]
}