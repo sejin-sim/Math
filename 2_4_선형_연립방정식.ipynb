{
  "nbformat": 4,
  "nbformat_minor": 0,
  "metadata": {
    "colab": {
      "name": "2_4_선형 연립방정식.ipynb",
      "provenance": [],
      "collapsed_sections": [],
      "authorship_tag": "ABX9TyP6bgWD8a4ZUFLBCj75nn9b",
      "include_colab_link": true
    },
    "kernelspec": {
      "name": "python3",
      "display_name": "Python 3"
    }
  },
  "cells": [
    {
      "cell_type": "markdown",
      "metadata": {
        "id": "view-in-github",
        "colab_type": "text"
      },
      "source": [
        "<a href=\"https://colab.research.google.com/github/sejin-sim/Math/blob/main/2_4_%EC%84%A0%ED%98%95_%EC%97%B0%EB%A6%BD%EB%B0%A9%EC%A0%95%EC%8B%9D.ipynb\" target=\"_parent\"><img src=\"https://colab.research.google.com/assets/colab-badge.svg\" alt=\"Open In Colab\"/></a>"
      ]
    },
    {
      "cell_type": "markdown",
      "metadata": {
        "id": "OjPqcjweZ5wA"
      },
      "source": [
        "- 선형 예측모형 : 입력 데이터 벡터와 가중치 벡터의 내적으로 계산된 예측값이 실제 출력 데이터와 유사한 값을 출력하도록 하는 모형이다.\r\n",
        "- 연립방정식과 역행렬을 이용하여 선형 예측모형의 가중치 벡터를 구하는 방법을 알아본다."
      ]
    },
    {
      "cell_type": "markdown",
      "metadata": {
        "id": "ZpKZAJy-aEv5"
      },
      "source": [
        "### 1) 선형 연립방정식\r\n",
        "\r\n",
        "1. 선형 연립방정식(system of linear equations) = 연립일차방정식 : 복수의 미지수를 포함하는 복수의 선형 방정식\r\n",
        "> ex) 3개의 미지수와 3개의 선형 방정식을 가지는 선형 연립방정식의 한 예\r\n",
        "\r\n",
        "$$\r\n",
        "\\begin{align}\r\n",
        "\\begin{matrix}\r\n",
        "x_1 & + & x_2 &   &     & = & 2  \\\\\r\n",
        "    &   & x_2 & + & x_3 & = & 2  \\\\\r\n",
        "x_1 & + & x_2 & + & x_3 & = & 3  \\\\\r\n",
        "\\end{matrix}\r\n",
        "\\end{align}\r\n",
        "$$\r\n",
        "\r\n",
        "2. $x_1, x_2, \\cdots, x_M$ 이라는 $M$ 개의 미지수를 가지는 $N$개의 선형 연립방정식은 일반적으로 다음과 같은 형태가 된다. 이 식에서 $a$와 $b$는 방정식의 계수다.\r\n",
        "\r\n",
        "$$\r\n",
        "\\begin{align}\r\n",
        "\\begin{matrix}\r\n",
        "a_{11} x_1 & + \\;& a_{12} x_2   &\\; + \\cdots + \\;& a_{1M} x_M &\\; = \\;& b_1 \\\\\r\n",
        "a_{21} x_1 & + \\;& a_{22} x_2   &\\; + \\cdots + \\;& a_{2M} x_M &\\; = \\;& b_2 \\\\\r\n",
        "\\vdots\\;\\;\\; &   & \\vdots\\;\\;\\; &                & \\vdots\\;\\;\\; &     & \\;\\vdots \\\\\r\n",
        "a_{N1} x_1 & + \\;& a_{N2} x_2   &\\; + \\cdots + \\;& a_{NM} x_M &\\; = \\;& b_N \\\\\r\n",
        "\\end{matrix}\r\n",
        "\\end{align}\r\n",
        "$$\r\n",
        "\r\n",
        "\r\n",
        "3. 행렬과 벡터의 곱셈을 이용하면 위 선형 연립방정식은 다음처럼 간단하게 쓸 수 있다.\r\n",
        "\r\n",
        "$$\r\n",
        "\\begin{align}\r\n",
        "A = \r\n",
        "\\begin{bmatrix}\r\n",
        "a_{11} & a_{12} & \\cdots & a_{1M} \\\\\r\n",
        "a_{21} & a_{22} & \\cdots & a_{2M} \\\\\r\n",
        "\\vdots & \\vdots & \\ddots & \\vdots \\\\\r\n",
        "a_{N1} & a_{N2} & \\cdots & a_{NM} \\\\\r\n",
        "\\end{bmatrix}\r\n",
        ", \\;\\;\r\n",
        "x = \r\n",
        "\\begin{bmatrix}\r\n",
        "x_1 \\\\ x_2 \\\\ \\vdots \\\\ x_M\r\n",
        "\\end{bmatrix}\r\n",
        ", \\;\\;\r\n",
        "b=\r\n",
        "\\begin{bmatrix}\r\n",
        "b_1 \\\\ b_2 \\\\ \\vdots \\\\ b_N\r\n",
        "\\end{bmatrix}\r\n",
        "\\end{align}\r\n",
        "$$\r\n",
        "\r\n",
        "$$ \r\n",
        "\\begin{align}\r\n",
        "Ax = b  \r\n",
        "\\end{align}\r\n",
        "$$\r\n",
        "\r\n",
        "- $A$ : 계수행렬(coefficient matrix)\r\n",
        "- $ x$ : 미지수벡터(unknown vector)\r\n",
        "- $ b$ : 상수벡터(constant vector)\r\n",
        "\r\n",
        "4. ex)\r\n",
        "\r\n",
        "$$\r\n",
        "\\begin{align}\r\n",
        "Ax = b\r\n",
        "\\end{align}\r\n",
        "$$\r\n",
        "\r\n",
        "$$\r\n",
        "\\begin{align}\r\n",
        "A = \r\n",
        "\\begin{bmatrix}\r\n",
        " 1 & 1 & 0 \\\\\r\n",
        " 0 & 1 & 1 \\\\\r\n",
        " 1 & 1 & 1 \\\\\r\n",
        "\\end{bmatrix}, \\;\\;\\;\r\n",
        "x = \\begin{bmatrix}\r\n",
        "x_1 \\\\ x_2 \\\\ x_3\r\n",
        "\\end{bmatrix}, \\;\\;\\;\r\n",
        "b = \\begin{bmatrix}\r\n",
        "2 \\\\ 2 \\\\ 3\r\n",
        "\\end{bmatrix}\r\n",
        "\\end{align}\r\n",
        "$$\r\n",
        "\r\n",
        "\r\n",
        "5. if $A, x, b$가 행렬이 아닌 스칼라 실수라면, 다음과 같이 풀 수 있다.\r\n",
        "\r\n",
        "$$\r\n",
        "\\begin{align}\r\n",
        "x = \\dfrac{b}{A}\r\n",
        "\\end{align}\r\n",
        "$$\r\n",
        "\r\n",
        "> 그러나 행렬에서는 나눗셈이 정의되지 않으므로 사용 불가. → 역행렬 이용\r\n",
        "\r\n",
        "### 2) 역행렬\r\n",
        "\r\n",
        "1. 역행렬(inverse matrix) : 정방 행렬 $A$에 대해 $A^{-1}$은 원래의 행렬 $A$와 다음 관계를 만족하는 정방 행렬을 말한다. $I$는 항등 행렬(identity matrix)이다.\r\n",
        "\r\n",
        "$$ \r\n",
        "\\begin{align}\r\n",
        "A^{-1} A = A A^{-1} = I  \r\n",
        "\\end{align}\r\n",
        "$$\r\n",
        "\r\n",
        "2. 역행렬은 항상 존재하는 것이 아니라 **행렬 A에 따라서는 존재하지 않을 수도 있다**.\r\n",
        "\r\n",
        "3. 가역행렬(invertible matrix)=정칙행렬=비특이행렬 : 역행렬이 존재하는 행렬을 (regular matrix) 또는 (non-singular matrix)이라고 한다. \r\n",
        "\r\n",
        "4. 비가역행렬(non-invertible matrix) = 특이행렬 = 퇴화행렬 : 반대로 역행렬이 존재하지 않는 행렬"
      ]
    },
    {
      "cell_type": "markdown",
      "metadata": {
        "id": "91iZMZldlVpU"
      },
      "source": [
        "#### 연습 문제 2.4.1\r\n",
        "\r\n",
        "대각행렬의 역행렬은 각 대각성분의 역수로 이루어진 대각행렬과 같다.\r\n",
        "\r\n",
        "$$\r\n",
        "\\begin{align}\r\n",
        "\\begin{bmatrix}\r\n",
        "\\lambda_{1} & 0 & \\cdots & 0 \\\\\r\n",
        "0 & \\lambda_{2} & \\cdots & 0 \\\\\r\n",
        "\\vdots & \\vdots & \\ddots & \\vdots \\\\\r\n",
        "0 & 0 & \\cdots & \\lambda_{N} \\\\\r\n",
        "\\end{bmatrix}^{-1}\r\n",
        "=\r\n",
        "\\begin{bmatrix}\r\n",
        "\\dfrac{1}{\\lambda_{1}} & 0 & \\cdots & 0 \\\\\r\n",
        "0 & \\dfrac{1}{\\lambda_{2}} & \\cdots & 0 \\\\\r\n",
        "\\vdots & \\vdots & \\ddots & \\vdots \\\\\r\n",
        "0 & 0 & \\cdots & \\dfrac{1}{\\lambda_{N}} \\\\\r\n",
        "\\end{bmatrix}\r\n",
        "\\tag{2.4.10}\r\n",
        "\\end{align}\r\n",
        "$$\r\n",
        "\r\n",
        "$N=3$일 때 위 식을 증명하라.\r\n",
        "\r\n",
        "\r\n",
        "$$\r\n",
        "\\begin{align}\r\n",
        "\\begin{bmatrix}\r\n",
        "\\lambda_{1} & 0 & 0 \\\\\r\n",
        "0 & \\lambda_{2} & 0 \\\\\r\n",
        "0 & 0 & \\lambda_{3} \\\\\r\n",
        "\\end{bmatrix}\r\n",
        "\\begin{bmatrix}\r\n",
        "{\\lambda_{1}}' & 0 & 0 \\\\\r\n",
        "0 & {\\lambda_{2}}' & 0 \\\\\r\n",
        "0 & 0 & {\\lambda_{3}}' \\\\\r\n",
        "\\end{bmatrix}\r\n",
        "=\r\n",
        "\\begin{bmatrix}\r\n",
        "\\lambda_{1}{\\lambda_{1}}' & 0 & 0 \\\\\r\n",
        "0 & \\lambda_{2}{\\lambda_{2}}' & 0 \\\\\r\n",
        "0 & 0 & \\lambda_{3}{\\lambda_{3}}' \\\\\r\n",
        "\\end{bmatrix}\r\n",
        "\r\n",
        "\\end{align}\r\n",
        "$$\r\n",
        "\r\n",
        "$ \r\n",
        "\\lambda_{i}{\\lambda_{i}}' = 1\r\n",
        "$\r\n",
        "\r\n",
        "$\r\n",
        "{\\lambda_{i}}' = \\dfrac{1}{\\lambda_{i}}\r\n",
        "$"
      ]
    },
    {
      "cell_type": "markdown",
      "metadata": {
        "id": "07_NDRKQgVFx"
      },
      "source": [
        "### 3) 역행렬의 성질\r\n",
        "\r\n",
        "1. 역행렬은 다음 성질을 만족한다. 이 식에서 행렬 $A$, $B$, $C$는 모두 각각 역행렬 $A^{-1}$, $B^{-1}$, $C^{-1}$이 존재한다고 가정한다. \r\n",
        "\r\n",
        "* 전치 행렬의 역행렬은 역행렬의 전치 행렬과 같다. 따라서 대칭 행렬의 역행렬도 대칭 행렬이다.\r\n",
        "\r\n",
        "$$ \r\n",
        "\\begin{align}\r\n",
        "(A^{T})^{-1} = (A^{-1})^{T}  \r\n",
        "\\end{align}\r\n",
        "$$\r\n",
        "\r\n",
        "* 두 개 이상의 정방 행렬의 곱은 같은 크기의 정방 행렬이 되는데 이러한 행렬의 곱의 역행렬은 다음 성질이 성립한다.\r\n",
        "\r\n",
        "$$ \r\n",
        "\\begin{align}\r\n",
        "(AB)^{-1} = B^{-1} A^{-1}  \r\n",
        "\\end{align}\r\n",
        "$$\r\n",
        "\r\n",
        "$$ \r\n",
        "\\begin{align}\r\n",
        "(ABC)^{-1} = C^{-1} B^{-1} A^{-1}  \r\n",
        "\\end{align}\r\n",
        "$$\r\n",
        "\r\n",
        "<br/>\r\n",
        "\r\n",
        "### 4) 역행렬의 계산\r\n",
        "\r\n",
        "1. 역행렬은 행렬식을 이용하여 다음처럼 계산할 수 있다. 증명은 생략한다.\r\n",
        "\r\n",
        "$$ \r\n",
        "\\begin{align}\r\n",
        "A^{-1} = \\dfrac{1}{\\det (A)} C^T = \\dfrac{1}{\\det (A)} \r\n",
        "\\begin{bmatrix}\r\n",
        "C_{1,1} & \\cdots & C_{N,1}  \\\\\r\n",
        "\\vdots  & \\ddots & \\vdots   \\\\\r\n",
        "C_{1,N} & \\cdots & C_{N,N}  \\\\\r\n",
        "\\end{bmatrix}\r\n",
        "\\end{align}\r\n",
        "$$\r\n",
        "\r\n",
        "* $C_{i,j}$ : $A$의 ${i,j}$번째 원소에 대해 정의한 코팩터(cofactor)다.\r\n",
        "* $C$ : 여인수행렬(matrix of cofactors, 또는 cofactor matrix, comatrix) \r\n",
        "* 여인수행렬의 전치행렬 = $C^T$를 **어드조인트행렬**(**adjoint matrix, adjugate matrix**, 수반행렬)이라고 하며 **$\\text{adj}(A)$**로 표기하기도 한다.\r\n",
        "* 위 식에서 $\\det(A)=0$이면 역수가 존재하지 않음. 역행렬은 행렬식이 0이 아닌 경우에만 존재한다."
      ]
    },
    {
      "cell_type": "markdown",
      "metadata": {
        "id": "HNivJXkrhP-k"
      },
      "source": [
        "#### 연습 문제 2.4.2\r\n",
        "\r\n",
        "코팩터 식을 사용하여 다음 공식을 증명하라.\r\n",
        "\r\n",
        "$$\r\n",
        "\\begin{align}\r\n",
        "\\begin{bmatrix} \r\n",
        "a_{11} & a_{12} \\\\\r\n",
        "a_{21} & a_{22}  \r\n",
        "\\end{bmatrix}^{-1}\r\n",
        "=\r\n",
        "\\dfrac{1}{a_{11}a_{22} - a_{12}a_{21}}\r\n",
        "\\begin{bmatrix} \r\n",
        "a_{22} & -a_{12} \\\\\r\n",
        "-a_{21} & a_{11}  \r\n",
        "\\end{bmatrix}\r\n",
        "\\end{align}\r\n",
        "$$\r\n",
        "\r\n",
        "#### 연습 문제 2.4.3\r\n",
        "\r\n",
        "다음 역행렬을 계산하라.\r\n",
        "\r\n",
        "(1)\r\n",
        "$$\r\n",
        "\\begin{align}\r\n",
        "\\begin{bmatrix} \r\n",
        "2 & 0 \\\\\r\n",
        "0 & 1  \r\n",
        "\\end{bmatrix}^{-1}\r\n",
        "\\end{align}\r\n",
        "$$\r\n",
        "\r\n",
        "$$\r\n",
        "\\begin{align}\r\n",
        "\\dfrac{1}{2}\r\n",
        "\\begin{bmatrix} \r\n",
        "1 & 0 \\\\\r\n",
        "0 & 2  \r\n",
        "\\end{bmatrix}\r\n",
        "= \r\n",
        "\\begin{bmatrix} \r\n",
        "0.5 & 0 \\\\\r\n",
        "0 & 1  \r\n",
        "\\end{bmatrix}\r\n",
        "\\end{align}\r\n",
        "$$\r\n",
        "\r\n",
        "\r\n",
        "(2)\r\n",
        "$$\r\n",
        "\\begin{align}\r\n",
        "\\begin{bmatrix} \r\n",
        "\\dfrac{1}{\\sqrt{2}} & -\\dfrac{1}{\\sqrt{2}} \\\\\r\n",
        "\\dfrac{1}{\\sqrt{2}} &  \\dfrac{1}{\\sqrt{2}} \r\n",
        "\\end{bmatrix}^{-1}\r\n",
        "\\tag{2.4.17}\r\n",
        "\\end{align}\r\n",
        "$$\r\n",
        "\r\n",
        "\r\n",
        "$$\r\n",
        "\\begin{align}\r\n",
        "\\begin{bmatrix} \r\n",
        "\\dfrac{1}{\\sqrt{2}} & \\dfrac{1}{\\sqrt{2}} \\\\\r\n",
        "-\\dfrac{1}{\\sqrt{2}} &  \\dfrac{1}{\\sqrt{2}}  \r\n",
        "\\end{bmatrix}\r\n",
        "\\end{align}\r\n",
        "$$\r\n",
        "\r\n",
        "\r\n",
        "(3)\r\n",
        "$$\r\n",
        "\\begin{align}\r\n",
        "\\begin{bmatrix}\r\n",
        "\\dfrac{3}{\\sqrt{13}} & -\\dfrac{1}{\\sqrt{2}} \\\\\r\n",
        "\\dfrac{2}{\\sqrt{13}} &  \\dfrac{1}{\\sqrt{2}}\r\n",
        "\\end{bmatrix}^{-1}\r\n",
        "\\tag{2.4.18}\r\n",
        "\\end{align}\r\n",
        "$$\r\n",
        "\r\n",
        "$$\r\n",
        "\\begin{align}\r\n",
        "\\dfrac{\\sqrt{26}}{5}\r\n",
        "\\begin{bmatrix} \r\n",
        "\\dfrac{1}{\\sqrt{2}} & \\dfrac{1}{\\sqrt{2}} \\\\\r\n",
        "-\\dfrac{2}{\\sqrt{13}} &  \\dfrac{3}{\\sqrt{13}}\r\n",
        "\\end{bmatrix}\r\n",
        "=\r\n",
        "\\begin{bmatrix} \r\n",
        "\\dfrac{\\sqrt{13}}{5} & \\dfrac{\\sqrt{13}}{5} \\\\\r\n",
        "-2\\dfrac{2{\\sqrt{2}}}{5} &  \\dfrac{3{\\sqrt{2}}}{5}\r\n",
        "\\end{bmatrix}\r\n",
        "\\end{align}\r\n",
        "$$\r\n",
        "\r\n",
        "(4)\r\n",
        "$$\r\n",
        "\\begin{align}\r\n",
        "\\begin{bmatrix}\r\n",
        " 1 & 1 & 0 \\\\\r\n",
        " 0 & 1 & 1 \\\\\r\n",
        " 1 & 1 & 1 \\\\\r\n",
        "\\end{bmatrix}^{-1}\r\n",
        "\\tag{2.4.19}\r\n",
        "\\end{align}\r\n",
        "$$\r\n",
        "\r\n",
        "$$\r\n",
        "\\begin{align}\r\n",
        "\\begin{bmatrix}\r\n",
        " 0 & -1 & 1 \\\\\r\n",
        " 1 & 1 & -1 \\\\\r\n",
        " -1 & 0 & 1 \\\\\r\n",
        "\\end{bmatrix}\r\n",
        "\\end{align}\r\n",
        "$$"
      ]
    },
    {
      "cell_type": "markdown",
      "metadata": {
        "id": "Skgf-dtXnhp1"
      },
      "source": [
        "#### 연습 문제 2.4.4\r\n",
        "\r\n",
        "두 정방행렬 $A,B$에 대해서 $AB = I$이면 $BA= I$임을 증명하라.\r\n",
        "\r\n",
        "$$\r\n",
        "\\begin{align}\r\n",
        "AB = I \\;\\; \\rightarrow \\;\\; BA = I\r\n",
        "\\tag{2.4.20}\r\n",
        "\\end{align}\r\n",
        "$$\r\n"
      ]
    },
    {
      "cell_type": "markdown",
      "metadata": {
        "id": "vADT-jFen4xf"
      },
      "source": [
        "### 5) 역행렬의 정리\r\n",
        "1. 셔먼-모리슨 공식\r\n",
        "\r\n",
        "정방행렬 $A$와 벡터 $u, v$에 대해 다음 공식이 성립한다.\r\n",
        "\r\n",
        "$$ \r\n",
        "\\begin{align}\r\n",
        "(A+uv^T)^{-1} = A^{-1} - {A^{-1}uv^T A^{-1} \\over 1 + v^T A^{-1}u} \r\n",
        "\\end{align}\r\n",
        "$$\r\n",
        "\r\n",
        "2. 우드베리 공식\r\n",
        "\r\n",
        "정방행렬 $A$와 이에 대응하는 적절한 크기의 행렬 $U,V,C$에 대해 다음 공식이 성립한다.\r\n",
        "\r\n",
        "$$ \r\n",
        "\\begin{align}\r\n",
        "\\left(A+UCV \\right)^{-1} = A^{-1} - A^{-1}U \\left(C^{-1}+VA^{-1}U \\right)^{-1} VA^{-1} \r\n",
        "\\tag{2.4.22}\r\n",
        "\\end{align}\r\n",
        "$$\r\n",
        "\r\n",
        "3. 분할행렬의 역행렬\r\n",
        "\r\n",
        "4개 블록(block)으로 분할된 행렬(partitioned matrix)의 역행렬은 각 분할행렬을 이용하여 계산할 수 있다.\r\n",
        "\r\n",
        "$$ \r\n",
        "\\begin{align}\r\n",
        "\\begin{bmatrix}\r\n",
        "A_{11} & A_{12} \\\\\r\n",
        "A_{21} & A_{22} \r\n",
        "\\end{bmatrix}^{-1}\r\n",
        "=\r\n",
        "\\begin{bmatrix}\r\n",
        "A_{11}^{-1}(I + A_{12}FA_{11}^{-1}) & -A_{11}^{-1}A_{12}F \\\\\r\n",
        "-FA_{21}A_{11}^{-1} & F\r\n",
        "\\end{bmatrix}\r\n",
        "\\tag{2.4.23}\r\n",
        "\\end{align}\r\n",
        "$$\r\n",
        "\r\n",
        "이 식에서 $F$는 다음과 같이 주어진다.\r\n",
        "\r\n",
        "$$\r\n",
        "\\begin{align}\r\n",
        "F = (A_{22} - A_{21}A_{11}^{-1}A_{12})^{-1}\r\n",
        "\\tag{2.4.24}\r\n",
        "\\end{align}\r\n",
        "$$\r\n",
        "\r\n",
        "또는\r\n",
        "\r\n",
        "$$\r\n",
        "\\begin{align}\r\n",
        "F = (A_{11} - A_{12}A_{22}^{-1}A_{21})^{-1}\r\n",
        "\\tag{2.4.25}\r\n",
        "\\end{align}\r\n",
        "$$\r\n"
      ]
    },
    {
      "cell_type": "code",
      "metadata": {
        "colab": {
          "base_uri": "https://localhost:8080/"
        },
        "id": "XyltV3sdoR9i",
        "outputId": "56c6354b-83d5-4dcc-a149-7b5e5d62d640"
      },
      "source": [
        "import numpy as np\r\n",
        "\r\n",
        "A = np.array([[1, 1, 0], [0, 1, 1], [1, 1, 1]])\r\n",
        "A"
      ],
      "execution_count": 1,
      "outputs": [
        {
          "output_type": "execute_result",
          "data": {
            "text/plain": [
              "array([[1, 1, 0],\n",
              "       [0, 1, 1],\n",
              "       [1, 1, 1]])"
            ]
          },
          "metadata": {
            "tags": []
          },
          "execution_count": 1
        }
      ]
    },
    {
      "cell_type": "code",
      "metadata": {
        "colab": {
          "base_uri": "https://localhost:8080/"
        },
        "id": "KaBRHWq1oUyo",
        "outputId": "ad43d8b8-d96d-4d32-ceb0-06d838b14ba7"
      },
      "source": [
        "# linalg.inv(A)  = 역행렬 공식\r\n",
        "\r\n",
        "Ainv = np.linalg.inv(A)\r\n",
        "Ainv"
      ],
      "execution_count": 2,
      "outputs": [
        {
          "output_type": "execute_result",
          "data": {
            "text/plain": [
              "array([[ 0., -1.,  1.],\n",
              "       [ 1.,  1., -1.],\n",
              "       [-1.,  0.,  1.]])"
            ]
          },
          "metadata": {
            "tags": []
          },
          "execution_count": 2
        }
      ]
    },
    {
      "cell_type": "markdown",
      "metadata": {
        "id": "2T61T-Agodi9"
      },
      "source": [
        "### 6) 역행렬과 선형 연립방정식의 해\r\n",
        "\r\n",
        "1. if 선형 연립방정식에서 미지수의 수 = 방정식의 수, 계수행렬 $A$ = 정방행렬\r\n",
        "\r\n",
        "2. if 행렬 $A$의 역행렬 $A^{-1}$ 이 존재한다면, 역행렬의 정의로부터 선형 연립방정식의 해는 다음처럼 구할 수 있다. 행렬과 벡터의 순서에 주의하라.\r\n",
        "\r\n",
        "$$\r\n",
        "\\begin{align}\r\n",
        "Ax = b\r\n",
        "\\tag{2.4.26}\r\n",
        "\\end{align}\r\n",
        "$$\r\n",
        "\r\n",
        "$$\r\n",
        "\\begin{align}\r\n",
        "A^{-1}Ax = A^{-1}b\r\n",
        "\\tag{2.4.27}\r\n",
        "\\end{align}\r\n",
        "$$\r\n",
        "\r\n",
        "$$\r\n",
        "\\begin{align}\r\n",
        "Ix = A^{-1}b\r\n",
        "\\tag{2.4.28}\r\n",
        "\\end{align}\r\n",
        "$$\r\n",
        "\r\n",
        "$$ \r\n",
        "\\begin{align}\r\n",
        "x = A^{-1}b  \r\n",
        "\\tag{2.4.29}\r\n",
        "\\end{align}\r\n",
        "$$\r\n",
        "\r\n",
        "넘파이를 이용하여 앞에서 예로 든 선형 연립방정식의 해 $x$를 구하는 방법은 다음과 같다."
      ]
    },
    {
      "cell_type": "code",
      "metadata": {
        "colab": {
          "base_uri": "https://localhost:8080/"
        },
        "id": "qTOvnUTCo2y1",
        "outputId": "3a405280-5558-4e2c-e109-87aa179cf5e4"
      },
      "source": [
        "b = np.array([[2], [2], [3]])\r\n",
        "b"
      ],
      "execution_count": 3,
      "outputs": [
        {
          "output_type": "execute_result",
          "data": {
            "text/plain": [
              "array([[2],\n",
              "       [2],\n",
              "       [3]])"
            ]
          },
          "metadata": {
            "tags": []
          },
          "execution_count": 3
        }
      ]
    },
    {
      "cell_type": "code",
      "metadata": {
        "colab": {
          "base_uri": "https://localhost:8080/"
        },
        "id": "f2bCm-ALo3N6",
        "outputId": "ea90f4ef-dd7a-4773-acb9-77f512f31686"
      },
      "source": [
        "x = Ainv @ b # 역행렬 x 상수백터 \r\n",
        "x"
      ],
      "execution_count": 4,
      "outputs": [
        {
          "output_type": "execute_result",
          "data": {
            "text/plain": [
              "array([[1.],\n",
              "       [1.],\n",
              "       [1.]])"
            ]
          },
          "metadata": {
            "tags": []
          },
          "execution_count": 4
        }
      ]
    },
    {
      "cell_type": "markdown",
      "metadata": {
        "id": "l1W3foTQpxVY"
      },
      "source": [
        "이 벡터를 원래의 연립방정식에 대입하여 상수벡터 $b$와 값이 일치하는지 확인해보자."
      ]
    },
    {
      "cell_type": "code",
      "metadata": {
        "colab": {
          "base_uri": "https://localhost:8080/"
        },
        "id": "UzVvotgno4qA",
        "outputId": "3ca292f6-3c4b-4722-d459-e66b812108c3"
      },
      "source": [
        "# 연립방정식 = 계수행렬 x 미지수행렬 - 상수벡터 = 0\r\n",
        "A @ x - b "
      ],
      "execution_count": 5,
      "outputs": [
        {
          "output_type": "execute_result",
          "data": {
            "text/plain": [
              "array([[0.],\n",
              "       [0.],\n",
              "       [0.]])"
            ]
          },
          "metadata": {
            "tags": []
          },
          "execution_count": 5
        }
      ]
    },
    {
      "cell_type": "markdown",
      "metadata": {
        "id": "Vhk6GQRCpQfr"
      },
      "source": [
        "`lstsq()` 명령은 행렬 $A$와 $b$를 모두 인수로 받고 뒤에서 설명할 최소자승문제(least square problem)의 답 `x`, 잔차제곱합(residual sum of squares) `resid`, 랭크(rank) `rank`, 특잇값(singular value) `s`를 반환한다.\r\n",
        "\r\n",
        "`lstsq()` 명령으로 구한 답이 `inv()` 명령으로 구한 답과 같다."
      ]
    },
    {
      "cell_type": "code",
      "metadata": {
        "colab": {
          "base_uri": "https://localhost:8080/"
        },
        "id": "iYZ4luOEpCJA",
        "outputId": "e8f0a58f-9bf1-4d2c-e776-f4cd44682812"
      },
      "source": [
        "x, resid, rank, s = np.linalg.lstsq(A, b)\r\n",
        "x"
      ],
      "execution_count": 6,
      "outputs": [
        {
          "output_type": "stream",
          "text": [
            "/usr/local/lib/python3.6/dist-packages/ipykernel_launcher.py:1: FutureWarning: `rcond` parameter will change to the default of machine precision times ``max(M, N)`` where M and N are the input matrix dimensions.\n",
            "To use the future default and silence this warning we advise to pass `rcond=None`, to keep using the old, explicitly pass `rcond=-1`.\n",
            "  \"\"\"Entry point for launching an IPython kernel.\n"
          ],
          "name": "stderr"
        },
        {
          "output_type": "execute_result",
          "data": {
            "text/plain": [
              "array([[1.],\n",
              "       [1.],\n",
              "       [1.]])"
            ]
          },
          "metadata": {
            "tags": []
          },
          "execution_count": 6
        }
      ]
    },
    {
      "cell_type": "markdown",
      "metadata": {
        "id": "srZp31RzqFgj"
      },
      "source": [
        "### 7) 선형 연립방정식과 선형 예측모형\r\n",
        "\r\n",
        "1. 선형 예측모형의 가중치벡터를 구하는 문제 = 선형 연립방정식을 푸는 것\r\n",
        "\r\n",
        "2. ex) $N$개의 입력차원을 가지는 특징벡터 $N$개를 입력 데이터로 이용하고 이 입력에 대응하는 목푯값벡터를 출력하는 선형 예측모형을 생각하자.\r\n",
        "\r\n",
        "$$\r\n",
        "\\begin{align}\r\n",
        "\\begin{matrix}\r\n",
        "x_{11} w_1 & + \\;& x_{12} w_2   &\\; + \\cdots + \\;& x_{1N} w_N &\\; = \\;& y_1 \\\\\r\n",
        "x_{21} w_1 & + \\;& x_{22} w_2   &\\; + \\cdots + \\;& x_{2N} w_N &\\; = \\;& y_2 \\\\\r\n",
        "\\vdots\\;\\;\\; &   & \\vdots\\;\\;\\; &                & \\vdots\\;\\;\\; &     & \\;\\vdots \\\\\r\n",
        "x_{N1} w_1 & + \\;& x_{N2} w_2   &\\; + \\cdots + \\;& x_{NN} w_N &\\; = \\;& y_N \\\\\r\n",
        "\\end{matrix}\r\n",
        "\\tag{2.4.30}\r\n",
        "\\end{align}\r\n",
        "$$\r\n",
        "\r\n",
        "즉,\r\n",
        "\r\n",
        "$$\r\n",
        "\\begin{align}\r\n",
        "Xw = y\r\n",
        "\\tag{2.4.31}\r\n",
        "\\end{align}\r\n",
        "$$\r\n",
        "\r\n",
        "> 예측 모형의 가중치벡터 $w$를 찾는 것 = 계수행렬이 $X$, 미지수벡터가 $w$, 상수벡터가 $y$인 선형 연립방정식의 답을 찾는 것\r\n",
        "\r\n",
        "> 만약 계수행렬, 여기에서는 특징행렬 $X$의 역행렬 $X^{-1}$이 존재하면 다음처럼 가중치벡터를 구할 수 있다.\r\n",
        "\r\n",
        "** 중요**\r\n",
        "$$ \r\n",
        "\\begin{align}\r\n",
        "w = X^{-1} y  \r\n",
        "\\tag{2.4.32}\r\n",
        "\\end{align}\r\n",
        "$$"
      ]
    },
    {
      "cell_type": "markdown",
      "metadata": {
        "id": "tIPs32vnqnDQ"
      },
      "source": [
        "#### 연습 문제 2.4.5\r\n",
        "\r\n",
        "보스턴 집값 문제는 미국 보스턴내 각 지역(town)의 주택 가격을 그 지역의 범죄율이나 공기 오염도 등의 특징을 사용하여 예측하는 문제다. Scikit-Learn 패키지에서 임포트할 수 있다.\r\n",
        "보스턴 집값 문제를 선형 예측모형 $Ax=\\hat{b}$로 풀었을 때의 가중치 벡터 $x$를 구하라. 행렬과 벡터 데이터는 다음과 같이 얻을 수 있다. 여기에서는 문제를 간단하게 하기 위해 입력 데이터를 범죄율(CRIM), 공기 오염도(NOX), 방의 개수(RM), 오래된 정도(AGE)의 4종류로 제한했고 데이터도 4개만 사용했다.\r\n",
        "\r\n",
        "```\r\n",
        "from sklearn.datasets import load_boston\r\n",
        "boston = load_boston()\r\n",
        "X = boston.data\r\n",
        "y = boston.target\r\n",
        "A = X[:4, [0, 4, 5, 6]]  # 'CRIM', 'NOX', 'RM', 'AGE'\r\n",
        "b = y[:4]\r\n",
        "```\r\n",
        "\r\n",
        "이렇게 구한 가중치의 크기나 부호가 우리의 직관이나 경험과 일치하는지 살펴보라."
      ]
    },
    {
      "cell_type": "code",
      "metadata": {
        "colab": {
          "base_uri": "https://localhost:8080/"
        },
        "id": "ViWc-iUEqsBe",
        "outputId": "b1d80663-d442-4b6e-d057-8be814ca3b89"
      },
      "source": [
        "from sklearn.datasets import load_boston\r\n",
        "boston = load_boston()\r\n",
        "X = boston.data\r\n",
        "y = boston.target\r\n",
        "A = X[:4, [0, 4, 5, 6]]  # 'CRIM', 'NOX', 'RM', 'AGE'\r\n",
        "b = y[:4]\r\n",
        "\r\n",
        "x, resid, rank, s = np.linalg.lstsq(A, b)\r\n",
        "x"
      ],
      "execution_count": 7,
      "outputs": [
        {
          "output_type": "stream",
          "text": [
            "/usr/local/lib/python3.6/dist-packages/ipykernel_launcher.py:8: FutureWarning: `rcond` parameter will change to the default of machine precision times ``max(M, N)`` where M and N are the input matrix dimensions.\n",
            "To use the future default and silence this warning we advise to pass `rcond=None`, to keep using the old, explicitly pass `rcond=-1`.\n",
            "  \n"
          ],
          "name": "stderr"
        },
        {
          "output_type": "execute_result",
          "data": {
            "text/plain": [
              "array([-3.12710043e+02, -1.15193942e+02,  1.44996465e+01, -1.13259317e-01])"
            ]
          },
          "metadata": {
            "tags": []
          },
          "execution_count": 7
        }
      ]
    },
    {
      "cell_type": "markdown",
      "metadata": {
        "id": "5TIE59RnrEq9"
      },
      "source": [
        "위의 값을 확인하면, \r\n",
        "\r\n",
        "- 범죄율(CRIM)에 반비례\r\n",
        "- 공기 오염도(NOX)에 반비례\r\n",
        "- 방의 개수(RM)에 비례\r\n",
        "- 오래된 정도(AGE)에 반비례\r\n",
        "\r\n",
        "<br/>\r\n",
        "\r\n",
        "### 8) 미지수의 수와 방정식의 수\r\n",
        "\r\n",
        "1. 만약 미지수의 수와 방정식의 수가 다르다면 어떻게 해야 할까?\r\n",
        "\r\n",
        "2. 미지수의 수와 방정식의 수를 고려해 볼 때 연립방정식에는 다음과 같은 세 종류가 있을 수 있다.\r\n",
        "\r\n",
        " 1) 방정식의 수가 미지수의 수와 같다. ($N = M$)   \r\n",
        " 2) 방정식의 수가 미지수의 수보다 적다. ($N < M$)   \r\n",
        " 3) 방정식의 수가 미지수의 수보다 많다. ($N > M$)\r\n",
        "\r\n",
        "1번의 경우, 즉 방정식의 수가 미지수의 수와 같은 경우는 앞에서 다루었다. \r\n",
        "\r\n",
        "2번의 경우, 즉 방정식의 수가 미지수의 수보다 적을 때는 무수히 많은 해가 존재할 수 있다. 예를 들어 다음 선형 연립방정식을 생각해보자. 미지수는 3개지만 방정식은 2개뿐이다.  \r\n",
        "\r\n",
        "$$\r\n",
        "\\begin{align}\r\n",
        "\\begin{matrix}\r\n",
        "x_1 & + & x_2 &   &     & = & 2  \\\\\r\n",
        "    &   & x_2 & + & x_3 & = & 2  \\\\\r\n",
        "\\end{matrix}\r\n",
        "\\tag{2.4.33}\r\n",
        "\\end{align}\r\n",
        "$$\r\n",
        "\r\n",
        "이때는 $x_2$가 어떤 값이 되더라도 $x_1 = x_3 = 2 - x_2$만 만족하면 되므로 무한히 많은 해가 존재한다. 예들 들어 다음 $x$ 벡터는 모두 위 선형 연립방정식의 해다.\r\n",
        "\r\n",
        "$$\r\n",
        "\\begin{align}\r\n",
        "x =\r\n",
        "\\begin{bmatrix}\r\n",
        "2 \\\\ 0 \\\\ 2\r\n",
        "\\end{bmatrix}\r\n",
        ",\\;\\;\r\n",
        "x =\r\n",
        "\\begin{bmatrix}\r\n",
        "1 \\\\ 1 \\\\ 1\r\n",
        "\\end{bmatrix}\r\n",
        ",\\;\\;\r\n",
        "x =\r\n",
        "\\begin{bmatrix}\r\n",
        "0 \\\\ 2 \\\\ 0\r\n",
        "\\end{bmatrix}\r\n",
        ",\\;\\;\r\n",
        "\\cdots\r\n",
        "\\tag{2.4.34}\r\n",
        "\\end{align}\r\n",
        "$$\r\n",
        "\r\n",
        "3번의 경우, 즉 방정식의 수가 미지수의 수보다 많을 때는 2번과 반대로 모든 조건을 만족하는 해가 하나도 존재할 수 없을 수 있다. 예를 들어 다음 선형 연립방정식을 생각해보자. 미지수는 3개지만 방정식은 4개다. \r\n",
        "\r\n",
        "$$\r\n",
        "\\begin{align}\r\n",
        "\\begin{matrix}\r\n",
        "x_1 & + & x_2 &   &     & = & 2  \\\\\r\n",
        "    &   & x_2 & + & x_3 & = & 2  \\\\\r\n",
        "x_1 & + & x_2 & + & x_3 & = & 3  \\\\\r\n",
        "x_1 & + & x_2 & + & 2x_3 & = & 5  \\\\\r\n",
        "\\end{matrix}\r\n",
        "\\tag{2.4.35}\r\n",
        "\\end{align}\r\n",
        "$$\r\n",
        "\r\n",
        "위의 3개 방정식을 동시에 만족하는 해는 $x_1 = x_2 = x_3 = 1$인데 이 값은 4번째 방정식을 만족하지 못한다.\r\n",
        "\r\n",
        "$$\r\n",
        "\\begin{align}\r\n",
        "x_1 + x_2 + 2x_3 = 4\r\n",
        "\\tag{2.4.36}\r\n",
        "\\end{align}\r\n",
        "$$\r\n",
        "\r\n",
        "따라서 4개의 방정식을 모두 만족하는 해는 존재하지 않는다.\r\n",
        "\r\n",
        "3. 보통 데이터의 수는 입력차원보다 큰 경우 선형 연립방정식을 푸는 방식으로는 선형 예측모형의 가중치벡터를 구할 수 없다.\r\n",
        "\r\n",
        "\r\n",
        "### 9) 최소자승문제\r\n",
        "\r\n",
        "1. 다음과 같은 선형 연립방정식이 있다면,\r\n",
        "\r\n",
        "$$\r\n",
        "\\begin{align}\r\n",
        "\\begin{matrix}\r\n",
        "x_1 & + & x_2 &   &     & = & 2  \\\\\r\n",
        "    &   & x_2 & + & x_3 & = & 2  \\\\\r\n",
        "x_1 & + & x_2 & + & x_3 & = & 3  \\\\\r\n",
        "x_1 & + & x_2 & + & 2x_3 & = & 4.1  \\\\\r\n",
        "\\end{matrix}\r\n",
        "\\tag{2.4.37}\r\n",
        "\\end{align}\r\n",
        "$$\r\n",
        "\r\n",
        "위에서 보았듯이 이 선형 연립방정식의 해는 존재하지 않는다.  \r\n",
        "\r\n",
        "하지만 꼭 양변이 **정확하게 똑같지 않아도 된다면** 어떨까?\r\n",
        "$x_1 = x_2 = x_3 = 1$를 위 방정식에 대입하면 결과는 다음과 같다.\r\n",
        "\r\n",
        "$$\r\n",
        "\\begin{align}\r\n",
        "\\begin{matrix}\r\n",
        "x_1 & + & x_2 &   &     & = & 2 & &\\\\\r\n",
        "    &   & x_2 & + & x_3 & = & 2 & &\\\\\r\n",
        "x_1 & + & x_2 & + & x_3 & = & 3 & &\\\\\r\n",
        "x_1 & + & x_2 & + & 2x_3 & = & 4 & \\approx & 4.1\r\n",
        "\\end{matrix}\r\n",
        "\\tag{2.4.38}\r\n",
        "\\end{align}\r\n",
        "$$\r\n",
        "\r\n",
        "> 선형 예측모형에서 좌변을 예측값, 우변을 목푯값이라고 생각한다면 100% 정확히 예측하지는 못했지만 상당히 비슷하게 예측한 값이라고 할 수 있다. \r\n",
        "\r\n",
        "> 미지수의 개수 < 방정식의 개수 여서 선형 연립방정식으로 풀수 없는 문제는 좌변과 우변의 차이를 최소화하는 문제로 바꾸어 풀 수 있다. \r\n",
        "\r\n",
        "> 앞서 예측값과 목푯값의 차이를 잔차(residual)라고 한다고 했다.\r\n",
        "\r\n",
        "2. 전차(residual) : 예측값과 목푯값의 차이\r\n",
        "\r\n",
        "$$ \r\n",
        "\\begin{align}\r\n",
        "e = Ax - b  \r\n",
        "\\tag{2.4.39}\r\n",
        "\\end{align}\r\n",
        "$$\r\n",
        "\r\n",
        "> 잔차는 벡터이므로 최소자승문제에서는 벡터의 크기 중에서 **벡터의 놈(norm)을 최소화**하는 문제를 푼다. \r\n",
        "\r\n",
        "> 앞 절에서 놈을 최소화하는 것은 놈의 제곱을 최소화하는 것과 같다고 했다. 여기에서는 잔차제곱합이 놈의 제곱이 된다.\r\n",
        "\r\n",
        "$$ \r\n",
        "\\begin{align}\r\n",
        "e^Te = \\Vert e \\Vert^2 = (Ax-b)^T(Ax-b)  \r\n",
        "\\tag{2.4.40}\r\n",
        "\\end{align}\r\n",
        "$$\r\n",
        "\r\n",
        "이 값을 최소화하는 $x$값은 수식으로 다음처럼 표현한다.\r\n",
        "\r\n",
        "$$ \r\n",
        "\\begin{align}\r\n",
        "x = \\text{arg} \\min_x e^Te = \\text{arg} \\min_x  \\; (Ax-b)^T(Ax-b)  \r\n",
        "\\tag{2.4.41}\r\n",
        "\\end{align}\r\n",
        "$$\r\n",
        "\r\n",
        "> 위 식에서 $\\text{arg} \\min_x f(x)$는 함수 $f(x)$를 가장 작게 만드는 $x$값을 의미한다. \r\n",
        "> 이러한 문제를 **최소자승문제(least square problem)**라고 한다.\r\n",
        "\r\n",
        "3. 최소자승문제 : $A^TA$가 항상 정방 행렬이 된다는 점을 이용하여 다음과 같이 최소 자승 문제의 답이 어떤 형태가 되는지 살펴보자. 여기에서는 답의 형태만 살펴보고 엄밀한 증명은 하지 않을 것이다.\r\n",
        "\r\n",
        "$$ \r\n",
        "\\begin{align}\r\n",
        "Ax \\approx b \r\n",
        "\\tag{2.4.42}\r\n",
        "\\end{align}\r\n",
        "$$\r\n",
        "\r\n",
        "이 식의 양변에 $A^T$를 곱하면 각각 $A^TAx$와 $A^Tb$ 가 된다. 이 두 개의 벡터의 값이 같다고 일단 가정하자.\r\n",
        "\r\n",
        "$$ \r\n",
        "\\begin{align}\r\n",
        "A^TAx = A^Tb \r\n",
        "\\tag{2.4.43}\r\n",
        "\\end{align}\r\n",
        "$$\r\n",
        "\r\n",
        "만약 정방 행렬 $A^TA$의 역행렬 $(A^TA)^{-1}$이 존재한다면\r\n",
        "\r\n",
        "$$ \r\n",
        "\\begin{align}\r\n",
        "(A^TA)^{-1}(A^TA)x = (A^TA)^{-1}A^Tb \r\n",
        "\\tag{2.4.44}\r\n",
        "\\end{align}\r\n",
        "$$\r\n",
        "\r\n",
        "이 식을 정리하면 다음과 같다. \r\n",
        "\r\n",
        "$$ \r\n",
        "\\begin{align}\r\n",
        "x = ((A^TA)^{-1}A^T) b  \r\n",
        "\\tag{2.4.45}\r\n",
        "\\end{align}\r\n",
        "$$\r\n",
        "\r\n",
        "위에서 보인 것은 수학적 증명이라고 할 수 없지만 엄밀한 수학적 증명을 통해 최소자승문제의 해를 구해도 위와 같은 결과를 얻을 수 있다. 자세한 내용은 행렬의 미분과 최적화를 공부한 뒤에 다루도록 한다.\r\n",
        "\r\n",
        "4. 여기에서 행렬 $(A^TA)^{-1}A^T$ 를 행렬 $A$의 **의사역행렬(pseudo inverse)**이라고 하며 다음처럼 $A^{+}$ 로 표기한다. \r\n",
        "\r\n",
        "$$ \r\n",
        "\\begin{align}\r\n",
        "A^{+} = (A^TA)^{-1}A^T \r\n",
        "\\tag{2.4.46}\r\n",
        "\\end{align}\r\n",
        "$$\r\n",
        "\r\n",
        "$$ \r\n",
        "\\begin{align}\r\n",
        "x = A^+ b  \r\n",
        "\\tag{2.4.47}\r\n",
        "\\end{align}\r\n",
        "$$\r\n",
        "\r\n",
        "넘파이의 `lstsq()` 명령은 사실 이러한 최소자승문제를 푸는 명령이다.\r\n",
        "\r\n",
        "위에서 예로 든 선형 연립방정식을 넘파이를 사용하여 풀어보자."
      ]
    },
    {
      "cell_type": "code",
      "metadata": {
        "colab": {
          "base_uri": "https://localhost:8080/"
        },
        "id": "hii92WF6u9o5",
        "outputId": "1424a8b4-b4a5-4787-a3fc-1c30641542ac"
      },
      "source": [
        "A = np.array([[1, 1, 0], [0, 1, 1], [1, 1, 1], [1, 1, 2]])\r\n",
        "A"
      ],
      "execution_count": 8,
      "outputs": [
        {
          "output_type": "execute_result",
          "data": {
            "text/plain": [
              "array([[1, 1, 0],\n",
              "       [0, 1, 1],\n",
              "       [1, 1, 1],\n",
              "       [1, 1, 2]])"
            ]
          },
          "metadata": {
            "tags": []
          },
          "execution_count": 8
        }
      ]
    },
    {
      "cell_type": "code",
      "metadata": {
        "colab": {
          "base_uri": "https://localhost:8080/"
        },
        "id": "X7Cd73hTvAW7",
        "outputId": "1d4aad80-3d36-4543-ae70-603a89132d2c"
      },
      "source": [
        "b = np.array([[2], [2], [3], [4.1]])\r\n",
        "b"
      ],
      "execution_count": 9,
      "outputs": [
        {
          "output_type": "execute_result",
          "data": {
            "text/plain": [
              "array([[2. ],\n",
              "       [2. ],\n",
              "       [3. ],\n",
              "       [4.1]])"
            ]
          },
          "metadata": {
            "tags": []
          },
          "execution_count": 9
        }
      ]
    },
    {
      "cell_type": "code",
      "metadata": {
        "colab": {
          "base_uri": "https://localhost:8080/"
        },
        "id": "XttMhfLpvBlp",
        "outputId": "6bf2c3f4-4a25-463a-d340-59033d54dcb2"
      },
      "source": [
        "Apinv = np.linalg.inv(A.T @ A) @ A.T\r\n",
        "Apinv"
      ],
      "execution_count": 10,
      "outputs": [
        {
          "output_type": "execute_result",
          "data": {
            "text/plain": [
              "array([[ 0.33333333, -1.        ,  0.33333333,  0.33333333],\n",
              "       [ 0.5       ,  1.        ,  0.        , -0.5       ],\n",
              "       [-0.5       ,  0.        ,  0.        ,  0.5       ]])"
            ]
          },
          "metadata": {
            "tags": []
          },
          "execution_count": 10
        }
      ]
    },
    {
      "cell_type": "code",
      "metadata": {
        "colab": {
          "base_uri": "https://localhost:8080/"
        },
        "id": "dMO0h6otvDTP",
        "outputId": "5521e362-293d-485a-c4d3-d24c3a171776"
      },
      "source": [
        "x = Apinv @ b\r\n",
        "x"
      ],
      "execution_count": 11,
      "outputs": [
        {
          "output_type": "execute_result",
          "data": {
            "text/plain": [
              "array([[1.03333333],\n",
              "       [0.95      ],\n",
              "       [1.05      ]])"
            ]
          },
          "metadata": {
            "tags": []
          },
          "execution_count": 11
        }
      ]
    },
    {
      "cell_type": "code",
      "metadata": {
        "colab": {
          "base_uri": "https://localhost:8080/"
        },
        "id": "m4oj64y1vE3U",
        "outputId": "d525e786-c9f2-49ef-b8cb-0b2f51916bbd"
      },
      "source": [
        "A @ x"
      ],
      "execution_count": 12,
      "outputs": [
        {
          "output_type": "execute_result",
          "data": {
            "text/plain": [
              "array([[1.98333333],\n",
              "       [2.        ],\n",
              "       [3.03333333],\n",
              "       [4.08333333]])"
            ]
          },
          "metadata": {
            "tags": []
          },
          "execution_count": 12
        }
      ]
    },
    {
      "cell_type": "code",
      "metadata": {
        "colab": {
          "base_uri": "https://localhost:8080/"
        },
        "id": "GiOq4STTvGI_",
        "outputId": "c1d911f6-6c07-4df7-e3c8-4b9a653f8d01"
      },
      "source": [
        "x, resid, rank, s = np.linalg.lstsq(A, b)\r\n",
        "x"
      ],
      "execution_count": 13,
      "outputs": [
        {
          "output_type": "stream",
          "text": [
            "/usr/local/lib/python3.6/dist-packages/ipykernel_launcher.py:1: FutureWarning: `rcond` parameter will change to the default of machine precision times ``max(M, N)`` where M and N are the input matrix dimensions.\n",
            "To use the future default and silence this warning we advise to pass `rcond=None`, to keep using the old, explicitly pass `rcond=-1`.\n",
            "  \"\"\"Entry point for launching an IPython kernel.\n"
          ],
          "name": "stderr"
        },
        {
          "output_type": "execute_result",
          "data": {
            "text/plain": [
              "array([[1.03333333],\n",
              "       [0.95      ],\n",
              "       [1.05      ]])"
            ]
          },
          "metadata": {
            "tags": []
          },
          "execution_count": 13
        }
      ]
    },
    {
      "cell_type": "markdown",
      "metadata": {
        "id": "vD3LCOXjvKXV"
      },
      "source": [
        "위 코드에서 `resid`는 잔차벡터의 $e=Ax-b$의 제곱합, 즉 놈의 제곱이다."
      ]
    },
    {
      "cell_type": "code",
      "metadata": {
        "colab": {
          "base_uri": "https://localhost:8080/"
        },
        "id": "69newKEZvHj2",
        "outputId": "f82408d1-ff93-448f-8988-9cddffcd8230"
      },
      "source": [
        "resid, np.linalg.norm(A @ x - b) ** 2"
      ],
      "execution_count": 14,
      "outputs": [
        {
          "output_type": "execute_result",
          "data": {
            "text/plain": [
              "(array([0.00166667]), 0.0016666666666666624)"
            ]
          },
          "metadata": {
            "tags": []
          },
          "execution_count": 14
        }
      ]
    },
    {
      "cell_type": "markdown",
      "metadata": {
        "id": "WWZJCaiXvRlG"
      },
      "source": [
        "#### 연습 문제 2.4.6\r\n",
        "\r\n",
        "보스턴 집값 문제를 선형 예측모형 $Xw=\\hat{y}$로 풀었을 때의 가중치벡터 $w$를 최소 자승 방법으로 구하라. 행렬과 벡터 데이터는 다음과 같이 얻을 수 있다.\r\n",
        "\r\n",
        "```\r\n",
        "from sklearn.datasets import load_boston\r\n",
        "boston = load_boston()\r\n",
        "X = boston.data\r\n",
        "y = boston.target\r\n",
        "```\r\n",
        "행렬 X의 각 열이 의미하는 바는 다음과 같다.\r\n",
        "\r\n",
        "1. CRIM: 범죄율\r\n",
        "2. INDUS: 비소매상업지역 면적 비율\r\n",
        "3. NOX: 일산화질소 농도\r\n",
        "4. RM: 주택당 방 수\r\n",
        "5. LSTAT: 인구 중 하위 계층 비율\r\n",
        "6. B: 인구 중 흑인 비율\r\n",
        "7. PTRATIO: 학생/교사 비율\r\n",
        "8. ZN: 25,000 평방피트를 초과 거주지역 비율\r\n",
        "9. CHAS: 찰스강의 경계에 위치한 경우는 1, 아니면 0\r\n",
        "10. AGE: 1940년 이전에 건축된 주택의 비율\r\n",
        "11. RAD: 방사형 고속도로까지의 거리\r\n",
        "12. DIS: 보스톤 직업 센터 5곳까지의 가중평균거리\r\n",
        "13. TAX: 재산세율\r\n",
        "\r\n",
        "이렇게 구한 가중치 벡터의 각 원소의 부호가 우리의 직관이나 경험과 일치하는지 살펴보라. 또 연습문제 2.4.5에서 구한 값과 어떻게 달라지는지 살펴보라."
      ]
    },
    {
      "cell_type": "code",
      "metadata": {
        "colab": {
          "base_uri": "https://localhost:8080/"
        },
        "id": "9OB8RZhIv4Ud",
        "outputId": "8318d7b5-529f-4374-9ce2-cca694d5ab3c"
      },
      "source": [
        "from sklearn.datasets import load_boston\r\n",
        "boston = load_boston()\r\n",
        "X = boston.data\r\n",
        "y = boston.target\r\n",
        "\r\n",
        "x, resid, rank, s = np.linalg.lstsq(X, y)\r\n",
        "x"
      ],
      "execution_count": 19,
      "outputs": [
        {
          "output_type": "stream",
          "text": [
            "/usr/local/lib/python3.6/dist-packages/ipykernel_launcher.py:6: FutureWarning: `rcond` parameter will change to the default of machine precision times ``max(M, N)`` where M and N are the input matrix dimensions.\n",
            "To use the future default and silence this warning we advise to pass `rcond=None`, to keep using the old, explicitly pass `rcond=-1`.\n",
            "  \n"
          ],
          "name": "stderr"
        },
        {
          "output_type": "execute_result",
          "data": {
            "text/plain": [
              "array([-9.28965170e-02,  4.87149552e-02, -4.05997958e-03,  2.85399882e+00,\n",
              "       -2.86843637e+00,  5.92814778e+00, -7.26933458e-03, -9.68514157e-01,\n",
              "        1.71151128e-01, -9.39621540e-03, -3.92190926e-01,  1.49056102e-02,\n",
              "       -4.16304471e-01])"
            ]
          },
          "metadata": {
            "tags": []
          },
          "execution_count": 19
        }
      ]
    }
  ]
}