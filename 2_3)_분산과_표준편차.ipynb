{
  "nbformat": 4,
  "nbformat_minor": 0,
  "metadata": {
    "colab": {
      "name": "2_3) 분산과 표준편차.ipynb",
      "provenance": [],
      "collapsed_sections": [],
      "authorship_tag": "ABX9TyPfdiFjyyPcqbHXtg8BcC+4",
      "include_colab_link": true
    },
    "kernelspec": {
      "name": "python3",
      "display_name": "Python 3"
    }
  },
  "cells": [
    {
      "cell_type": "markdown",
      "metadata": {
        "id": "view-in-github",
        "colab_type": "text"
      },
      "source": [
        "<a href=\"https://colab.research.google.com/github/sejin-sim/Math/blob/main/2_3)_%EB%B6%84%EC%82%B0%EA%B3%BC_%ED%91%9C%EC%A4%80%ED%8E%B8%EC%B0%A8.ipynb\" target=\"_parent\"><img src=\"https://colab.research.google.com/assets/colab-badge.svg\" alt=\"Open In Colab\"/></a>"
      ]
    },
    {
      "cell_type": "markdown",
      "metadata": {
        "id": "s8cbsy1bxel0"
      },
      "source": [
        "# 1. 분산과 표준편차\r\n",
        "### 1) 확률분포의 분산\r\n",
        "1. 이론적인 분산 : 영어 Variance의 앞글자를 따서 $\\text{Var}[\\cdot]$로 표기. 이 연산으로 계산된 분산값은 $\\sigma^2$으로 표기.\r\n",
        "> $ \\sigma^2 = \\text{Var}[X] = \\text{E}[(X - \\mu)^2] $\r\n",
        "2. 이산확률변수의 분산 : 평균으로부터 표본 데이터까지 거리의 제곱을 확률질량함수 $p(x)$로 가중하여 더한 값이다.\r\n",
        "> $ \\sigma^2 = \\sum_{x_i \\in \\Omega} (x_i - \\mu)^2 p(x_i)$\r\n",
        "3. 연속확률변수의 분산 : 평균으로부터 표본 데이터까지 거리의 제곱을 확률밀도함수 $p(x)$로 가중하여 적분한 값\r\n",
        "> $ \\sigma^2 = \\int_{-\\infty}^{\\infty} (x - \\mu)^2 p(x)dx $\r\n",
        "\r\n",
        "<br/>\r\n",
        "\r\n",
        "### 2) 분산의 성질\r\n",
        "1.  분산은 항상 0 또는 양수이다.\r\n",
        "> $ \\text{Var}[X] \\geq 0 $\r\n",
        "2. 확률변수가 아닌 상수 값 $c$에 대해 다음 식이 성립한다.\r\n",
        "> $ \\text{Var}[c] = 0 $   \r\n",
        "> $ \\text{Var}[cX] = c^2 \\text{Var}[X] $\r\n",
        "3. 증명\r\n",
        "> $ \\text{Var}[X] = \\text{E}[X^2] - (\\text{E}[X])^2  = \\text{E}[X^2] - \\mu^2 $    \r\n",
        "> $ \\text{E}[X^2] = \\mu^2 + \\text{Var}[X] $    \r\n",
        "> $ \\begin{aligned}\r\n",
        "\\text{Var}[X] \r\n",
        "&= \\text{E}[(X - \\mu)^2] \\\\\r\n",
        "&= \\text{E}[X^2 - 2\\mu X + \\mu^2] \\\\\r\n",
        "&= \\text{E}[X^2] - 2\\mu\\text{E}[X] + \\mu^2 \\\\\r\n",
        "&= \\text{E}[X^2] - 2\\mu^2 + \\mu^2 \\\\\r\n",
        "&= \\text{E}[X^2] - \\mu^2\\\\\r\n",
        "\\end{aligned} $\r\n",
        "\r\n",
        "<br/>\r\n",
        "\r\n",
        "### 3) 두 확률변수의 합의 분산\r\n",
        "1. 확률변수 $X$, $Y$의 합의 분산은 각 확률변수의 분산의 합과 다음과 같은 관계가 있다. \r\n",
        "> $\r\n",
        "\\text{Var}\\left[ X + Y \\right] =\r\n",
        "\\text{Var}\\left[ X \\right] + \\text{Var}\\left[ Y \\right]+ 2\\text{E}\\left[ (X-\\mu_X)(Y-\\mu_Y) \\right]\r\n",
        "$   \r\n",
        "> $ \\begin{aligned}\r\n",
        "\\text{Var}\\left[ X + Y \\right] \r\n",
        "&= \\text{E}\\left[ (X + Y - (\\mu_X + \\mu_Y))^2 \\right] \\\\\r\n",
        "&= \\text{E}\\left[ ((X -\\mu_X) + (Y - \\mu_Y))^2 \\right] \\\\\r\n",
        "&= \\text{E}\\left[ (X -\\mu_X)^2 + (Y - \\mu_Y)^2 + 2(X-\\mu_X)(Y-\\mu_Y) \\right] \\\\\r\n",
        "&= \\text{E}\\left[ (X -\\mu_X)^2 \\right] + \\text{E}\\left[ (Y - \\mu_Y)^2 \\right] + 2\\text{E}\\left[ (X-\\mu_X)(Y-\\mu_Y) \\right] \\\\\r\n",
        "&= \\text{Var}\\left[ X \\right] + \\text{Var}\\left[ Y \\right] + 2\\text{E}\\left[ (X-\\mu_X)(Y-\\mu_Y) \\right]\r\n",
        "\\end{aligned}$\r\n",
        "\r\n",
        "<br/>\r\n",
        "\r\n",
        "### 4) 확률변수의 독립\r\n",
        "1. 두 확률변수가 서로 독립(independent) : 두 확률변수가 서로에게 영향을 미치지 않는다\r\n",
        "> - $ \\text{E}\\left[ (X-\\mu_X)(Y-\\mu_Y) \\right] = 0  $   \r\n",
        "> - $ \\text{Var}\\left[ X + Y \\right] =  \\text{Var}\\left[ X \\right] + \\text{Var}\\left[ Y \\right] $\r\n",
        "2. 두 확률변수가 종속(dependent) : 두 확률변수가 서로에게 영향을 미치는 경우\r\n",
        "\r\n",
        "\r\n",
        "<br/>\r\n",
        "\r\n",
        "### 5) 표본평균의 분산\r\n",
        "1. 표본평균 $\\bar{X}$의 분산 $\\text{Var}[\\bar{X}]$은 원래 확률변수 $X$의 분산 $\\text{Var}[{X}]$과 다음 관계를 가진다.\r\n",
        "> $\\text{Var}[\\bar{X}] = \\dfrac{1}{N} \\text{Var}[{X}]$\r\n",
        "> * 데이터의 갯수로 분산을 나눈것과 표본평균의 분산과 값이 같다.\r\n",
        "2. 증명\r\n",
        "> $ \r\n",
        "\\begin{aligned}\r\n",
        "\\text{Var}[\\bar{X}] \r\n",
        "&= \\text{E} \\left[ \\left( \\bar{X} -  \\text{E} \\left[ \\bar{X} \\right] \\right)^2 \\right] \\\\\r\n",
        "&= \\text{E} \\left[ \\left( \\bar{X} -  \\mu \\right)^2 \\right] \\\\\r\n",
        "&= \\text{E} \\left[ \\left( \\dfrac{1}{N} \\sum_{i=1}^N X_i - \\mu \\right)^2 \\right] \\\\\r\n",
        "&= \\text{E} \\left[ \\left( \\dfrac{1}{N} \\sum_{i=1}^N X_i - \\dfrac{1}{N}N\\mu \\right)^2 \\right] \\\\\r\n",
        "&= \\text{E} \\left[ \\left( \\dfrac{1}{N} \\left( \\sum_{i=1}^N X_i - N\\mu \\right) \\right)^2 \\right] \\\\\r\n",
        "&= \\text{E} \\left[ \\left( \\dfrac{1}{N} \\sum_{i=1}^N (X_i - \\mu) \\right)^2 \\right] \\\\\r\n",
        "&= \\text{E} \\left[ \\dfrac{1}{N^2} \\sum_{i=1}^N \\sum_{j=1}^N (X_i - \\mu) (X_j - \\mu)  \\right] \\\\\r\n",
        "&= \\dfrac{1}{N^2} \\sum_{i=1}^N \\sum_{j=1}^N \\text{E} \\left[  (X_i - \\mu) (X_j - \\mu)  \\right] \\\\ \\end{aligned} $\r\n",
        "> * 마지막에 i와 j가 다르다면 서로 독립이다.(주사위는 언제 뽑든 서로에게 영향을 미치지 않는다.) 따라서 i와 j가 같은 항만 남게 되고 아래의 식으로 변화하게 된다.   \r\n",
        "> $\r\n",
        "\\begin{aligned}\r\n",
        "\\text{Var}[\\bar{X}]\r\n",
        "&= \\dfrac{1}{N^2} \\sum_{i=1}^N \\text{E} \\left[ (X_i - \\mu)^2 \\right] \\\\\r\n",
        "&= \\dfrac{1}{N^2} \\sum_{i=1}^N \\text{E} \\left[ (X - \\mu)^2 \\right] \\\\\r\n",
        "&= \\dfrac{1}{N^2} N \\text{E} \\left[ (X - \\mu)^2 \\right] \\\\\r\n",
        "&= \\dfrac{1}{N} \\text{E} \\left[ (X - \\mu)^2 \\right] \\\\\r\n",
        "&= \\dfrac{1}{N} \\text{Var}[X] \\\\\r\n",
        "\\end{aligned}\r\n",
        "$\r\n",
        "3. 정리\r\n",
        " * 표본평균의 평균은 모집단의 평균과 같고\r\n",
        " * 표본평균의 분산은 모집단읜 분산의 데이터 갯수로 나눈것과 같다.\r\n",
        " > * 모집단을 수십 수억개로 늘리어서(N값) 표본평균 분산을 한없이 0으로 보낸다면? (공식에 따라 표본평균의 분산은 모집단의 분산을 갯수로 나눈것과 같다.)\r\n",
        " > * 그때는 어떤 데이터를 뽑든 모집단의 평균과 같은 값이 나올 수 밖에 없다.\r\n",
        " * **데이터의 갯수가 무한하면 표본평균의 평균이 모집단의 평균이다.**\r\n",
        "\r\n",
        " <br/>\r\n",
        "\r\n",
        "### 5) 표본분산의 기댓값\r\n",
        "1. 정의\r\n",
        "> $ \\text{E}[S^2] = \\dfrac{N-1}{N}\\sigma^2 $\r\n",
        "> * 표본분산값이 이론적인 분산값보다 더 작아진다.\r\n",
        "\r\n",
        "2. 증명\r\n",
        "> $ \\begin{aligned}\r\n",
        "\\text{E}[S^2] \r\n",
        "&= \\text{E} \\left[ \\dfrac{1}{N}\\sum_{i=1}^N (X_i - \\bar{X})^2 \\right] \r\n",
        "= \\text{E} \\left[ \\dfrac{1}{N}\\sum_{i=1}^N \\left\\{ (X_i -\\mu) - (\\bar{X} - \\mu) \\right \\}^2  \\right] \\\\\r\n",
        "&= \\text{E} \\left[ \\dfrac{1}{N}\\sum_{i=1}^N \\left\\{ (X_i -\\mu)^2 - 2 (X_i -\\mu)(\\bar{X} - \\mu) +  (\\bar{X} - \\mu)^2 \\right \\}  \\right] \\\\\r\n",
        "&=  \\text{E} \\left[ \\dfrac{1}{N} \\sum_{i=1}^N (X_i -\\mu)^2 \\right] \r\n",
        "  - 2 \\text{E} \\left[ { \\dfrac{1}{N} \\sum_{i=1}^N (X_i -\\mu)(\\bar{X} - \\mu) } \\right] \r\n",
        "  +  \\text{E} \\left[ { \\dfrac{1}{N} \\sum_{i=1}^N (\\bar{X} - \\mu)^2 } \\right] \r\n",
        "\\end{aligned} $\r\n",
        "\r\n",
        "> * 첫번째 항\r\n",
        ">> $ \\begin{aligned}\r\n",
        "\\text{E} \\left[ \\dfrac{1}{N} \\sum_{i=1}^N (X_i -\\mu)^2 \\right] \r\n",
        "&= \\text{E} \\left[ \\dfrac{1}{N} \\sum_{i=1}^N (X -\\mu)^2 \\right] \\\\\r\n",
        "&= \\text{E} \\left[ \\dfrac{1}{N} N (X -\\mu)^2 \\right] \\\\\r\n",
        "&= \\text{E} \\left[ (X -\\mu)^2 \\right] \\\\\r\n",
        "&= \\text{Var}[X] \\\\\r\n",
        "&= \\sigma^2 \r\n",
        "\\end{aligned} $\r\n",
        "> * 두 번쨰 항\r\n",
        ">> $ \\begin{aligned}\r\n",
        "\\text{E} \\left[ { \\dfrac{1}{N} \\sum_{i=1}^N (X_i -\\mu)(\\bar{X} - \\mu) } \\right] \r\n",
        "&= \\text{E} \\left[ { \\dfrac{1}{N} \\sum_{i=1}^N (X_i -\\mu) \\left( \\dfrac{1}{N} \\sum_{j=1}^N X_j - \\mu \\right) } \\right]  \\\\\r\n",
        "&= \\text{E} \\left[ { \\dfrac{1}{N} \\sum_{i=1}^N (X_i -\\mu) \\left( \\dfrac{1}{N} \\sum_{j=1}^N ( X_j - \\mu ) \\right) } \\right]  \\\\\r\n",
        "&= \\text{E} \\left[ { \\dfrac{1}{N^2} \\sum_{i=1}^N \\sum_{j=1}^N (X_i -\\mu)  ( X_j - \\mu )} \\right]  \\\\\r\n",
        "\\end{aligned} $\r\n",
        ">> * $X_i$와 $X_j$ ($ i \\neq j $)는 독립일 때, $\\text{E}\\left[ (X_i-\\mu)(X_j-\\mu) \\right] = 0 \\;\\; (i \\neq j)$ 성질이용.\r\n",
        "$ \\begin{aligned}\r\n",
        "\\text{E} \\left[ { \\dfrac{1}{N} \\sum_{i=1}^N (X_i -\\mu)(\\bar{X} - \\mu) } \\right] \r\n",
        "&= \\text{E} \\left[ { \\dfrac{1}{N^2} \\sum_{i=1}^N  (X_i -\\mu)^2} \\right]  \\\\\r\n",
        "&= \\dfrac{1}{N} \\text{E} \\left[ { \\dfrac{1}{N} \\sum_{i=1}^N  (X_i -\\mu)^2} \\right]  \\\\\r\n",
        "&= \\dfrac{1}{N} \\text{E} \\left[ { \\dfrac{1}{N} \\sum_{i=1}^N  (X -\\mu)^2} \\right]  \\\\\r\n",
        "&= \\dfrac{1}{N} \\text{E} \\left[ { \\dfrac{1}{N} N  (X -\\mu)^2} \\right]  \\\\\r\n",
        "&= \\dfrac{1}{N} \\text{E} \\left[ { (X -\\mu)^2} \\right]  \\\\\r\n",
        "&= \\dfrac{1}{N} \\text{Var}[X] \\\\\r\n",
        "&= \\dfrac{\\sigma^2}{N}\r\n",
        "\\end{aligned} $\r\n",
        "> * 세 번쨰 항\r\n",
        ">> $ \\begin{aligned}\r\n",
        "\\text{E} \\left[ { \\dfrac{1}{N} \\sum_{i=1}^N (\\bar{X} - \\mu)^2 } \\right]\r\n",
        "&= \\text{E} \\left[ { \\dfrac{1}{N} \\sum_{i=1}^N \\left( \\dfrac{1}{N} \\sum_{j=1}^N X_j - \\mu \\right)^2 } \\right]  \\\\\r\n",
        "&= \\text{E} \\left[ { \\dfrac{1}{N} \\sum_{i=1}^N \\left( \\dfrac{1}{N} \\sum_{j=1}^N (X_j - \\mu) \\right)^2 } \\right]  \\\\\r\n",
        "&= \\text{E} \\left[ \\dfrac{1}{N^3} \\sum_{i=1}^N \\sum_{j=1}^N \\sum_{k=1}^N (X_j - \\mu)(X_k - \\mu)  \\right]  \\\\\r\n",
        "\\end{aligned}\r\n",
        "$\r\n",
        ">> * $X_j$와 $X_k$ ($ j \\neq k $)는 독립일때, $ \\text{E}\\left[ (X_j-\\mu)(X_k-\\mu) \\right] = 0 \\;\\; (j \\neq k)$ 성질이용.   \r\n",
        "$ \\begin{aligned}\r\n",
        "\\text{E} \\left[ { \\dfrac{1}{N} \\sum_{i=1}^N (\\bar{X} - \\mu)^2 } \\right]\r\n",
        "&= \\text{E} \\left[ \\dfrac{1}{N^3} \\sum_{i=1}^N \\sum_{j=1}^N  (X_j - \\mu)^2  \\right]  \\\\\r\n",
        "&= \\text{E} \\left[ \\dfrac{1}{N^3} N \\sum_{j=1}^N  (X_j - \\mu)^2  \\right]  \\\\\r\n",
        "&= \\text{E} \\left[ \\dfrac{1}{N^2} \\sum_{j=1}^N  (X_j - \\mu)^2  \\right]  \\\\\r\n",
        "&= \\dfrac{1}{N}  \\text{E} \\left[ \\dfrac{1}{N} \\sum_{j=1}^N  (X_j - \\mu)^2  \\right]  \\\\\r\n",
        "&= \\dfrac{1}{N} \\text{Var}[X] \\\\\r\n",
        "&= \\dfrac{\\sigma^2}{N}\r\n",
        "\\end{aligned}$\r\n",
        "> * 합산\r\n",
        ">>  $ \\text{E}[S^2] = \\sigma^2 - \\dfrac{2\\sigma^2}{N} + \\dfrac{\\sigma^2}{N} = \\dfrac{N-1}{N}\\sigma^2 $\r\n",
        ">> * 위의 값은 표본평균의 값이 데이터가 많이 몰려있는 쪽으로 편향되기 때문에 편향된 분산 값이다. (원래의 기댓값으로부터의 거리보다 작게 나올 수 있다.)\r\n",
        "> * 분모가 $N$이 아니라 $N-1$으로 변경 : 편향된 표본분산 값 앞에 N/(N-1) 을 곱하여 주어서 조금 더 큰 값으로 만들어 준다.\r\n",
        ">> $ \\begin{aligned}\r\n",
        "\\sigma^2 \r\n",
        "&= \\dfrac{N}{N-1} \\text{E}[S^2] \\\\\r\n",
        "&= \\dfrac{N}{N-1} \\text{E} \\left[ \\dfrac{1}{N} \\sum (X_i-\\bar{X})^2 \\right] \\\\\r\n",
        "&= \\text{E} \\left[ \\dfrac{1}{N-1} \\sum (X_i-\\bar{X})^2 \\right]\r\n",
        "\\end{aligned} $\r\n",
        "3. 결론\r\n",
        "> $ S^2_{\\text{unbiased}} \\equiv \\dfrac{1}{N-1} \\sum (X_i-\\bar{X})^2 $"
      ]
    },
    {
      "cell_type": "code",
      "metadata": {
        "id": "m09cSpIsxQP8",
        "colab": {
          "base_uri": "https://localhost:8080/"
        },
        "outputId": "ef538325-2fcb-40c4-ada8-fe6aea62457b"
      },
      "source": [
        "%matplotlib inline\r\n",
        "import numpy as np\r\n",
        "import matplotlib.pyplot as plt \r\n",
        "import seaborn as sns\r\n",
        "import matplotlib as mpl\r\n",
        "import matplotlib.font_manager as fm\r\n",
        "import warnings\r\n",
        "\r\n",
        "# warnings.filterwarnings(action='ignore') \r\n",
        "\r\n",
        "%config InlineBackend.figure_format = 'retina'\r\n",
        " \r\n",
        "!apt -qq -y install fonts-nanum\r\n",
        " \r\n",
        "fontpath = '/usr/share/fonts/truetype/nanum/NanumBarunGothic.ttf'\r\n",
        "font = fm.FontProperties(fname=fontpath, size=9)\r\n",
        "plt.rc('font', family='NanumBarunGothic') \r\n",
        "plt.rcParams['axes.unicode_minus'] = False\r\n",
        "mpl.font_manager._rebuild()"
      ],
      "execution_count": 69,
      "outputs": [
        {
          "output_type": "stream",
          "text": [
            "fonts-nanum is already the newest version (20170925-1).\n",
            "0 upgraded, 0 newly installed, 0 to remove and 15 not upgraded.\n"
          ],
          "name": "stdout"
        }
      ]
    },
    {
      "cell_type": "markdown",
      "metadata": {
        "id": "t1BfqIKVfUku"
      },
      "source": [
        "ex) 기댓값 $\\mu=0$, 분산이 $\\sigma^2=1$인 정규분포로부터 7개의 표본을 뽑는다."
      ]
    },
    {
      "cell_type": "code",
      "metadata": {
        "colab": {
          "base_uri": "https://localhost:8080/",
          "height": 191
        },
        "id": "LEOAZ4RCe2pM",
        "outputId": "62579d6c-56cd-495a-d09a-d25b5385333e"
      },
      "source": [
        "np.random.seed(15)\r\n",
        "N = 7\r\n",
        "data = np.sort(np.random.normal(size=(N)))[::-1]\r\n",
        "\r\n",
        "mean = np.mean(data)\r\n",
        "print(\"mean =\" , mean)\r\n",
        "\r\n",
        "plt.figure(figsize=(15, 2))\r\n",
        "x = np.linspace(-2, 3, 100)\r\n",
        "sns.rugplot(data, height=0.5, linewidth=4)\r\n",
        "plt.axvline(x=0, ls=\":\", c=\"r\", linewidth=2, label=\"실제 기댓값\")\r\n",
        "plt.axvline(x=mean, ls=\"--\", c=\"b\", linewidth=2, label=\"표본평균\")\r\n",
        "plt.grid(True)\r\n",
        "plt.xlim(-2.0, 2.0)\r\n",
        "plt.ylim(-0.01, 1)\r\n",
        "plt.legend()\r\n",
        "plt.title(\"데이터와 표본평균의 위치\")\r\n",
        "plt.show()\r\n"
      ],
      "execution_count": 75,
      "outputs": [
        {
          "output_type": "stream",
          "text": [
            "mean = -0.46494862738581794\n"
          ],
          "name": "stdout"
        },
        {
          "output_type": "display_data",
          "data": {
            "image/png": "[encoded data removed]",
            "text/plain": [
              "<Figure size 1080x144 with 1 Axes>"
            ]
          },
          "metadata": {
            "tags": [],
            "image/png": {
              "width": 886,
              "height": 156
            },
            "needs_background": "light"
          }
        }
      ]
    },
    {
      "cell_type": "code",
      "metadata": {
        "colab": {
          "base_uri": "https://localhost:8080/"
        },
        "id": "dn90PS_Tgq30",
        "outputId": "40a79639-7b9b-4536-ad1b-c1b1938eb45b"
      },
      "source": [
        "# 표본표준편차 = 표본평균으로부터 각 데이터가 떨어진 거리(의 제곱)의 평균\r\n",
        "distance_from_sample_mean = data - mean\r\n",
        "sample_variance = (distance_from_sample_mean ** 2).mean()\r\n",
        "sample_variance"
      ],
      "execution_count": 76,
      "outputs": [
        {
          "output_type": "execute_result",
          "data": {
            "text/plain": [
              "0.4774618257836171"
            ]
          },
          "metadata": {
            "tags": []
          },
          "execution_count": 76
        }
      ]
    },
    {
      "cell_type": "code",
      "metadata": {
        "colab": {
          "base_uri": "https://localhost:8080/"
        },
        "id": "xb8vUx_ggx4m",
        "outputId": "a894e32e-fede-4ef6-806b-75b8858e1950"
      },
      "source": [
        "# 편향 보정\r\n",
        "sample_variance * N / (N - 1)"
      ],
      "execution_count": 11,
      "outputs": [
        {
          "output_type": "execute_result",
          "data": {
            "text/plain": [
              "0.5570387967475533"
            ]
          },
          "metadata": {
            "tags": []
          },
          "execution_count": 11
        }
      ]
    },
    {
      "cell_type": "markdown",
      "metadata": {
        "id": "CYYoxOEz3j4G"
      },
      "source": [
        "### 6) 비대칭도와 첨도\r\n",
        "1. 비대칭도(skew) : 3차 모멘트 값에서 계산하고 확률밀도함수의 비대칭 정도를 가리킨다. 비대칭도가 0이면 확률분포가 대칭\r\n",
        ">$ \\operatorname{E}\\left[\\left(\\frac{X-\\mu}{\\sigma}\\right)^3 \\right] = \\frac{\\mu_3}{\\sigma^3} $\r\n",
        "2. 첨도(kurtosis) : 4차 모멘트 값에서 계산하며 확률이 정규분포와 대비하여 중심에 모여있는지 바깥으로 퍼져있는지를 나타낸다.\r\n",
        "> $ \\operatorname{E}\\left[\\left(\\frac{X-\\mu}{\\sigma}\\right)^4 \\right] = \\frac{\\mu_4}{\\sigma^4} $\r\n",
        "\r\n",
        "### 7) 모멘트\r\n",
        "* 앞서 구한 기댓값이나 분산은 확률분포의 **모멘트(moment)**의 하나다. \r\n",
        "> $ \\mu_n = \\operatorname{E}[(X-\\mu)^n] = \\int (x - \\mu)^n p(x)dx $\r\n",
        "1. 모멘트 : 확률분포에서 계산한 특징값이다. \r\n",
        "2. 만약 두 확률분포 $X, Y$가 있고 1차부터 무한대 차수에 이르기까지 두 확률분포의 모든 모멘트값이 서로 같다면 두 확률분포는 같은 확률분포다.\r\n",
        ">  $  \\begin{aligned}\r\n",
        "\\text{E}[X] &= \\text{E}[Y] \\\\\r\n",
        "\\text{E}[(X-\\mu_X)^2] &= \\text{E}[(Y-\\mu_Y)^2] \\\\\r\n",
        "\\text{E}[(X-\\mu_X)^3] &= \\text{E}[(Y-\\mu_Y)^3] \\\\\r\n",
        "\\text{E}[(X-\\mu_X)^4] &= \\text{E}[(Y-\\mu_Y)^4] \\\\\r\n",
        "\\text{E}[(X-\\mu_X)^5] &= \\text{E}[(Y-\\mu_Y)^5] \\\\\r\n",
        " & \\vdots & \\\\\r\n",
        "X \\stackrel d= Y\r\n",
        "\\end{aligned}$ \r\n",
        ">> * $\\stackrel d=$ 는 두 확률변수가 같은 분포(distribution)를 가진다는 것을 표시하는 기호다."
      ]
    }
  ]
}