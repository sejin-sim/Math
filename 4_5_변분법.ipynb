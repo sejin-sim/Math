{
  "nbformat": 4,
  "nbformat_minor": 0,
  "metadata": {
    "colab": {
      "name": "4_5 변분법.ipynb",
      "provenance": [],
      "authorship_tag": "ABX9TyMJ1f4L9oW6yeMidwbOmJO8",
      "include_colab_link": true
    },
    "kernelspec": {
      "name": "python3",
      "display_name": "Python 3"
    },
    "language_info": {
      "name": "python"
    }
  },
  "cells": [
    {
      "cell_type": "markdown",
      "metadata": {
        "id": "view-in-github",
        "colab_type": "text"
      },
      "source": [
        "<a href=\"https://colab.research.google.com/github/sejin-sim/Math/blob/main/4_5_%EB%B3%80%EB%B6%84%EB%B2%95.ipynb\" target=\"_parent\"><img src=\"https://colab.research.google.com/assets/colab-badge.svg\" alt=\"Open In Colab\"/></a>"
      ]
    },
    {
      "cell_type": "markdown",
      "metadata": {
        "id": "jx7X1PbU2jaw"
      },
      "source": [
        "- 범함수의 개념과 범함수의 미분에 해당하는 변분법을 알아보자\n",
        "\n",
        "### 1) 범함수\n",
        "\n",
        "1. 함수(function) : 실수(real number) 입력 → 실수를 출력\n",
        "> $$ \n",
        "\\begin{align}\n",
        "\\text{real number } x \\rightarrow \\boxed{\\; \\text{ function } \\; f \\; \\phantom{\\frac{\\dfrac{}{}}{\\dfrac{}{}}}} \\rightarrow \\text{real number} \n",
        "\\end{align}\n",
        "$$\n",
        "\n",
        "2. 범함수(functional) : 함수 입력 → 실수를 출력 (기댓값, 엔트로피)\n",
        "> $$ \n",
        "\\begin{align}\n",
        "\\text{function } y(x) \\rightarrow \\boxed{\\; \\text{ functional } \\; F \\; \\phantom{\\frac{\\dfrac{}{}}{\\dfrac{}{}}}} \\rightarrow \\text{real number} \n",
        "\\end{align}\n",
        "$$\n",
        "> - 범함수는 보통 알파벳 대문자로 표기\n",
        "\n",
        "- 함수는 입력변수 실수를 소괄호(parenthesis)로 감싸지만, 범함수는 입력변수인 함수를 대괄호(square bracket)로 감싼다.\n",
        "> $$ \n",
        "\\begin{align}\n",
        "F[y(x)]\n",
        "\\end{align}\n",
        "$$\n",
        "\n",
        "3. 범함수 값의 예시 : 확률변수 $X$의 기댓값과 엔트로피 = 확률밀도함수 $p(x)$를 다음처럼 적분한 값 (정적분으로 계산하는 경우 多)\n",
        "> $$ \n",
        "\\begin{align}\n",
        "\\text{E}[p(x)] = \\int_{-\\infty}^{\\infty} xp(x)dx \n",
        "\\end{align}\n",
        "$$\n",
        "> <br>$$ \n",
        "\\begin{align}\n",
        "\\text{H}[p(x)] = -\\int_{-\\infty}^{\\infty} p(x)\\log p(x) dx \n",
        "\\end{align}\n",
        "$$\n",
        "> - 범함수 $E$와 $H$ : 함수 $p(x)$ 입력 → 스칼라 실수 출력\n",
        "\n",
        "4. 변분법(functional calculus, calculus of variations) : 입력인 함수가 변할 때 범함수의 출력이 어떻게 달라지는지를 계산하는 학문"
      ]
    },
    {
      "cell_type": "markdown",
      "metadata": {
        "id": "Rkg0C69k-JbI"
      },
      "source": [
        "### 2) 범함수의 테일러 전개\n",
        "1. 함수의 테일러 전개(Taylor expansion) : 함수 $f(x)$의 도함수 $\\frac{df}{dx}$를 알면 다음처럼 함수의 근사값을 구할 수 있는 것.\n",
        "> $$ \n",
        "\\begin{align}\n",
        "f(x + \\epsilon) \\approx f(x) + \\dfrac{df}{dx} \\epsilon \n",
        "\\end{align}\n",
        "$$\n",
        "> -  $\\epsilon$ : 아주 작은 실수를 의미 \n",
        "\n",
        "2. 단변수 함수의 테일러 전개\n",
        "- $F(y)$ : 단변수 함수(=실수를 입력으로 받는 함수). 범함수 X\n",
        "- $y$ : 독립변수(=입력변수)\n",
        "> $$ \n",
        "\\begin{align}\n",
        "F(y + \\epsilon) \\approx F(y) + \\dfrac{dF}{dy} \\epsilon \n",
        "\\end{align}\n",
        "$$\n",
        "\n",
        "3. 다변수 함수의 테일러 전개\n",
        "- $F(y)$ : 다변수 함수($y_1, y_2, \\ldots, y_N$이라는 $N$개의 실수 입력받는 함수). 범함수 X\n",
        "> $$ \n",
        "\\begin{align}\n",
        "\\begin{aligned}\n",
        "F(y_1 + \\epsilon_1, y_2 + \\epsilon_2, \\ldots, y_N + \\epsilon_N) \n",
        "&\\approx\n",
        "F(y_1, y_2, \\ldots, y_N) + \n",
        "\\dfrac{\\partial F}{\\partial y_1} \\epsilon_1 + \n",
        "\\dfrac{\\partial F}{\\partial y_2} \\epsilon_2 + \\cdots\n",
        "\\dfrac{\\partial F}{\\partial y_N} \\epsilon_N \\\\ \n",
        "&=\n",
        "F(y_1, y_2, \\ldots, y_N) + \\sum_{i=1}^{N} \\dfrac{\\partial F}{\\partial y_i} \\epsilon_i\n",
        "\\end{aligned}\n",
        "\\end{align}\n",
        "$$\n",
        "- 위 식에서 $y_i$이 $x_i$를 입력으로 받아서 계산된 함수의 값 $y(x_i)$이라고 가정\n",
        "> $$ \n",
        "\\begin{align}\n",
        "y_i = y(x_i) \n",
        "\\end{align}\n",
        "$$\n",
        "\n",
        "- 그리고 $\\epsilon_i$는 $x_i$를 입력으로 받는 임의의 함수 $\\eta(x)$의 값 $\\eta(x_i)$에 아주 작은 공통 상수 $\\epsilon$을 곱한 값이라고 가정\n",
        "> $$ \n",
        "\\begin{align}\n",
        "\\epsilon_i = \\epsilon \\eta(x_i)\n",
        "\\end{align}\n",
        "$$\n",
        "\n",
        "- 최종 테일러 전개식\n",
        "> $$\n",
        "\\begin{align}\n",
        "F \\big( y(x_1) + \\epsilon\\eta(x_1), y(x_2) + \\epsilon\\eta(x_2), \\ldots, y(x_N) + \\epsilon\\eta(x_N) \\big)\n",
        "\\approx\n",
        "F \\big( y(x_1), y(x_2), \\ldots, y(x_N) \\big) + \\epsilon \\sum_{i=1}^{N} \\dfrac{\\partial F}{\\partial y_i} \\eta(x_i)\n",
        "\\end{align}\n",
        "$$\n",
        "> - 실수 벡터 또는 수열(sequence)를 입력으로 받고 실수를 출력하는 함수에 대한 테일러 전개\n",
        "> - $ \n",
        "\\begin{align}\n",
        "\\text{ sequence } \\{ y(x_1), \\cdots, y(x_N) \\} \\;\\; \\rightarrow \\;\\;\n",
        "\\text{ function } F \\big( \\{ y(x_1), \\cdots, y(x_N) \\} \\big)\n",
        "\\end{align}\n",
        "$\n",
        "\n",
        "4. 범함수의 테일러 전개 : 3 최종 데일러 전개식에서 수열의 크기 $N$을 무한대로 늘리면 \n",
        "- 수열을 $y(x)$ : $\\{ y(x_1), \\cdots, y(x_N) \\}$ 함수로 나타낼 수 있음\n",
        "- $F$ : 함수 $y$를 입력으로 받는 범함수가 됨\n",
        "> $$\n",
        "\\begin{align}\n",
        "\\text{ function } y(x) \\;\\; \\rightarrow \\;\\;\n",
        "\\text{ functional } F [ y(x) ]\n",
        "\\end{align}\n",
        "$$\n",
        "<br>\n",
        "> $$ \n",
        "\\begin{align}\n",
        "F[y(x) + \\epsilon \\eta(x)] \\approx F[y(x)] + \\epsilon \\int \\dfrac{\\delta F}{\\delta y(x)} \\eta(x) dx \n",
        "\\end{align}\n",
        "$$\n",
        "\n"
      ]
    },
    {
      "cell_type": "markdown",
      "metadata": {
        "id": "u7ApLhMmDATP"
      },
      "source": [
        "### 3) 범함수의 도함수\n",
        "\n",
        "- $\\epsilon$의 변화에 의한 범함수 값의 변화\n",
        "> $$\n",
        "\\begin{align}\n",
        "\\dfrac{F[y(x) + \\epsilon \\eta(x)]-F[y(x)]}{\\epsilon} = \\int \\dfrac{\\delta F}{\\delta y(x)} \\eta(x) dx\n",
        "\\end{align}\n",
        "$$\n",
        "\n",
        "- 어떤 $\\eta(x)$ 함수에 대해서도 이 값이 0이 되려면 \n",
        "> $$ \n",
        "\\begin{align}\n",
        "\\dfrac{\\delta F}{\\delta y(x)} = 0 \n",
        "\\end{align}\n",
        "$$\n",
        "\n",
        "- 범함수의 도함수(functional derivative)\n",
        "> $$ \n",
        "\\begin{align}\n",
        "\\dfrac{\\delta F}{\\delta y(x)}\n",
        "\\end{align}\n",
        "$$\n",
        "> -  범함수를 함수로 미분하였다는 것을 강조하기 위해 $d$ 기호가 아니라 $\\delta$ 기호를 사용"
      ]
    },
    {
      "cell_type": "markdown",
      "metadata": {
        "id": "fjAwCIRWE8E-"
      },
      "source": [
        "### 4) 적분형 범함수의 도함수\n",
        "\n",
        "- 대부분의 범함수는 $x$에 대한 적분으로 정의되며 적분 기호안의 연산은 $y(x)$와 $x$ 를 입력 변수로 받는 함수 $G \\big( y, x \\big)$ 임\n",
        "> $$ \n",
        "\\begin{align}\n",
        "F[y(x)] = \\int G(y, x) dx \n",
        "\\end{align}\n",
        "$$\n",
        "\n",
        "- 범함수 $F$의 도함수\n",
        "> $$ \n",
        "\\begin{align}\n",
        "\\dfrac{\\delta F}{\\delta y} = \\dfrac{\\partial G}{\\partial y}  \n",
        "\\end{align}\n",
        "$$\n",
        "> $y$를 마치 변수처럼 생각하고 $G$의 편미분을 구했기 때문에 $\\dfrac{\\delta}{\\delta y}$ 기호가 아닌 $\\dfrac{\\partial}{\\partial y}$ 기호를 사용"
      ]
    },
    {
      "cell_type": "markdown",
      "metadata": {
        "id": "_GTfGbMtV6fj"
      },
      "source": [
        "#### 예제\n",
        "\n",
        "- 기댓값 $E$는 다음과 같이 정의되는 범함수이다. \n",
        "> $$ \n",
        "\\begin{align}\n",
        "\\text{E}[p(x)] = \\int_{-\\infty}^{\\infty} xp(x)dx \n",
        "\\end{align}\n",
        "$$\n",
        "<br>\n",
        ">  $$ \\text{if }\n",
        "\\begin{align}\n",
        "G(y,x) = xy \\text{ ,}\n",
        "\\end{align}\n",
        "$$\n",
        "<br>\n",
        "> $$ \n",
        "\\begin{align}\n",
        "\\dfrac{\\delta F}{\\delta y} = \\dfrac{\\partial G}{\\partial y} = x \n",
        "\\end{align}\n",
        "$$\n"
      ]
    },
    {
      "cell_type": "markdown",
      "metadata": {
        "id": "yTEpKr0YWhHL"
      },
      "source": [
        "#### 예제\n",
        "\n",
        "- 그레디언트 부스팅(gradient boosting) 방법에서는 주어진 목표함수 $y(x)$와 가장 비슷한 모형함수 $\\hat{y}(x)$를 구하기 위해 다음과 같은 범함수인 손실함수를 사용함\n",
        "> $$\n",
        "\\begin{align}\n",
        "L = \\int \\dfrac{1}{2}(\\hat{y}(x) - y(x))^2 dx\n",
        "\\end{align}\n",
        "$$\n",
        "\n",
        "- 모형함수 $\\hat{y}(x)$에 대한 범함수 손실함수 $L$의 그레디언트를 구하면\n",
        "> $$\n",
        "\\begin{align}\n",
        "G(\\hat{y}) = \\dfrac{1}{2}(\\hat{y}(x) - y(x))^2\n",
        "\\end{align}\n",
        "$$\n",
        "<br>\n",
        "> $$\n",
        "\\begin{align}\n",
        "\\dfrac{\\delta L}{\\delta \\hat{y}} = \\dfrac{\\partial G}{\\partial y} = \\hat{y}(x) - y(x)\n",
        "\\end{align}\n",
        "$$\n"
      ]
    },
    {
      "cell_type": "markdown",
      "metadata": {
        "id": "a5yimjwpXEEu"
      },
      "source": [
        "### 5) 오일러-라그랑주 공식\n",
        "\n",
        "-  $y(x)$의 $x$에 대한 도함수인 $y'(x) = \\dfrac{dy}{dx}$를 입력 변수로 받는 함수 $G \\big( y(x), y'(x), x \\big)$로 정의된 도함수도 있을 수 있음\n",
        "> $$ \n",
        "\\begin{align}\n",
        "F[y(x)] = \\int G(y, y', x) dx \n",
        "\\end{align}\n",
        "$$\n",
        "\n",
        "- 오일러-라그랑주(Euler-Lagrange) 공식 : 범함수$F$의 함수 $y$에 대한 도함수 \n",
        "> $$  \n",
        "\\begin{align}\n",
        "\\dfrac{\\partial G}{\\partial y} - \\dfrac{d}{dx}\\left( \\dfrac{\\partial G}{\\partial y'} \\right) \n",
        "\\end{align}\n",
        "$$\n",
        "> - $\\dfrac{\\partial G}{\\partial y}$와 $\\dfrac{\\partial G}{\\partial y'}$ : 함수 $y$와 $y'$을 마치 별개의 변수인 것처럼 생각하고 편미분한 도함수\n",
        "> - $\\dfrac{d}{dx}\\left( \\dfrac{\\partial G}{\\partial y'} \\right)$ : 구해진 함수를 다시 변수 $x$로 미분한 결과"
      ]
    },
    {
      "cell_type": "markdown",
      "metadata": {
        "id": "LLV0P_LhZhzZ"
      },
      "source": [
        "### 6) 최적 제어\n",
        "\n",
        "- 최적화(optimization) : 함수 $f(x)$가 있을 때 이 값이 가장 커지도록 혹은 가장 작아지도록 하는 독립변수 $x$의 값을 찾는 것\n",
        "- 최적 제어(optimal control) : 범함수 $F[y(x)]$가 있을 때 이 값이 가장 커지도록 혹은 가장 작아지도록 하는 독립함수 $y(x)$를 찾는 것\n",
        "- 최적화를 위한 필요조건 : 최적의 독립변수의 값 $x^{\\ast}$을 입력하면 → 함수의 도함수의 값 = 0\n",
        "> $$ \n",
        "\\begin{align}\n",
        "\\dfrac{df}{dx}(x^{\\ast}) = 0 \n",
        "\\end{align}\n",
        "$$\n",
        "\n",
        "- 최적제어를 위한 필요조건 : 최적의 함수 $y^{\\ast}(x)$를 입력하면 → 범함수의 도함수의 값 = 0\n",
        "> $$ \n",
        "\\begin{align}\n",
        "\\dfrac{\\delta f}{\\delta y}[y^{\\ast}(x)] = 0 \n",
        "\\end{align}\n",
        "$$"
      ]
    }
  ]
}