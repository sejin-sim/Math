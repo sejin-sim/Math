{
  "nbformat": 4,
  "nbformat_minor": 0,
  "metadata": {
    "colab": {
      "name": "3_3_고윳값_분해.ipynb",
      "provenance": [],
      "collapsed_sections": [
        "Un3C6ctYIrb-"
      ],
      "authorship_tag": "ABX9TyO51FDMraNL4sV48zQ2PO1z",
      "include_colab_link": true
    },
    "kernelspec": {
      "name": "python3",
      "display_name": "Python 3"
    }
  },
  "cells": [
    {
      "cell_type": "markdown",
      "metadata": {
        "id": "view-in-github",
        "colab_type": "text"
      },
      "source": [
        "<a href=\"https://colab.research.google.com/github/sejin-sim/Math/blob/main/3_3_%EA%B3%A0%EC%9C%B3%EA%B0%92_%EB%B6%84%ED%95%B4.ipynb\" target=\"_parent\"><img src=\"https://colab.research.google.com/assets/colab-badge.svg\" alt=\"Open In Colab\"/></a>"
      ]
    },
    {
      "cell_type": "markdown",
      "metadata": {
        "id": "Un3C6ctYIrb-"
      },
      "source": [
        "##### 기본 셋팅"
      ]
    },
    {
      "cell_type": "code",
      "metadata": {
        "colab": {
          "base_uri": "https://localhost:8080/"
        },
        "id": "qWg-mtjoH5_G",
        "outputId": "811369da-718e-47fd-807a-01ddc2e9bf41"
      },
      "source": [
        "import numpy as np\r\n",
        "\r\n",
        "# %matplotlib inline\r\n",
        "import matplotlib as mpl\r\n",
        "import matplotlib.pyplot as plt\r\n",
        "mpl.rc('axes', labelsize=14)\r\n",
        "mpl.rc('xtick', labelsize=12)\r\n",
        "mpl.rc('ytick', labelsize=12)\r\n",
        "mpl.rcParams['axes.unicode_minus'] = False\r\n",
        "mpl.rcParams.update({\"axes.grid\" : True})\r\n",
        "\r\n",
        "plt.rcParams[\"figure.figsize\"] = (12,6)\r\n",
        "plt.rc(\"font\", size=18)  # 그림의 폰트 크기를 18로 고정\r\n",
        "\r\n",
        "gray = {\"facecolor\": \"gray\"}\r\n",
        "black = {\"facecolor\": \"black\"}\r\n",
        "red = {\"facecolor\": \"red\"}\r\n",
        "green = {\"facecolor\": \"green\"}\r\n",
        "blue = {\"facecolor\": \"blue\"}\r\n",
        "lightgreen = {\"facecolor\": \"lightgreen\"}\r\n",
        "gray = {\"facecolor\": \"gray\"}\r\n",
        "black = {\"facecolor\": \"black\"}\r\n",
        "red = {\"facecolor\": \"red\"}\r\n",
        "green = {\"facecolor\": \"green\"}\r\n",
        "blue = {\"facecolor\": \"blue\"}\r\n",
        "\r\n",
        "np.random.seed(42)\r\n",
        "\r\n",
        "# %config InlineBackend.figure_format = 'retina'\r\n",
        " \r\n",
        "!apt -qq -y install fonts-nanum\r\n",
        "fontpath = '/usr/share/fonts/truetype/nanum/NanumBarunGothic.ttf'\r\n",
        "plt.rc('font', family='NanumBarunGothic') \r\n",
        "mpl.font_manager._rebuild()\r\n",
        "\r\n",
        "import warnings\r\n",
        "warnings.filterwarnings(action=\"ignore\", message=\"^internal gelsd\")"
      ],
      "execution_count": 1,
      "outputs": [
        {
          "output_type": "stream",
          "text": [
            "The following NEW packages will be installed:\n",
            "  fonts-nanum\n",
            "0 upgraded, 1 newly installed, 0 to remove and 29 not upgraded.\n",
            "Need to get 9,604 kB of archives.\n",
            "After this operation, 29.5 MB of additional disk space will be used.\n",
            "Selecting previously unselected package fonts-nanum.\n",
            "(Reading database ... 160975 files and directories currently installed.)\n",
            "Preparing to unpack .../fonts-nanum_20170925-1_all.deb ...\n",
            "Unpacking fonts-nanum (20170925-1) ...\n",
            "Setting up fonts-nanum (20170925-1) ...\n",
            "Processing triggers for fontconfig (2.12.6-0ubuntu2) ...\n"
          ],
          "name": "stdout"
        }
      ]
    },
    {
      "cell_type": "markdown",
      "metadata": {
        "id": "_SioCGjaI_hC"
      },
      "source": [
        "### 1) 고윳값과 고유벡터\r\n",
        "\r\n",
        "1. 실수 $\\lambda$를 **고윳값**(eigenvalue), 벡터 $v$를 **고유벡터**(eigenvector)라고 한다. 고윳값과 고유벡터를 찾는 작업을 **고유분해(eigen-decomposition)** 또는 **고윳값 분해(eigenvalue decomposition)**라고 한다.\r\n",
        "\r\n",
        "$$ \r\n",
        "\\begin{align}\r\n",
        "Av = \\lambda v\r\n",
        "\\end{align}\r\n",
        "$$\r\n",
        "\r\n",
        "2. 고유벡터는 행렬 $A$를 곱해서 변환을 해도 방향이 바뀌지 않는 벡터이고, 고윳값은 변환된 고유벡터와 원래 고유벡터의 크기 비율이다. \r\n",
        "\r\n",
        "3. ex)\r\n",
        "\r\n",
        "\r\n",
        "$$\r\n",
        "\\begin{align}\r\n",
        "A=\r\n",
        "\\begin{bmatrix}\r\n",
        "1 & -2 \\\\\r\n",
        "2 & -3\r\n",
        "\\end{bmatrix}\r\n",
        ",\\;\r\n",
        "\\lambda = -1 \r\n",
        ",\\;\r\n",
        "v=\r\n",
        "\\begin{bmatrix}\r\n",
        "1  \\\\\r\n",
        "1\r\n",
        "\\end{bmatrix}\r\n",
        "\\end{align}\r\n",
        "$$\r\n",
        "\r\n",
        "$$\r\n",
        "\\begin{align}\r\n",
        "Av = \r\n",
        "\\begin{bmatrix}\r\n",
        "1 & -2 \\\\\r\n",
        "2 & -3\r\n",
        "\\end{bmatrix}\r\n",
        "\\begin{bmatrix}\r\n",
        "1  \\\\\r\n",
        "1\r\n",
        "\\end{bmatrix}\r\n",
        "=\r\n",
        "\\begin{bmatrix}\r\n",
        "-1 \\\\\r\n",
        "-1\r\n",
        "\\end{bmatrix}\r\n",
        "=\r\n",
        "(-1)\r\n",
        "\\begin{bmatrix}\r\n",
        "1 \\\\\r\n",
        "1 \r\n",
        "\\end{bmatrix}\r\n",
        "=\r\n",
        "\\lambda v\r\n",
        "\\end{align}\r\n",
        "$$\r\n",
        "\r\n",
        "4. 고유벡터를 구할 때, 방향이 같은 벡터는 모두 고유벡터가 되므로 보통은 크기가 1인 단위 벡터가 되도록 unit vector를 이용해 정규화함(벡터의 크기, norm으로 나누어주기)\r\n",
        "\r\n",
        "> $$\\frac{v}{\\Vert v \\Vert} $$\r\n",
        "\r\n"
      ]
    },
    {
      "cell_type": "markdown",
      "metadata": {
        "id": "cAlh57rwMyqN"
      },
      "source": [
        "#### 연습 문제 3.3.1\r\n",
        "\r\n",
        "다음 행렬 $B$가\r\n",
        "\r\n",
        "$$ \r\n",
        "\\begin{align}\r\n",
        "B =\r\n",
        "\\begin{bmatrix}\r\n",
        "2 & 3 \\\\\r\n",
        "2 & 1\r\n",
        "\\end{bmatrix}\r\n",
        "\\tag{3.3.11}\r\n",
        "\\end{align}\r\n",
        "$$\r\n",
        "\r\n",
        "다음과 같은 두 가지 고윳값-고유벡터를 가짐을 증명하라.\r\n",
        "\r\n",
        "$$ \r\n",
        "\\begin{align}\r\n",
        "\\lambda_1 = 4, \\;\\;\r\n",
        "v_1 = \\begin{bmatrix}\r\n",
        "3 \\\\\r\n",
        "2\r\n",
        "\\end{bmatrix}\r\n",
        "\\tag{3.3.12}\r\n",
        "\\end{align}\r\n",
        "$$\r\n",
        "\r\n",
        "$$ \r\n",
        "\\begin{align}\r\n",
        "\\lambda_2 = -1, \\;\\;\r\n",
        "v_2 = \\begin{bmatrix}\r\n",
        "-1 \\\\\r\n",
        "1\r\n",
        "\\end{bmatrix}\r\n",
        "\\tag{3.3.13}\r\n",
        "\\end{align}\r\n",
        "$$\r\n",
        "\r\n",
        "또는\r\n",
        "\r\n",
        "$$ \r\n",
        "\\begin{align}\r\n",
        "\\lambda_1 = 4, \\;\\;\r\n",
        "v_1 = \r\n",
        "\\begin{bmatrix}\r\n",
        "\\dfrac{3}{\\sqrt{13}} \\\\\r\n",
        "\\dfrac{2}{\\sqrt{13}}\r\n",
        "\\end{bmatrix}\r\n",
        "\\approx\r\n",
        "\\begin{bmatrix}\r\n",
        "0.8321 \\\\\r\n",
        "0.5547\r\n",
        "\\end{bmatrix}\r\n",
        "\\tag{3.3.14}\r\n",
        "\\end{align}\r\n",
        "$$\r\n",
        "\r\n",
        "$$ \r\n",
        "\\begin{align}\r\n",
        "\\lambda_2 = -1, \\;\\;\r\n",
        "v_2 = \\begin{bmatrix}\r\n",
        "-\\dfrac{1}{\\sqrt{2}} \\\\\r\n",
        "\\dfrac{1}{\\sqrt{2}}\r\n",
        "\\end{bmatrix}\r\n",
        "\\approx \r\n",
        "\\begin{bmatrix}\r\n",
        "-0.7071 \\\\\r\n",
        "0.7071\r\n",
        "\\end{bmatrix}\r\n",
        "\\tag{3.3.15}\r\n",
        "\\end{align}\r\n",
        "$$\r\n",
        "\r\n",
        "> 답 : \r\n",
        "\r\n",
        "$\r\n",
        "Bv_{1} = \\begin{bmatrix}\r\n",
        "2 & 3 \\\\\r\n",
        "2 & 1\r\n",
        "\\end{bmatrix}\r\n",
        "\\begin{bmatrix}\r\n",
        "\\dfrac{3}{\\sqrt{13}} \\\\\r\n",
        "\\dfrac{2}{\\sqrt{13}}\r\n",
        "\\end{bmatrix}\r\n",
        "=\r\n",
        "\\begin{bmatrix}\r\n",
        "\\dfrac{6}{\\sqrt{13}} + \\dfrac{6}{\\sqrt{13}} \\\\\r\n",
        "\\dfrac{6}{\\sqrt{13}} + \\dfrac{2}{\\sqrt{13}}\r\n",
        "\\end{bmatrix}\r\n",
        "=\r\n",
        "\\begin{bmatrix}\r\n",
        "\\dfrac{12}{\\sqrt{13}}  \\\\\r\n",
        "\\dfrac{8}{\\sqrt{13}} \r\n",
        "\\end{bmatrix}\r\n",
        "=\r\n",
        "4\r\n",
        "\\begin{bmatrix}\r\n",
        "\\dfrac{3}{\\sqrt{13}} \\\\\r\n",
        "\\dfrac{2}{\\sqrt{13}}\r\n",
        "\\end{bmatrix}\r\n",
        "= \\lambda_1v_1\r\n",
        "$\r\n",
        "\r\n",
        "$\r\n",
        "Bv_2 = \r\n",
        "\\begin{bmatrix}\r\n",
        "2 & 3 \\\\\r\n",
        "2 & 1\r\n",
        "\\end{bmatrix}\r\n",
        "\\begin{bmatrix}\r\n",
        "-\\dfrac{1}{\\sqrt{2}} \\\\\r\n",
        "\\dfrac{1}{\\sqrt{2}}\r\n",
        "\\end{bmatrix}\r\n",
        "=\r\n",
        "\\begin{bmatrix}\r\n",
        "-\\dfrac{2}{\\sqrt{2}} + \\dfrac{3}{\\sqrt{2}} \\\\\r\n",
        "-\\dfrac{2}{\\sqrt{2}} + \\dfrac{1}{\\sqrt{2}}\r\n",
        "\\end{bmatrix}\r\n",
        "=\r\n",
        "\\begin{bmatrix}\r\n",
        "\\dfrac{1}{\\sqrt{2}} \\\\\r\n",
        "-\\dfrac{1}{\\sqrt{2}}\r\n",
        "\\end{bmatrix}\r\n",
        "=\r\n",
        "-1\r\n",
        "\\begin{bmatrix}\r\n",
        "-\\dfrac{1}{\\sqrt{2}} \\\\\r\n",
        "\\dfrac{1}{\\sqrt{2}}\r\n",
        "\\end{bmatrix}\r\n",
        "= \\lambda_2v_2\r\n",
        "$"
      ]
    },
    {
      "cell_type": "code",
      "metadata": {
        "colab": {
          "base_uri": "https://localhost:8080/"
        },
        "id": "sw-2sxlpTb1M",
        "outputId": "8ec43ac1-046a-4ed0-dca7-0b1e5ae2e8b2"
      },
      "source": [
        "B = np.array([[2, 3], [2,1]])\r\n",
        "\r\n",
        "lambda1 = 4\r\n",
        "v1 = np.array([3/np.sqrt(13), 2 / np.sqrt(13)])\r\n",
        "\r\n",
        "lambda2 = -1\r\n",
        "v2 = np.array([-1/np.sqrt(2), 1 / np.sqrt(2)])\r\n",
        "\r\n",
        "print(np.array_equal(B @ v1, lambda1 * v1))\r\n",
        "print(np.array_equal(B @ v2, lambda2 * v2))"
      ],
      "execution_count": 2,
      "outputs": [
        {
          "output_type": "stream",
          "text": [
            "True\n",
            "True\n"
          ],
          "name": "stdout"
        }
      ]
    },
    {
      "cell_type": "markdown",
      "metadata": {
        "id": "EhJHXEqEKeiB"
      },
      "source": [
        "### 2) 고유값 계산하기\r\n",
        "\r\n",
        "1. 고유 값은 다음과 같은 특성방정식의 해와 같음\r\n",
        "\r\n",
        "$$ f(\\lambda) = det(A -\\lambda I) = 0 $$\r\n",
        "\r\n",
        "2. 유도 과정\r\n",
        "\r\n",
        "$$\r\n",
        "\\begin{align} Av & = \\lambda v \\\\ Av & = \\lambda I v \\\\ (A - \\lambda I)v & = 0 \\\\ det(A - \\lambda I) & = 0 \\\\ \\end{align}\r\n",
        "$$\r\n",
        "\r\n",
        "3. ex) 고유값이 두 개\r\n",
        "\r\n",
        "$$ A = \\begin{bmatrix} 2 & 3 \\\\ 2 & 1 \\end{bmatrix} $$\r\n",
        "\r\n",
        "$$\r\n",
        "\\begin{align} det(A- \\lambda I) & = \r\n",
        "det(\\begin{bmatrix} 2 & 3 \\\\ 2 & 1 \\end{bmatrix} - \r\n",
        "\\begin{bmatrix} \\lambda & 0 \\\\ 0 & \\lambda \\end{bmatrix} \r\n",
        " = det \\begin{bmatrix} 2 - \\lambda & 3 \\\\ 2 & 1 - \\lambda \\end{bmatrix} = (2 - \\lambda)(1 - \\lambda) - 6 = \\lambda^2 - 3\\lambda - 4 = 0 \\\\ \\end{align} \\\\ \\lambda^2 - 3\\lambda - 4 = (\\lambda - 4)(\\lambda + 1) = 0\r\n",
        "$$\r\n",
        "\r\n",
        "고유값은 4와 -1이다.\r\n",
        "\r\n",
        "4. ex)\r\n",
        "\r\n",
        "\r\n",
        "$$ \r\n",
        "\\begin{align}\r\n",
        "C =\r\n",
        "\\begin{bmatrix}\r\n",
        "0 & -1 \\\\\r\n",
        "1 & 0\r\n",
        "\\end{bmatrix}\r\n",
        "\\end{align}\r\n",
        "$$\r\n",
        "\r\n",
        "$$ \r\n",
        "\\begin{align}\r\n",
        "\\begin{aligned}\r\n",
        "\\det \\left( C - \\lambda I \\right) \r\n",
        "&=\r\n",
        "\\det \r\n",
        "\\left(\r\n",
        "\\begin{bmatrix}\r\n",
        "0 & -1 \\\\\r\n",
        "1 & 0\r\n",
        "\\end{bmatrix}\r\n",
        "-\r\n",
        "\\begin{bmatrix}\r\n",
        "\\lambda & 0 \\\\\r\n",
        "0 & \\lambda\r\n",
        "\\end{bmatrix}\r\n",
        "\\right) = \\lambda^2 +1 = 0\r\n",
        "\\end{aligned}\r\n",
        "\\end{align}\r\n",
        "$$\r\n",
        "\r\n",
        "실수해는 존재 X, 행렬 $C$는 실수인 고유값을 가지지 않는다."
      ]
    },
    {
      "cell_type": "markdown",
      "metadata": {
        "id": "Fcy8IDcmVlXC"
      },
      "source": [
        "#### 연습 문제 3.3.2\r\n",
        "\r\n",
        "특성방정식을 이용하여 다음 행렬의 고윳값을 구하라.\r\n",
        "\r\n",
        "$$ \r\n",
        "\\begin{align}\r\n",
        "D=\r\n",
        "\\begin{bmatrix}\r\n",
        "2 & 1 \\\\\r\n",
        "1 & 2\r\n",
        "\\end{bmatrix}\r\n",
        "\\tag{3.3.27}\r\n",
        "\\end{align}\r\n",
        "$$\r\n",
        "\r\n",
        "> 답 :  고유 값은 3과 1이다.\r\n",
        "\r\n",
        "$$ \r\n",
        "\\begin{align}\r\n",
        "\\begin{aligned}\r\n",
        "\\det \\left( D - \\lambda I \\right) \r\n",
        "&=\r\n",
        "\\det \r\n",
        "\\left(\r\n",
        "\\begin{bmatrix}\r\n",
        "2 & 1 \\\\\r\n",
        "1 & 2\r\n",
        "\\end{bmatrix}\r\n",
        "-\r\n",
        "\\begin{bmatrix}\r\n",
        "\\lambda & 0 \\\\\r\n",
        "0 & \\lambda\r\n",
        "\\end{bmatrix}\r\n",
        "\\right) \r\n",
        "= (2 - \\lambda)^2 - 1 = 0\r\n",
        "\\end{aligned}\r\n",
        "\\end{align}\r\n",
        "\\\\\r\n",
        "= \\lambda^2 - 4\\lambda + 3 = 0\r\n",
        "\\\\\r\n",
        "= (\\lambda - 3)(\\lambda - 1) = 0\r\n",
        "\r\n",
        "$$\r\n",
        "\r\n",
        "\r\n"
      ]
    },
    {
      "cell_type": "markdown",
      "metadata": {
        "id": "9NXaKOc8W9fr"
      },
      "source": [
        "### 3) 고윳값의 개수\r\n",
        "\r\n",
        "- N차방정식이 항상 N개의 복소수 해를 가진다는 사실을 이용하면 N차원 정방행렬의 고윳값의 갯수는 다음과 같음\r\n",
        "\r\n",
        "1. 중복된 고유값을 하나로 생각하고 실수 고윳값만 고려한다면 \r\n",
        "N차원 정방행렬의 고윳값은 0개부터 N개까지 있을 수 있다.\r\n",
        "\r\n",
        "2. 중복된 고윳값을 각각 별개로 생각하고 복소수인 고윳값도 고려한다면 N차원 정방행렬의 고윳값은 항상 N개이다."
      ]
    },
    {
      "cell_type": "markdown",
      "metadata": {
        "id": "xeM00DyOYzHy"
      },
      "source": [
        "### 4) 고윳값과 대각합/행렬식\r\n",
        "\r\n",
        "1. 어떤 행렬의 고윳값이 $\\lambda_1, \\lambda_2, \\cdots, \\lambda_N$이라고 하면 **모든 고윳값의 곱은 행렬식의 값**과 같고 **모든 고윳값의 합은 대각합(trace)의 값**과 같다.\r\n",
        "\r\n",
        "\r\n",
        "$$\r\n",
        "\\begin{align}\r\n",
        "\\det(A)=\\prod_{i=1}^N \\lambda_i\r\n",
        "\\end{align}\r\n",
        "= \\text{모든 고윳값의 곱은 행렬식의 값과 같다.}\r\n",
        "$$ \r\n",
        "\r\n",
        "$$\r\n",
        "\\begin{align}\r\n",
        "\\text{tr}(A) =\\sum_{i=1}^N \\lambda_i\r\n",
        "\\end{align}\r\n",
        "= \\text{모든 고윳값의 합은 대각합(trace)의 값과 같다.}\r\n",
        "$$ \r\n",
        "\r\n",
        "2. 행렬 $A$에 대해서 대각합과 행렬식은 다음과 같다.\r\n",
        "\r\n",
        "$$ A = \\begin{bmatrix} 1 & -2 \\\\ 2 & -3 \\end{bmatrix} $$\r\n",
        "\r\n",
        "$$\r\n",
        "\\begin{align}\r\n",
        "\\text{tr}(A) = 1 + (-3) = -2\r\n",
        "\\end{align}\r\n",
        "$$\r\n",
        "\r\n",
        "$$\r\n",
        "\\begin{align}\r\n",
        "\\text{det}(A) = 1 \\cdot (-3) - 2 \\cdot (-2) = 1\r\n",
        "\\end{align}\r\n",
        "$$\r\n",
        "\r\n",
        "3. 고윳값이 $\\lambda_1=-1$, $\\lambda_2=-1$ (중복된 고윳값)\r\n",
        "\r\n",
        "$$\r\n",
        "\\begin{align}\r\n",
        "\\lambda_1 + \\lambda_2 = -2 = \\text{tr}(A)\r\n",
        "\\end{align}\r\n",
        "$$\r\n",
        "\r\n",
        "$$\r\n",
        "\\begin{align}\r\n",
        "\\lambda_1 \\cdot \\lambda_2 = 1 = \\text{det}(A)\r\n",
        "\\end{align}\r\n",
        "$$"
      ]
    },
    {
      "cell_type": "markdown",
      "metadata": {
        "id": "X8Lp1Zd_oa3F"
      },
      "source": [
        "#### 예제\r\n",
        "\r\n",
        "행렬 $B$에 대해서도 고윳값이 $\\lambda_1=4$, $\\lambda_2=-1$이고\r\n",
        "\r\n",
        "$$ \r\n",
        "\\begin{align}\r\n",
        "B =\r\n",
        "\\begin{bmatrix}\r\n",
        "2 & 3 \\\\\r\n",
        "2 & 1\r\n",
        "\\end{bmatrix}\r\n",
        "\\end{align}\r\n",
        "$$\r\n",
        "\r\n",
        "$$\r\n",
        "\\begin{align}\r\n",
        "\\lambda_1 + \\lambda_2 = 3 = \\text{tr}(B) = 2 + 1 = 3\r\n",
        "\\end{align}\r\n",
        "$$\r\n",
        "\r\n",
        "$$\r\n",
        "\\begin{align}\r\n",
        "\\lambda_1 \\cdot \\lambda_2 = -4 = \\text{det}(B) = 2 \\cdot 1 - 2 \\cdot 3 = -4\r\n",
        "\\end{align}\r\n",
        "$$\r\n",
        "\r\n",
        "가 성립한다.\r\n"
      ]
    },
    {
      "cell_type": "markdown",
      "metadata": {
        "id": "O6zeECeWppi0"
      },
      "source": [
        "### 5) 고유벡터의 계산\r\n",
        "\r\n",
        "1. 고윳값을 알면 고유벡터를 구할 수 있다.\r\n",
        "\r\n",
        "$$\r\n",
        "\\begin{align}\r\n",
        "(A - \\lambda I)v = 0\r\n",
        "\\end{align}\r\n",
        "$$\r\n",
        "\r\n",
        "2. 앞에서 예로든 행렬 $A$의 경우\r\n",
        "$$\r\n",
        "\\begin{align}\r\n",
        "(\\begin{bmatrix} 1 & -2 \\\\ 2 & -3 \\end{bmatrix}-\r\n",
        "\\begin{bmatrix} -1 & 0 \\\\ 0 & -1 \\end{bmatrix})v\r\n",
        "=\r\n",
        "\\begin{bmatrix}\r\n",
        "1+1 & -2 \\\\\r\n",
        "2 & -3+1\r\n",
        "\\end{bmatrix}\r\n",
        "\\begin{bmatrix}\r\n",
        "v_1 \\\\ v_2\r\n",
        "\\end{bmatrix}\r\n",
        "= 0\r\n",
        "\\end{align}\r\n",
        "$$\r\n",
        "\r\n",
        "$$\r\n",
        "\\begin{align}\r\n",
        "\\begin{bmatrix}\r\n",
        "2 & -2 \\\\\r\n",
        "2 & -2\r\n",
        "\\end{bmatrix}\r\n",
        "\\begin{bmatrix}\r\n",
        "v_1 \\\\ v_2\r\n",
        "\\end{bmatrix}\r\n",
        "= 2v_1 - 2v_2 \r\n",
        "= 0\r\n",
        "\\end{align}\r\n",
        "$$\r\n",
        "\r\n",
        "$$\r\n",
        "\\begin{align}\r\n",
        "v_1 = v_2\r\n",
        "\\end{align}\r\n",
        "$$\r\n",
        "\r\n",
        "> 고유 벡터 $$\r\n",
        "\\begin{align}\r\n",
        "v=\\begin{bmatrix} 1 \\\\ 1 \\end{bmatrix}\r\n",
        "\\end{align}\r\n",
        "$$\r\n",
        "\r\n",
        "> 단위 벡터 또는 중복된 고유벡터라고 한다. $$\r\n",
        "\\begin{align}\r\n",
        "v=\\begin{bmatrix} \\dfrac{\\sqrt{2}}{2} \\\\ \\dfrac{\\sqrt{2}}{2} \\end{bmatrix}\r\n",
        "\\end{align}\r\n",
        "$$\r\n"
      ]
    },
    {
      "cell_type": "markdown",
      "metadata": {
        "id": "q7ObG25kvic-"
      },
      "source": [
        "#### 예제\r\n",
        "\r\n",
        "고윳값이 중복되었다고 고유벡터도 항상 중복되는 것은 아니다. 예를 들어 항등행렬 $I$의 고윳값은 1로 중복된 고윳값을 가진다.\r\n",
        "\r\n",
        "$$\r\n",
        "\\begin{align}\r\n",
        "\\det(I - \\lambda I)\r\n",
        "=\r\n",
        "\\det( \\left(\r\n",
        "\\begin{bmatrix}\r\n",
        "1-\\lambda & 0 \\\\\r\n",
        "0 & 1-\\lambda\r\n",
        "\\end{bmatrix}\r\n",
        "\\right)\r\n",
        "=(\\lambda - 1)^2 = 0\r\n",
        "\\end{align}\r\n",
        "$$\r\n",
        "\r\n",
        "하지만 이 값을 고유값과 고유벡터 정의에 대입하면\r\n",
        "\r\n",
        "$$\r\n",
        "\\begin{align}\r\n",
        "\\begin{bmatrix}\r\n",
        "0 & 0 \\\\\r\n",
        "0 & 0\r\n",
        "\\end{bmatrix}\r\n",
        "\\begin{bmatrix}\r\n",
        "v_1 \\\\ v_2\r\n",
        "\\end{bmatrix}\r\n",
        "= 0\r\n",
        "\\end{align}\r\n",
        "$$\r\n",
        "\r\n",
        "으로 임의의 2차원 벡터는 모두 고유벡터가 된다. 즉\r\n",
        "\r\n",
        "$$\r\n",
        "\\begin{align}\r\n",
        "\\begin{bmatrix} 1 \\\\ 0 \\end{bmatrix}, \\;\\;\r\n",
        "\\begin{bmatrix} 0 \\\\ 1 \\end{bmatrix}\r\n",
        "\\end{align}\r\n",
        "$$ \r\n",
        "\r\n",
        "둘 다 고유벡터이다."
      ]
    },
    {
      "cell_type": "markdown",
      "metadata": {
        "id": "8Qg7EGIewHVN"
      },
      "source": [
        "#### 연습 문제 3.3.3\r\n",
        "\r\n",
        "특성방정식을 이용하여 다음 행렬의 고윳값과 고유벡터를 구하라.\r\n",
        "\r\n",
        "(1)\r\n",
        "\r\n",
        "$$\r\n",
        "\\begin{align}\r\n",
        "E=\r\n",
        "\\begin{bmatrix}\r\n",
        "2 & 3 \\\\\r\n",
        "2 & 1\r\n",
        "\\end{bmatrix}\r\n",
        "\\end{align}\r\n",
        "$$\r\n",
        "\r\n",
        "> 답 : 고유값은 4와 -1\r\n",
        "\r\n",
        "$$\r\n",
        "\\begin{align}\r\n",
        "\\det(E - \\lambda I)\r\n",
        "=\r\n",
        "\\det( \\left(\r\n",
        "\\begin{bmatrix}\r\n",
        "2 & 3 \\\\\r\n",
        "2 & 1\r\n",
        "\\end{bmatrix}\r\n",
        "-\r\n",
        "\\begin{bmatrix}\r\n",
        "\\lambda & 0 \\\\\r\n",
        "0 & \\lambda\r\n",
        "\\end{bmatrix}\r\n",
        "\\right)\r\n",
        "= \\det\r\n",
        "\\begin{bmatrix}\r\n",
        "2-\\lambda & 3 \\\\\r\n",
        "2 & 1-\\lambda\r\n",
        "\\end{bmatrix} = 0 \\\\\r\n",
        "\r\n",
        "(2-\\lambda)(1-\\lambda)-6 \r\n",
        "= \\lambda^2 - 3\\lambda -4 = (\\lambda-4)(\\lambda+1)= 0\r\n",
        "\r\n",
        "\\end{align}\r\n",
        "$$\r\n",
        "\r\n",
        "1. 고유 값이 4일 때\r\n",
        "\r\n",
        "$$\r\n",
        "(E - \\lambda I)v = \r\n",
        "\\begin{bmatrix}\r\n",
        "2 - 4 & 3 \\\\\r\n",
        "2 & 1 - 4\r\n",
        "\\end{bmatrix}v =\r\n",
        "\\begin{bmatrix}\r\n",
        "-2 & 3 \\\\\r\n",
        "2 & -3\r\n",
        "\\end{bmatrix}\r\n",
        "\\begin{bmatrix}\r\n",
        "v_{11} \\\\\r\n",
        "v_{12}\r\n",
        "\\end{bmatrix} = 0 \\\\\r\n",
        "-2v_{11} + 3v_{12} = 0 \\\\\r\n",
        "2v_{11} - 3v_{12} = 0 \\\\\r\n",
        "v_{11} = \\dfrac{3}{2}v_{12}\r\n",
        "$$\r\n",
        "\r\n",
        "\r\n",
        "2. 고유 값이 -1일 때\r\n",
        "\r\n",
        "$$\r\n",
        "(E - \\lambda I)v = \r\n",
        "\\begin{bmatrix}\r\n",
        "2 + 1 & 3 \\\\\r\n",
        "2 & 1 + 1\r\n",
        "\\end{bmatrix}v =\r\n",
        "\\begin{bmatrix}\r\n",
        "3 & 3 \\\\\r\n",
        "2 & 2\r\n",
        "\\end{bmatrix}\r\n",
        "\\begin{bmatrix}\r\n",
        "v_{21} \\\\\r\n",
        "v_{22}\r\n",
        "\\end{bmatrix} = 0 \\\\\r\n",
        "3v_{21} + 3v_{22} = 0 \\\\\r\n",
        "2v_{21} - 2v_{22} = 0 \\\\\r\n",
        "v_{21} = -v_{22}\r\n",
        "$$\r\n",
        "\r\n",
        "3. 최종 답\r\n",
        "\r\n",
        "$$ \\lambda_1 = 4, v_1 = \r\n",
        "\\begin{bmatrix}\r\n",
        "\\dfrac{3}{\\sqrt{13}} \\\\\r\n",
        "\\dfrac{2}{\\sqrt{13}}\r\n",
        "\\end{bmatrix} \\\\\r\n",
        "\r\n",
        "\\lambda_2 = -1, v_2 = \r\n",
        "\\begin{bmatrix}\r\n",
        "\\dfrac{-1}{\\sqrt{2}} \\\\\r\n",
        "\\dfrac{1}{\\sqrt{2}}\r\n",
        "\\end{bmatrix}\r\n",
        "$$ \r\n",
        "(2)\r\n",
        "\r\n",
        "$$\r\n",
        "\\begin{align}\r\n",
        "F=\r\n",
        "\\begin{bmatrix}\r\n",
        "1 & 1 \\\\\r\n",
        "0 & 1\r\n",
        "\\end{bmatrix}\r\n",
        "\\end{align}\r\n",
        "$$\r\n",
        "\r\n",
        "\r\n",
        "$$\r\n",
        "\\begin{align}\r\n",
        "\\det(F - \\lambda I)\r\n",
        "=\r\n",
        "\\det( \\left(\r\n",
        "\\begin{bmatrix}\r\n",
        "1 & 1 \\\\\r\n",
        "0 & 1\r\n",
        "\\end{bmatrix}\r\n",
        "-\r\n",
        "\\begin{bmatrix}\r\n",
        "\\lambda & 0 \\\\\r\n",
        "0 & \\lambda\r\n",
        "\\end{bmatrix}\r\n",
        "\\right)\r\n",
        "= \\det\r\n",
        "\\begin{bmatrix}\r\n",
        "1-\\lambda & 1 \\\\\r\n",
        "0 & 1-\\lambda\r\n",
        "\\end{bmatrix} = (1-\\lambda)^2 = 0\r\n",
        "\\end{align}\r\n",
        "$$\r\n",
        "\r\n",
        "1. 고유 값이 1(중복)일 때\r\n",
        "\r\n",
        "$$\r\n",
        "(F - \\lambda I)v = \r\n",
        "\\begin{bmatrix}\r\n",
        "1-1 & 1 \\\\\r\n",
        "0 & 1 - 1\r\n",
        "\\end{bmatrix}v =\r\n",
        "\\begin{bmatrix}\r\n",
        "0& 1 \\\\\r\n",
        "0 & 0\r\n",
        "\\end{bmatrix}\r\n",
        "\\begin{bmatrix}\r\n",
        "v_{11} \\\\\r\n",
        "v_{12}\r\n",
        "\\end{bmatrix} = 0 \\\\\r\n",
        "v_{12} = 0\r\n",
        "$$\r\n",
        "\r\n",
        "2. 최종 답\r\n",
        "\r\n",
        "$$ \\lambda_1 = 1, v_1 = \r\n",
        "\\begin{bmatrix}\r\n",
        "1 \\\\\r\n",
        "0\r\n",
        "\\end{bmatrix} \\\\\r\n",
        "$$\r\n"
      ]
    },
    {
      "cell_type": "markdown",
      "metadata": {
        "id": "ep-hkiz96EKK"
      },
      "source": [
        "#### 연습 문제 3.3.4\r\n",
        "\r\n",
        "중복된 고윳값 $\\lambda$에 대해 서로 다른 고유벡터 $v_1$, $v_2$가 존재하면 이 두 벡터의 선형조합\r\n",
        "\r\n",
        "$$ \r\n",
        "\\begin{align}\r\n",
        "c_1v_1 + c_2v_2\r\n",
        "\\end{align}\r\n",
        "$$\r\n",
        "\r\n",
        "도 고윳값 $\\lambda$에 대한 고유벡터임을 증명하라.\r\n",
        "\r\n",
        "> 답 : 행렬 $A$가 중복된 고윳값 $\\lambda$를 가지고 서로 다른 고유벡터 $v_1, v_2$가 존재하면,\r\n",
        "\r\n",
        "$$ Av_1 = \\lambda v_1, Av_2 = \\lambda v_2 $$\r\n",
        "두 고유벡터의 선형조합 $ c_1 v_1 + c_2 v_2$ 에 대해\r\n",
        "$$A(c_1 v_1 + c_2 v_2) = c_1 Av_1 + c_2 Av_2 = c_1 \\lambda v_1 + c_2 \\lambda v_2 = \\lambda(c_1 v_1 + c_2 v_2)$$ 이므로, 고유값에 대한 고유벡터이다."
      ]
    },
    {
      "cell_type": "code",
      "metadata": {
        "colab": {
          "base_uri": "https://localhost:8080/"
        },
        "id": "rvC3549H2-tS",
        "outputId": "3b590c7b-84f2-4a53-9592-a749f3d3a94f"
      },
      "source": [
        "v = np.array([[2, 3]])\r\n",
        "v_hat = v / np.linalg.norm(v)\r\n",
        "v_hat"
      ],
      "execution_count": 3,
      "outputs": [
        {
          "output_type": "execute_result",
          "data": {
            "text/plain": [
              "array([[0.5547002 , 0.83205029]])"
            ]
          },
          "metadata": {
            "tags": []
          },
          "execution_count": 3
        }
      ]
    },
    {
      "cell_type": "markdown",
      "metadata": {
        "id": "v_3pjEbY7VjB"
      },
      "source": [
        "### 6) 넘파이를 사용한 고유분해\r\n"
      ]
    },
    {
      "cell_type": "code",
      "metadata": {
        "colab": {
          "base_uri": "https://localhost:8080/"
        },
        "id": "O3VRA9Sn7daT",
        "outputId": "962002e6-010a-4314-ff10-9df72d4b6eb5"
      },
      "source": [
        "A = np.array([[1, -2], [2, -3]])\r\n",
        "w1, V1 = np.linalg.eig(A)\r\n",
        "\r\n",
        "print(w1)\r\n",
        "print(V1)"
      ],
      "execution_count": 4,
      "outputs": [
        {
          "output_type": "stream",
          "text": [
            "[-0.99999998 -1.00000002]\n",
            "[[0.70710678 0.70710678]\n",
            " [0.70710678 0.70710678]]\n"
          ],
          "name": "stdout"
        }
      ]
    },
    {
      "cell_type": "code",
      "metadata": {
        "colab": {
          "base_uri": "https://localhost:8080/"
        },
        "id": "anB4pcEj7gKw",
        "outputId": "aa5f0668-d35d-4423-b7ac-e9f2f4f6d9b5"
      },
      "source": [
        "B = np.array([[2, 3], [2, 1]])\r\n",
        "w2, V2 = np.linalg.eig(B)\r\n",
        "\r\n",
        "print(w2)\r\n",
        "print(V2)"
      ],
      "execution_count": 5,
      "outputs": [
        {
          "output_type": "stream",
          "text": [
            "[ 4. -1.]\n",
            "[[ 0.83205029 -0.70710678]\n",
            " [ 0.5547002   0.70710678]]\n"
          ],
          "name": "stdout"
        }
      ]
    },
    {
      "cell_type": "code",
      "metadata": {
        "colab": {
          "base_uri": "https://localhost:8080/"
        },
        "id": "xq0lBlh_7j5W",
        "outputId": "8552c725-bbb0-4ddb-9270-59514f6f0fd2"
      },
      "source": [
        "C = np.array([[0, -1], [1, 0]])\r\n",
        "w3, V3 = np.linalg.eig(C)\r\n",
        "\r\n",
        "print(w3)\r\n",
        "print(V3)"
      ],
      "execution_count": 6,
      "outputs": [
        {
          "output_type": "stream",
          "text": [
            "[0.+1.j 0.-1.j]\n",
            "[[0.70710678+0.j         0.70710678-0.j        ]\n",
            " [0.        -0.70710678j 0.        +0.70710678j]]\n"
          ],
          "name": "stdout"
        }
      ]
    },
    {
      "cell_type": "markdown",
      "metadata": {
        "id": "oOVrdfzW7oUJ"
      },
      "source": [
        "#### 연습 문제 3.3.5\r\n",
        "\r\n",
        "지금까지 연습 문제에 나온 행렬들에 대해 NumPy를 사용하여 고유분해를 하라."
      ]
    },
    {
      "cell_type": "code",
      "metadata": {
        "colab": {
          "base_uri": "https://localhost:8080/"
        },
        "id": "65u08BTQ7t1n",
        "outputId": "f96c5d6a-e43b-4fcc-efcc-ac89a5b368f5"
      },
      "source": [
        "A = np.array([[2, 1], [1, 2]])\r\n",
        "w1, V1 = np.linalg.eig(A)\r\n",
        "\r\n",
        "print(w1)\r\n",
        "print(V1)\r\n",
        "\r\n",
        "B = np.array([[2, 3], [2, 1]])\r\n",
        "w1, V1 = np.linalg.eig(B)\r\n",
        "\r\n",
        "print(w1)\r\n",
        "print(V1)\r\n",
        "\r\n",
        "C = np.array([[1, 1], [0, 1]])\r\n",
        "w1, V1 = np.linalg.eig(C)\r\n",
        "\r\n",
        "print(w1)\r\n",
        "print(V1)\r\n",
        "\r\n",
        "D = np.array([[2, 1], [1, 2]])\r\n",
        "w1, V1 = np.linalg.eig(D)\r\n",
        "\r\n",
        "print(w1)\r\n",
        "print(V1)\r\n",
        "\r\n",
        "E = np.array([[2, 3], [2, 1]])\r\n",
        "w1, V1 = np.linalg.eig(E)\r\n",
        "\r\n",
        "print(w1)\r\n",
        "print(V1)\r\n",
        "\r\n",
        "F = np.array([[1, 1], [0, 1]])\r\n",
        "w1, V1 = np.linalg.eig(F)\r\n",
        "\r\n",
        "print(w1)\r\n",
        "print(V1)"
      ],
      "execution_count": 7,
      "outputs": [
        {
          "output_type": "stream",
          "text": [
            "[3. 1.]\n",
            "[[ 0.70710678 -0.70710678]\n",
            " [ 0.70710678  0.70710678]]\n",
            "[ 4. -1.]\n",
            "[[ 0.83205029 -0.70710678]\n",
            " [ 0.5547002   0.70710678]]\n",
            "[1. 1.]\n",
            "[[ 1.00000000e+00 -1.00000000e+00]\n",
            " [ 0.00000000e+00  2.22044605e-16]]\n",
            "[3. 1.]\n",
            "[[ 0.70710678 -0.70710678]\n",
            " [ 0.70710678  0.70710678]]\n",
            "[ 4. -1.]\n",
            "[[ 0.83205029 -0.70710678]\n",
            " [ 0.5547002   0.70710678]]\n",
            "[1. 1.]\n",
            "[[ 1.00000000e+00 -1.00000000e+00]\n",
            " [ 0.00000000e+00  2.22044605e-16]]\n"
          ],
          "name": "stdout"
        }
      ]
    },
    {
      "cell_type": "markdown",
      "metadata": {
        "id": "DHaFcuQKHcwY"
      },
      "source": [
        "### 7) 대각화\r\n",
        "\r\n",
        "- $N$ 차원의 정방 행렬 $A$가 $N$개의 복소수 고윳값과 이에 대응하는 고유벡터를 가진다는 성질을 이용하면 다음처럼 행렬을 분해할 수 있다.  \r\n",
        "\r\n",
        "1. 행렬 $A$의 고윳값과 이에 대응하는 단위벡터인 고유벡터가 아래와 같다면\r\n",
        "> 고유 값 : $\\lambda_1, \\lambda_2, \\cdots, \\lambda_N$   \r\n",
        "> 고유 벡터 : $ v_1, v_2, \\cdots, v_N  $\r\n",
        "\r\n",
        "2. 고윳값과 고유벡터를 묶어서 아래와 같이 고유벡터 행렬, 고윳값 행렬을 정의\r\n",
        " - 고유벡터행렬 $V$ : 고유벡터를 열벡터로 옆으로 쌓아서 만든 행렬\r\n",
        "$$\r\n",
        "\\begin{align}\r\n",
        "V = \\left[ v_1 \\cdots v_N \\right] \\;\\;, V \\in \\mathbf{R}^{N \\times N}\r\n",
        "\\end{align}\r\n",
        "$$\r\n",
        " - 고윳값행렬 $\\Lambda$ : 고윳값을 대각성분으로 가지는 대각행렬\r\n",
        "$$\r\n",
        "\\begin{align}\r\n",
        "\\Lambda =\r\n",
        "\\begin{bmatrix}\r\n",
        "\\lambda_{1} & 0 & \\cdots & 0 \\\\\r\n",
        "0 & \\lambda_{2} & \\cdots & 0 \\\\\r\n",
        "\\vdots & \\vdots & \\ddots & \\vdots \\\\\r\n",
        "0 & 0 & \\cdots & \\lambda_{N} \\\\\r\n",
        "\\end{bmatrix}\r\n",
        "\\;\\;, \\Lambda \\in \\mathbf{R}^{N \\times N}\r\n",
        "\\end{align}\r\n",
        "$$\r\n",
        "\r\n",
        "3. 행렬과 고유벡터행렬의 곱은 고유벡터행렬과 고윳값행렬의 곱과 같다. $AV = V\\Lambda$\r\n",
        "\r\n",
        "$$ \r\n",
        "\\begin{align}\r\n",
        "\\begin{aligned}\r\n",
        "AV \r\n",
        "&= A \\left[ v_1 \\cdots v_N \\right] \\\\\r\n",
        "&= \\left[ A v_1 \\cdots A v_N \\right] \\\\\r\n",
        "&= \\left[ \\lambda_1 v_1 \\cdots \\lambda_N v_N \\right] \\\\\r\n",
        "&= \\left[ v_1 \\cdots v_N \\right] \r\n",
        "\\begin{bmatrix}\r\n",
        "\\lambda_{1} & 0 & \\cdots & 0 \\\\\r\n",
        "0 & \\lambda_{2} & \\cdots & 0 \\\\\r\n",
        "\\vdots & \\vdots & \\ddots & \\vdots \\\\\r\n",
        "0 & 0 & \\cdots & \\lambda_{N} \\\\\r\n",
        "\\end{bmatrix}\r\n",
        "\\\\\r\n",
        "&= V\\Lambda\r\n",
        "\\end{aligned}\r\n",
        "\\end{align}\r\n",
        "$$\r\n",
        "\r\n",
        "4. 행렬의 대각화(diagonalization) : 고유벡터행렬 $V$의 역행렬이 존재한다면, 행렬을 다음처럼 고유벡터행렬과 고윳값행렬의 곱으로 표현할 수 있다.\r\n",
        "\r\n",
        "$$ \r\n",
        "\\begin{align}\r\n",
        "A = V \\Lambda V^{-1} \r\n",
        "\\end{align}\r\n",
        "$$\r\n",
        "\r\n",
        "5. ex) 행렬 $B$를 대각화하면 다음과 같다.\r\n",
        "\r\n",
        "$$\r\n",
        "\\begin{align}\r\n",
        "V = \r\n",
        "\\begin{bmatrix}\r\n",
        "\\dfrac{3}{\\sqrt{13}} & -\\dfrac{1}{\\sqrt{2}} \\\\\r\n",
        "\\dfrac{2}{\\sqrt{13}} &  \\dfrac{1}{\\sqrt{2}}\r\n",
        "\\end{bmatrix}\r\n",
        " \\;, \\;\r\n",
        "V^{-1} = \r\n",
        "\\dfrac{1}{5}\r\n",
        "\\begin{bmatrix}\r\n",
        "\\sqrt{13} & \\sqrt{13} \\\\\r\n",
        "-2\\sqrt{2} & 3\\sqrt{2}\r\n",
        "\\end{bmatrix}\r\n",
        "\\;, \\;\r\n",
        "\\Lambda = \r\n",
        "\\begin{bmatrix}\r\n",
        "4 & 0 \\\\\r\n",
        "0 & -1\r\n",
        "\\end{bmatrix}\r\n",
        "\\end{align}\r\n",
        "$$\r\n",
        "\r\n",
        "\r\n",
        "$$\r\n",
        "\\begin{align}\r\n",
        "B=\r\n",
        "\\begin{bmatrix}\r\n",
        "2 & 3 \\\\\r\n",
        "2 & 1\r\n",
        "\\end{bmatrix}\r\n",
        "= \r\n",
        "V\\Lambda V^{-1} \r\n",
        "= \\dfrac{1}{5}\r\n",
        "\\begin{bmatrix}\r\n",
        "\\dfrac{3}{\\sqrt{13}} & -\\dfrac{1}{\\sqrt{2}} \\\\\r\n",
        "\\dfrac{2}{\\sqrt{13}} &  \\dfrac{1}{\\sqrt{2}}\r\n",
        "\\end{bmatrix}\r\n",
        "\\begin{bmatrix}\r\n",
        "4 & 0 \\\\\r\n",
        "0 & -1\r\n",
        "\\end{bmatrix}\r\n",
        "\\begin{bmatrix}\r\n",
        "\\sqrt{13} & \\sqrt{13} \\\\\r\n",
        "-2\\sqrt{2} & 3\\sqrt{2}\r\n",
        "\\end{bmatrix}\r\n",
        "\\end{align}\r\n",
        "$$\r\n",
        "\r\n",
        "NumPy을 이용하여 위 식을 계산하면 좌변과 우변이 같음을 확인할 수 있다.\r\n"
      ]
    },
    {
      "cell_type": "code",
      "metadata": {
        "colab": {
          "base_uri": "https://localhost:8080/"
        },
        "id": "7vXVJrKoLECY",
        "outputId": "5af5af9b-114c-40e3-e42b-3c8448964eea"
      },
      "source": [
        "V2"
      ],
      "execution_count": 8,
      "outputs": [
        {
          "output_type": "execute_result",
          "data": {
            "text/plain": [
              "array([[ 0.83205029, -0.70710678],\n",
              "       [ 0.5547002 ,  0.70710678]])"
            ]
          },
          "metadata": {
            "tags": []
          },
          "execution_count": 8
        }
      ]
    },
    {
      "cell_type": "code",
      "metadata": {
        "colab": {
          "base_uri": "https://localhost:8080/"
        },
        "id": "N_E_8fEFLWWy",
        "outputId": "bb6a6078-1738-4178-aa79-934fafc7df52"
      },
      "source": [
        "V2_inv = np.linalg.inv(V2)\r\n",
        "V2_inv"
      ],
      "execution_count": 9,
      "outputs": [
        {
          "output_type": "execute_result",
          "data": {
            "text/plain": [
              "array([[ 0.72111026,  0.72111026],\n",
              "       [-0.56568542,  0.84852814]])"
            ]
          },
          "metadata": {
            "tags": []
          },
          "execution_count": 9
        }
      ]
    },
    {
      "cell_type": "code",
      "metadata": {
        "colab": {
          "base_uri": "https://localhost:8080/"
        },
        "id": "RJIiKkSdLXhk",
        "outputId": "468031e7-5061-4b8f-d258-375cc2a92ffa"
      },
      "source": [
        "V2 @ np.diag(w2) @ V2_inv # drag = 대각 행렬로 바꿔줌"
      ],
      "execution_count": 10,
      "outputs": [
        {
          "output_type": "execute_result",
          "data": {
            "text/plain": [
              "array([[2., 3.],\n",
              "       [2., 1.]])"
            ]
          },
          "metadata": {
            "tags": []
          },
          "execution_count": 10
        }
      ]
    },
    {
      "cell_type": "markdown",
      "metadata": {
        "id": "IDXHyHNZLyTK"
      },
      "source": [
        "#### 연습 문제 3.3.6\r\n",
        "\r\n",
        "다음 행렬을 고윳값과 고유벡터로 대각화하라.\r\n",
        "\r\n",
        "$$ \r\n",
        "\\begin{align}\r\n",
        "\\begin{bmatrix}\r\n",
        "2 & 3 \\\\\r\n",
        "2 & 1\r\n",
        "\\end{bmatrix}\r\n",
        "\\end{align}\r\n",
        "$$"
      ]
    },
    {
      "cell_type": "code",
      "metadata": {
        "colab": {
          "base_uri": "https://localhost:8080/"
        },
        "id": "icHzXNqkL1Ae",
        "outputId": "d7c892f3-f0a1-440d-93f5-0a1cbb3fe9a3"
      },
      "source": [
        "A = np.array([[2, 3], [2, 1]])\r\n",
        "w1, V1 = np.linalg.eig(A)\r\n",
        "\r\n",
        "print(w1) # 고유 값\r\n",
        "print(V1) # 고유 벡터\r\n",
        "\r\n",
        "print(np.diag(w1))\r\n",
        "\r\n",
        "V1_inv = np.linalg.inv(V1)\r\n",
        "print(V1_inv)\r\n",
        "\r\n",
        "V1 @ np.diag(w1) @ V1_inv "
      ],
      "execution_count": 11,
      "outputs": [
        {
          "output_type": "stream",
          "text": [
            "[ 4. -1.]\n",
            "[[ 0.83205029 -0.70710678]\n",
            " [ 0.5547002   0.70710678]]\n",
            "[[ 4.  0.]\n",
            " [ 0. -1.]]\n",
            "[[ 0.72111026  0.72111026]\n",
            " [-0.56568542  0.84852814]]\n"
          ],
          "name": "stdout"
        },
        {
          "output_type": "execute_result",
          "data": {
            "text/plain": [
              "array([[2., 3.],\n",
              "       [2., 1.]])"
            ]
          },
          "metadata": {
            "tags": []
          },
          "execution_count": 11
        }
      ]
    },
    {
      "cell_type": "markdown",
      "metadata": {
        "id": "atdWVkF3Mwu0"
      },
      "source": [
        "#### 연습 문제 3.3.7\r\n",
        "\r\n",
        "다음 행렬은 고윳값과 고유벡터로 대각화 가능한가?\r\n",
        "\r\n",
        "$$ \r\n",
        "\\begin{align}\r\n",
        "\\begin{bmatrix}\r\n",
        "1 & 1 \\\\\r\n",
        "0 & 1\r\n",
        "\\end{bmatrix}\r\n",
        "\\end{align}\r\n",
        "$$\r\n",
        "\r\n",
        "> 답 : Lank 1 = 역행렬 x = 대각화 할 수 없다."
      ]
    },
    {
      "cell_type": "code",
      "metadata": {
        "colab": {
          "base_uri": "https://localhost:8080/"
        },
        "id": "a9lVlrsUMy-2",
        "outputId": "0fdb674c-b911-493d-9d7a-d1c3d15e3d0e"
      },
      "source": [
        "A = np.array([[1, 1], [0, 1]])\r\n",
        "w1, V1 = np.linalg.eig(A)\r\n",
        "print(w1)\r\n",
        "print(np.linalg.matrix_rank(V1))"
      ],
      "execution_count": 12,
      "outputs": [
        {
          "output_type": "stream",
          "text": [
            "[1. 1.]\n",
            "1\n"
          ],
          "name": "stdout"
        }
      ]
    },
    {
      "cell_type": "markdown",
      "metadata": {
        "id": "ycPgNmCRky_r"
      },
      "source": [
        "### 8) 대각화가능\r\n",
        "\r\n",
        "-  행렬이 대각화가능하려면 고유벡터가 선형독립이어야 함(= 고유벡터행렬 V에 역행렬이 존재)"
      ]
    },
    {
      "cell_type": "markdown",
      "metadata": {
        "id": "6fmYj3QUlN8q"
      },
      "source": [
        "### 9) 고윳값과 역행렬\r\n",
        "\r\n",
        "1. 대각화가능한 행렬에 0인 고윳값이 없으면 항상 역행렬이 존재함\r\n",
        "2. 증명\r\n",
        " - 대각화가능 행렬 : $ \\quad A = V \\Lambda V^{-1} $\r\n",
        " - A 의 역행렬: $\\quad A^{-1} = (V \\Lambda V^{-1})^{-1} = V \\Lambda^{-1} V^{-1}$\r\n",
        " - 대각행렬의 역행렬은 각 대각성분의 역수로 이루어진 대각행렬이므로 0인 고윳값이 없으면 항상 역행렬이 존재함"
      ]
    },
    {
      "cell_type": "markdown",
      "metadata": {
        "id": "r4JXZhYSqk2w"
      },
      "source": [
        "#### 연습 문제 3.3.8\r\n",
        "\r\n",
        "다음 행렬\r\n",
        "\r\n",
        "$$ \r\n",
        "\\begin{align}\r\n",
        "\\begin{bmatrix}\r\n",
        "2 & 3 \\\\\r\n",
        "2 & 1\r\n",
        "\\end{bmatrix}\r\n",
        "\\end{align}\r\n",
        "$$\r\n",
        "\r\n",
        "의 고윳값과 고유벡터는 다음과 같다. 이 정보를 이용하여 역행렬을 계산하라.\r\n",
        "\r\n",
        "$$ \r\n",
        "\\begin{align}\r\n",
        "\\lambda_1 = 4, \\;\\;\r\n",
        "v_1 = \r\n",
        "\\begin{bmatrix}\r\n",
        "\\dfrac{3}{\\sqrt{13}} \\\\\r\n",
        "\\dfrac{2}{\\sqrt{13}}\r\n",
        "\\end{bmatrix} , \\;\\;\r\n",
        "\r\n",
        "\\lambda_2 = -1, \\;\\;\r\n",
        "v_2 = \\begin{bmatrix}\r\n",
        "-\\dfrac{1}{\\sqrt{2}} \\\\\r\n",
        "\\dfrac{1}{\\sqrt{2}}\r\n",
        "\\end{bmatrix}\r\n",
        "\r\n",
        "\\end{align}\r\n",
        "$$\r\n",
        "\r\n",
        "> 답 : $\\quad A^{-1} =  V \\Lambda^{-1} V^{-1}$\r\n",
        "$$\r\n",
        "\\Lambda^{-1} = \r\n",
        "\\begin{bmatrix}\r\n",
        "\\dfrac{1}{4} & 0 \\\\\r\n",
        "0 & -1\r\n",
        "\\end{bmatrix}\r\n",
        "\r\n",
        "$$\r\n",
        "\r\n",
        "$$ \r\n",
        "\\begin{align}\r\n",
        "\\begin{bmatrix}\r\n",
        "2 & 3 \\\\\r\n",
        "2 & 1\r\n",
        "\\end{bmatrix}^{-1} =\r\n",
        "\\begin{bmatrix}\r\n",
        "\\dfrac{3}{\\sqrt{13}} & -\\dfrac{1}{\\sqrt{2}} \\\\\r\n",
        "\\dfrac{2}{\\sqrt{13}} & \\dfrac{1}{\\sqrt{2}}\r\n",
        "\\end{bmatrix}\r\n",
        "\\begin{bmatrix}\r\n",
        "\\dfrac{1}{4} & 0 \\\\\r\n",
        "0 & -1\r\n",
        "\\end{bmatrix}\r\n",
        "\\end{align}\r\n",
        "\\begin{bmatrix}\r\n",
        "\\dfrac{\\sqrt{13}}{5} & \\dfrac{\\sqrt{13}}{5} \\\\\r\n",
        "-\\dfrac{2\\sqrt{2}}{5} & \\dfrac{3\\sqrt{2}}{5} \\end{bmatrix}\r\n",
        " =\r\n",
        "\\begin{bmatrix}\r\n",
        "-\\dfrac{1}{4} & \\dfrac{3}{4}  \\\\\r\n",
        "\\dfrac{1}{2} & -\\dfrac{1}{2}\r\n",
        "\\end{bmatrix}\r\n",
        "$$"
      ]
    },
    {
      "cell_type": "code",
      "metadata": {
        "colab": {
          "base_uri": "https://localhost:8080/"
        },
        "id": "_Zv3O-CctGIi",
        "outputId": "d47cb9b4-8218-4c95-fbbb-2f9512ea3139"
      },
      "source": [
        "A = np.array([[2, 3], [2, 1]])\r\n",
        "\r\n",
        "w, V = np.linalg.eig(A)\r\n",
        "Vinv = np.linalg.inv(V)\r\n",
        "V @ np.diag(1/w) @ Vinv"
      ],
      "execution_count": 23,
      "outputs": [
        {
          "output_type": "execute_result",
          "data": {
            "text/plain": [
              "array([[-0.25,  0.75],\n",
              "       [ 0.5 , -0.5 ]])"
            ]
          },
          "metadata": {
            "tags": []
          },
          "execution_count": 23
        }
      ]
    },
    {
      "cell_type": "code",
      "metadata": {
        "colab": {
          "base_uri": "https://localhost:8080/"
        },
        "id": "GhqEytBku-jI",
        "outputId": "0962e734-2b84-4174-b74c-9a6586b56018"
      },
      "source": [
        "np.linalg.inv(A)"
      ],
      "execution_count": 24,
      "outputs": [
        {
          "output_type": "execute_result",
          "data": {
            "text/plain": [
              "array([[-0.25,  0.75],\n",
              "       [ 0.5 , -0.5 ]])"
            ]
          },
          "metadata": {
            "tags": []
          },
          "execution_count": 24
        }
      ]
    },
    {
      "cell_type": "markdown",
      "metadata": {
        "id": "tgRFFqHZllOw"
      },
      "source": [
        "### 10) 대칭행렬의 고유분해\r\n",
        "1. 행렬 $A$가 실수인 대칭행렬이면 고윳값이 실수이고 고유벡터는 직교(orthogonal)한다.\r\n",
        "2. 만약 고유벡터가 크기가 1이 되도록 정규화된 상태라면 고유벡터 행렬 V는 다음과 같이 전치 행렬이 역행렬이다.\r\n",
        "$$ V^TV = VV^T = I $$\r\n",
        "$$ V^{-1} = V^T $$\r\n",
        "$$ A = V \\Lambda V^T$$\r\n",
        "3. 결론 : 실수인 대칭행렬은 항상 대각화가능\r\n",
        "\r\n",
        "\r\n"
      ]
    },
    {
      "cell_type": "markdown",
      "metadata": {
        "id": "2eOFs128l7Xi"
      },
      "source": [
        "### 11) 대칭행렬을 랭크-1 행렬의 합으로 분해\r\n",
        "1. $N$차원 대칭행렬 $A$는 다음처럼 N개의 랭크-1 행렬 $A_i=v_iv^T_i$의 합으로 표시할 수 있음\r\n",
        "\r\n",
        "$$\\begin{align} A & = V \\Lambda V^T \\\\ & = \\begin{bmatrix} v_1 & v_2 & \\cdots & v_N  \\end{bmatrix} \\begin{bmatrix} \\lambda_1 & 0 & \\cdots & 0 \\\\ 0 & \\lambda_2 & \\cdots & 0 \\\\ \\\\ \\vdots & \\vdots & \\ddots & \\vdots \\\\ \\\\ 0 & 0 & \\cdots & \\lambda_N \\end{bmatrix} \\begin{bmatrix} v_1^T \\\\ v_2^T \\\\ \\vdots \\\\ v_N^T \\end{bmatrix} \\\\ & = \\begin{bmatrix} \\lambda_1 v_1 & \\lambda_2 v_2 & \\cdots & \\lambda_N v_N  \\end{bmatrix} \\begin{bmatrix} v_1^T \\\\ v_2^T \\\\ \\vdots \\\\ v_N^T \\end{bmatrix} \\\\ & = \\sum_{i=1}^N \\lambda_i v_i v_i^T \\\\ & = \\sum_{i=1}^N \\lambda_i A_i \\\\ & = \\lambda_1 A_1 + \\cdots + \\lambda_N A_N \\\\ \\end{align}$$\r\n",
        "\r\n",
        "2. ex) 대칭행렬\r\n",
        "\r\n",
        "$$ \r\n",
        "\\begin{align}\r\n",
        "\\begin{bmatrix}\r\n",
        "60 & 30 & 20 \\\\\r\n",
        "30 & 20 & 15 \\\\\r\n",
        "20 & 15 & 12 \\\\\r\n",
        "\\end{bmatrix}\r\n",
        "\\end{align}\r\n",
        "$$\r\n",
        "\r\n",
        "\r\n",
        "2. 만약 0인 고윳값이 없다면 역행렬도 아래처럼 표시할 수 있음\r\n",
        "$$\r\n",
        "A^{-1} = V \\Lambda^{-1}V^T = \\sum_{i=1}^N \\dfrac{1}{\\lambda_i}v_iv_i^T = \\dfrac{1}{\\lambda_1}A_! + \\cdots + \\dfrac{1}{\\lambda_N}A_N\r\n",
        "$$"
      ]
    },
    {
      "cell_type": "code",
      "metadata": {
        "colab": {
          "base_uri": "https://localhost:8080/"
        },
        "id": "Ic-pGdsNvlgR",
        "outputId": "7512cc19-3411-4c85-e876-eb6336dac0b4"
      },
      "source": [
        "A = np.array([[60., 30., 20.],\r\n",
        "              [30., 20., 15.],\r\n",
        "              [20., 15., 12.]])\r\n",
        "\r\n",
        "w, V = np.linalg.eig(A)\r\n",
        "w1, w2, w3 = w\r\n",
        "v1 = V[:, 0:1]\r\n",
        "v2 = V[:, 1:2]\r\n",
        "v3 = V[:, 2:3]\r\n",
        "A1 = v1 @ v1.T\r\n",
        "A2 = v2 @ v2.T\r\n",
        "A3 = v3 @ v3.T\r\n",
        "\r\n",
        "print(w)\r\n",
        "print(w1 * A1)\r\n",
        "print(w2 * A2)\r\n",
        "print(w3 * A3)\r\n",
        "print(w1 * A1 + w2 * A2 + w3 * A3)"
      ],
      "execution_count": 29,
      "outputs": [
        {
          "output_type": "stream",
          "text": [
            "[84.49913563  7.33962395  0.16124042]\n",
            "[[57.79768857 32.13739648 22.59357583]\n",
            " [32.13739648 17.8694387  12.56276371]\n",
            " [22.59357583 12.56276371  8.83200836]]\n",
            "[[ 2.19968372 -2.12270483 -2.60775134]\n",
            " [-2.12270483  2.04841985  2.51649195]\n",
            " [-2.60775134  2.51649195  3.09152039]]\n",
            "[[ 0.00262772 -0.01469165  0.01417551]\n",
            " [-0.01469165  0.08214145 -0.07925566]\n",
            " [ 0.01417551 -0.07925566  0.07647125]]\n",
            "[[60. 30. 20.]\n",
            " [30. 20. 15.]\n",
            " [20. 15. 12.]]\n"
          ],
          "name": "stdout"
        }
      ]
    },
    {
      "cell_type": "code",
      "metadata": {
        "colab": {
          "base_uri": "https://localhost:8080/"
        },
        "id": "fZv_GjyMv81-",
        "outputId": "b57503d5-ad8b-42ff-adae-20ed0b30b42f"
      },
      "source": [
        "print(np.linalg.inv(A))\r\n",
        "print(1/ w2 * A1)\r\n",
        "print(1/ w2 * A2)\r\n",
        "print(1/ w3 * A3)\r\n",
        "print(1/ w1 * A1 + 1 / w2 * A2 + 1 / w3 * A3)"
      ],
      "execution_count": 32,
      "outputs": [
        {
          "output_type": "stream",
          "text": [
            "[[ 0.15 -0.6   0.5 ]\n",
            " [-0.6   3.2  -3.  ]\n",
            " [ 0.5  -3.    3.  ]]\n",
            "[[0.09319324 0.05181847 0.03642998]\n",
            " [0.05181847 0.02881276 0.02025625]\n",
            " [0.03642998 0.02025625 0.01424077]]\n",
            "[[ 0.04083313 -0.03940415 -0.04840816]\n",
            " [-0.03940415  0.03802519  0.04671409]\n",
            " [-0.04840816  0.04671409  0.05738845]]\n",
            "[[ 0.10107208 -0.56509682  0.54524384]\n",
            " [-0.56509682  3.15947213 -3.04847356]\n",
            " [ 0.54524384 -3.04847356  2.94137459]]\n",
            "[[ 0.15 -0.6   0.5 ]\n",
            " [-0.6   3.2  -3.  ]\n",
            " [ 0.5  -3.    3.  ]]\n"
          ],
          "name": "stdout"
        }
      ]
    },
    {
      "cell_type": "markdown",
      "metadata": {
        "id": "Jaib5003mZN6"
      },
      "source": [
        "### 12) 대칭행렬의 고윳값 부호\r\n",
        "1. 대칭행렬을 랭크-1 행렬의 합으로 분해할 때 각 요소는 모두 단위벡터인 고유벡터로 만들어진 행렬이므로 행렬의 놈이 1이 됨\r\n",
        "2. 하지만 고윳값은 크기가 다양하게 나타날 수 있음\r\n",
        "3. 따라서 고윳값이 작은 항을 몇 개 생략해도 원래의 행렬과 큰 차이가 나지 않을 것\r\n",
        "\r\n",
        "$$ \\begin{align} A & = \\lambda_1A_1 + \\cdots + \\lambda_NA_N \\; (\\lambda_1 > \\cdots > \\lambda_N) \\\\ & \\approx \\lambda_1A_1 + \\cdots + \\lambda_MA_M \\; (N > M) \\end{align} $$"
      ]
    },
    {
      "cell_type": "markdown",
      "metadata": {
        "id": "Uel-5zjummAG"
      },
      "source": [
        "![image.png](data:image/png;base64,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)"
      ]
    },
    {
      "cell_type": "markdown",
      "metadata": {
        "id": "L96Z_0lBmpSH"
      },
      "source": [
        "출처 : https://hyeshinoh.github.io/2018/12/02/math-lin_alg-022/"
      ]
    },
    {
      "cell_type": "markdown",
      "metadata": {
        "id": "dPiUe5RSxHxf"
      },
      "source": [
        "### 13) 분산행렬\r\n",
        "\r\n",
        "1. 분산행렬(scatter matrix) : 임의의 실수 행렬 $X$에 대해 $X^TX$인 정방행렬\r\n",
        "> 정리 : 분산행렬은 양의 준정부호(positive semidefinite)이고 고윳값은 0보다 같거나 크다. = 음수인 고윳값 없음\r\n",
        "\r\n",
        "2. 임의의 영벡터가 아닌 벡터 $x$에 대해 분산행렬에 대한 이차형식을 구하면\r\n",
        "\r\n",
        "$$ \r\n",
        "\\begin{align}\r\n",
        "x^T(X^TX)x = (Xx)^T(Xx) = u^Tu \\geq 0 \r\n",
        "\\end{align}\r\n",
        "$$\r\n",
        "\r\n",
        " - 분산행렬에 대한 이차형식은 어떤 벡터 u의 제곱합이 됨\r\n",
        " - 따라서 0 또는 양수인 고윳값만 가짐"
      ]
    },
    {
      "cell_type": "markdown",
      "metadata": {
        "id": "Secp6bC_yNTo"
      },
      "source": [
        "#### 연습 문제 3.3.9\r\n",
        "\r\n",
        "(1) 붓꽃(Iris) 특징데이터 행렬 $X$의 분산행렬을 구하고 이 분산행렬의 고윳값들을 구하라.\r\n",
        "\r\n",
        "(2) 보스턴 집값(Boston House Price) 특징데이터 행렬 $X$의 분산행렬을 구하고 이 분산행렬의 고윳값들을 구하라."
      ]
    },
    {
      "cell_type": "code",
      "metadata": {
        "colab": {
          "base_uri": "https://localhost:8080/"
        },
        "id": "xcP9mnRBySHF",
        "outputId": "7816978b-b268-4d4d-bbda-5c0c36fc56fd"
      },
      "source": [
        "from sklearn.datasets import load_iris\r\n",
        "iris = load_iris()\r\n",
        "X = iris.data\r\n",
        "\r\n",
        "COV = X.T @ X # 분산행렬\r\n",
        "w, V = np.linalg.eig(COV)\r\n",
        "w"
      ],
      "execution_count": 34,
      "outputs": [
        {
          "output_type": "execute_result",
          "data": {
            "text/plain": [
              "array([9.20830507e+03, 3.15454317e+02, 1.19780429e+01, 3.55257020e+00])"
            ]
          },
          "metadata": {
            "tags": []
          },
          "execution_count": 34
        }
      ]
    },
    {
      "cell_type": "code",
      "metadata": {
        "colab": {
          "base_uri": "https://localhost:8080/"
        },
        "id": "6rRzJ_zJyy5v",
        "outputId": "43273dea-a765-4868-8372-ad4b650c895f"
      },
      "source": [
        "from sklearn.datasets import load_boston\r\n",
        "boston = load_boston()\r\n",
        "X = boston.data\r\n",
        "\r\n",
        "COV = X.T @ X # 분산행렬\r\n",
        "w, V = np.linalg.eig(COV)\r\n",
        "w"
      ],
      "execution_count": 35,
      "outputs": [
        {
          "output_type": "execute_result",
          "data": {
            "text/plain": [
              "array([1.58386796e+08, 1.18747372e+07, 4.17002244e+05, 1.61644573e+05,\n",
              "       2.52697480e+04, 1.47629635e+04, 8.18396001e+03, 6.07326738e+03,\n",
              "       4.23577535e+03, 6.06399504e+02, 3.27412564e+02, 3.04157837e+01,\n",
              "       2.19326965e+00])"
            ]
          },
          "metadata": {
            "tags": []
          },
          "execution_count": 35
        }
      ]
    },
    {
      "cell_type": "markdown",
      "metadata": {
        "id": "GPo6Od5azmrJ"
      },
      "source": [
        "#### 연습 문제 3.3.10\r\n",
        "\r\n",
        "(1) 양의 정부호인 대칭행렬은 항상 역행렬이 존재하는가?\r\n",
        "\r\n",
        "> 답 : 그렇다. 역행렬이 존재하지 않는 경우는 행력식이 0일 때 이다. 그러나 양의 정부오의 대칭행렬을 양의 고윳값만 가지고 모든 고윳값의 곱이 행렬식이기 때문에, 양의 정부호인 대칭행렬은 항상 역행렬이 존재한다.\r\n",
        "\r\n",
        "(2) 역으로 역행렬이 존재하는 대칭행렬은 항상 양의 정부호인가?\r\n",
        "\r\n",
        "> 답 : 아니다. 행렬식이 음수라도 역행렬이 존재한다. 행렬식이 음수라는 것은 고윳값 중에 음수가 하나 이상 포함되어 있다는 뜻이고, 모든 고윳값이 양수가 아니면 양의 정부호가 아니다.\r\n"
      ]
    },
    {
      "cell_type": "markdown",
      "metadata": {
        "id": "4xYPhf-rzAiI"
      },
      "source": [
        "### 14) 분산행렬의 역행렬\r\n",
        "\r\n",
        "1. 분산행렬에서의 성질 : 행렬 $X$가 풀랭크이면, 행렬의 공분산 행렬 $X^TX$의 역행렬이 존재한다.\r\n",
        "\r\n",
        "$$ v^T(X^TX)v = (Xv)^T(Xv) = u^Tu > 0 $$\r\n",
        "\r\n",
        " - 분산행렬은 양의 정부호이고 역행렬이 존재한다."
      ]
    },
    {
      "cell_type": "markdown",
      "metadata": {
        "id": "x-WQ4e300Ngh"
      },
      "source": [
        "### 15) 고유분해의 성질 요약\r\n",
        "\r\n",
        "$N$차원 정방행렬 $A$에 대해 \r\n",
        "\r\n",
        "1. 행렬 $A$는 $N$개의 고윳값-고유벡터를 가진다(복소수인 경우와 중복인 경우를 포함).\r\n",
        "2. 행렬의 **대각합은 모든 고윳값의 합**과 같다.\r\n",
        "3. 행렬의 **행렬식은 모든 고윳값의 곱**과 같다.\r\n",
        "4. 행렬 $A$가 **대칭행렬**이면 $N$개의 **실수 고윳값**을 가지며 고유벡터들이 서로 **직교(orthogonal)**이다.\r\n",
        "5. 행렬 $A$가 **대칭행렬**이고 고윳값이 모두 **양수**이면 **양의 정부호(positive-definite)이고 역행렬이 존재한다**. 역도 성립한다.\r\n",
        "6. 행렬 $A$가 어떤 행렬 $X$의 **분산행렬** $X^TX$이면 **0 또는 양의 고윳값을 가진다**.\r\n",
        "7. 행렬 $X\\in\\mathbf{R}^{N\\times M} (N\\geq M)$가 **풀랭크이면 분산행렬 $X^TX$은 역행렬이 존재**한다."
      ]
    },
    {
      "cell_type": "markdown",
      "metadata": {
        "id": "mJPjgFYz0ALM"
      },
      "source": [
        "![image.png](data:image/png;base64,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)"
      ]
    }
  ]
}