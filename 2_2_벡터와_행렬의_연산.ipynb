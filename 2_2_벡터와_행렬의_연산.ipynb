{
  "nbformat": 4,
  "nbformat_minor": 0,
  "metadata": {
    "colab": {
      "name": "2_2_벡터와 행렬의 연산.ipynb",
      "provenance": [],
      "collapsed_sections": [],
      "authorship_tag": "ABX9TyO4jycI6I1Ub3xtdTJ8Y4On",
      "include_colab_link": true
    },
    "kernelspec": {
      "name": "python3",
      "display_name": "Python 3"
    }
  },
  "cells": [
    {
      "cell_type": "markdown",
      "metadata": {
        "id": "view-in-github",
        "colab_type": "text"
      },
      "source": [
        "<a href=\"https://colab.research.google.com/github/sejin-sim/Math/blob/main/2_2_%EB%B2%A1%ED%84%B0%EC%99%80_%ED%96%89%EB%A0%AC%EC%9D%98_%EC%97%B0%EC%82%B0.ipynb\" target=\"_parent\"><img src=\"https://colab.research.google.com/assets/colab-badge.svg\" alt=\"Open In Colab\"/></a>"
      ]
    },
    {
      "cell_type": "markdown",
      "metadata": {
        "id": "f5juVJaSMDT_"
      },
      "source": [
        "### 1) 벡터/행렬의 덧셈과 뺄셈\r\n",
        "1. 요소별(element-wise) 연산 : 같은 크기를 가진 두 개의 벡터나 행렬은 덧셈과 뺄셈을 할 수 있다. 두 벡터와 행렬에서 같은 위치에 있는 원소끼리 덧셈과 뺄셈을 하면 된다.\r\n",
        "2. ex) 벡터 $x$와 $y$의 덧셈 $x+y$와 뺄셈 $x-y$는 다음처럼 계산한다.     \r\n",
        "> $ x + y =\r\n",
        "\\begin{bmatrix}\r\n",
        "10 \\\\\r\n",
        "11 \\\\\r\n",
        "12\r\n",
        "\\end{bmatrix}\r\n",
        "+\r\n",
        "\\begin{bmatrix}\r\n",
        "0 \\\\\r\n",
        "1 \\\\\r\n",
        "2 \r\n",
        "\\end{bmatrix}\r\n",
        "=\r\n",
        "\\begin{bmatrix}\r\n",
        "10 + 0 \\\\\r\n",
        "11 + 1 \\\\\r\n",
        "12 + 2 \r\n",
        "\\end{bmatrix}\r\n",
        "=\r\n",
        "\\begin{bmatrix}\r\n",
        "10 \\\\\r\n",
        "12 \\\\\r\n",
        "14 \r\n",
        "\\end{bmatrix}\r\n",
        "$  \r\n",
        "> $\r\n",
        "x - y =\r\n",
        "\\begin{bmatrix}\r\n",
        "10 \\\\\r\n",
        "11 \\\\\r\n",
        "12 \r\n",
        "\\end{bmatrix}\r\n",
        "-\r\n",
        "\\begin{bmatrix}\r\n",
        "0 \\\\\r\n",
        "1 \\\\\r\n",
        "2 \r\n",
        "\\end{bmatrix}\r\n",
        "=\r\n",
        "\\begin{bmatrix}\r\n",
        "10 - 0 \\\\\r\n",
        "11 - 1 \\\\\r\n",
        "12 - 2 \r\n",
        "\\end{bmatrix}\r\n",
        "=\r\n",
        "\\begin{bmatrix}\r\n",
        "10 \\\\\r\n",
        "10 \\\\\r\n",
        "10 \r\n",
        "\\end{bmatrix}\r\n",
        "$\r\n"
      ]
    },
    {
      "cell_type": "code",
      "metadata": {
        "id": "Wb3E0oUYLRrV"
      },
      "source": [
        "import numpy as np\r\n",
        "import matplotlib.pylab as plt\r\n",
        "import seaborn as sns"
      ],
      "execution_count": 3,
      "outputs": []
    },
    {
      "cell_type": "code",
      "metadata": {
        "colab": {
          "base_uri": "https://localhost:8080/"
        },
        "id": "zteKvwBZM1NA",
        "outputId": "3fc41564-d853-4852-ab9e-c032c48dab79"
      },
      "source": [
        "x = np.array([10, 11, 12, 13, 14])\r\n",
        "y = np.array([0, 1, 2, 3, 4])ㅉ\r\n",
        "print(\"x + y = \",x + y)\r\n",
        "print(\"x - y = \",x - y)"
      ],
      "execution_count": 4,
      "outputs": [
        {
          "output_type": "stream",
          "text": [
            "x + y =  [10 12 14 16 18]\n",
            "x - y =  [10 10 10 10 10]\n"
          ],
          "name": "stdout"
        }
      ]
    },
    {
      "cell_type": "code",
      "metadata": {
        "colab": {
          "base_uri": "https://localhost:8080/"
        },
        "id": "XvvrJM2SNEWl",
        "outputId": "7f5529d9-8f88-4ca6-d150-60b096ba9399"
      },
      "source": [
        "np.array([[5, 6], [7, 8]]) + np.array([[10, 20], [30, 40]]) - \\\r\n",
        "    np.array([[1, 2], [3, 4]])"
      ],
      "execution_count": 5,
      "outputs": [
        {
          "output_type": "execute_result",
          "data": {
            "text/plain": [
              "array([[14, 24],\n",
              "       [34, 44]])"
            ]
          },
          "metadata": {
            "tags": []
          },
          "execution_count": 5
        }
      ]
    },
    {
      "cell_type": "markdown",
      "metadata": {
        "id": "p0QQKjiINKjk"
      },
      "source": [
        "###2) 스칼라와 벡터/행렬의 곱셈\r\n",
        "1. 벡터 $x$ 또는 행렬 $A$에 스칼라값 $c$를 곱하는 것 = 벡터 $x$ 또는 행렬 $A$의 모든 원소에 스칼라값 $c$를 곱하는 것\r\n",
        "> $c\r\n",
        "\\begin{bmatrix}\r\n",
        "x_1 \\\\\r\n",
        "x_2\r\n",
        "\\end{bmatrix}\r\n",
        "=\r\n",
        "\\begin{bmatrix}\r\n",
        "cx_1 \\\\\r\n",
        "cx_2\r\n",
        "\\end{bmatrix}\r\n",
        "$   \r\n",
        "> $c\r\n",
        "\\begin{bmatrix}\r\n",
        "a_{11} & a_{12} \\\\\r\n",
        "a_{21} & a_{22}\r\n",
        "\\end{bmatrix}\r\n",
        "=\r\n",
        "\\begin{bmatrix}\r\n",
        "ca_{11} & ca_{12} \\\\\r\n",
        "ca_{21} & ca_{22}\r\n",
        "\\end{bmatrix}\r\n",
        "$\r\n",
        "\r\n",
        "<br/>\r\n",
        "\r\n",
        "### 3) 브로드캐스팅(broadcasting)\r\n",
        "1. 브로드캐스팅(broadcasting) : 원래 덧셈과 뺄셈은 크기(차원)가 같은 두 벡터에 대해서만 할 수 있다. 하지만 벡터와 스칼라의 경우에는 관례적으로 다음처럼 1-벡터를 사용하여 스칼라를 벡터로 변환한 연산을 허용.\r\n",
        "> $\r\n",
        "\\begin{bmatrix}\r\n",
        "10 \\\\\r\n",
        "11 \\\\\r\n",
        "12 \\\\\r\n",
        "\\end{bmatrix}\r\n",
        "- 10\r\n",
        "=\r\n",
        "\\begin{bmatrix}\r\n",
        "10 \\\\\r\n",
        "11 \\\\\r\n",
        "12 \\\\\r\n",
        "\\end{bmatrix}\r\n",
        "- 10\\cdot \\mathbf{1}\r\n",
        "=\r\n",
        "\\begin{bmatrix}\r\n",
        "10 \\\\\r\n",
        "11 \\\\\r\n",
        "12 \\\\\r\n",
        "\\end{bmatrix}\r\n",
        "-\r\n",
        "\\begin{bmatrix}\r\n",
        "10 \\\\\r\n",
        "10 \\\\\r\n",
        "10 \\\\\r\n",
        "\\end{bmatrix}\r\n",
        "$\r\n",
        "2. 평균제거(mean removed) 벡터 :그 데이터 벡터의 각 원소의 평균값을 뺀 벡터\r\n",
        "> $\r\n",
        "x = \r\n",
        "\\begin{bmatrix}\r\n",
        "x_1 \\\\\r\n",
        "x_2 \\\\\r\n",
        "\\vdots \\\\\r\n",
        "x_N\r\n",
        "\\end{bmatrix}\r\n",
        "\\;\\; \\rightarrow \\;\\;\r\n",
        "x - m =\r\n",
        "\\begin{bmatrix}\r\n",
        "x_1 - m\\\\\r\n",
        "x_2 - m \\\\\r\n",
        "\\vdots \\\\\r\n",
        "x_N - m\r\n",
        "\\end{bmatrix}\r\n",
        "$\r\n",
        "* 위 식에서 $m$은 샘플 평균이다.\r\n",
        "> $$\r\n",
        "m = \\dfrac{1}{N}\\sum_{i=1}^N x_i\r\n",
        "$$"
      ]
    },
    {
      "cell_type": "markdown",
      "metadata": {
        "id": "r_oFevTkPCtj"
      },
      "source": [
        "### 4) 선형조합(linear combination)\r\n",
        "1. 선형조합(linear combination) : 벡터/행렬에 다음처럼 스칼라값을 곱한 후 더하거나 뺀 것. 벡터나 행렬을 선형조합해도 크기는 변하지 않는다.\r\n",
        "> $\r\n",
        "c_1x_1 + c_2x_2 + c_3x_3 + \\cdots + c_Lx_L = x\r\n",
        "$\r\n",
        "> $ c_1A_1 + c_2A_2 + c_3A_3 + \\cdots + c_LA_L = A\r\n",
        "$\r\n",
        "> $ \r\n",
        "c_1, c_2, \\ldots, c_L \\in \\mathbf{R}\r\n",
        "$\r\n",
        "> $\r\n",
        "x_1, x_2, \\ldots, x_L, x \\in \\mathbf{R}^M\r\n",
        "$\r\n",
        "> $\r\n",
        "A_1, A_2, \\ldots, A_L, A \\in \\mathbf{R}^{M \\times N}\r\n",
        "$\r\n",
        "2. 벡터나 행렬의 크기를 직사각형으로 표시하면 다음과 같다.\r\n",
        "> $\r\n",
        "\\begin{matrix}\r\n",
        "c_1\\,\\boxed{\\begin{matrix} \\phantom{\\LARGE\\mathstrut} \\\\ x_1 \\\\ \\phantom{\\LARGE\\mathstrut} \\end{matrix}} & + &\r\n",
        "c_2\\,\\boxed{\\begin{matrix} \\phantom{\\LARGE\\mathstrut} \\\\ x_2 \\\\ \\phantom{\\LARGE\\mathstrut} \\end{matrix}} & + & \r\n",
        "\\cdots \\!\\!\\!\\!& + & \r\n",
        "c_L\\,\\boxed{\\begin{matrix} \\phantom{\\LARGE\\mathstrut} \\\\ x_L \\\\ \\phantom{\\LARGE\\mathstrut} \\end{matrix}}\r\n",
        "\\end{matrix}\r\n",
        "$\r\n",
        "> $\r\n",
        "\\begin{matrix}\r\n",
        "c_1\\,\\boxed{\\begin{matrix} \\phantom{} & \\phantom{} & \\phantom{} \\\\ & A_1 & \\\\ \\phantom{} & \\phantom{} & \\phantom{} \\end{matrix}} \r\n",
        "& + &\r\n",
        "c_2\\,\\boxed{\\begin{matrix} \\phantom{} & \\phantom{} & \\phantom{} \\\\ & A_2 & \\\\ \\phantom{} & \\phantom{} & \\phantom{} \\end{matrix}} \r\n",
        "& + &\r\n",
        "\\cdots\r\n",
        "& + &\r\n",
        "c_L\\,\\boxed{\\begin{matrix} \\phantom{} & \\phantom{} & \\phantom{} \\\\ & A_L & \\\\ \\phantom{} & \\phantom{} & \\phantom{} \\end{matrix}} \r\n",
        "\\end{matrix}\r\n",
        "$\r\n",
        "\r\n",
        "<br/>\r\n",
        "\r\n",
        "### 5) 벡터와 벡터의 곱셈\r\n",
        "1. 내적(inner product) = 닷 프로덕트(dot product) : 벡터를 곱셈하는 방법\r\n",
        "2. ex) 벡터 $x$와 벡터 $y$의 내적은 다음처럼 표기한다.\r\n",
        "> $ x \\cdot y = \\, < x, y > \\, = x^T y $\r\n",
        "3. 두 벡터를 내적하려면 다음과 같은 조건이 만족되어야 한다.\r\n",
        "> - 우선 두 벡터의 차원(길이)이 같아야 한다. \r\n",
        "> - 앞의 벡터가 행 벡터이고 뒤의 벡터가 열 벡터여야 한다.     \r\n",
        "> ㄴ 이때 내적의 결과 = 스칼라값\r\n",
        "4. 우선 같은 위치에 있는 원소들을 요소별 곱셈처럼 곱한 다음, 그 값들을 다시 모두 더해서 하나의 스칼라값으로 만든다.\r\n",
        "> $ \r\n",
        "x^T y = \r\n",
        "\\begin{bmatrix}\r\n",
        "x_{1} & x_{2} & \\cdots & x_{N} \r\n",
        "\\end{bmatrix}\r\n",
        "\\begin{bmatrix}\r\n",
        "y_{1} \\\\\r\n",
        "y_{2} \\\\\r\n",
        "\\vdots \\\\\r\n",
        "y_{N} \\\\\r\n",
        "\\end{bmatrix} \r\n",
        "= x_1 y_1 + \\cdots + x_N y_N \r\n",
        "= \\sum_{i=1}^N x_i y_i\r\n",
        "$\r\n",
        "> $ \r\n",
        "x \\in \\mathbf{R}^{N \\times 1}\r\n",
        "$   \r\n",
        "> $\r\n",
        "y \\in \\mathbf{R}^{N \\times 1} \r\n",
        "$   \r\n",
        "> $\r\n",
        "x^T y \\in \\mathbf{R} \r\n",
        "$\r\n",
        "5. 두 벡터의 내적의 예\r\n",
        "> $\r\n",
        "x =\r\n",
        "\\begin{bmatrix}\r\n",
        "1 \\\\ 2 \\\\ 3 \\\\\r\n",
        "\\end{bmatrix}\r\n",
        ",\\;\\;\\;\r\n",
        "y = \r\n",
        "\\begin{bmatrix}\r\n",
        "4 \\\\ 5 \\\\ 6 \\\\\r\n",
        "\\end{bmatrix} \r\n",
        "$   \r\n",
        "> $\r\n",
        "x^T y = \r\n",
        "\\begin{bmatrix}\r\n",
        "1 & 2 & 3\r\n",
        "\\end{bmatrix}\r\n",
        "\\begin{bmatrix}\r\n",
        "4 \\\\ 5 \\\\ 6 \\\\\r\n",
        "\\end{bmatrix} \r\n",
        "= 1 \\cdot 4 + 2 \\cdot 5 + 3 \\cdot 6 = 32\r\n",
        "$\r\n",
        "\r\n",
        "\r\n"
      ]
    },
    {
      "cell_type": "code",
      "metadata": {
        "colab": {
          "base_uri": "https://localhost:8080/"
        },
        "id": "FXBI5DULNKHn",
        "outputId": "5bcca387-a684-4031-f9ab-f94cd04d07fc"
      },
      "source": [
        "# `dot()` = `@`(at이라고 읽는다)\r\n",
        "# 2차원 배열로 표시한 벡터를 내적했을 때는 결과값이 스칼라가 아닌 2차원 배열이다.\r\n",
        "x = np.array([[1], [2], [3]])\r\n",
        "y = np.array([[4], [5], [6]])\r\n",
        "\r\n",
        "x.T @ y  # 또는 np.dot(x.T, y)"
      ],
      "execution_count": 6,
      "outputs": [
        {
          "output_type": "execute_result",
          "data": {
            "text/plain": [
              "array([[32]])"
            ]
          },
          "metadata": {
            "tags": []
          },
          "execution_count": 6
        }
      ]
    },
    {
      "cell_type": "code",
      "metadata": {
        "colab": {
          "base_uri": "https://localhost:8080/"
        },
        "id": "U0YGzfnjRwqM",
        "outputId": "ad6be38c-aa11-44ab-affd-6fd94517ee86"
      },
      "source": [
        "x = np.array([1, 2, 3])\r\n",
        "y = np.array([4, 5, 6])\r\n",
        "# x가 행벡터고 y가 열벡터라고 가정하고 계산한다.\r\n",
        "x @ y  # 또는 np.dot(x, y)"
      ],
      "execution_count": 7,
      "outputs": [
        {
          "output_type": "execute_result",
          "data": {
            "text/plain": [
              "32"
            ]
          },
          "metadata": {
            "tags": []
          },
          "execution_count": 7
        }
      ]
    },
    {
      "cell_type": "markdown",
      "metadata": {
        "id": "8jX2V2hgSAXa"
      },
      "source": [
        "### 6) 가중합(weighted sum)\r\n",
        "1. 가중합(weighted sum) : 복수의 데이터를 단순히 합하는 것이 아니라 각각의 수에 어떤 가중치 값을 곱한 후 이 곱셈 결과들을 다시 합한 것\r\n",
        "2. 만약 데이터 벡터가 $x=[x_1, \\cdots, x_N]^T$이고 가중치 벡터가 $w=[w_1, \\cdots, w_N]^T$이면 데이터 벡터의 가중합은 다음과 같다.\r\n",
        "> $ \r\n",
        "w_1 x_1 + \\cdots + w_N x_N = \\sum_{i=1}^N w_i x_i \r\n",
        "$ \r\n",
        "3. 벡터 $x$와 $w$의 곱으로 나타내면 $w^Tx$ 또는 $x^Tw$ 라는 간단한 수식으로 표시할 수 있다.\r\n",
        ">$ \r\n",
        "\\begin{aligned}\r\n",
        "\\sum_{i=1}^N w_i x_i \r\n",
        "&= \r\n",
        "\\begin{bmatrix}\r\n",
        "w_{1} && w_{2} && \\cdots && w_{N}\r\n",
        "\\end{bmatrix}\r\n",
        "\\begin{bmatrix}\r\n",
        "x_1 \\\\ x_2 \\\\ \\vdots \\\\ x_N\r\n",
        "\\end{bmatrix} \r\n",
        "&= w^Tx  \r\n",
        "\\\\\r\n",
        "&=\r\n",
        "\\begin{bmatrix}\r\n",
        "x_{1} && x_{2} && \\cdots && x_{N}\r\n",
        "\\end{bmatrix}\r\n",
        "\\begin{bmatrix}\r\n",
        "w_1 \\\\ w_2 \\\\ \\vdots \\\\ w_N\r\n",
        "\\end{bmatrix}\r\n",
        "&= x^Tw  \r\n",
        "\\end{aligned}\r\n",
        "$\r\n",
        "4. 예를 들어 쇼핑을 할 때 각 물건의 가격은 데이터 벡터, 각 물건의 수량은 가중치로 생각하여 내적을 구하면 총금액을 계산할 수 있다. 만약 가중치가 모두 1이면 일반적인 합(sum)을 계산한다.\r\n",
        "> $ \r\n",
        "w_1 = w_2 = \\cdots = w_N = 1 $ 또는   \r\n",
        "> $\r\n",
        "w = \\mathbf{1}_N \r\n",
        "$ 이면    \r\n",
        "> $$ \r\n",
        "\\sum_{i=1}^N x_i = \\mathbf{1}_N^T x \r\n",
        "$$"
      ]
    },
    {
      "cell_type": "markdown",
      "metadata": {
        "id": "44ljD5N5TV6Z"
      },
      "source": [
        "#### 연습 문제 2.2.1\r\n",
        "\r\n",
        "A, B, C 세 회사의 주식은 각각 100만원, 80만원, 50만원이다. 이 주식을 각각 3주, 4주, 5주를 매수할 때 필요한 금액을 구하고자 한다.\r\n",
        "\r\n",
        "(1) 주식의 가격과 수량을 각각 $p$ 벡터, $n$ 벡터로 표시하고 넘파이로 코딩한다.\r\n",
        "\r\n",
        "(2) 주식을 매수할 때 필요한 금액을 곱셈으로 표시하고 넘파이 연산으로 그 값을 계산한다."
      ]
    },
    {
      "cell_type": "code",
      "metadata": {
        "colab": {
          "base_uri": "https://localhost:8080/"
        },
        "id": "5gG5jgleTXF5",
        "outputId": "ab13ef09-7893-4517-9d13-bb754d790835"
      },
      "source": [
        "p = np.array([100, 80, 50])\r\n",
        "n = np.array([3, 4, 5])\r\n",
        "np.dot(p, n)"
      ],
      "execution_count": 8,
      "outputs": [
        {
          "output_type": "execute_result",
          "data": {
            "text/plain": [
              "870"
            ]
          },
          "metadata": {
            "tags": []
          },
          "execution_count": 8
        }
      ]
    },
    {
      "cell_type": "markdown",
      "metadata": {
        "id": "v_8UvwAsT7gM"
      },
      "source": [
        "### 7) 가중평균\r\n",
        "1. 가중평균(weighted average) : 가중합의 가중치값을 전체 가중치값의 합으로 나눈 것. 가중평균은 대학교의 평균 성적 계산 등에 사용할 수 있다.\r\n",
        "2. ex) 대학교에서는 가중평균 성적을 구할 때, 일주일에 한 시간만 수업하는 과목은 1학점짜리 과목이고 일주일에 세 시간씩 수업하는 중요한 과목은 3학점짜리 과목이다. 1학점과 3학점 과목의 점수가 각각 100점, 60점이면 학점을 고려한 가중 평균(weighted average) 성적은 다음과 같이 계산한다.\r\n",
        "> $ \r\n",
        "\\dfrac{1}{1 + 3} \\times 100 + \\dfrac{3}{1 + 3} \\times 60\r\n",
        "= 70 \r\n",
        "$\r\n",
        "3. 벡터로 표현된 $N$개의 데이터의 단순 평균은 다음처럼 생각할 수 있다.\r\n",
        "> $$\r\n",
        "\\bar{x} = \\dfrac{1}{N} \\sum_{i=1}^{N} {x_i} = \\dfrac{1}{N} \\mathbf{1}_N^T x\r\n",
        "$$\r\n",
        "> - $x$ 데이터의 평균은 보통 $\\bar{x}$라는 기호로 표기하고 \"엑스 바(x bar)\" 라고 읽는다.\r\n"
      ]
    },
    {
      "cell_type": "code",
      "metadata": {
        "colab": {
          "base_uri": "https://localhost:8080/"
        },
        "id": "ay6egNm8Uh0d",
        "outputId": "55d9b5eb-8115-40f8-d83f-aa627172dc0b"
      },
      "source": [
        "x = np.arange(10)\r\n",
        "N = len(x)\r\n",
        "print(x)\r\n",
        "print(N)\r\n",
        "np.ones(N) @ x / N"
      ],
      "execution_count": 9,
      "outputs": [
        {
          "output_type": "stream",
          "text": [
            "[0 1 2 3 4 5 6 7 8 9]\n",
            "10\n"
          ],
          "name": "stdout"
        },
        {
          "output_type": "execute_result",
          "data": {
            "text/plain": [
              "4.5"
            ]
          },
          "metadata": {
            "tags": []
          },
          "execution_count": 9
        }
      ]
    },
    {
      "cell_type": "code",
      "metadata": {
        "colab": {
          "base_uri": "https://localhost:8080/"
        },
        "id": "UzfAej2bUsLt",
        "outputId": "25069556-b9af-4159-a730-83cefd1cfe31"
      },
      "source": [
        "x.mean()"
      ],
      "execution_count": 10,
      "outputs": [
        {
          "output_type": "execute_result",
          "data": {
            "text/plain": [
              "4.5"
            ]
          },
          "metadata": {
            "tags": []
          },
          "execution_count": 10
        }
      ]
    },
    {
      "cell_type": "markdown",
      "metadata": {
        "id": "RkWQKP4GVAtV"
      },
      "source": [
        "#### 연습 문제 2.2.2\r\n",
        "\r\n",
        "벡터 $x$의 평균 제거 벡터는 다음과 같이 계산함을 증명하라.\r\n",
        "> $\r\n",
        "x - \\dfrac{1}{N}\\mathbf{1}_N^Tx \\mathbf{1}^{}_N\r\n",
        "$\r\n",
        "\r\n",
        "> $ \r\n",
        "\\begin{aligned}\r\n",
        "x - \\dfrac{1}{N}\\mathbf{1}_N^Tx \\mathbf{1}^{}_N\r\n",
        "&= \r\n",
        "\\begin{bmatrix}\r\n",
        "x_{1} \\\\\r\n",
        "x_{2} \\\\\r\n",
        "\\vdots \\\\\r\n",
        "x_{N} \\\\\r\n",
        "\\end{bmatrix}\r\n",
        "- \\dfrac{1}{N}\r\n",
        "\\begin{bmatrix}\r\n",
        "1 & 1 & \\cdots & 1 \r\n",
        "\\end{bmatrix}\r\n",
        "\\begin{bmatrix}\r\n",
        "x_{1} \\\\\r\n",
        "x_{2} \\\\\r\n",
        "\\vdots \\\\\r\n",
        "x_{N} \\\\\r\n",
        "\\end{bmatrix} \r\n",
        "\\\\\r\n",
        "&=\r\n",
        "\r\n",
        "\\begin{bmatrix}\r\n",
        "x_{1} \\\\\r\n",
        "x_{2} \\\\\r\n",
        "\\vdots \\\\\r\n",
        "x_{N} \\\\\r\n",
        "\\end{bmatrix}\r\n",
        "- \\dfrac{1}{N}\r\n",
        "\\sum_{i=1}^N x_n\r\n",
        "\\begin{bmatrix}\r\n",
        "1 \\\\\r\n",
        "1 \\\\\r\n",
        "\\vdots \\\\\r\n",
        "1 \\\\\r\n",
        "\\end{bmatrix} \r\n",
        "\\\\\r\n",
        "&=\r\n",
        "\r\n",
        "\\begin{bmatrix}\r\n",
        "x_{1} \\\\\r\n",
        "x_{2} \\\\\r\n",
        "\\vdots \\\\\r\n",
        "x_{N} \\\\\r\n",
        "\\end{bmatrix}\r\n",
        "- \\bar{x}\r\n",
        "\\begin{bmatrix}\r\n",
        "1 \\\\\r\n",
        "1 \\\\\r\n",
        "\\vdots \\\\\r\n",
        "1 \\\\\r\n",
        "\\end{bmatrix} \r\n",
        "\\\\\r\n",
        "&=\r\n",
        "\r\n",
        "\\begin{bmatrix}\r\n",
        "x_{1} \\\\\r\n",
        "x_{2} \\\\\r\n",
        "\\vdots \\\\\r\n",
        "x_{N} \\\\\r\n",
        "\\end{bmatrix}\r\n",
        "- \r\n",
        "\\begin{bmatrix}\r\n",
        "\\bar{x} \\\\\r\n",
        "\\bar{x} \\\\\r\n",
        "\\vdots \\\\\r\n",
        "\\bar{x} \\\\\r\n",
        "\\end{bmatrix} \r\n",
        "\\\\\r\n",
        "&=\r\n",
        "\r\n",
        "\\begin{bmatrix}\r\n",
        "x_{1} - \\bar{x} \\\\\r\n",
        "x_{2} - \\bar{x} \\\\\r\n",
        "\\vdots \\\\\r\n",
        "x_{N} - \\bar{x} \\\\\r\n",
        "\\end{bmatrix}\r\n",
        "\r\n",
        "\\end{aligned}\r\n",
        "$"
      ]
    },
    {
      "cell_type": "markdown",
      "metadata": {
        "id": "0SpByIl6YLC7"
      },
      "source": [
        "### 8) 유사도\r\n",
        "- 벡터의 곱셈(내적)은 두 벡터 간의 유사도를 계산하는 데도 이용할 수 있다.\r\n",
        "1. 유사도(similarity) : 두 벡터가 닮은 정도를 정량적으로 나타낸 값\r\n",
        "> 두 벡터가 비슷한 경우  = 유사도가 ↑   \r\n",
        "> 비슷하지 앟은 경우 = 유사도 ↓\r\n",
        "2. 코사인 유사도(cosine similarity) : 내적을 이용하면 구할 수 있는 유사도. 추후 선형대수의 기하학적 의미를 공부할 때 코사인 유사도에 대해 살펴볼 것.\r\n",
        "\r\n",
        "예를 들어 0과 1을 나타내는 MNIST 이미지에 대해 내적을 계산해보자."
      ]
    },
    {
      "cell_type": "code",
      "metadata": {
        "colab": {
          "base_uri": "https://localhost:8080/",
          "height": 197
        },
        "id": "C9Ixx7ZHYkk0",
        "outputId": "a8cef87f-98c0-4ea4-bdad-46a5d578e681"
      },
      "source": [
        "from sklearn.datasets import load_digits\r\n",
        "import matplotlib.gridspec as gridspec\r\n",
        "\r\n",
        "digits = load_digits()\r\n",
        "d1 = digits.images[0]\r\n",
        "d2 = digits.images[10]\r\n",
        "d3 = digits.images[1]\r\n",
        "d4 = digits.images[11]\r\n",
        "v1 = d1.reshape(64, 1)\r\n",
        "v2 = d2.reshape(64, 1)\r\n",
        "v3 = d3.reshape(64, 1)\r\n",
        "v4 = d4.reshape(64, 1)\r\n",
        "\r\n",
        "plt.figure(figsize=(9, 9))\r\n",
        "gs = gridspec.GridSpec(1, 8, height_ratios=[1],\r\n",
        "                       width_ratios=[9, 1, 9, 1, 9, 1, 9, 1])\r\n",
        "for i in range(4):\r\n",
        "    plt.subplot(gs[2 * i])\r\n",
        "    plt.imshow(eval(\"d\" + str(i + 1)), aspect=1,\r\n",
        "               interpolation='nearest', cmap=plt.cm.bone_r)\r\n",
        "    plt.grid(False)\r\n",
        "    plt.xticks([])\r\n",
        "    plt.yticks([])\r\n",
        "    plt.title(\"image {}\".format(i + 1))\r\n",
        "    plt.subplot(gs[2 * i + 1])\r\n",
        "    plt.imshow(eval(\"v\" + str(i + 1)), aspect=0.25,\r\n",
        "               interpolation='nearest', cmap=plt.cm.bone_r)\r\n",
        "    plt.grid(False)\r\n",
        "    plt.xticks([])\r\n",
        "    plt.yticks([])\r\n",
        "    plt.title(\"vector {}\".format(i + 1))\r\n",
        "plt.tight_layout()\r\n",
        "plt.show()"
      ],
      "execution_count": 11,
      "outputs": [
        {
          "output_type": "display_data",
          "data": {
            "image/png": "[encoded data removed]",
            "text/plain": [
              "<Figure size 648x648 with 8 Axes>"
            ]
          },
          "metadata": {
            "tags": []
          }
        }
      ]
    },
    {
      "cell_type": "markdown",
      "metadata": {
        "id": "JEws1PoVYpuj"
      },
      "source": [
        "\"0\" 이미지와 \"0\" 이미지, 또는 \"1\" 이미지와 \"1\" 이미지의 내적값은 다음과 같다."
      ]
    },
    {
      "cell_type": "code",
      "metadata": {
        "colab": {
          "base_uri": "https://localhost:8080/"
        },
        "id": "CLif1MxuYrIY",
        "outputId": "5fc5d61d-e13f-4faf-f6f5-4f3ff1125ec1"
      },
      "source": [
        "(v1.T @ v2)[0][0], (v3.T @ v4)[0][0]"
      ],
      "execution_count": 12,
      "outputs": [
        {
          "output_type": "execute_result",
          "data": {
            "text/plain": [
              "(3064.0, 3661.0)"
            ]
          },
          "metadata": {
            "tags": []
          },
          "execution_count": 12
        }
      ]
    },
    {
      "cell_type": "markdown",
      "metadata": {
        "id": "oPF0it8VYw8O"
      },
      "source": [
        "상대적으로 \"0\" 이미지와 \"1\" 이미지, 또는 \"1\" 이미지와 \"0\" 이미지의 내적값은 작다."
      ]
    },
    {
      "cell_type": "code",
      "metadata": {
        "colab": {
          "base_uri": "https://localhost:8080/"
        },
        "id": "dCjDifqyYzYw",
        "outputId": "71448357-e20b-4ef6-dbac-83a34882bbd1"
      },
      "source": [
        "(v1.T @ v3)[0][0], (v1.T @ v4)[0][0], (v2.T @ v3)[0][0], (v2.T @ v4)[0][0]"
      ],
      "execution_count": 13,
      "outputs": [
        {
          "output_type": "execute_result",
          "data": {
            "text/plain": [
              "(1866.0, 1883.0, 2421.0, 2479.0)"
            ]
          },
          "metadata": {
            "tags": []
          },
          "execution_count": 13
        }
      ]
    },
    {
      "cell_type": "markdown",
      "metadata": {
        "id": "uCKl5myvZLAx"
      },
      "source": [
        "#### 연습 문제 2.2.3\r\n",
        "\r\n",
        "다음 코드를 실행하면 MNIST 숫자 이미지 전체 데이터를 모두 벡터로 변환하여 하나의 넘파이 행렬 `X`를 만든다.\r\n",
        "이 행렬을 이용하여 다음 문제를 풀어라.\r\n",
        "```\r\n",
        "from sklearn.datasets import load_digits\r\n",
        "X = load_digits().data\r\n",
        "```\r\n",
        "\r\n",
        "(1) 내적을 이용하여 첫 번째 이미지와 10번째 이미지의 유사도를 구하라.\r\n",
        "\r\n",
        "(2) 내적을 이용하여 모든 이미지의 조합에 대해 유사도를 구하라. 어떻게 구현하는 것이 효율적일까? (힌트 : 이 문제는 뒤에서 배울 행렬과 행렬의 곱셈을 이용한다.)"
      ]
    },
    {
      "cell_type": "code",
      "metadata": {
        "colab": {
          "base_uri": "https://localhost:8080/"
        },
        "id": "ynyqCSY7ZRAE",
        "outputId": "cf2cdea7-c25c-4137-e073-d070d6856b43"
      },
      "source": [
        "from sklearn.datasets import load_digits\r\n",
        "X = load_digits().data\r\n",
        "X[0] @ X[9]\r\n"
      ],
      "execution_count": 14,
      "outputs": [
        {
          "output_type": "execute_result",
          "data": {
            "text/plain": [
              "2807.0"
            ]
          },
          "metadata": {
            "tags": []
          },
          "execution_count": 14
        }
      ]
    },
    {
      "cell_type": "code",
      "metadata": {
        "colab": {
          "base_uri": "https://localhost:8080/"
        },
        "id": "u-T3cfnIaBOL",
        "outputId": "73630e47-1ccf-4054-987f-28b5a071f485"
      },
      "source": [
        "X @ X.T"
      ],
      "execution_count": 15,
      "outputs": [
        {
          "output_type": "execute_result",
          "data": {
            "text/plain": [
              "array([[3070., 1866., 2264., ..., 2812., 3006., 2898.],\n",
              "       [1866., 4209., 3432., ..., 3906., 3083., 3307.],\n",
              "       [2264., 3432., 4388., ..., 4005., 3063., 3697.],\n",
              "       ...,\n",
              "       [2812., 3906., 4005., ..., 5092., 3729., 4598.],\n",
              "       [3006., 3083., 3063., ..., 3729., 4316., 3850.],\n",
              "       [2898., 3307., 3697., ..., 4598., 3850., 4938.]])"
            ]
          },
          "metadata": {
            "tags": []
          },
          "execution_count": 15
        }
      ]
    },
    {
      "cell_type": "code",
      "metadata": {
        "colab": {
          "base_uri": "https://localhost:8080/",
          "height": 285
        },
        "id": "wBu3qKMbZTE3",
        "outputId": "d8a00f9b-51cf-430f-cc20-2561aa664abd"
      },
      "source": [
        "sns.heatmap(X @ X.T, cmap=plt.cm.bone_r)\r\n",
        "plt.show()"
      ],
      "execution_count": 16,
      "outputs": [
        {
          "output_type": "display_data",
          "data": {
            "image/png": "[encoded data removed]",
            "text/plain": [
              "<Figure size 432x288 with 2 Axes>"
            ]
          },
          "metadata": {
            "tags": [],
            "needs_background": "light"
          }
        }
      ]
    },
    {
      "cell_type": "markdown",
      "metadata": {
        "id": "6vqcp_YIaxNr"
      },
      "source": [
        "### 9) 선형회귀 모형\r\n",
        "1. 선형회귀 모형(linear regression model) : 독립변수 $x$에서 종속변수 $y$를 예측하는 방법의 하나. 독립변수 벡터 $x$와 가중치 벡터 $w$와의 가중합으로 ${y}$에 대한 예측값 $\\hat{y}$를 계산하는 수식. 가장 단순하면서도 가장 널리 쓰이는 예측 모형이다.\r\n",
        "> $ \r\n",
        "\\hat{y} = w_1 x_1 + \\cdots + w_N x_N\r\n",
        "$\r\n",
        "> - 기호 `^`는 \"캐럿(caret)\"이라는 기호이다. $\\hat{y}$는 \"와이 햇(y hat)\"이라고 읽는다.\r\n",
        "2. 이 수식은 다음처럼 벡터의 내적으로 나타낼 수 있다.\r\n",
        "> $ \r\n",
        "\\hat{y} = w^Tx\r\n",
        "$\r\n",
        "3. ex) 아파트 단지의 아파트 가격을 조사하였더니 아파트 가격은 (1)면적, (2)층수, (3)한강이 보이는지의 여부, 즉 이 세 가지 특징에 의해 달라진다는 사실을 알게 되었다. 이때 이 단지 내의 아파트 가격을 예측하는 예측 모형을 다음과 같이 만들 수 있다.\r\n",
        "* $x_1$ : 면적($m^2$),  $x_2$ : 층수,  $x_3$ :  한강 뷰 (보이면 $x_3 = 1$, 보이지 않으면 $x_3 = 0$)\r\n",
        "* $\\hat{y}$ : 아파트의 예측 가격이다. \r\n",
        "* 다음과 같은 선형회귀 모형으로 나타난다고 가정\r\n",
        "> $ \r\n",
        "\\hat{y} = 500 x_1 + 200 x_2 + 1000 x_3 \r\n",
        "$   \r\n",
        "> 이 모형은 다음과 같이 해석할 수 있다.\r\n",
        "\r\n",
        "* 면적이 1$m^2$ 증가할수록 가격은 500만 원이 증가한다.\r\n",
        "* 층수가 1층 높아질수록 가격은 200만 원이 증가한다.\r\n",
        "* 한강이 보이는 집은 1,000만 원의 웃돈(프리미엄)이 존재한다.\r\n",
        "* 위 식은 다음과 같이 벡터의 내적으로 고쳐 쓸 수 있다.\r\n",
        "> $\r\n",
        "\\hat{y} = \\begin{bmatrix} 500 & 200 & 1000 \\end{bmatrix} \\begin{bmatrix} x_1 \\\\ x_2 \\\\ x_3 \\end{bmatrix} = w^T x \r\n",
        "$\r\n",
        "* 즉, 위 선형회귀 모형은 다음 가중치 벡터로 대표된다.\r\n",
        "> $ \r\n",
        "w^T = \\begin{bmatrix} 500 & 200 & 1000 \\end{bmatrix} \r\n",
        "$\r\n",
        "\r\n",
        "4. 인공신경망(artificial neural network)에서는 선형회귀 모형을 다음과 같은 그림으로 표현한다. 데이터는 노드(node) 혹은 뉴런(neuron)이라는 동그라미로 표시하고 곱셈은 선분(line)위에 곱할 숫자를 써서 나타낸다. 덧셈은 여러 개의 선분이 만나는 것으로 표시한다.\r\n",
        "> ![](https://t2.daumcdn.net/thumb/R720x0/?fname=http://t1.daumcdn.net/brunch/service/user/17Xk/image/MpGm1GzwKiN9kFzC6IwjQer2Lkw.png)\r\n",
        "> * but, 선형회귀 모형은 비선형적인 현실 세계의 데이터를 잘 예측하지 못할 수 있다는 단점이 있다. 선형회귀 모형을 기반으로 여러 기법을 사용해  수정한 모형을 사용하는 것이 일반적이다."
      ]
    },
    {
      "cell_type": "markdown",
      "metadata": {
        "id": "H8sNb2ztdzAF"
      },
      "source": [
        "### 10) 제곱합\r\n",
        "1. 데이터의 분산(variance)이나 표준 편차(standard deviation) 등을 구하는 경우에는 각각의 데이터를 제곱한 뒤 이 값을 모두 더한 제곱합(sum of squares)을 계산해야 한다.\r\n",
        "> $$\r\n",
        "x^T x = \r\n",
        "\\begin{bmatrix}\r\n",
        "x_{1} & x_{2} & \\cdots & x_{N} \r\n",
        "\\end{bmatrix}\r\n",
        "\\begin{bmatrix}\r\n",
        "x_{1} \\\\\r\n",
        "x_{2} \\\\\r\n",
        "\\vdots \\\\\r\n",
        "x_{N} \\\\\r\n",
        "\\end{bmatrix} = \\sum_{i=1}^{N} x_i^2\r\n",
        "$$\r\n",
        "\r\n",
        "<br/>\r\n",
        "\r\n",
        "### 11) 행렬과 행렬의 곱셈\r\n",
        "1. $A$ 행렬과 $B$ 행렬을 곱한 결과가 $C$ 행렬이라면, \r\n",
        "$C$의 $i$번째 행, $j$번째 열의 원소 $c_{ij}$의 값은 $A$ 행렬의 $i$번째 행 벡터 $a_i^T$와 $B$ 행렬의 $j$번째 열 벡터 $b_j$의 곱이다.\r\n",
        "> $ \r\n",
        "C = AB \\; \\rightarrow \\; c_{ij} = a_i^T b_j \r\n",
        "$\r\n",
        "2. 이 정의가 성립하려면 앞의 행렬 $A$의 열의 수가 뒤의 행렬 $B$의 행의 수와 일치해야만 한다.\r\n",
        "> $ \r\n",
        "A \\in \\mathbf{R}^{N \\times L} , \\; B \\in \\mathbf{R}^{L \\times M} \\;  \\rightarrow \\; AB \\in \\mathbf{R}^{N \\times M} \r\n",
        "$\r\n",
        "3. $4 \\times 3$ 행렬과 $3 \\times 2$을 곱하여 $4 \\times 2$을 계산하는 예다.\r\n",
        "> $\r\n",
        "\\begin{bmatrix}\r\n",
        "a_{11} & a_{12} & a_{13} \\\\\r\n",
        "a_{21} & a_{22} & a_{23} \\\\\r\n",
        "a_{31} & a_{32} & a_{33} \\\\\r\n",
        "a_{41} & a_{42} & a_{43} \\\\\r\n",
        "\\end{bmatrix}\r\n",
        "\\begin{bmatrix}\r\n",
        "{b_{11}} & b_{12} \\\\\r\n",
        "{b_{21}} & b_{22} \\\\\r\n",
        "{b_{31}} & b_{32} \\\\    \r\n",
        "\\end{bmatrix}\r\n",
        "=\r\n",
        "\\begin{bmatrix}\r\n",
        "(a_{11}b_{11} + a_{12}b_{21} + a_{13}b_{31}) & (a_{11}b_{12} + a_{12}b_{22} + a_{13}b_{32}) \\\\\r\n",
        "(a_{21}b_{11} + a_{22}b_{21} + a_{23}b_{31}) & (a_{21}b_{12} + a_{22}b_{22} + a_{23}b_{32}) \\\\\r\n",
        "(a_{31}b_{11} + a_{32}b_{21} + a_{33}b_{31}) & (a_{31}b_{12} + a_{32}b_{22} + a_{33}b_{32}) \\\\\r\n",
        "(a_{41}b_{11} + a_{42}b_{21} + a_{43}b_{31}) & (a_{41}b_{12} + a_{42}b_{22} + a_{43}b_{32}) \\\\\r\n",
        "\\end{bmatrix}\r\n",
        "$\r\n",
        "4. 실제 행렬을 사용한 곱셈의 예다.\r\n",
        "> $\r\n",
        "A = \\begin{bmatrix} 1 & 2 & 3 \\\\ 4 & 5 & 6 \\end{bmatrix}, \r\n",
        "B = \\begin{bmatrix} 1 & 2 \\\\ 3 & 4 \\\\ 5 & 6 \\end{bmatrix}\r\n",
        "$\r\n",
        "> $\r\n",
        "C = AB = \\begin{bmatrix} 22 & 28 \\\\ 49 & 64 \\end{bmatrix}\r\n",
        "$\r\n"
      ]
    },
    {
      "cell_type": "code",
      "metadata": {
        "colab": {
          "base_uri": "https://localhost:8080/"
        },
        "id": "wkfo4lUpgJu3",
        "outputId": "1b95e253-3e52-4aff-fa5c-8c8bd4d862d0"
      },
      "source": [
        "A = np.array([[1, 2, 3], [4, 5, 6]])    # 2 x 3\r\n",
        "B = np.array([[1, 2], [3, 4], [5, 6]])  # 3 x 2 \r\n",
        "C = A @ B  # 2 x 2\r\n",
        "C"
      ],
      "execution_count": 17,
      "outputs": [
        {
          "output_type": "execute_result",
          "data": {
            "text/plain": [
              "array([[22, 28],\n",
              "       [49, 64]])"
            ]
          },
          "metadata": {
            "tags": []
          },
          "execution_count": 17
        }
      ]
    },
    {
      "cell_type": "markdown",
      "metadata": {
        "id": "pZCRqjY7gS_k"
      },
      "source": [
        "#### 연습 문제 2.2.4\r\n",
        "\r\n",
        "(1) $A$와 $B$가 위와 같을 때 $AB$를 연습장에 손으로 계산하고 넘파이의 계산 결과와 맞는지 확인한다.\r\n",
        "\r\n",
        "\r\n",
        "(2) 순서를 바꾸어 $BA$를 손으로 계산하고 넘파이의 계산 결과와 맞는지 확인한다. $BA$가 $AB$와 같은가?\r\n",
        "\r\n",
        "\r\n",
        "(3) $A$, $B$가 다음과 같을 때, $AB$, $BA$를 (계산이 가능하다면) 손으로 계산하고 넘파이의 계산 결과와 맞는지 확인한다. $AB$, $BA$ 모두 계산 가능한가?\r\n",
        "\r\n",
        "\r\n",
        "$$\r\n",
        "\\begin{align}\r\n",
        "A = \\begin{bmatrix} 1 & 2 & 3 \\end{bmatrix}\r\n",
        "\\tag{2.2.45}\r\n",
        "\\end{align}\r\n",
        "$$\r\n",
        "\r\n",
        "$$\r\n",
        "\\begin{align}\r\n",
        "B = \\begin{bmatrix} 4 & 7 \\\\ 5 & 8 \\\\ 6 & 9 \\end{bmatrix}\r\n",
        "\\tag{2.2.46}\r\n",
        "\\end{align}\r\n",
        "$$\r\n",
        "\r\n",
        "\r\n",
        "(4) $A$, $B$가 다음과 같을 때, $AB$, $BA$를 (계산이 가능하다면) 손으로 계산하고 넘파이의 계산 결과와 맞는지 확인한다. $AB$, $BA$ 모두 계산 가능한가? $BA$의 결과가 $AB$와 같은가?\r\n",
        "\r\n",
        "$$\r\n",
        "\\begin{align}\r\n",
        "A = \\begin{bmatrix} 1 & 2 \\\\ 3 & 4 \\end{bmatrix}\r\n",
        "\\tag{2.2.47}\r\n",
        "\\end{align}\r\n",
        "$$\r\n",
        "\r\n",
        "$$\r\n",
        "\\begin{align}\r\n",
        "B = \\begin{bmatrix} 5 & 6 \\\\ 7 & 8 \\end{bmatrix}\r\n",
        "\\tag{2.2.48}\r\n",
        "\\end{align}\r\n",
        "$$\r\n",
        "\r\n",
        "\r\n",
        "(5) $A$가 다음과 같을 때, $AA^T$와 $A^TA$를 손으로 계산하고 넘파이의 계산 결과와 맞는지 확인한다. $AA^T$와 $A^TA$의 크기는 어떠한가? 항상 정방행렬이 되는가?\r\n",
        "\r\n",
        "$$\r\n",
        "\\begin{align}\r\n",
        "A = \\begin{bmatrix} 1 & 2 \\\\ 3 & 4 \\\\ 5 & 6 \\end{bmatrix}\r\n",
        "\\tag{2.2.49}\r\n",
        "\\end{align}\r\n",
        "$$\r\n",
        "\r\n",
        "\r\n",
        "(6) $x$가 다음과 같을 때, $x^Tx$와 $xx^T$를 손으로 계산하고 넘파이의 계산 결과와 맞는지 확인한다. $x^Tx$와 $xx^T$의 크기는 어떠한가? 어떤 것이 스칼라이고 어떤 것이 정방행렬인가?\r\n",
        "\r\n",
        "$$\r\n",
        "\\begin{align}\r\n",
        "x = \\begin{bmatrix} 1 \\\\ 2 \\\\ 3 \\end{bmatrix}\r\n",
        "\\tag{2.2.50}\r\n",
        "\\end{align}\r\n",
        "$$"
      ]
    },
    {
      "cell_type": "code",
      "metadata": {
        "colab": {
          "base_uri": "https://localhost:8080/"
        },
        "id": "cgB4vaU4gSK1",
        "outputId": "3d0aa48e-ac1d-4fc9-b897-d71e62008898"
      },
      "source": [
        "# (2) 다르다\r\n",
        "B @ A"
      ],
      "execution_count": 18,
      "outputs": [
        {
          "output_type": "execute_result",
          "data": {
            "text/plain": [
              "array([[ 9, 12, 15],\n",
              "       [19, 26, 33],\n",
              "       [29, 40, 51]])"
            ]
          },
          "metadata": {
            "tags": []
          },
          "execution_count": 18
        }
      ]
    },
    {
      "cell_type": "code",
      "metadata": {
        "colab": {
          "base_uri": "https://localhost:8080/"
        },
        "id": "xPAf3h8Rgbna",
        "outputId": "1125ab06-2d85-49ed-84f1-5c36b0d12e8d"
      },
      "source": [
        "# (3) BA는 계산 불가하다. 행렬이 안맞아서\r\n",
        "A = np.array([[1, 2, 3]])               # 1 x 3\r\n",
        "B = np.array([[4, 7], [5, 8], [6, 9]])  # 3 x 2\r\n",
        "print( A @ B )"
      ],
      "execution_count": 19,
      "outputs": [
        {
          "output_type": "stream",
          "text": [
            "[[32 50]]\n"
          ],
          "name": "stdout"
        }
      ]
    },
    {
      "cell_type": "code",
      "metadata": {
        "colab": {
          "base_uri": "https://localhost:8080/"
        },
        "id": "mCh9uxDIhAKJ",
        "outputId": "ef762f59-a620-4828-8fba-d41dc1d168fc"
      },
      "source": [
        "# (4) 다르다.\r\n",
        "A = np.array([[1, 2],[3, 4]])   # 2 x 2\r\n",
        "B = np.array([[5, 6],[7, 8]])   # 2 x 2\r\n",
        "print( A @ B )\r\n",
        "print( B @ A )"
      ],
      "execution_count": 20,
      "outputs": [
        {
          "output_type": "stream",
          "text": [
            "[[19 22]\n",
            " [43 50]]\n",
            "[[23 34]\n",
            " [31 46]]\n"
          ],
          "name": "stdout"
        }
      ]
    },
    {
      "cell_type": "code",
      "metadata": {
        "colab": {
          "base_uri": "https://localhost:8080/"
        },
        "id": "-OfmYmfphVs4",
        "outputId": "9415e013-5c81-45eb-de0e-654f093c3a4f"
      },
      "source": [
        "# (5) 3 x 3, 2 x 2\r\n",
        "A = np.array([[1, 2],[3, 4],[5, 6]]) \r\n",
        "print( A @ A.T )\r\n",
        "print( A.T @ A )"
      ],
      "execution_count": 21,
      "outputs": [
        {
          "output_type": "stream",
          "text": [
            "[[ 5 11 17]\n",
            " [11 25 39]\n",
            " [17 39 61]]\n",
            "[[35 44]\n",
            " [44 56]]\n"
          ],
          "name": "stdout"
        }
      ]
    },
    {
      "cell_type": "code",
      "metadata": {
        "colab": {
          "base_uri": "https://localhost:8080/"
        },
        "id": "tWAXeK8Fhp_v",
        "outputId": "d363d977-0127-4584-f6eb-78671970db3a"
      },
      "source": [
        "# (5) 후자가 스칼라이다.\r\n",
        "x = np.array([[1],[2],[3]]) \r\n",
        "print( x @ x.T )\r\n",
        "print( x.T @ x )"
      ],
      "execution_count": 22,
      "outputs": [
        {
          "output_type": "stream",
          "text": [
            "[[1 2 3]\n",
            " [2 4 6]\n",
            " [3 6 9]]\n",
            "[[14]]\n"
          ],
          "name": "stdout"
        }
      ]
    },
    {
      "cell_type": "markdown",
      "metadata": {
        "id": "D3LhiSQAiYHu"
      },
      "source": [
        "- 인공신경망의 구조를 행렬과 벡터의 곱으로 나타내 보자\r\n",
        "> $\r\n",
        "\\begin{bmatrix}\r\n",
        "\\hat{y}_{1} \\\\\r\n",
        "\\hat{y}_{2} \\\\\r\n",
        "\\end{bmatrix}\r\n",
        "=\r\n",
        "\\begin{bmatrix}\r\n",
        "w_{11} & w_{12} & w_{13} \\\\\r\n",
        "w_{21} & w_{22} & w_{23} \\\\\r\n",
        "\\end{bmatrix}\r\n",
        "\\begin{bmatrix}\r\n",
        "x_{1} \\\\\r\n",
        "x_{2} \\\\\r\n",
        "x_{3} \\\\    \r\n",
        "\\end{bmatrix}\r\n",
        "$   \r\n",
        "> $\r\n",
        "\\hat{y} = Wx \r\n",
        "$"
      ]
    },
    {
      "cell_type": "markdown",
      "metadata": {
        "id": "fxTvH6gvik7i"
      },
      "source": [
        "### 12) 교환 법칙과 분배 법칙\r\n",
        "1. 행렬의 곱셈은 곱하는 행렬의 순서를 바꾸는 교환 법칙이 성립하지 않는다. 그러나 덧셈에 대한 분배 법칙은 성립한다. \r\n",
        "> $ AB \\neq BA  $   \r\n",
        "> $ A(B + C) = AB + AC $   \r\n",
        "> $ (A + B)C = AC + BC $\r\n",
        "2. $A$, $B$, $C$가 다음과 같을 때 위 법칙을 넘파이로 살펴보자.\r\n",
        "> $ \r\n",
        "A = \\begin{bmatrix} 1 & 2 \\\\ 3 & 4 \\end{bmatrix}\r\n",
        "$, $\r\n",
        "B = \\begin{bmatrix} 5 & 6 \\\\ 7 & 8 \\end{bmatrix}\r\n",
        "$, $ C = \\begin{bmatrix} 9 & 8 \\\\ 7 & 6 \\end{bmatrix}\r\n",
        "$\r\n",
        "3. 전치 연산도 마찬가지로 덧셈/뺄셈에 대해 분배 법칙이 성립한다.\r\n",
        "> $ \r\n",
        "(A + B)^T = A^T + B^T  \r\n",
        "$\r\n",
        "4. 전치 연산과 곱셈의 경우에는 분배 법칙이 성립하기는 하지만 전치 연산이 분배되면서 곱셈의 순서가 바뀐다. \r\n",
        "> $ \r\n",
        "(AB)^T = B^T A^T  \r\n",
        "$   \r\n",
        "> $ \r\n",
        "(ABC)^T = C^T B^T A^T \r\n",
        "$\r\n"
      ]
    },
    {
      "cell_type": "code",
      "metadata": {
        "colab": {
          "base_uri": "https://localhost:8080/"
        },
        "id": "C76pZRQajCrD",
        "outputId": "5dd6e21e-9152-433f-f672-3b27ca114905"
      },
      "source": [
        "A = np.array([[1, 2], [3, 4]])\r\n",
        "B = np.array([[5, 6], [7, 8]])\r\n",
        "C = np.array([[9, 8], [7, 6]])\r\n",
        "\r\n",
        "# 교환 법칙 미성립\r\n",
        "print(A @ B)\r\n",
        "print(B @ A)"
      ],
      "execution_count": 23,
      "outputs": [
        {
          "output_type": "stream",
          "text": [
            "[[19 22]\n",
            " [43 50]]\n",
            "[[23 34]\n",
            " [31 46]]\n"
          ],
          "name": "stdout"
        }
      ]
    },
    {
      "cell_type": "code",
      "metadata": {
        "colab": {
          "base_uri": "https://localhost:8080/"
        },
        "id": "pTGLsqCujH1F",
        "outputId": "afe647f1-83f7-4b49-ec4b-6ecf7148ecfc"
      },
      "source": [
        "# 분배 법칙 성립\r\n",
        "print(A @ (B + C))\r\n",
        "print(A @ B + A @ C)\r\n",
        "print((A + B) @ C)\r\n",
        "print(A @ C + B @ C)"
      ],
      "execution_count": 24,
      "outputs": [
        {
          "output_type": "stream",
          "text": [
            "[[42 42]\n",
            " [98 98]]\n",
            "[[42 42]\n",
            " [98 98]]\n",
            "[[110  96]\n",
            " [174 152]]\n",
            "[[110  96]\n",
            " [174 152]]\n"
          ],
          "name": "stdout"
        }
      ]
    },
    {
      "cell_type": "code",
      "metadata": {
        "colab": {
          "base_uri": "https://localhost:8080/"
        },
        "id": "KHNfYMYbj4kq",
        "outputId": "578860ff-6aa4-4b95-ef59-c7caa72abc33"
      },
      "source": [
        "# 전치 연산 분배 법칙 성립\r\n",
        "print((A + B).T)\r\n",
        "print(A.T + B.T)"
      ],
      "execution_count": 25,
      "outputs": [
        {
          "output_type": "stream",
          "text": [
            "[[ 6 10]\n",
            " [ 8 12]]\n",
            "[[ 6 10]\n",
            " [ 8 12]]\n"
          ],
          "name": "stdout"
        }
      ]
    },
    {
      "cell_type": "code",
      "metadata": {
        "colab": {
          "base_uri": "https://localhost:8080/"
        },
        "id": "fGLXhx6mj9c-",
        "outputId": "f8b4f714-2430-4d03-f825-7722a8420dc9"
      },
      "source": [
        "# 전치 연산 곱셈은 분배 법칙이 성립하지만, 곱셈의 순서가 바뀐다.\r\n",
        "print((A @ B).T)\r\n",
        "print(B.T @ A.T)"
      ],
      "execution_count": 26,
      "outputs": [
        {
          "output_type": "stream",
          "text": [
            "[[19 43]\n",
            " [22 50]]\n",
            "[[19 43]\n",
            " [22 50]]\n"
          ],
          "name": "stdout"
        }
      ]
    },
    {
      "cell_type": "markdown",
      "metadata": {
        "id": "1F-00FS_j-qN"
      },
      "source": [
        "#### 연습 문제 2.2.5\r\n",
        "\r\n",
        "(1) 길이가 같은 일벡터 $1_N \\in \\mathbf{R}^N$와 행벡터 $x \\in \\mathbf{R}^N$의 곱은 행벡터 $x$를 반복하여 가지는 행렬과 같음을 보여라.\r\n",
        "\r\n",
        "$\r\n",
        "\\mathbf{1}_N^{} x^T\r\n",
        "=\r\n",
        "\\begin{bmatrix}\r\n",
        "{x}^T \\\\\r\n",
        "{x}^T \\\\\r\n",
        "\\vdots    \\\\\r\n",
        "{x}^T \\\\\r\n",
        "\\end{bmatrix}\r\n",
        "$\r\n",
        "> $\r\n",
        "\\mathbf{1}_N^{} x^T\r\n",
        "=\r\n",
        "\\begin{bmatrix}\r\n",
        "1 \\\\\r\n",
        "1 \\\\\r\n",
        "\\vdots    \\\\\r\n",
        "1 \\\\\r\n",
        "\\end{bmatrix}\r\n",
        "\\begin{bmatrix}\r\n",
        "x_{1} & x_{2} & \\cdots & x_{N} \r\n",
        "\\end{bmatrix}\r\n",
        "=\r\n",
        "\\begin{bmatrix}\r\n",
        "x_{1} & x_{2} & \\cdots & x_{N} \\\\\r\n",
        "x_{1} & x_{2} & \\cdots & x_{N} \\\\\r\n",
        "\\vdots & \\vdots & \\ddots & \\vdots \\\\\r\n",
        "x_{1} & x_{2} & \\cdots & x_{N} \\\\\r\n",
        "\\end{bmatrix}\r\n",
        "=\r\n",
        "\\begin{bmatrix}\r\n",
        "{x}^T \\\\\r\n",
        "{x}^T \\\\\r\n",
        "\\vdots    \\\\\r\n",
        "{x}^T \\\\\r\n",
        "\\end{bmatrix}\r\n",
        "$\r\n",
        "\r\n",
        "(2) 행렬 $X \\,( X \\in \\mathbf{R}^{N \\times M})$가 있을 때, 이 행렬의 각 열의 평균으로 이루어진 벡터 $\\bar{x}\\,( \\bar{x} \\in \\mathbf{R}^{M})$가 다음과 같음을 보여라.\r\n",
        "\r\n",
        "$$ \r\n",
        "\\begin{align}\r\n",
        "\\bar{x} = \\dfrac{1}{N} X^T \\mathbf{1}_N  \r\n",
        "\\tag{2.2.63}\r\n",
        "\\end{align}\r\n",
        "$$\r\n",
        "> if, $\r\n",
        " X =\r\n",
        "\\begin{bmatrix}\r\n",
        "x_{1,1} & x_{1,2} & \\cdots & x_{1,M} \\\\\r\n",
        "x_{2,1} & x_{2,2} & \\cdots & x_{2,M} \\\\\r\n",
        "\\vdots & \\vdots & \\ddots & \\vdots \\\\\r\n",
        "x_{N,1} & x_{N,2} & \\cdots & x_{N,M} \\\\\r\n",
        "\\end{bmatrix}\r\n",
        "$   \r\n",
        "> $\r\n",
        "\\dfrac{1}{N} X^T \\mathbf{1}_N \r\n",
        "=\r\n",
        "\\dfrac{1}{N}\r\n",
        "\\begin{bmatrix}\r\n",
        "x_{1,1} & x_{1,2} & \\cdots & x_{1,M} \\\\\r\n",
        "x_{2,1} & x_{2,2} & \\cdots & x_{2,M} \\\\\r\n",
        "\\vdots & \\vdots & \\ddots & \\vdots \\\\\r\n",
        "x_{N,1} & x_{N,2} & \\cdots & x_{N,M} \\\\\r\n",
        "\\end{bmatrix}\r\n",
        "\\begin{bmatrix}\r\n",
        "1 \\\\\r\n",
        "1 \\\\\r\n",
        "\\vdots    \\\\\r\n",
        "1 \\\\\r\n",
        "\\end{bmatrix}\r\n",
        "=\r\n",
        "\\begin{bmatrix}\r\n",
        "\\dfrac{1}{N} \\sum_{n=1}^{N} x_{N,1}\\\\\r\n",
        "\\dfrac{1}{N} \\sum_{n=1}^{N} x_{N,1}\\\\\r\n",
        "\\vdots    \\\\\r\n",
        "\\dfrac{1}{N} \\sum_{n=1}^{N} x_{N,1}\\\\\r\n",
        "\\end{bmatrix}\r\n",
        "=\r\n",
        "\\bar{x}\r\n",
        "$\r\n",
        "\r\n",
        "(3) 행렬 $\\bar{X}\\ ( \\bar{X} \\in \\mathbf{R}^{N \\times M})$는 동일한 벡터 $\\bar{x}^T$를 $N$개 누적하여 만든 행렬이다. 즉 각 열의 모든 값이 그 열의 평균으로 이루어진 행렬이다.\r\n",
        "\r\n",
        "$$\r\n",
        "\\begin{align}\r\n",
        "\\bar{X} =\r\n",
        "\\begin{bmatrix}\r\n",
        "\\bar{x}^T \\\\\r\n",
        "\\bar{x}^T \\\\\r\n",
        "\\vdots\\\\\r\n",
        "\\bar{x}^T \\\\\r\n",
        "\\end{bmatrix}\r\n",
        "\\tag{2.2.64}\r\n",
        "\\end{align}\r\n",
        "$$\r\n",
        "\r\n",
        "이때 $\\bar{X}$가 다음과 같음을 보여라.\r\n",
        "\r\n",
        "$$ \r\n",
        "\\begin{align}\r\n",
        "\\bar{X} = \\dfrac{1}{N} \\mathbf{1}_N^{} \\mathbf{1}_N^T X \r\n",
        "\\tag{2.2.65}\r\n",
        "\\end{align}\r\n",
        "$$\r\n",
        "\r\n",
        "> $\r\n",
        "\\dfrac{1}{N} \\mathbf{1}_N^{} \\mathbf{1}_N^T X \r\n",
        "=\r\n",
        "\\mathbf{1}_N({\\dfrac{1}{N} \\mathbf{1}_N^T X })\r\n",
        "=\r\n",
        "\\mathbf{1}_N({\\dfrac{1}{N} X^{T} \\mathbf{1}_N })^{T}\r\n",
        "=\r\n",
        "\\begin{bmatrix}\r\n",
        "1 \\\\\r\n",
        "1 \\\\\r\n",
        "\\vdots    \\\\\r\n",
        "1 \\\\\r\n",
        "\\end{bmatrix}\r\n",
        "\\bar{x}^{T}\r\n",
        "=\r\n",
        "\\begin{bmatrix}\r\n",
        "\\bar{x}^{T} \\\\\r\n",
        "\\bar{x}^{T} \\\\\r\n",
        "\\vdots    \\\\\r\n",
        "\\bar{x}^{T} \\\\\r\n",
        "\\end{bmatrix}\r\n",
        "$\r\n",
        "\r\n",
        "(4) 다음 코드를 실행하면 붓꽃 전체 데이터를 모두 벡터로 변환하여 하나의 넘파이 행렬  X 를 만든다. \r\n",
        "\r\n",
        "```\r\n",
        "from sklearn.datasets import load_iris\r\n",
        "X = load_iris().data\r\n",
        "```\r\n",
        "이 데이터로 행렬 $\\bar{X}$의 값을 계산하라. 이 행렬은 첫 번째 열의 값이 모두 같은 값으로 붓꽃의 꽃받침의 길이(sepal length)의 평균이고 두 번째 열의 값이 모두 같은 값으로 붓꽃의 꽃받침의 폭(sepal width)의 평균,  이런 식으로 계산된 행렬이다."
      ]
    },
    {
      "cell_type": "code",
      "metadata": {
        "id": "sQej557dj-2U",
        "colab": {
          "base_uri": "https://localhost:8080/"
        },
        "outputId": "15e35d67-fd79-4199-ed32-051bc5f14c67"
      },
      "source": [
        "from sklearn.datasets import load_iris\r\n",
        "X = load_iris().data\r\n",
        "N = X.shape[0]\r\n",
        "ones = np.ones(N).reshape(-1,1) # 길이 150인 1로 채워진 vector 생성\r\n",
        "\r\n",
        "x_bar = ((ones @ ones.T) @ X) / N # ones를 각 요소별로 \r\n",
        "# ones @ ones.T = 150 x 1 @ 1 x 150 = 150 x 150\r\n",
        "x_bar[:5]"
      ],
      "execution_count": 40,
      "outputs": [
        {
          "output_type": "execute_result",
          "data": {
            "text/plain": [
              "array([[5.84333333, 3.05733333, 3.758     , 1.19933333],\n",
              "       [5.84333333, 3.05733333, 3.758     , 1.19933333],\n",
              "       [5.84333333, 3.05733333, 3.758     , 1.19933333],\n",
              "       [5.84333333, 3.05733333, 3.758     , 1.19933333],\n",
              "       [5.84333333, 3.05733333, 3.758     , 1.19933333]])"
            ]
          },
          "metadata": {
            "tags": []
          },
          "execution_count": 40
        }
      ]
    },
    {
      "cell_type": "markdown",
      "metadata": {
        "id": "HqCeuCmTFck4"
      },
      "source": [
        "### 13) 곱셈의 연결\r\n",
        "1. 연속된 행렬의 곱셈은 계산 순서를 임의의 순서로 해도 상관없다.\r\n",
        "> $ \r\n",
        "ABC = (AB)C = A(BC)  \r\n",
        "$\r\n",
        "> $ \r\n",
        "ABCD = ((AB)C)D = (AB)(CD) = A(BCD) = A(BC)D  \r\n",
        "$\r\n",
        "\r\n",
        "#### 연습 문제 2.2.6\r\n",
        "\r\n",
        "다음 행렬의 곱셈을 순서를 바꾸어 두 가지 방법으로 해본다.\r\n",
        "\r\n",
        "$$ \r\n",
        "\\begin{align}\r\n",
        "\\begin{bmatrix} 1 & 2 \\end{bmatrix} \r\n",
        "\\begin{bmatrix} 1 & 2 \\\\ 3 & 4 \\end{bmatrix} \r\n",
        "\\begin{bmatrix} 5 \\\\ 6 \\end{bmatrix}\r\n",
        "\\tag{2.2.68}\r\n",
        "\\end{align}\r\n",
        "$$"
      ]
    },
    {
      "cell_type": "code",
      "metadata": {
        "colab": {
          "base_uri": "https://localhost:8080/"
        },
        "id": "d0gMaEigEeSQ",
        "outputId": "d37f3087-6508-41b5-edd4-2b82ef0d2ca3"
      },
      "source": [
        "A = np.array([[1, 2]])\r\n",
        "B = np.array([[1, 2], [3, 4]])\r\n",
        "C = np.array([[5], [6]])\r\n",
        "print( A @ (B @ C))\r\n",
        "print( (A @ B) @ C)"
      ],
      "execution_count": 45,
      "outputs": [
        {
          "output_type": "stream",
          "text": [
            "[[95]]\n",
            "[[95]]\n"
          ],
          "name": "stdout"
        }
      ]
    },
    {
      "cell_type": "markdown",
      "metadata": {
        "id": "4Rz8qXTSGpCN"
      },
      "source": [
        "### 14) 항등행렬의 곱셈\r\n",
        "1. 어떤 행렬이든 항등행렬을 곱하면 그 행렬의 값이 변하지 않는다. \r\n",
        "> $  AI = IA = A  $\r\n"
      ]
    },
    {
      "cell_type": "code",
      "metadata": {
        "colab": {
          "base_uri": "https://localhost:8080/"
        },
        "id": "fGsU-Q3GG1Ci",
        "outputId": "cf395edc-df61-435c-8e45-6138bfb9cd69"
      },
      "source": [
        "A = np.array([[1, 2], [3, 4]])\r\n",
        "I = np.eye(2)\r\n",
        "print(A @ I)\r\n",
        "print(I @ A)"
      ],
      "execution_count": 46,
      "outputs": [
        {
          "output_type": "stream",
          "text": [
            "[[1. 2.]\n",
            " [3. 4.]]\n",
            "[[1. 2.]\n",
            " [3. 4.]]\n"
          ],
          "name": "stdout"
        }
      ]
    },
    {
      "cell_type": "markdown",
      "metadata": {
        "id": "Wzy85Z8DG9HE"
      },
      "source": [
        "## 2. 행렬과 벡터의 곱\r\n",
        "1. 행렬의 곱셈 중 가장 널리 쓰이는 것은 다음과 같은 형태의 행렬 $M$과 벡터 $v$의 곱이다.\r\n",
        "> $ Mv $\r\n",
        "2. 벡터와 행렬의 크기를 직사각형으로 표시하면 다음과 같다.\r\n",
        "> $\r\n",
        "\\boxed{\\begin{matrix} \r\n",
        "\\phantom{} & \\phantom{} & \\phantom{} & \\phantom{} & \\phantom{} \\\\ \r\n",
        "& & M & &\\\\ \r\n",
        "\\phantom{} & \\phantom{} & \\phantom{} & \\phantom{} & \\phantom{} \\\\ \r\n",
        "\\end{matrix}} \\,\r\n",
        "\\boxed{\\begin{matrix} \\phantom{\\LARGE\\mathstrut} \\\\ v \\\\ \\phantom{\\LARGE\\mathstrut} \\end{matrix}}\r\n",
        "=\r\n",
        "\\boxed{\\begin{matrix} \r\n",
        "\\phantom{} \\\\ \r\n",
        "Mv \\\\ \r\n",
        "\\phantom{}  \r\n",
        "\\end{matrix}}\r\n",
        "$\r\n",
        "3. 행렬과 벡터의 곱을 사용하는 몇가지의 예를 살펴보자\r\n",
        "\r\n",
        "<br/>\r\n",
        "\r\n",
        "### 1) 열 벡터의 선형조합\r\n",
        "1. 행렬 $X$와 벡터 $w$의 곱 = 행렬 $X$를 이루는 열벡터 $c_1, c_2, \\ldots, c_M$을 뒤에 곱해지는 벡터 $w$의 각 성분 $w_1, w_2, \\ldots, w_M$으로 선형조합(linear combination)을 한 결과 벡터\r\n",
        "> $\r\n",
        "Xw=\r\n",
        "\\begin{bmatrix}\r\n",
        "c_1 & c_2 & \\cdots & c_M\r\n",
        "\\end{bmatrix}\r\n",
        "\\begin{bmatrix}\r\n",
        "w_1 \\\\ w_2 \\\\ \\vdots \\\\ w_M\r\n",
        "\\end{bmatrix}\r\n",
        "=\r\n",
        "w_1 c_1 + w_2 c_2 + \\cdots + w_M c_M\r\n",
        "$\r\n",
        "2. 벡터의 크기를 직사각형으로 표시하면 다음과 같다.\r\n",
        "> $\r\n",
        "\\begin{bmatrix}\r\n",
        "\\boxed{\\begin{matrix} \\phantom{\\LARGE\\mathstrut} \\\\ c_{1_{\\phantom{1}}} \\\\ \\phantom{\\LARGE\\mathstrut} \\end{matrix}} &\r\n",
        "\\boxed{\\begin{matrix} \\phantom{\\LARGE\\mathstrut} \\\\ c_{2_{\\phantom{1}}} \\\\ \\phantom{\\LARGE\\mathstrut} \\end{matrix}} &\r\n",
        "\\cdots & \r\n",
        "\\boxed{\\begin{matrix} \\phantom{\\LARGE\\mathstrut} \\\\ c_M \\\\ \\phantom{\\LARGE\\mathstrut} \\end{matrix}} \r\n",
        "\\end{bmatrix} \r\n",
        "\\begin{bmatrix}\r\n",
        "w_1 \\\\ w_2 \\\\ \\vdots \\\\ w_M\r\n",
        "\\end{bmatrix}\r\n",
        "=\r\n",
        "\\begin{matrix}\r\n",
        "w_1\\,\\boxed{\\begin{matrix} \\phantom{\\LARGE\\mathstrut} \\\\ c_{1_{\\phantom{1}}} \\\\ \\phantom{\\LARGE\\mathstrut} \\end{matrix}} & + &\r\n",
        "w_2\\,\\boxed{\\begin{matrix} \\phantom{\\LARGE\\mathstrut} \\\\ c_{2_{\\phantom{1}}} \\\\ \\phantom{\\LARGE\\mathstrut} \\end{matrix}}& + & \r\n",
        "\\cdots \\!\\!\\!\\!& + & \r\n",
        "w_M\\,\\boxed{\\begin{matrix} \\phantom{\\LARGE\\mathstrut} \\\\ c_M \\\\ \\phantom{\\LARGE\\mathstrut} \\end{matrix}}\r\n",
        "\\end{matrix}\r\n",
        "$\r\n",
        "\r\n",
        "<br/>\r\n",
        "\r\n",
        "#### 연습 문제 2.2.7\r\n",
        "\r\n",
        "다음 행렬 $X$와 벡터 $w$에 대해 곱 $Xw$가 열벡터 $c_1, c_2, c_3$의 선형조합 $w_1c_1 + w_2c_2 + w_3c_3$가 됨을 실제 계산으로 증명하라.\r\n",
        "\r\n",
        "$$ \r\n",
        "\\begin{align}\r\n",
        "X = \\begin{bmatrix} 1 & 2 & 3  \\\\ 4 & 5 & 6 \\end{bmatrix}, \\;\\;\r\n",
        "w = \\begin{bmatrix} 2 \\\\ 3 \\\\ 4 \\end{bmatrix}\r\n",
        "\\tag{2.2.74}\r\n",
        "\\end{align}\r\n",
        "$$\r\n",
        "\r\n",
        "<br/>\r\n",
        "\r\n",
        "#### 연습 문제 2.2.8\r\n",
        "\r\n",
        "벡터 $v_1, v_2, v_3$로 이루어진 행렬 $V$와 벡터 $\\lambda$에 대해 다음 식이 성립함을 증명하라. 이 식에서 $\\lambda_1$는 스칼라이다.\r\n",
        "\r\n",
        "$$\r\n",
        "\\begin{align}\r\n",
        "V\\lambda = \r\n",
        "\\begin{bmatrix}\r\n",
        "v_{1} & v_{2} & v_{3}\r\n",
        "\\end{bmatrix}\r\n",
        "\\begin{bmatrix}\r\n",
        "\\lambda_{1} \\\\ 0 \\\\ 0 \r\n",
        "\\end{bmatrix}\r\n",
        "= \\lambda_1 v_1 \r\n",
        "\\tag{2.2.75}\r\n",
        "\\end{align}\r\n",
        "$$\r\n",
        "\r\n",
        "> $\r\n",
        "V\\lambda = \r\n",
        "\\begin{bmatrix}\r\n",
        "v_{1} & v_{2} & v_{3}\r\n",
        "\\end{bmatrix}\r\n",
        "\\begin{bmatrix}\r\n",
        "\\lambda_{1} \\\\ 0 \\\\ 0 \r\n",
        "\\end{bmatrix}\r\n",
        "=\r\n",
        "\\lambda_{1} \\cdot v_{1} + 0 \\cdot v_{2} + 0 \\cdot v_{3} = \\lambda_1 v_1 \r\n",
        "$\r\n",
        "\r\n"
      ]
    },
    {
      "cell_type": "code",
      "metadata": {
        "colab": {
          "base_uri": "https://localhost:8080/"
        },
        "id": "q2LVXXkoIIoz",
        "outputId": "25505d5e-14f3-4260-94b3-401ed72af253"
      },
      "source": [
        "X = np.array([[1, 2, 3], [4, 5, 6]])\r\n",
        "w = np.array([[2],[3],[4]])\r\n",
        "X @ w"
      ],
      "execution_count": 49,
      "outputs": [
        {
          "output_type": "execute_result",
          "data": {
            "text/plain": [
              "array([[20],\n",
              "       [47]])"
            ]
          },
          "metadata": {
            "tags": []
          },
          "execution_count": 49
        }
      ]
    },
    {
      "cell_type": "markdown",
      "metadata": {
        "id": "sUUj3q8LJZox"
      },
      "source": [
        "### 2) 여러 개의 벡터에 대한 가중합 동시 계산\r\n",
        "1. 벡터 하나의 가중합은 $w^Tx$ 또는 $x^Tw$로 표시할 수 있다는 것을 배웠다. 여러 벡터 $x_1, \\cdots, x_M$ 개에 대해서 모두 계산해야 한다면 어떻게 해야 할까? \r\n",
        "2. $x_1, x_2, x_3, \\cdots, x_N$ 개의 데이터 모두에 대해 예측값 $y_1, y_2, y_3, \\cdots, y_N$을 한꺼번에 계산하고 싶다면 다음처럼 데이터 행렬 $X$를 사용하여  $\\hat{y} = Xw$라는 수식으로 간단하게 표시할 수 있다.\r\n",
        "> $\r\n",
        "\\begin{aligned}\r\n",
        "\\hat{y} = \r\n",
        "\\begin{bmatrix}\r\n",
        "\\hat{y}_1 \\\\\r\n",
        "\\hat{y}_2 \\\\\r\n",
        "\\vdots \\\\\r\n",
        "\\hat{y}_M \\\\\r\n",
        "\\end{bmatrix}\r\n",
        "&= \r\n",
        "\\begin{bmatrix}\r\n",
        "w_1 x_{1,1} + w_2 x_{1,2} + \\cdots + w_N x_{1,N} \\\\\r\n",
        "w_1 x_{2,1} + w_2 x_{2,2} + \\cdots + w_N x_{2,N} \\\\\r\n",
        "\\vdots  \\\\\r\n",
        "w_1 x_{M,1} + w_2 x_{M,2} + \\cdots + w_N x_{M,N} \\\\\r\n",
        "\\end{bmatrix}\r\n",
        "\\\\\r\n",
        "&= \r\n",
        "\\begin{bmatrix}\r\n",
        "x_{1,1} & x_{1,2} & \\cdots & x_{1,N} \\\\\r\n",
        "x_{2,1} & x_{2,2} & \\cdots & x_{2,N} \\\\\r\n",
        "\\vdots  & \\vdots  & \\vdots & \\vdots \\\\\r\n",
        "x_{M,1} & x_{M,2} & \\cdots & x_{M,N} \\\\\r\n",
        "\\end{bmatrix}\r\n",
        "\\begin{bmatrix}\r\n",
        "w_1 \\\\ w_2 \\\\ \\vdots \\\\ w_N\r\n",
        "\\end{bmatrix}\r\n",
        "\\\\\r\n",
        "&= \r\n",
        "\\begin{bmatrix}\r\n",
        "x_1^T \\\\\r\n",
        "x_2^T \\\\\r\n",
        "\\vdots \\\\\r\n",
        "x_M^T \\\\\r\n",
        "\\end{bmatrix}\r\n",
        "\\begin{bmatrix}\r\n",
        "w_1 \\\\ w_2 \\\\ \\vdots \\\\ w_N\r\n",
        "\\end{bmatrix}\r\n",
        "\\\\\r\n",
        "&= X w\r\n",
        "\\end{aligned}\r\n",
        "$   \r\n",
        "> 즉 $ \r\n",
        "\\hat{y} = Xw  \r\n",
        "$\r\n",
        "\r\n",
        "\r\n"
      ]
    },
    {
      "cell_type": "markdown",
      "metadata": {
        "id": "8etl7dxwKQze"
      },
      "source": [
        "#### 연습 문제 2.2.11\r\n",
        "\r\n",
        "다음 3차원 벡터와 행렬에 대해 이차형식을 쓰고 값을 계산하라.\r\n",
        "\r\n",
        "$$\r\n",
        "\\begin{align}\r\n",
        "x = \\begin{bmatrix} x_1 \\\\ x_2 \\\\ x_3 \\end{bmatrix}\r\n",
        "\\tag{2.2.86}\r\n",
        "\\end{align}\r\n",
        "$$\r\n",
        "\r\n",
        "$$ \r\n",
        "\\begin{align}\r\n",
        "A = \r\n",
        "\\begin{bmatrix} \r\n",
        "a_{11} & a_{12} & a_{13} \\\\\r\n",
        "a_{21} & a_{22} & a_{23} \\\\\r\n",
        "a_{31} & a_{32} & a_{33} \\\\\r\n",
        "\\end{bmatrix} \r\n",
        "\\tag{2.2.87}\r\n",
        "\\end{align}\r\n",
        "$$\r\n",
        "> $\r\n",
        "\\begin{aligned}\r\n",
        "x^{T}Ax \r\n",
        "&=\r\n",
        "\\begin{bmatrix} \r\n",
        "x_1 & x_2 & x_3 \r\n",
        "\\end{bmatrix}\r\n",
        "\\begin{bmatrix} \r\n",
        "a_{11} & a_{12} & a_{13} \\\\\r\n",
        "a_{21} & a_{22} & a_{23} \\\\\r\n",
        "a_{31} & a_{32} & a_{33} \\\\\r\n",
        "\\end{bmatrix} \r\n",
        "\\begin{bmatrix} x_1 \\\\ x_2 \\\\ x_3 \\end{bmatrix} \\\\\r\n",
        "&=\r\n",
        "\\begin{bmatrix} \r\n",
        "(a_{11}x_{1} + a_{21}x_{2} + a_{31}x_{3}) &\r\n",
        "(a_{12}x_{1} + a_{22}x_{2} + a_{32}x_{3}) &\r\n",
        "(a_{13}x_{1} + a_{23}x_{2} + a_{33}x_{3})\r\n",
        "\\end{bmatrix} \r\n",
        "\\begin{bmatrix} x_1 \\\\ x_2 \\\\ x_3 \\end{bmatrix} \\\\\r\n",
        "&= \r\n",
        "a_{11} {x_{1}}^{2}+ a_{21} x_{1} x_{2} + a_{31} x_{1} x_{3} + a_{11} x_{1} x_{3} + a_{21} {x_{2}}^{2} + a_{31} x_{3} x_{2} + a_{11} x_{1} x_{3} + a_{21} x_{2} x_{3} + a_{31} {x_{3}}^{2} \\\\\r\n",
        "&=\r\n",
        "\\sum_{i=1}^{N}\r\n",
        "\\sum_{j=1}^{N}\r\n",
        "a_{ij} x_{i} x{j}\r\n",
        "\\end{aligned}\r\n",
        "$"
      ]
    },
    {
      "cell_type": "code",
      "metadata": {
        "colab": {
          "base_uri": "https://localhost:8080/"
        },
        "id": "im1L61IdNuRW",
        "outputId": "6b9133e2-da87-4800-f35e-effaba347dd0"
      },
      "source": [
        "x = np.array([1, 2, 3])\r\n",
        "A = np.arange(1, 10).reshape(3, 3)\r\n",
        "x @ A @ x.T\r\n",
        "# 이차형식 = 행벡터 X  정방행렬 X 열벡터"
      ],
      "execution_count": 50,
      "outputs": [
        {
          "output_type": "execute_result",
          "data": {
            "text/plain": [
              "228"
            ]
          },
          "metadata": {
            "tags": []
          },
          "execution_count": 50
        }
      ]
    },
    {
      "cell_type": "markdown",
      "metadata": {
        "id": "doqvbC3jN9Ot"
      },
      "source": [
        "#### 연습 문제 2.2.12\r\n",
        "\r\n",
        "다음 식이 성립함을 증명하라.\r\n",
        "\r\n",
        "$$ \r\n",
        "\\begin{align}\r\n",
        "x^TAx = \\dfrac{1}{2}x^T(A + A^T)x \r\n",
        "\\tag{2.2.89}\r\n",
        "\\end{align}\r\n",
        "$$\r\n",
        "\r\n",
        "> $ x^TAx $ 는 스칼라이므로 전치 연산을 해도 같다.\r\n",
        "$\r\n",
        "x^TAx\r\n",
        "=\r\n",
        "(x^TAx)^{T} = x^TA^{T} (x^{T})^{T} = x^TA^{T}x\r\n",
        "$\r\n",
        "> $\r\n",
        "x^TAx = \\dfrac{1}{2}x^TAx + \\dfrac{1}{2}x^{T}A^{T}\r\n",
        "=\r\n",
        "\\dfrac{1}{2}x^T(A + A^T)x \r\n",
        "\r\n",
        "$"
      ]
    },
    {
      "cell_type": "markdown",
      "metadata": {
        "id": "OclFaf7EPgBi"
      },
      "source": [
        "### 3) 부분행렬\r\n",
        "1. 다음과 같은 2차원 정방행렬 $A$, $B$가 있다.\r\n",
        "> $\r\n",
        "A = \r\n",
        "\\begin{bmatrix}\r\n",
        "a_{11} & a_{12} \\\\\r\n",
        "a_{21} & a_{22}\r\n",
        "\\end{bmatrix}\r\n",
        ",\\;\\;\r\n",
        "B = \r\n",
        "\\begin{bmatrix}\r\n",
        "b_{11} & b_{12} \\\\\r\n",
        "b_{21} & b_{22}\r\n",
        "\\end{bmatrix}\r\n",
        "$\r\n",
        "2. 이때 두 행렬의 곱 $AB$는 $A$, $B$의 **부분행렬(submatrix)**을 이용하여 여러 방법으로 계산할 수 있다.   \r\n",
        "\r\n",
        "> 1) 우선 앞에 곱해지는 행렬을 행벡터로 나누어 계산해도 된다.\r\n",
        ">> $\r\n",
        "A = \r\n",
        "\\begin{bmatrix}\r\n",
        "\\boxed{\\begin{matrix} \\phantom{} & a_1^T & \\phantom{} \\end{matrix}} \\\\ \r\n",
        "\\boxed{\\begin{matrix} \\phantom{} & a_2^T & \\phantom{} \\end{matrix}} \\\\ \r\n",
        "\\end{bmatrix}\r\n",
        "a_1^T = \r\n",
        "\\begin{bmatrix}\r\n",
        "a_{11} & a_{12} \r\n",
        "\\end{bmatrix}\r\n",
        ",\\;\\;\r\n",
        "a_2^T = \r\n",
        "\\begin{bmatrix}\r\n",
        "a_{21} & a_{22} \r\n",
        "\\end{bmatrix}\r\n",
        "$   \r\n",
        "> $\r\n",
        "AB \r\n",
        "=\r\n",
        "\\begin{bmatrix}\r\n",
        "\\boxed{\\begin{matrix} \\phantom{} & a_1^T & \\phantom{} \\end{matrix}} \\\\ \r\n",
        "\\boxed{\\begin{matrix} \\phantom{} & a_2^T & \\phantom{} \\end{matrix}} \\\\ \r\n",
        "\\end{bmatrix}\r\n",
        "B\r\n",
        "=\r\n",
        "\\begin{bmatrix}\r\n",
        "\\boxed{\\begin{matrix} \\phantom{} & a_1^TB & \\phantom{} \\end{matrix}} \\\\ \r\n",
        "\\boxed{\\begin{matrix} \\phantom{} & a_2^TB & \\phantom{} \\end{matrix}} \\\\ \r\n",
        "\\end{bmatrix} \r\n",
        "$   \r\n",
        "\r\n",
        "> 2) 아니면 뒤에 곱해지는 행렬을 열벡터로 나누어 계산해도 된다.     \r\n",
        ">> $\r\n",
        "B = \r\n",
        "\\begin{bmatrix}\r\n",
        "\\boxed{\\begin{matrix} \\phantom{\\mathstrut} \\\\ b_1 \\\\ \\phantom{\\mathstrut} \\end{matrix}} \\!\\!\\!\\! &\r\n",
        "\\boxed{\\begin{matrix} \\phantom{\\mathstrut} \\\\ b_2 \\\\ \\phantom{\\mathstrut} \\end{matrix}} \r\n",
        "\\end{bmatrix}\r\n",
        "b_1 = \r\n",
        "\\begin{bmatrix}\r\n",
        "b_{11} \\\\\r\n",
        "b_{21} \\\\\r\n",
        "\\end{bmatrix}\r\n",
        ",\\;\\;\r\n",
        "b_2 = \r\n",
        "\\begin{bmatrix}\r\n",
        "b_{21} \\\\\r\n",
        "b_{22}\r\n",
        "\\end{bmatrix}\r\n",
        "$   \r\n",
        "> $\r\n",
        "AB \r\n",
        "=\r\n",
        "A\r\n",
        "\\begin{bmatrix}\r\n",
        "\\boxed{\\begin{matrix} \\phantom{\\mathstrut} \\\\ b_1 \\\\ \\phantom{\\mathstrut} \\end{matrix}} \\!\\!\\!\\! & \r\n",
        "\\boxed{\\begin{matrix} \\phantom{\\mathstrut} \\\\ b_2 \\\\ \\phantom{\\mathstrut} \\end{matrix}}\r\n",
        "\\end{bmatrix}\r\n",
        "=\r\n",
        "\\begin{bmatrix}\r\n",
        "\\boxed{\\begin{matrix} \\phantom{\\mathstrut} \\\\ Ab_1 \\\\ \\phantom{\\mathstrut} \\end{matrix}} \\!\\!\\!\\! &\r\n",
        "\\boxed{\\begin{matrix} \\phantom{\\mathstrut} \\\\ Ab_2 \\\\ \\phantom{\\mathstrut} \\end{matrix}}\r\n",
        "\\end{bmatrix}\r\n",
        "$   \r\n",
        "\r\n",
        "> 3) 앞에 곱해지는 행렬을 열벡터로, 뒤에 곱해지는 행렬을 행벡터로 나누어 스칼라처럼 계산해도 된다.   \r\n",
        ">> $\r\n",
        "AB \r\n",
        "=\r\n",
        "\\begin{bmatrix}\r\n",
        "a_1 & a_2\r\n",
        "\\end{bmatrix}\r\n",
        "\\begin{bmatrix}\r\n",
        "b_1^T \\\\ b_2^T\r\n",
        "\\end{bmatrix}\r\n",
        "=\r\n",
        "a_1b_1^T + a_2b_2^T\r\n",
        "$   \r\n",
        "> $\r\n",
        "AB \r\n",
        "=\r\n",
        "\\begin{bmatrix}\r\n",
        "\\boxed{\\begin{matrix} \\phantom{\\mathstrut} \\\\ a_1 \\\\ \\phantom{\\mathstrut} \\end{matrix}}  \\!\\!\\!\\!& \r\n",
        "\\boxed{\\begin{matrix} \\phantom{\\mathstrut} \\\\ a_2 \\\\ \\phantom{\\mathstrut} \\end{matrix}}  \\!\r\n",
        "\\end{bmatrix}\r\n",
        "\\begin{bmatrix}\r\n",
        "\\boxed{\\begin{matrix} \\phantom{} & b_1^T & \\phantom{} \\end{matrix}} \\\\ \r\n",
        "\\boxed{\\begin{matrix} \\phantom{} & b_2^T & \\phantom{} \\end{matrix}} \\\\ \r\n",
        "\\end{bmatrix}\r\n",
        "=\r\n",
        "\\boxed{\\begin{matrix} \\phantom{\\mathstrut} \\\\ a_1 \\\\ \\phantom{\\mathstrut} \\end{matrix}} \r\n",
        "\\boxed{\\begin{matrix} \\phantom{} & b_1^T & \\phantom{} \\end{matrix}} \r\n",
        "+\r\n",
        "\\boxed{\\begin{matrix} \\phantom{\\mathstrut} \\\\ b_1 \\\\ \\phantom{\\mathstrut} \\end{matrix}} \r\n",
        "\\boxed{\\begin{matrix} \\phantom{} & b_2^T & \\phantom{} \\end{matrix}} \r\n",
        "$\r\n",
        "\r\n",
        "\r\n",
        "여기에서는 2차원 행렬의 예를 들었지만 일반적인 $N$차원 행렬에서도 이 관계는 성립한다."
      ]
    },
    {
      "cell_type": "markdown",
      "metadata": {
        "id": "7YphI1oERzDU"
      },
      "source": [
        "#### 연습 문제 2.2.14\r\n",
        "\r\n",
        "부분행렬 공식 (3)으로부터 $A$가 행벡터 $a_i^T\\;(i=1,\\ldots,N)$로 이루어진 $N$차 정방행렬일 때 \r\n",
        "\r\n",
        "$$ \r\n",
        "\\begin{align}\r\n",
        "A = \\begin{bmatrix} a_1^T \\\\ a_2^T \\\\ \\vdots \\\\ a_N^T \\end{bmatrix}\r\n",
        "\\tag{2.2.101}\r\n",
        "\\end{align}\r\n",
        "$$\r\n",
        "\r\n",
        "다음 관계가 성립한다.\r\n",
        "\r\n",
        "$$\r\n",
        "\\begin{align}\r\n",
        "A^T A =\r\n",
        "\\begin{bmatrix} a_1 & a_2 & \\cdots & a_N \\end{bmatrix}\r\n",
        "\\begin{bmatrix} a_1^T \\\\ a_2^T \\\\ \\vdots \\\\ a_N^T \\end{bmatrix}\r\n",
        "= \\sum_{i=1}^N a_ia_i^T\r\n",
        "\\tag{2.2.102}\r\n",
        "\\end{align}\r\n",
        "$$\r\n",
        "\r\n",
        "$N=3$인 경우에 위 식이 성립함을 보여라.\r\n",
        "\r\n",
        "> $ \\begin{aligned}\r\n",
        "A^T A =\r\n",
        "\\begin{bmatrix} a_{1} & a_{2} & a_{3} \\end{bmatrix}\r\n",
        "\\begin{bmatrix} a_{1}^{T} \\\\ a_{2}^{T} \\\\ a_{3}^{T} \\end{bmatrix}\r\n",
        "= a_{1}a_{1}^{T} + a_{2}a_{2}^{T} + a_{3}a_{3}^{T}\r\n",
        "=\r\n",
        "\\sum_{i=1}^3 a_ia_i^T\r\n",
        "\\end{aligned}\r\n",
        "$"
      ]
    }
  ]
}