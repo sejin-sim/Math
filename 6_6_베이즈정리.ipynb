{
  "nbformat": 4,
  "nbformat_minor": 0,
  "metadata": {
    "colab": {
      "name": "1-4)_베이즈정리.ipynb",
      "provenance": [],
      "collapsed_sections": [],
      "authorship_tag": "ABX9TyN86L9fkiRW3MdcBbbAw1Il",
      "include_colab_link": true
    },
    "kernelspec": {
      "name": "python3",
      "display_name": "Python 3"
    }
  },
  "cells": [
    {
      "cell_type": "markdown",
      "metadata": {
        "id": "view-in-github",
        "colab_type": "text"
      },
      "source": [
        "<a href=\"https://colab.research.google.com/github/sejin-sim/Math/blob/main/1_4)_%EB%B2%A0%EC%9D%B4%EC%A6%88%EC%A0%95%EB%A6%AC.ipynb\" target=\"_parent\"><img src=\"https://colab.research.google.com/assets/colab-badge.svg\" alt=\"Open In Colab\"/></a>"
      ]
    },
    {
      "cell_type": "markdown",
      "metadata": {
        "id": "4cE9wPxjKAOp"
      },
      "source": [
        "# 1. 베이즈 정리\r\n",
        "### 1) 베이즈 정리 : 조건부확률을 구하는 다음 공식을 베이즈 정리(Bayesian rule)라고 한다.\r\n",
        "\r\n",
        "1. 공식\r\n",
        "> $ P(A|B) = \\dfrac{P(B|A)P(A)}{P(B)}  $\r\n",
        "2. $P(A|B)$: 사후확률(posterior). 사건 B가 발생한 후 갱신된 사건 A의 확률\r\n",
        "3. $P(A)$: 사전확률(prior). 사건 B가 발생하기 전에 가지고 있던 사건 A의 확률\r\n",
        "4. $P(B|A)$: 가능도(likelihood). 사건 A가 발생한 경우 사건 B의 확률\r\n",
        "5. $P(B)$: 정규화 상수(normalizing constant) 또는 증거(evidence). 확률의 크기 조정\r\n",
        "\r\n",
        "<br/>\r\n",
        "\r\n",
        "### 2) 베이즈 정리_확장_1\r\n",
        "1. if 사건 $A_i$가 서로 배타적(교집합x)이고 완전(합집합이 표본공간)\r\n",
        "> * $ A_i \\cap A_j = \\emptyset $\r\n",
        "> * $ A_1 \\cup A_2 \\cup \\cdots = \\Omega$\r\n",
        "2. 베이즈 정리 확장(전체 확률의 법칙)\r\n",
        "> $\r\n",
        "\\begin{aligned}\r\n",
        "P(A_1|B) \r\n",
        "&= \\dfrac{P(B|A_1)P(A_1)}{P(B)} \\\\\r\n",
        "&= \\dfrac{P(B|A_1)P(A_1)}{\\sum_i P(A_i, B)} \\\\\r\n",
        "&= \\dfrac{P(B|A_1)P(A_1)}{\\sum_i P(B|A_i)P(A_i)} \r\n",
        "\\end{aligned}\r\n",
        "$\r\n",
        "3. 2.의 식은 멀티-클래스 분류((multi-class classification) 문제에서 어떻게 활용되는지를 보여준다. $A_1$, $A_2$, $A_3$, $A_4$ 중 $B$에 대한 조건부 확률이 가장 높은 사건을 고르는 것\r\n",
        "> $\r\n",
        "P(A_1|B) = \\dfrac{P(B|A_1)P(A_1)}{P(B|A_1)P(A_1)+P(B|A_2)P(A_2)+P(B|A_3)P(A_3)+P(B|A_4)P(A_4)} \r\n",
        "$\r\n",
        "> $\r\n",
        "P(A_2|B) = \\dfrac{P(B|A_2)P(A_2)}{P(B|A_1)P(A_1)+P(B|A_2)P(A_2)+P(B|A_3)P(A_3)+P(B|A_4)P(A_4)} \r\n",
        "$\r\n",
        "> $\r\n",
        "P(A_3|B) = \\dfrac{P(B|A_3)P(A_3)}{P(B|A_1)P(A_1)+P(B|A_2)P(A_2)+P(B|A_3)P(A_3)+P(B|A_4)P(A_4)} \r\n",
        "$\r\n",
        "> $\r\n",
        "P(A_4|B) = \\dfrac{P(B|A_4)P(A_4)}{P(B|A_1)P(A_1)+P(B|A_2)P(A_2)+P(B|A_3)P(A_3)+P(B|A_4)P(A_4)} \r\n",
        "$\r\n",
        "\r\n",
        "<br/>\r\n",
        "\r\n",
        "### 2-1) 검사 시약 문제 (베이즈 정리 활용)\r\n",
        "1. 사건\r\n",
        " * 병에 걸리는 경우 : 사건 $D$\r\n",
        " * 양성 반응을 보이는 경우 : 사건 $S$\r\n",
        " * 병에 걸린 사람이 양성 반응을 보이는 경우 : 조건부 사건 $S|D$\r\n",
        " * 양성 반응을 보이는 사람이 병에 걸려 있을 경우 : 조건부 사건 $D|S$\r\n",
        "\r\n",
        "2. 문제\r\n",
        " * $P(S|D)=0.99$가 주어졌을 때, $P(D|S)$를 구하라. \r\n",
        "\r\n",
        "3. 추가 정보\r\n",
        " * 이 병은 전체 인구 중 걸린 사람이 0.2%인 희귀병이다.\r\n",
        " > $ P(D) = 0.002 $\r\n",
        "\r\n",
        " * 이 병에 걸리지 않은 사람에게 시약 검사를 했을 때, 양성 반응, 즉 잘못된 결과(False Positive)가 나타난 확률이 5%다.\r\n",
        " > $ P(S|D^C) = 0.05 $\r\n",
        "4. 문제 풀이 : 시약 반응에서 양성 반응을 보이는 사람이 실제로 병에 걸려 있을 확률은 약 3.8%에 불과\r\n",
        "> $\r\n",
        "\\begin{aligned}\r\n",
        "P(D|S) \r\n",
        "&= \\dfrac{P(S|D)P(D)}{P(S)} \\\\\r\n",
        "&= \\dfrac{P(S|D)P(D)}{P(S,D) + P(S,D^C)} \\\\\r\n",
        "&= \\dfrac{P(S|D)P(D)}{P(S|D)P(D) + P(S|D^C)P(D^C)} \\\\\r\n",
        "&= \\dfrac{P(S|D)P(D)}{P(S|D)P(D) + P(S|D^C)(1-P(D))} \\\\\r\n",
        "&= \\dfrac{0.99 \\cdot 0.002}{0.99 \\cdot 0.002 + 0.05 \\cdot (1 - 0.002)} \\\\\r\n",
        "&= 0.038\r\n",
        "\\end{aligned}\r\n",
        "$\r\n"
      ]
    },
    {
      "cell_type": "code",
      "metadata": {
        "id": "adNK4j9_OOSP"
      },
      "source": [
        "! pip install pgmpy"
      ],
      "execution_count": null,
      "outputs": []
    },
    {
      "cell_type": "markdown",
      "metadata": {
        "id": "GFBpOw0bOGsW"
      },
      "source": [
        "* 병에 걸렸을 사전확률 $P(D)=P(X=1)$, 병에 걸리지 않았을 사전확률 $P(D^C)=P(X=0)$를 정의\r\n",
        "* 양성 반응이 나올 확률 $P(S)=P(Y=1)$, 음성 반응이 나올 확률 $P(S^C)=P(Y=0)$를 나타내는 확률변수 $Y$를 정의\r\n",
        "* 확률변수 $Y$의 확률을 베이즈 모형에 넣을 때는 `TabularCPD` 클래스를 사용한 조건부확률 $P(Y|X)$의 형태로 넣어야 하므로 다음처럼 조건부확률 $P(Y|X)$를 구현한다."
      ]
    },
    {
      "cell_type": "code",
      "metadata": {
        "colab": {
          "base_uri": "https://localhost:8080/"
        },
        "id": "VsQrLDsiJ80Y",
        "outputId": "804f8bf0-1f7b-465c-e785-1b0d61ebbb8f"
      },
      "source": [
        "from pgmpy.factors.discrete import JointProbabilityDistribution as JPD\r\n",
        "import numpy as np\r\n",
        "\r\n",
        "cpd_X = TabularCPD('X', 2, [[1 - 0.002], [0.002]], evidence=None, evidence_card=None)\r\n",
        "print(\"* 사전확률 정의 *\")\r\n",
        "print(cpd_X)\r\n",
        "\r\n",
        "cpd_Y_on_X = TabularCPD('Y', 2, np.array([[0.95, 0.01], [0.05, 0.99]]),\r\n",
        "                        evidence=['X'], evidence_card=[2])\r\n",
        "print(\"\\n* 확률변수 정의 *\")\r\n",
        "print(cpd_Y_on_X)"
      ],
      "execution_count": null,
      "outputs": [
        {
          "output_type": "stream",
          "text": [
            "* 사전확률 정의 *\n",
            "+------+-------+\n",
            "| X(0) | 0.998 |\n",
            "+------+-------+\n",
            "| X(1) | 0.002 |\n",
            "+------+-------+\n",
            "\n",
            "* 확률변수 정의 *\n",
            "+------+------+------+\n",
            "| X    | X(0) | X(1) |\n",
            "+------+------+------+\n",
            "| Y(0) | 0.95 | 0.01 |\n",
            "+------+------+------+\n",
            "| Y(1) | 0.05 | 0.99 |\n",
            "+------+------+------+\n"
          ],
          "name": "stdout"
        }
      ]
    },
    {
      "cell_type": "code",
      "metadata": {
        "colab": {
          "base_uri": "https://localhost:8080/"
        },
        "id": "Vb2Y00h8O4n9",
        "outputId": "1f3635e3-7d42-4ad4-ac28-efd6365c9c14"
      },
      "source": [
        "from pgmpy.models import BayesianModel\r\n",
        "\r\n",
        "model = BayesianModel([('X', 'Y')])\r\n",
        "model.add_cpds(cpd_X, cpd_Y_on_X) #  조건부확률을 추가\r\n",
        "model.check_model()  # 모형이 정상적인지 확인. `True`면 정상적인 모형"
      ],
      "execution_count": null,
      "outputs": [
        {
          "output_type": "execute_result",
          "data": {
            "text/plain": [
              "True"
            ]
          },
          "metadata": {
            "tags": []
          },
          "execution_count": 24
        }
      ]
    },
    {
      "cell_type": "code",
      "metadata": {
        "colab": {
          "base_uri": "https://localhost:8080/"
        },
        "id": "CsyFPSFHQ6Co",
        "outputId": "535dc558-8f69-4b3c-ea52-593852383680"
      },
      "source": [
        "from pgmpy.inference import VariableElimination\r\n",
        "\r\n",
        "inference = VariableElimination(model)\r\n",
        "posterior = inference.query(['X'], evidence={'Y': 1}, joint=False, show_progress=False)\r\n",
        "print(\"* 사후확률 정의 *\")\r\n",
        "print(posterior['X'])"
      ],
      "execution_count": null,
      "outputs": [
        {
          "output_type": "stream",
          "text": [
            "* 사후확률 정의 *\n",
            "+------+----------+\n",
            "| X    |   phi(X) |\n",
            "+======+==========+\n",
            "| X(0) |   0.9618 |\n",
            "+------+----------+\n",
            "| X(1) |   0.0382 |\n",
            "+------+----------+\n"
          ],
          "name": "stdout"
        }
      ]
    },
    {
      "cell_type": "markdown",
      "metadata": {
        "id": "m6xKxBeQRUBu"
      },
      "source": [
        "### 3) 베이즈 정리_확장_2\r\n",
        "1. 기존 상태에서 추가적인 사건 $C$ 발생 시 식\r\n",
        "> $ P(A|B,C) = P(A| (B \\cap C)) = \\dfrac{P(C|A,B)P(A|B)}{P(C|B)} $\r\n",
        "\r\n",
        "<br/>\r\n",
        "\r\n",
        "### 4) 몬티 홀 문제\r\n",
        "1. ex) 세 개의 문 중에 하나를 선택하여 문 뒤에 있는 선물을 가지는 게임쇼에 참가했다. 한 문 뒤에는 자동차가 있고, 나머지 두 문 뒤에는 염소가 있다. 이때 어떤 사람이 예를 들어 1번 문을 선택했을 때, 게임쇼 진행자는 3번 문을 열어 문뒤에 염소가 있음을 보여주면서 1번 대신 2번을 선택하겠냐고 물었다. 참가자가 자동차를 가지려할 때 원래 선택했던 번호를 바꾸는 것이 유리할까?\r\n",
        "\r\n",
        "2. 확률 변수\r\n",
        "> * 자동차가 있는 문을 나타내는 확률변수 $C$로 값은 0, 1, 2를 가질 수 있다.\r\n",
        "> * 참가자가 선택한 문을 나타내는 확률변수 $X$로 값은 0, 1, 2를 가질 수 있다.\r\n",
        "> * 진행자가 열어준 문을 나타내는 확률변수 $H$로 값은 0, 1, 2를 가질 수 있다.\r\n",
        "\r\n",
        "3. 문제 풀이   \r\n",
        "> 1. 자동차를 놓는 진행자는 참가자의 선택을 예측할 수 없고 참가자는 자동차를 볼 수 없으므로 자동차의 위치와 참가자의 선택은 서로 독립적이다. \r\n",
        ">> * $ P(C,X) = P(C)P(X) $    \r\n",
        " 2. 진행자가 어떤 문을 여는가가 자동차의 위치 및 참가자의 선택에 좌우된다. 예를 들어 자동차가 0번 문 뒤에 있고 참가자가 1번 문을 선택하면 진행자는 2번 문을 열 수 밖에 없다.\r\n",
        " >> * $ P(H_0|C_0,X_1) = 0 $      \r\n",
        " >> * $ P(H_1|C_0,X_1) = 0 $    \r\n",
        " >> * $ P(H_2|C_0,X_1) = 1 $   \r\n",
        " 3. 자동차가 1번 문 뒤에 있는데 참가자가 1번 문을 선택한 경우에는 0번 문과 2번 문 둘 다 열어도 된다. 따라서 진행자가 0번 문이나 2번 문을 열 확률은 0.5다.    \r\n",
        " >> * $ P(H_0|C_1,X_1) = \\frac{1}{2} $     \r\n",
        " >> * $ P(H_1|C_1,X_1) = 0 $      \r\n",
        " >> * $ P(H_2|C_1,X_1) = \\frac{1}{2} $\r\n",
        " 4. 계산\r\n",
        " >> $ \\begin{aligned}\r\n",
        "P(C_0\\,|\\,X_1,H_2)\r\n",
        "&= \\dfrac{P(C_0,X_1,H_2)}{P(X_1,H_2)} \\\\\r\n",
        "&= \\dfrac{P(H_2|C_0,X_1)P(C_0,X_1)}{P(X_1,H_2)} \\\\\r\n",
        "&= \\dfrac{P(C_0){P(X_1)}}{P(H_2|X_1){P(X_1)}} \\\\\r\n",
        "&= \\dfrac{P(C_0)}{P(H_2|X_1)} \\\\\r\n",
        "&= \\dfrac{P(C_0)}{P(H_2,C_0|X_1)+P(H_2,C_1|X_1)+P(H_2,C_2|X_1)} \\\\\r\n",
        "&= \\dfrac{P(C_0)}{P(H_2|X_1,C_0)P(C_0)+P(H_2|X_1,C_1)P(C_1)+P(H_2|X_1,C_2)P(C_2)} \\\\\r\n",
        "&= \\dfrac{\\frac{1}{3}}{1 \\cdot \\frac{1}{3} + \\frac{1}{2}\\cdot \\frac{1}{3} + 0 \\cdot \\frac{1}{3}} \\\\\r\n",
        "&= \\frac{2}{3}\r\n",
        "\\end{aligned}$  \r\n",
        " 5. 결론\r\n",
        " >> * $ P(C_0\\,|\\,X_1,H_2) = \\frac{2}{3} $    \r\n",
        " >> * $ P(C_1\\,|\\,X_1,H_2) = 1 - P(C_0\\,|\\,X_1,H_2) = \\frac{1}{3}$ (이진 분류 문제)   \r\n",
        " >> * $ P(C_0\\,|\\,X_1,H_2) > P(C_1\\,|\\,X_1,H_2) = $ 참가자는 선택을 바꾸는 것이 유리하다.\r\n"
      ]
    }
  ]
}
