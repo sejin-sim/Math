{
  "nbformat": 4,
  "nbformat_minor": 0,
  "metadata": {
    "colab": {
      "name": "3_4_특이값_분해.ipynb",
      "provenance": [],
      "collapsed_sections": [
        "1yWt5uia-m6r"
      ],
      "authorship_tag": "ABX9TyMhKCKFrNfW5YQIcC9n//iL",
      "include_colab_link": true
    },
    "kernelspec": {
      "name": "python3",
      "display_name": "Python 3"
    }
  },
  "cells": [
    {
      "cell_type": "markdown",
      "metadata": {
        "id": "view-in-github",
        "colab_type": "text"
      },
      "source": [
        "<a href=\"https://colab.research.google.com/github/sejin-sim/Math/blob/main/3_4_%ED%8A%B9%EC%9D%B4%EA%B0%92_%EB%B6%84%ED%95%B4.ipynb\" target=\"_parent\"><img src=\"https://colab.research.google.com/assets/colab-badge.svg\" alt=\"Open In Colab\"/></a>"
      ]
    },
    {
      "cell_type": "markdown",
      "metadata": {
        "id": "1yWt5uia-m6r"
      },
      "source": [
        "##### 기본 셋팅"
      ]
    },
    {
      "cell_type": "code",
      "metadata": {
        "colab": {
          "base_uri": "https://localhost:8080/"
        },
        "id": "2sgxCB44-mUZ",
        "outputId": "2db6e3f0-3487-48cd-a577-6279c40c238c"
      },
      "source": [
        "import numpy as np\r\n",
        "\r\n",
        "# %matplotlib inline\r\n",
        "import matplotlib as mpl\r\n",
        "import matplotlib.pyplot as plt\r\n",
        "mpl.rc('axes', labelsize=14)\r\n",
        "mpl.rc('xtick', labelsize=12)\r\n",
        "mpl.rc('ytick', labelsize=12)\r\n",
        "mpl.rcParams['axes.unicode_minus'] = False\r\n",
        "mpl.rcParams.update({\"axes.grid\" : True})\r\n",
        "\r\n",
        "plt.rcParams[\"figure.figsize\"] = (12,6)\r\n",
        "plt.rc(\"font\", size=18)  # 그림의 폰트 크기를 18로 고정\r\n",
        "\r\n",
        "gray = {\"facecolor\": \"gray\"}\r\n",
        "black = {\"facecolor\": \"black\"}\r\n",
        "red = {\"facecolor\": \"red\"}\r\n",
        "green = {\"facecolor\": \"green\"}\r\n",
        "blue = {\"facecolor\": \"blue\"}\r\n",
        "lightgreen = {\"facecolor\": \"lightgreen\"}\r\n",
        "gray = {\"facecolor\": \"gray\"}\r\n",
        "black = {\"facecolor\": \"black\"}\r\n",
        "red = {\"facecolor\": \"red\"}\r\n",
        "green = {\"facecolor\": \"green\"}\r\n",
        "blue = {\"facecolor\": \"blue\"}\r\n",
        "\r\n",
        "np.random.seed(42)\r\n",
        "\r\n",
        "# %config InlineBackend.figure_format = 'retina'\r\n",
        " \r\n",
        "!apt -qq -y install fonts-nanum\r\n",
        "fontpath = '/usr/share/fonts/truetype/nanum/NanumBarunGothic.ttf'\r\n",
        "plt.rc('font', family='NanumBarunGothic') \r\n",
        "mpl.font_manager._rebuild()\r\n",
        "\r\n",
        "import warnings\r\n",
        "warnings.filterwarnings(action=\"ignore\", message=\"^internal gelsd\")"
      ],
      "execution_count": 2,
      "outputs": [
        {
          "output_type": "stream",
          "text": [
            "fonts-nanum is already the newest version (20170925-1).\n",
            "0 upgraded, 0 newly installed, 0 to remove and 29 not upgraded.\n"
          ],
          "name": "stdout"
        }
      ]
    },
    {
      "cell_type": "markdown",
      "metadata": {
        "id": "6TZ5kcK_-xTb"
      },
      "source": [
        "#### - 정방행렬이 아닌 행렬은 고유분해와 비슷한 특이분해를 할 수 있다."
      ]
    },
    {
      "cell_type": "markdown",
      "metadata": {
        "id": "DtHx8TdP-2Ca"
      },
      "source": [
        "### 1) 특잇값과 특이벡터\r\n",
        "\r\n",
        "1. 특이분해 or 특잇값 분해(singular value decompostion) : N X M 크기의 행렬 A를 3개의 행렬의 곱으로 나타내는 것\r\n",
        "> $$A = U\\Sigma V^T$$\r\n",
        "> 1) $\\Sigma \\in \\mathbf{R}^{N \\times M}$ : 대각성분이 양수인 대각행렬이어야 한다. (큰 수 → 작은 수 배치)   \r\n",
        "> 2) $U \\in \\mathbf{R}^{N \\times N}$ : $N$차원 정방행렬로 모든 열벡터가 단위벡터이고 서로 직교해야 한다.   \r\n",
        "> 3) $U \\in \\mathbf{R}^{N \\times N}$ : $M$차원 정방행렬로   모든 열벡터가 단위벡터이고 서로 직교해야 한다.\r\n",
        "\r\n",
        "2. 위 조건을 만족하는 행렬을 다음과 같이 부른다.\r\n",
        "> 1) 행렬 $\\Sigma$의 대각성분들 : 특잇값(singular value)   \r\n",
        "> 2) 행렬 $U$의 열벡터들 : 왼쪽 특이벡터(left singular vector)   \r\n",
        "> 3) 행렬 $V$의 행벡터들 : 오른쪽 특이벡터(right singular vector)\r\n",
        "\r\n",
        "3. 정리 : 특이분해는 모든 행렬에 대해 가능하다. 즉 어떤 행렬이 주어지더라도 위와 같이 특이분해할 수 있다.\r\n"
      ]
    },
    {
      "cell_type": "markdown",
      "metadata": {
        "id": "PmgoSnAKAXOR"
      },
      "source": [
        "### 2) 특이값 분해 행렬의 크기\r\n",
        "- 특잇값의 개수는 행렬의 열과 행의 개수 중 작은 값과 같다.\r\n",
        "\r\n",
        "1. 만약 $N > M$이면 $\\Sigma$ 행렬이 $M$개의 특잇값(대각성분)을 가지고 다음처럼 아랫 부분이 영행렬이 된다.\r\n",
        "> $$ \r\n",
        "\\begin{align}\r\n",
        "A = \r\n",
        "\\begin{bmatrix}\r\n",
        "\\boxed{\\begin{matrix} \\\\ \\\\ \\\\ \\\\ \\\\ \\, u_1 \\, \\\\ \\\\ \\\\ \\\\ \\\\ \\\\ \\end{matrix}} \\!\\!\\!\\!& \r\n",
        "\\boxed{\\begin{matrix} \\\\ \\\\ \\\\ \\\\ \\\\ \\, u_2 \\, \\\\ \\\\ \\\\ \\\\ \\\\ \\\\ \\end{matrix}} \\!\\!\\!\\!& \r\n",
        "\\boxed{\\begin{matrix} \\\\ \\\\ \\\\ \\\\ \\\\ \\, u_3 \\, \\\\ \\\\ \\\\ \\\\ \\\\ \\\\ \\end{matrix}} \\!\\!\\!\\!& \r\n",
        "\\cdots \\!\\!\\!\\!& \r\n",
        "\\boxed{\\begin{matrix} \\\\ \\\\ \\\\ \\\\ \\\\  u_M  \\\\ \\\\ \\\\ \\\\ \\\\ \\\\ \\end{matrix}} \\!\\!\\!\\!&\r\n",
        "\\cdots \\!\\!\\!\\!& \r\n",
        "\\boxed{\\begin{matrix} \\\\ \\\\ \\\\ \\\\ \\\\ u_N \\\\ \\\\ \\\\ \\\\ \\\\ \\\\ \\end{matrix}} \r\n",
        "\\end{bmatrix}\r\n",
        "\\begin{bmatrix}\r\n",
        "\\boxed{\\sigma_1 \\phantom{\\dfrac{}{}} \\!\\!} & 0 & 0 & \\cdots & 0 \\\\\r\n",
        "0 & \\boxed{\\sigma_2 \\phantom{\\dfrac{}{}} \\!\\!} & 0 & \\cdots & 0 \\\\\r\n",
        "0 & 0 & \\boxed{\\sigma_3 \\phantom{\\dfrac{}{}} \\!\\!} & \\cdots & 0 \\\\\r\n",
        "\\vdots & \\vdots & \\vdots & \\ddots \\\\\r\n",
        "0 & 0 & 0 & \\cdots & \\boxed{\\sigma_M \\phantom{\\dfrac{}{}} \\!\\!} \\\\\r\n",
        "0 & 0 & 0 & \\cdots & 0 \\\\\r\n",
        "\\vdots & \\vdots & \\vdots &  & \\vdots \\\\\r\n",
        "0 & 0 & 0 & \\cdots & 0 \\\\\r\n",
        "\\end{bmatrix}\r\n",
        "\\begin{bmatrix}\r\n",
        "\\boxed{\\begin{matrix} & & & v_1^T & & & \\end{matrix}} \\\\ \r\n",
        "\\boxed{\\begin{matrix} & & & v_2^T & & & \\end{matrix}} \\\\ \r\n",
        "\\vdots \\\\ \r\n",
        "\\boxed{\\begin{matrix} & & & v_M^T & & & \\end{matrix}} \\\\ \r\n",
        "\\end{bmatrix}\r\n",
        "\\end{align}\r\n",
        "$$\r\n",
        "\r\n",
        "2. 반대로 $N < M$이면 $\\Sigma$ 행렬이 $N$개의 특잇값(대각성분)을 가지고 다음처럼 오른쪽 부분이 영행렬이 된다.\r\n",
        "> $$ \r\n",
        "\\begin{align}\r\n",
        "A = \\begin{bmatrix}\r\n",
        "\\boxed{\\begin{matrix} \\\\ \\\\ \\\\ \\, u_1 \\, \\\\ \\\\ \\\\ \\\\ \\end{matrix}} \\!\\!\\!\\!& \r\n",
        "\\boxed{\\begin{matrix} \\\\ \\\\ \\\\ \\, u_2 \\, \\\\ \\\\ \\\\ \\\\ \\end{matrix}} \\!\\!\\!\\!& \r\n",
        "\\cdots \\!\\!\\!\\!& \r\n",
        "\\boxed{\\begin{matrix} \\\\ \\\\ \\\\ u_N \\\\ \\\\ \\\\ \\\\ \\end{matrix}} \r\n",
        "\\end{bmatrix}\r\n",
        "\\begin{bmatrix}\r\n",
        "\\boxed{\\sigma_1 \\phantom{\\dfrac{}{}} \\!\\!} & 0 & 0 & \\cdots & 0 & 0 & \\cdots & 0 \\\\\r\n",
        "0 & \\boxed{\\sigma_2 \\phantom{\\dfrac{}{}} \\!\\!} & 0 & \\cdots & 0 & 0 & \\cdots & 0 \\\\\r\n",
        "0 & 0 & \\boxed{\\sigma_3 \\phantom{\\dfrac{}{}} \\!\\!} & \\cdots & 0 & 0 & \\cdots & 0 \\\\\r\n",
        "\\vdots & \\vdots & \\vdots & \\ddots & \\vdots & & \\vdots \\\\\r\n",
        "0 & 0 & 0 & \\cdots & \\boxed{\\sigma_N \\phantom{\\dfrac{}{}} \\!\\!} & 0 & \\cdots & 0 \\\\\r\n",
        "\\end{bmatrix}\r\n",
        "\\begin{bmatrix}\r\n",
        "\\boxed{\\begin{matrix} \\quad & \\quad & v_1^T & \\quad & \\quad \\end{matrix}} \\\\ \r\n",
        "\\boxed{\\begin{matrix} \\quad & \\quad & v_2^T & \\quad & \\quad \\end{matrix}} \\\\ \r\n",
        "\\boxed{\\begin{matrix} \\quad & \\quad & v_3^T & \\quad & \\quad \\end{matrix}} \\\\ \r\n",
        "\\vdots \\\\ \r\n",
        "\\boxed{\\begin{matrix} \\quad & \\quad & v_N^T & \\quad & \\quad \\end{matrix}} \\\\ \r\n",
        "\\vdots \\\\ \r\n",
        "\\boxed{\\begin{matrix} \\quad & \\quad & v_M^T & \\quad & \\quad \\end{matrix}} \\\\ \r\n",
        "\\end{bmatrix}\r\n",
        "\\end{align}\r\n",
        "$$\r\n"
      ]
    },
    {
      "cell_type": "markdown",
      "metadata": {
        "id": "pV3YAUgUBLI_"
      },
      "source": [
        "3. 행렬의 크기로 표시\r\n",
        "> $$\r\n",
        "\\begin{align}\r\n",
        "N\\;\\left\\{\\phantom{\\begin{matrix} \\\\ \\\\ \\\\ \\\\ \\\\ \\end{matrix}}\\right.\\!\\!\r\n",
        "\\overbrace{\r\n",
        "\\boxed{\r\n",
        "\\begin{matrix}\r\n",
        "\\; &   & \\; \\\\\r\n",
        "\\; &   & \\; \\\\\r\n",
        "\\; & A & \\; \\\\\r\n",
        "\\; &   & \\; \\\\\r\n",
        "\\; &   & \\; \\\\\r\n",
        "\\end{matrix}\r\n",
        "}}^{\\large M}\r\n",
        "=\r\n",
        "N\\;\\left\\{\\phantom{\\begin{matrix} \\\\ \\\\ \\\\ \\\\ \\\\ \\end{matrix}}\\right.\\!\\!\r\n",
        "\\overbrace{\r\n",
        "\\boxed{\r\n",
        "\\begin{matrix}\r\n",
        "& & \\\\\r\n",
        "& & \\\\\r\n",
        "& U & \\\\\r\n",
        "& & \\\\\r\n",
        "& & \\\\\r\n",
        "\\end{matrix}\r\n",
        "}}^{\\large M}\r\n",
        "\\;\r\n",
        "\\overbrace{\r\n",
        "\\boxed{\r\n",
        "\\begin{matrix}\r\n",
        "\\; &   & \\; \\\\\r\n",
        "\\; & \\Sigma & \\; \\\\\r\n",
        "\\; &   & \\; \\\\\r\n",
        "\\end{matrix}\r\n",
        "}}^{\\large M}\r\n",
        "\\;\r\n",
        "\\overbrace{\r\n",
        "\\boxed{\r\n",
        "\\begin{matrix}\r\n",
        "\\; &   & \\; \\\\\r\n",
        "\\; & V^T & \\; \\\\\r\n",
        "\\; &   & \\; \\\\\r\n",
        "\\end{matrix}\r\n",
        "}}^{\\large M}\r\n",
        "\\!\\!\\left.\\phantom{\\begin{matrix} \\\\ \\\\ \\\\ \\end{matrix}}\\right\\}M\r\n",
        "\\end{align}\r\n",
        "$$\r\n",
        "$$\r\n",
        "\\begin{align}\r\n",
        "N\\;\\left\\{\\phantom{\\begin{matrix} \\\\ \\\\ \\\\ \\end{matrix}}\\right.\\!\\!\r\n",
        "\\overbrace{\r\n",
        "\\boxed{\r\n",
        "\\begin{matrix}\r\n",
        "\\quad & &   & & \\quad \\\\\r\n",
        "\\quad & & A & & \\quad \\\\\r\n",
        "\\quad & &   & & \\quad \\\\\r\n",
        "\\end{matrix}\r\n",
        "}}^{\\large M}\r\n",
        "=\r\n",
        "N\\;\\left\\{\\phantom{\\begin{matrix} \\\\ \\\\ \\\\  \\end{matrix}}\\right.\\!\\!\r\n",
        "\\overbrace{\r\n",
        "\\boxed{\r\n",
        "\\begin{matrix}\r\n",
        "\\begin{matrix}\r\n",
        "\\, & & \\; \\\\\r\n",
        "\\, & U \\; \\\\\r\n",
        "\\, & & \\; \\\\\r\n",
        "\\end{matrix}\r\n",
        "\\end{matrix}\r\n",
        "}}^{\\large N}\r\n",
        "\\;\r\n",
        "\\overbrace{\r\n",
        "\\boxed{\r\n",
        "\\begin{matrix}\r\n",
        "\\, & & \\; \\\\\r\n",
        "\\, & \\Sigma \\; \\\\\r\n",
        "\\, & & \\; \\\\\r\n",
        "\\end{matrix}\r\n",
        "}}^{\\large N}\r\n",
        "\\;\r\n",
        "\\overbrace{\r\n",
        "\\boxed{\r\n",
        "\\begin{matrix}\r\n",
        "\\quad & &   & & \\quad \\\\\r\n",
        "\\quad & & V^T & & \\quad \\\\\r\n",
        "\\quad & &   & & \\quad \\\\\r\n",
        "\\end{matrix}\r\n",
        "}}^{\\large M}\r\n",
        "\\!\\!\\left.\\phantom{\\begin{matrix} \\\\ \\\\ \\\\ \\end{matrix}}\\right\\}N\r\n",
        "\\end{align}\r\n",
        "$$"
      ]
    },
    {
      "cell_type": "markdown",
      "metadata": {
        "id": "v71phCKaCvdH"
      },
      "source": [
        "#### 예제\r\n",
        "\r\n",
        "행렬 $A$의 특이분해 축소형은 다음과 같다.\r\n",
        "> $$\r\n",
        "\\begin{align}\r\n",
        "A = \r\n",
        "\\begin{bmatrix}\r\n",
        "3 & -1 \\\\\r\n",
        "1 & 3 \\\\\r\n",
        "1 & 1\r\n",
        "\\end{bmatrix}\r\n",
        "= \r\n",
        "\\begin{bmatrix}\r\n",
        " -\\frac{1}{\\sqrt{6}} &  \\frac{2}{\\sqrt{5}} \\\\ \r\n",
        " -\\frac{2}{\\sqrt{6}} & -\\frac{1}{\\sqrt{5}} \\\\ \r\n",
        " -\\frac{1}{\\sqrt{6}} & 0 \r\n",
        "\\end{bmatrix}\r\n",
        "\\begin{bmatrix}\r\n",
        "\\sqrt{12} & 0        \\\\\r\n",
        "       0  & \\sqrt{10} \\\\\r\n",
        "\\end{bmatrix}\r\n",
        "\\begin{bmatrix}\r\n",
        "-\\frac{1}{\\sqrt{2}} & -\\frac{1}{\\sqrt{2}} \\\\\r\n",
        " \\frac{1}{\\sqrt{2}} & -\\frac{1}{\\sqrt{2}} \r\n",
        "\\end{bmatrix}\r\n",
        "\\end{align}\r\n",
        "$$"
      ]
    },
    {
      "cell_type": "markdown",
      "metadata": {
        "id": "YsQgEEpRDEdm"
      },
      "source": [
        "### 3) 파이썬을 사용한 특이분해\r\n",
        "\r\n",
        "numpy.linalg 서브패키지와 scipy.linalg 서브패키지에서는 특이분해를 할 수 있는 `svd()` 명령을 제공한다. 오른쪽 특이행렬은 전치행렬로 출력된다는 점에 주의하라."
      ]
    },
    {
      "cell_type": "code",
      "metadata": {
        "colab": {
          "base_uri": "https://localhost:8080/"
        },
        "id": "LJW8I-ufDJbn",
        "outputId": "8b53c951-58c8-43d8-c5e7-906e0f90a7cb"
      },
      "source": [
        "from numpy.linalg import svd\r\n",
        "\r\n",
        "A = np.array([[3, -1], [1, 3], [1, 1]])\r\n",
        "U, S, VT = svd(A)\r\n",
        "\r\n",
        "print(A)\r\n",
        "\r\n",
        "print(U)\r\n",
        "print(S)\r\n",
        "print(np.diag(S, 1)[:, 1:])\r\n",
        "print(VT)\r\n",
        "\r\n",
        "print(U @ np.diag(S, 1)[:, 1:] @ VT)\r\n",
        "# N > M \r\n",
        "# (N, N)(N, M)(M, M) = (3, 3)(3, 2)(2, 2)"
      ],
      "execution_count": 4,
      "outputs": [
        {
          "output_type": "stream",
          "text": [
            "[[ 3 -1]\n",
            " [ 1  3]\n",
            " [ 1  1]]\n",
            "[[-4.08248290e-01  8.94427191e-01 -1.82574186e-01]\n",
            " [-8.16496581e-01 -4.47213595e-01 -3.65148372e-01]\n",
            " [-4.08248290e-01 -2.06937879e-16  9.12870929e-01]]\n",
            "[3.46410162 3.16227766]\n",
            "[[3.46410162 0.        ]\n",
            " [0.         3.16227766]\n",
            " [0.         0.        ]]\n",
            "[[-0.70710678 -0.70710678]\n",
            " [ 0.70710678 -0.70710678]]\n",
            "[[ 3. -1.]\n",
            " [ 1.  3.]\n",
            " [ 1.  1.]]\n"
          ],
          "name": "stdout"
        }
      ]
    },
    {
      "cell_type": "code",
      "metadata": {
        "colab": {
          "base_uri": "https://localhost:8080/"
        },
        "id": "RTp_E0XVDkyi",
        "outputId": "b4cc0553-f095-43ad-ebcc-6b056b9449d7"
      },
      "source": [
        "U2, S2, VT2 = svd(A, full_matrices=False)\r\n",
        "print(U2)\r\n",
        "print(S2)\r\n",
        "print(np.diag(S2))\r\n",
        "print(VT2)\r\n",
        "print(U2 @ np.diag(S2) @ VT2)\r\n",
        "# N > M \r\n",
        "# (N, M)(M, M)(M, M) = (3, 2)(2, 2)(2, 2)"
      ],
      "execution_count": 10,
      "outputs": [
        {
          "output_type": "stream",
          "text": [
            "[[-4.08248290e-01  8.94427191e-01]\n",
            " [-8.16496581e-01 -4.47213595e-01]\n",
            " [-4.08248290e-01 -2.06937879e-16]]\n",
            "[3.46410162 3.16227766]\n",
            "[[3.46410162 0.        ]\n",
            " [0.         3.16227766]]\n",
            "[[-0.70710678 -0.70710678]\n",
            " [ 0.70710678 -0.70710678]]\n",
            "[[ 3. -1.]\n",
            " [ 1.  3.]\n",
            " [ 1.  1.]]\n"
          ],
          "name": "stdout"
        }
      ]
    },
    {
      "cell_type": "markdown",
      "metadata": {
        "id": "a6Dh9mbEF9Jv"
      },
      "source": [
        "#### 연습 문제 3.4.1\r\n",
        "\r\n",
        "NumPy를 사용하여 다음 행렬을 특잇값 분해를 한다(축소형이 아닌 방법과 축소형 방법을 각각 사용한다). 또한 다시 곱해서 원래의 행렬이 나오는 것을 보여라.\r\n",
        "\r\n",
        "$$ \r\n",
        "\\begin{align}\r\n",
        "B =\r\n",
        "\\begin{bmatrix}\r\n",
        "3 & 2 & 2 \\\\\r\n",
        "2 & 3 & -2\r\n",
        "\\end{bmatrix}\r\n",
        ", \\;\\; \r\n",
        "C =\r\n",
        "\\begin{bmatrix}\r\n",
        "2 & 4 \\\\\r\n",
        "1 & 3 \\\\\r\n",
        "0 & 0 \\\\\r\n",
        "0 & 0 \\\\\r\n",
        "\\end{bmatrix}\r\n",
        "\\end{align}\r\n",
        "$$\r\n"
      ]
    },
    {
      "cell_type": "code",
      "metadata": {
        "colab": {
          "base_uri": "https://localhost:8080/"
        },
        "id": "bdxjzXe8FdM_",
        "outputId": "f3441886-375b-46e7-8fd4-03a95280a5d4"
      },
      "source": [
        "from numpy.linalg import svd\r\n",
        "\r\n",
        "B = np.array([[3, 2, 2], [2, 3, -2]]) # (2, 3) = (2, 2)(2, 3)(3, 3) \r\n",
        "C = np.array([[2, 4], [1, 3], [0, 0], [0, 0]]) # (4, 2) = (4, 4)(4, 2)(2, 2) \r\n",
        "\r\n",
        "U, S, VT = svd(B)\r\n",
        "U2, S2, VT2 = svd(B, full_matrices=False)\r\n",
        "\r\n",
        "print(U @ np.diag(S, -1)[1:,:] @ VT)\r\n",
        "print(U2 @ np.diag(S2) @ VT2)"
      ],
      "execution_count": 60,
      "outputs": [
        {
          "output_type": "stream",
          "text": [
            "[[ 3.  2.  2.]\n",
            " [ 2.  3. -2.]]\n",
            "[[ 3.  2.  2.]\n",
            " [ 2.  3. -2.]]\n"
          ],
          "name": "stdout"
        }
      ]
    },
    {
      "cell_type": "code",
      "metadata": {
        "colab": {
          "base_uri": "https://localhost:8080/"
        },
        "id": "Iqaei_HuJO9F",
        "outputId": "019bd725-a2cc-4cb3-c4c2-c099b5dc2a85"
      },
      "source": [
        "U, S, VT = svd(C)\r\n",
        "U2, S2, VT2 = svd(C, full_matrices=False)\r\n",
        "\r\n",
        "print(U @ np.diag(S, 2)[:,2:] @ VT)\r\n",
        "print(U2 @ np.diag(S2) @ VT2)"
      ],
      "execution_count": 74,
      "outputs": [
        {
          "output_type": "stream",
          "text": [
            "[[2. 4.]\n",
            " [1. 3.]\n",
            " [0. 0.]\n",
            " [0. 0.]]\n",
            "[[2. 4.]\n",
            " [1. 3.]\n",
            " [0. 0.]\n",
            " [0. 0.]]\n"
          ],
          "name": "stdout"
        }
      ]
    },
    {
      "cell_type": "markdown",
      "metadata": {
        "id": "9d8XJHtbKBiE"
      },
      "source": [
        "### 4) 특잇값과 특이벡터의 관계\r\n",
        "\r\n",
        "1. 행렬 $V$ : 정규직교(orthonormal)행렬이므로 전치행렬이 역행렬\r\n",
        "> $$\r\n",
        "\\begin{align}\r\n",
        "V^T = V^{-1}\r\n",
        "\\end{align}\r\n",
        "$$\r\n",
        "\r\n",
        "2. 특이분해된 등식의 양변에 $V$를 곱하면,\r\n",
        "> $$ \r\n",
        "\\begin{align}\r\n",
        "AV = U\\Sigma V^TV = U\\Sigma\r\n",
        "\\end{align}\r\n",
        "$$\r\n",
        "> $$ \r\n",
        "\\begin{align}\r\n",
        "A\\begin{bmatrix}\r\n",
        "v_1 & v_2 & \\cdots & v_M\r\n",
        "\\end{bmatrix}\r\n",
        "= \r\n",
        "\\begin{bmatrix}\r\n",
        "u_1 & u_2 & \\cdots & u_N\r\n",
        "\\end{bmatrix}\r\n",
        "\\begin{bmatrix}\r\n",
        "\\sigma_1 & 0 & \\cdots \\\\\r\n",
        "0 & \\sigma_2 & \\cdots \\\\\r\n",
        "\\vdots & \\vdots & \\ddots \\\\\r\n",
        "\\end{bmatrix}\r\n",
        "\\end{align}\r\n",
        "$$\r\n",
        "\r\n",
        "3. $M$ > $N$ 일 때,\r\n",
        "> $$\r\n",
        "\\begin{align}\r\n",
        "\\begin{bmatrix}\r\n",
        "Av_1 & Av_2 & \\cdots & Av_N\r\n",
        "\\end{bmatrix}\r\n",
        "= \r\n",
        "\\begin{bmatrix}\r\n",
        "\\sigma_1u_1 & \\sigma_2u_2 & \\cdots & \\sigma_Nu_N\r\n",
        "\\end{bmatrix}\r\n",
        "\\end{align}\r\n",
        "$$\r\n",
        "\r\n",
        "4. $N$ > $M$ 일 때,\r\n",
        "> $$\r\n",
        "\\begin{align}\r\n",
        "\\begin{bmatrix}\r\n",
        "Av_1 & Av_2 & \\cdots & Av_M\r\n",
        "\\end{bmatrix}\r\n",
        "= \r\n",
        "\\begin{bmatrix}\r\n",
        "\\sigma_1u_1 & \\sigma_2u_2 & \\cdots & \\sigma_Mu_M\r\n",
        "\\end{bmatrix}\r\n",
        "\\end{align}\r\n",
        "$$\r\n",
        "\r\n",
        "5. 즉, $i$번째 특잇값 $\\sigma_i$와 특이벡터 $u_i$, $v_i$는 다음과 같은 관계가 있다.\r\n",
        "> $$\r\n",
        "\\begin{align}\r\n",
        "Av_i = \\sigma_i u_i \\;\\; (i=1, \\ldots, \\text{min}(M,N))\r\n",
        "\\end{align}\r\n",
        "$$\r\n",
        "> - 이 관계는 고유분해와 비슷하지만 고유분해와는 달리 좌변과 우변의 벡터가 다르다."
      ]
    },
    {
      "cell_type": "markdown",
      "metadata": {
        "id": "wNfjW_FyK2y6"
      },
      "source": [
        "#### 예제 \r\n",
        "\r\n",
        "위에서 예로 들었던 행렬의 경우,\r\n",
        "\r\n",
        "$$\r\n",
        "\\begin{align}\r\n",
        "A =\r\n",
        "\\begin{bmatrix}\r\n",
        "3 & -1 \\\\\r\n",
        "1 & 3 \\\\\r\n",
        "1 & 1\r\n",
        "\\end{bmatrix}\r\n",
        "=\r\n",
        "U\\Sigma V^T\r\n",
        "= \r\n",
        "\\begin{bmatrix}\r\n",
        " -\\frac{1}{\\sqrt{6}} &  \\frac{2}{\\sqrt{5}} \\\\ \r\n",
        " -\\frac{2}{\\sqrt{6}} & -\\frac{1}{\\sqrt{5}} \\\\ \r\n",
        " -\\frac{1}{\\sqrt{6}} & 0 \r\n",
        "\\end{bmatrix}\r\n",
        "\\begin{bmatrix}\r\n",
        "\\sqrt{12} & 0        \\\\\r\n",
        "       0  & \\sqrt{10} \\\\\r\n",
        "\\end{bmatrix}\r\n",
        "\\begin{bmatrix}\r\n",
        "-\\frac{1}{\\sqrt{2}} & -\\frac{1}{\\sqrt{2}} \\\\\r\n",
        " \\frac{1}{\\sqrt{2}} & -\\frac{1}{\\sqrt{2}} \r\n",
        "\\end{bmatrix}\r\n",
        "\\end{align}\r\n",
        "$$\r\n",
        "- $A = (3,2), N(3) > M(2) $\r\n",
        "\r\n",
        "$$\r\n",
        "\\begin{align}\r\n",
        "Av_1 = \\sigma_1 u_1 =\r\n",
        "\\begin{bmatrix}\r\n",
        "3 & -1 \\\\\r\n",
        "1 & 3 \\\\\r\n",
        "1 & 1\r\n",
        "\\end{bmatrix}\r\n",
        "\\begin{bmatrix}\r\n",
        "-\\frac{1}{\\sqrt{2}} \\\\\r\n",
        "-\\frac{1}{\\sqrt{2}} \r\n",
        "\\end{bmatrix}\r\n",
        "=\r\n",
        "\\sqrt{12}\r\n",
        "\\begin{bmatrix}\r\n",
        "-\\frac{1}{\\sqrt{6}} \\\\ -\\frac{2}{\\sqrt{6}} \\\\ -\\frac{1}{\\sqrt{6}}\r\n",
        "\\end{bmatrix}\r\n",
        "\\end{align}\r\n",
        "$$\r\n",
        "\r\n",
        "$$\r\n",
        "\\begin{align}\r\n",
        "Av_2 = \\sigma_2 u2 =\r\n",
        "\\begin{bmatrix}\r\n",
        "3 & -1 \\\\\r\n",
        "1 & 3 \\\\\r\n",
        "1 & 1\r\n",
        "\\end{bmatrix}\r\n",
        "\\begin{bmatrix}\r\n",
        " \\frac{1}{\\sqrt{2}} \\\\\r\n",
        "-\\frac{1}{\\sqrt{2}} \r\n",
        "\\end{bmatrix}\r\n",
        "=\r\n",
        "\\sqrt{10}\r\n",
        "\\begin{bmatrix}\r\n",
        " \\frac{2}{\\sqrt{5}} \\\\  \r\n",
        "-\\frac{1}{\\sqrt{5}} \\\\ \r\n",
        " 0 \\\\ \r\n",
        "\\end{bmatrix}\r\n",
        "\\end{align}\r\n",
        "$$\r\n"
      ]
    },
    {
      "cell_type": "markdown",
      "metadata": {
        "id": "Bf6WeaQqM1T7"
      },
      "source": [
        "#### 연습 문제 3.4.2\r\n",
        "\r\n",
        "NumPy를 사용하여 다음 행렬에 대해 \r\n",
        "\r\n",
        "$$\r\n",
        "\\begin{align}\r\n",
        "Av_i = \\sigma_i u_i\r\n",
        "\\end{align}\r\n",
        "$$\r\n",
        "\r\n",
        "가 성립한다는 것을 계산으로 보여라.\r\n",
        "\r\n",
        "$$ \r\n",
        "\\begin{align}\r\n",
        "B =\r\n",
        "\\begin{bmatrix}\r\n",
        "3 & 2 & 2 \\\\\r\n",
        "2 & 3 & -2\r\n",
        "\\end{bmatrix}\r\n",
        ", \\;\\; \r\n",
        "C =\r\n",
        "\\begin{bmatrix}\r\n",
        "2 & 4 \\\\\r\n",
        "1 & 3 \\\\\r\n",
        "0 & 0 \\\\\r\n",
        "0 & 0 \\\\\r\n",
        "\\end{bmatrix}\r\n",
        "\\end{align}\r\n",
        "$$\r\n"
      ]
    },
    {
      "cell_type": "code",
      "metadata": {
        "colab": {
          "base_uri": "https://localhost:8080/"
        },
        "id": "JVsDInWdNDjp",
        "outputId": "ca81ead5-22e2-46a6-e5fc-50f7d7f3c53d"
      },
      "source": [
        "from numpy.linalg import svd\r\n",
        "\r\n",
        "B = np.array([[3, 2, 2], [2, 3, -2]])          # (2, 3) \r\n",
        "C = np.array([[2, 4], [1, 3], [0, 0], [0, 0]]) # (4, 2) \r\n",
        "\r\n",
        "U, S, VT = svd(B, full_matrices=False)\r\n",
        "print(B @ VT.T)\r\n",
        "print((np.diag(S) @ U.T).T)"
      ],
      "execution_count": 76,
      "outputs": [
        {
          "output_type": "stream",
          "text": [
            "[[-3.53553391 -2.12132034]\n",
            " [-3.53553391  2.12132034]]\n",
            "[[-3.53553391 -2.12132034]\n",
            " [-3.53553391  2.12132034]]\n"
          ],
          "name": "stdout"
        }
      ]
    },
    {
      "cell_type": "code",
      "metadata": {
        "colab": {
          "base_uri": "https://localhost:8080/"
        },
        "id": "O9jzMJvRNp5y",
        "outputId": "c8e1f5be-2a7e-4ed3-9d28-a795acc9df73"
      },
      "source": [
        "U, S, VT = svd(C, full_matrices=False)\r\n",
        "print(C @ VT.T)\r\n",
        "print((np.diag(S) @ U.T).T)"
      ],
      "execution_count": 77,
      "outputs": [
        {
          "output_type": "stream",
          "text": [
            "[[-4.46716435 -0.21081425]\n",
            " [-3.14809647  0.29914646]\n",
            " [ 0.          0.        ]\n",
            " [ 0.          0.        ]]\n",
            "[[-4.46716435 -0.21081425]\n",
            " [-3.14809647  0.29914646]\n",
            " [ 0.          0.        ]\n",
            " [ 0.          0.        ]]\n"
          ],
          "name": "stdout"
        }
      ]
    },
    {
      "cell_type": "markdown",
      "metadata": {
        "id": "MFz0wy6kMq7r"
      },
      "source": [
        "### 5) 특이분해와 고유분해의 관계\r\n",
        "\r\n",
        "1. 특이분해와 고유분해의 관계는 다음과 같다.\r\n",
        "> $$ \r\n",
        "\\begin{align}\r\n",
        "A^TA^{} \r\n",
        "= (V^{} \\Sigma^T U^T)( U^{}\\Sigma^{} V^T) \r\n",
        "= V^{} \\Lambda^{} V^T \r\n",
        "\\end{align}\r\n",
        "$$\r\n",
        "> 1) 행렬 $A$의 $S^2$(특이값 제곱) =  분산 행렬의 $\\Lambda$(고윳값)   \r\n",
        "> 2) 행렬 $A$의 $V^T$(오른쪽 특이벡터) = 분산행렬 $A^TA^{}$의 $V^T$고유벡터가 된다.\r\n",
        "\r\n",
        "2. $\\Lambda$은 $N$ > $M$ 일 때, \r\n",
        "> $$\r\n",
        "\\begin{align}\r\n",
        "\\Lambda\r\n",
        "= \r\n",
        "\\begin{bmatrix}\r\n",
        "\\sigma_1^2 & 0 & \\cdots & 0 \\\\\r\n",
        "0 & \\sigma_2^2 & \\cdots & 0 \\\\\r\n",
        "\\vdots & \\vdots & \\ddots & \\vdots \\\\\r\n",
        "0 & 0 & \\cdots & \\sigma_M^2  \\\\\r\n",
        "\\end{bmatrix}\r\n",
        "\\end{align}\r\n",
        "$$\r\n",
        "\r\n",
        "3. $N$ < $M$ 일 때\r\n",
        "> $$\r\n",
        "\\begin{align}\r\n",
        "\\Lambda\r\n",
        "= \r\n",
        "\\begin{bmatrix}\r\n",
        "\\sigma_1^2 & 0 & \\cdots & 0 & \\cdots & 0 \\\\\r\n",
        "0 & \\sigma_2^2 & \\cdots & 0 & \\cdots & 0 \\\\\r\n",
        "\\vdots & \\vdots & \\ddots & \\vdots & \\vdots & \\vdots \\\\\r\n",
        "0 & 0 & \\cdots & \\sigma_N^2 & \\cdots & 0 \\\\\r\n",
        "\\vdots & \\vdots & \\cdots & \\vdots & \\ddots & \\vdots \\\\\r\n",
        "0 & 0 & \\cdots & 0 & \\cdots & 0 \\\\\r\n",
        "\\end{bmatrix}\r\n",
        "= \\text{diag}(\\sigma_1^2, \\sigma_2^2, \\cdots, \\sigma_N^2, 0, \\cdots, 0)\r\n",
        "\\end{align}\r\n",
        "$$\r\n",
        "\r\n",
        "\r\n"
      ]
    },
    {
      "cell_type": "code",
      "metadata": {
        "colab": {
          "base_uri": "https://localhost:8080/"
        },
        "id": "nCy6xmovPYs5",
        "outputId": "3a5d9856-a4a9-41ee-cf9a-e4afc144d5ae"
      },
      "source": [
        "A = np.array([[3, -1], [1, 3], [1, 1]])\r\n",
        "U, S, VT = svd(A)\r\n",
        "\r\n",
        "w, V = np.linalg.eig(A.T @ A)\r\n",
        "print(w)       # A.T A의 고윳값\r\n",
        "print(S ** 2)  # A의 특잇값의 제곱\r\n",
        "print(V)       # A.T A의 고유벡터\r\n",
        "print(VT.T)    # A의 오른쪽 특이벡터"
      ],
      "execution_count": 78,
      "outputs": [
        {
          "output_type": "stream",
          "text": [
            "[12. 10.]\n",
            "[12. 10.]\n",
            "[[ 0.70710678 -0.70710678]\n",
            " [ 0.70710678  0.70710678]]\n",
            "[[-0.70710678  0.70710678]\n",
            " [-0.70710678 -0.70710678]]\n"
          ],
          "name": "stdout"
        }
      ]
    },
    {
      "cell_type": "markdown",
      "metadata": {
        "id": "iM3LOB6ORbyA"
      },
      "source": [
        "#### 연습 문제 3.4.3\r\n",
        "\r\n",
        "NumPy를 사용하여 행렬 $A$의 왼쪽 특이벡터가 행렬 $AA^T$의 고유벡터가 된다는 것을 보여라.\r\n",
        "\r\n",
        "$$\r\n",
        "\\begin{align}\r\n",
        "A = \r\n",
        "\\begin{bmatrix}\r\n",
        "3 & -1 \\\\\r\n",
        "1 & 3 \\\\\r\n",
        "1 & 1\r\n",
        "\\end{bmatrix}\r\n",
        "\\end{align}\r\n",
        "$$"
      ]
    },
    {
      "cell_type": "code",
      "metadata": {
        "colab": {
          "base_uri": "https://localhost:8080/"
        },
        "id": "sE1aKgJ-RuKJ",
        "outputId": "5506151b-4f63-47d0-fd1d-210db92b9e34"
      },
      "source": [
        "A = np.array([[3, -1], [1, 3], [1, 1]])\r\n",
        "\r\n",
        "U, S, VT = svd(A)\r\n",
        "print(U)\r\n",
        "\r\n",
        "w, V = np.linalg.eig(A @ A.T)\r\n",
        "idx = np.argsort(w ** 2)[::-1]\r\n",
        "w = w[idx]\r\n",
        "V = V[:, idx]\r\n",
        "print(V)"
      ],
      "execution_count": 91,
      "outputs": [
        {
          "output_type": "stream",
          "text": [
            "[[-4.08248290e-01  8.94427191e-01 -1.82574186e-01]\n",
            " [-8.16496581e-01 -4.47213595e-01 -3.65148372e-01]\n",
            " [-4.08248290e-01 -2.06937879e-16  9.12870929e-01]]\n",
            "[[-4.08248290e-01 -8.94427191e-01  1.82574186e-01]\n",
            " [-8.16496581e-01  4.47213595e-01  3.65148372e-01]\n",
            " [-4.08248290e-01  5.07704275e-16 -9.12870929e-01]]\n"
          ],
          "name": "stdout"
        }
      ]
    },
    {
      "cell_type": "markdown",
      "metadata": {
        "id": "pO_UieOPUNnl"
      },
      "source": [
        "### 6) 1차원 근사\r\n",
        "\r\n",
        "1. 2차원 평면 위에 3개의 2차원 벡터 $a_1, a_2, a_3$가 있다. 원점을 지나면서 모든 점들과 가능한 한 가까이 있는 직선은 다음과 같다. 직선의 방향을 나타내는 단위 벡터를 $w$라고 한다."
      ]
    },
    {
      "cell_type": "code",
      "metadata": {
        "colab": {
          "base_uri": "https://localhost:8080/",
          "height": 381
        },
        "id": "YGmi4dJHUaLb",
        "outputId": "3063be40-805a-4f64-a0d6-92bd4da83aea"
      },
      "source": [
        "w = np.array([2, 1]) / np.sqrt(5)\r\n",
        "a1 = np.array([3, -1])\r\n",
        "a2 = np.array([1, 3])\r\n",
        "a3 = np.array([1, 1])\r\n",
        "\r\n",
        "black = {\"facecolor\": \"black\"}\r\n",
        "\r\n",
        "plt.figure(figsize=(9, 6))\r\n",
        "plt.plot(0, 0, 'kP', ms=10)\r\n",
        "plt.annotate('', xy=w, xytext=(0, 0), arrowprops=black)\r\n",
        "plt.plot([-2, 8], [-1, 4], 'b--', lw=2)\r\n",
        "plt.plot([a1[0], 2], [a1[1], 1], 'g:', lw=2)\r\n",
        "plt.plot([a2[0], 2], [a2[1], 1], 'g:', lw=2)\r\n",
        "plt.plot([a3[0], 1.2], [a3[1], 0.6], 'g:', lw=2)\r\n",
        "plt.plot(a1[0], a1[1], 'ro', ms=10)\r\n",
        "plt.plot(a2[0], a2[1], 'ro', ms=10)\r\n",
        "plt.plot(a3[0], a3[1], 'ro', ms=10)\r\n",
        "plt.text(0.1, 0.5, \"$w$\")\r\n",
        "plt.text(a1[0] + 0.2, a1[1] + 0.2, \"$a_1$\")\r\n",
        "plt.text(a2[0] + 0.2, a2[1] + 0.2, \"$a_2$\")\r\n",
        "plt.text(a3[0] - 0.3, a3[1] + 0.2, \"$a_3$\")\r\n",
        "plt.xticks(np.arange(-3, 15))\r\n",
        "plt.yticks(np.arange(-1, 5))\r\n",
        "plt.xlim(-3, 6)\r\n",
        "plt.ylim(-2, 4)\r\n",
        "plt.show()"
      ],
      "execution_count": 92,
      "outputs": [
        {
          "output_type": "display_data",
          "data": {
            "image/png": "[encoded data removed]",
            "text/plain": [
              "<Figure size 648x432 with 1 Axes>"
            ]
          },
          "metadata": {
            "tags": [],
            "needs_background": "light"
          }
        }
      ]
    },
    {
      "cell_type": "markdown",
      "metadata": {
        "id": "0dGt_BAEUo-o"
      },
      "source": [
        "2. 벡터 $w$와 점 $a_i$의 거리의 제곱은 다음처럼 계산할 수 있다.(연습 문제 3.1.9)\r\n",
        "> $$\r\n",
        "\\begin{align}\r\n",
        "\\Vert a_i^{\\perp w}\\Vert^2 = \\Vert a_i\\Vert^2 - \\Vert a_i^{\\Vert w}\\Vert^2 = \\Vert a_i\\Vert^2 - (a_i^Tw)^2\r\n",
        "\\end{align}\r\n",
        "$$ \r\n",
        "\r\n",
        "2. 벡터 $a_1, a_2, a_3$를 행벡터로 가지는 행렬 $A$를 가정\r\n",
        "> $$\r\n",
        "\\begin{align}\r\n",
        "A = \\begin{bmatrix} a_1^T \\\\ a_2^T \\\\ a_3^T \\end{bmatrix}\r\n",
        "\\end{align}\r\n",
        "$$\r\n",
        "\r\n",
        "3. 행벡터의 놈의 제곱의 합은 행렬의 놈이므로 모든 점들과의 거리의 제곱의 합은 행렬의 놈으로 계산된다. (연습 문제 2.3.2)\r\n",
        "> $$ \r\n",
        "\\begin{align}\r\n",
        "\\begin{aligned}\r\n",
        "\\sum_{i=1}^3 \\Vert a_i^{\\perp w}\\Vert^2 \r\n",
        "= \\sum_{i=1}^3 \\Vert a_i\\Vert^2 - \\sum_{i=1}^3  (a_i^Tw)^2\r\n",
        "= \\Vert A \\Vert^2 - \\Vert Aw\\Vert^2 \\\\\r\n",
        "\\end{aligned}\r\n",
        "\\end{align}\r\n",
        "$$ \r\n",
        "\r\n",
        "4. 점 $a_i$의 위치가 고정되어 있으므로 행렬 $A$의 놈 값은 고정되어 있다. 따라서 이 값이 가장 작아지려면 $\\Vert Aw\\Vert^2$의 값이 가장 크게 만드는 $w$를 찾아야 한다.이 문제는 다음처럼 수식으로 쓸 수 있다.\r\n",
        "> $$ \r\n",
        "\\begin{align}\r\n",
        "\\arg\\max_w \\Vert Aw \\Vert^2 \r\n",
        "\\end{align}\r\n",
        "$$"
      ]
    },
    {
      "cell_type": "markdown",
      "metadata": {
        "id": "aZn8ziIBXDvY"
      },
      "source": [
        "### 7) 1차원 근사의 풀이\r\n",
        "\r\n",
        "1. 위에서 예로 든 행렬 $A \\in \\mathbf{R}^{3 \\times 2}$를 특이분해하면 2개의 특잇값, 왼쪽/오른쪽 특이벡터를 가진다. 이를 각각 다음처럼 이름붙인다.\r\n",
        " * 첫 번째 특잇값: $\\sigma_1$, 첫 번째 왼쪽 특이벡터 $u_1 \\in \\mathbf{R}^{3}$, 첫 번째 오른쪽 특이벡터 $v_1 \\in \\mathbf{R}^{2}$ \r\n",
        " * 두 번째 특잇값: $\\sigma_2$, 두 번째 왼쪽 특이벡터 $u_2 \\in \\mathbf{R}^{3}$, 두 번째 오른쪽 특이벡터 $v_2 \\in \\mathbf{R}^{2}$ \r\n",
        "\r\n",
        "2. 첫 번째 특잇값 $\\sigma_1$은 두 번째 특잇값 $\\sigma_2$보다 같거나 크고, A에 오른쪽 특이벡터를 곱하면 왼쪽 특이벡터 방향이 된다.\r\n",
        "> $$\r\n",
        "\\begin{align}\r\n",
        "\\sigma_1 \\geq \\sigma_2\r\n",
        "\\end{align}\r\n",
        "$$\r\n",
        "> $$\r\n",
        "\\begin{align}\r\n",
        "A v_1 = \\sigma_1 u_1, \\;\\; A v_2 = \\sigma_2 u_2\r\n",
        "\\end{align}\r\n",
        "$$\r\n",
        "> - 오른쪽 특이벡터 $v_1, v_2$는 서로 직교하므로 (같은 방향이 아니라서) 선형독립이고, 2차원 평면공간의 기저벡터가 될 수 있다.\r\n",
        "\r\n",
        "3. $\\Vert Aw\\Vert$의 값이 가장 크게 만드는 $w$를 찾아야 하는데 $w$는 2차원 벡터이므로 2차원 평면공간의 기저벡터인 $v_1, v_2$의 선형조합으로 표현할 수 있다.\r\n",
        "> $$\r\n",
        "\\begin{align}\r\n",
        "w = w_{1} v_1 + w_{2} v_2 (\\text{ 단위 벡터로 다음 조건을 만족필요 } w_{1}^2 + w_{2}^2 = 1)\r\n",
        "\\end{align} $$\r\n",
        "> $$ \r\n",
        "\\begin{align}\r\n",
        "\\begin{aligned}\r\n",
        "\\Vert Aw\\Vert^2 \r\n",
        "&= \\Vert A(w_{1} v_1 + w_{2} v_2)\\Vert^2 \\\\\r\n",
        "&= \\Vert w_{1}Av_1 + w_{2}Av_2 \\Vert^2 \\\\\r\n",
        "&= \\Vert w_{1} \\sigma_1 u_1 + w_{2} \\sigma_2 u_2 \\Vert^2 \\\\\r\n",
        "&= \\Vert w_{1} \\sigma_1 u_1 \\Vert^2 + \\Vert w_{2} \\sigma_2 u_2 \\Vert^2 \\;\\; \\text{(직교)} \\\\\r\n",
        "&= w_{1}^2 \\sigma_1^2 \\Vert  u_1 \\Vert^2 + w_{2}^2 \\sigma_2^2 \\Vert  u_2 \\Vert^2 \\\\\r\n",
        "&= w_{1}^2 \\sigma_1^2 + w_{2}^2 \\sigma_2^2  \\;\\; \\text{(단위벡터)}\\\\\r\n",
        "\\end{aligned}\r\n",
        "\\end{align}\r\n",
        "$$\r\n",
        "\r\n",
        "4. $\\sigma_1 > \\sigma_2 > 0$ 이므로 $w_{1}^2 + w_{2}^2 = 1$라는 조건을 만족하면서 위 값을 가장 크게 하는 $w_{1}, w_{2}$값은\r\n",
        ">  $$\r\n",
        "\\begin{align}\r\n",
        "w_{1} = 1, w_{2} = 0\r\n",
        "\\end{align}\r\n",
        "$$\r\n",
        "$$\r\n",
        "\\begin{align}\r\n",
        "w = v_1\r\n",
        "\\end{align}\r\n",
        "$$\r\n",
        "$$\r\n",
        "\\begin{align}\r\n",
        "\\Vert Aw\\Vert = \\Vert Av_1\\Vert = \\Vert \\sigma_1 u_1\\Vert = \\sigma_1 \\Vert u_1\\Vert = \\sigma_1\r\n",
        "\\end{align}\r\n",
        "$$\r\n",
        "\r\n",
        "5. ex) 행렬 $A$\r\n",
        "> $$\r\n",
        "\\begin{align}\r\n",
        "A = \r\n",
        "\\begin{bmatrix}\r\n",
        "3 & -1 \\\\\r\n",
        "1 & 3 \\\\\r\n",
        "1 & 1\r\n",
        "\\end{bmatrix}, \\;\r\n",
        "v_1 = \r\n",
        "\\begin{bmatrix}\r\n",
        "\\frac{\\sqrt{2}}{2} \\\\\r\n",
        "\\frac{\\sqrt{2}}{2} \\\\\r\n",
        "\\end{bmatrix}\r\n",
        "\\end{align}\r\n",
        "$$\r\n",
        "\r\n",
        "$$\r\n",
        "\\begin{align}\r\n",
        "\\Vert A \\Vert^2 - \\Vert Aw\\Vert^2\r\n",
        "=\\Vert A \\Vert^2 - \\sigma_1^2\r\n",
        "\\end{align}\r\n",
        "$$"
      ]
    },
    {
      "cell_type": "code",
      "metadata": {
        "colab": {
          "base_uri": "https://localhost:8080/"
        },
        "id": "Z1In1GqRZI6w",
        "outputId": "39008189-3a35-4a7b-f06e-3d8c10b31a7e"
      },
      "source": [
        "np.linalg.norm(A)**2 - S[0]**2"
      ],
      "execution_count": 93,
      "outputs": [
        {
          "output_type": "execute_result",
          "data": {
            "text/plain": [
              "9.999999999999998"
            ]
          },
          "metadata": {
            "tags": []
          },
          "execution_count": 93
        }
      ]
    },
    {
      "cell_type": "code",
      "metadata": {
        "colab": {
          "base_uri": "https://localhost:8080/",
          "height": 381
        },
        "id": "pNyheJiNZ5GK",
        "outputId": "65430173-838a-4183-de84-002d75886a22"
      },
      "source": [
        "w = np.array([1, 1]) / np.sqrt(2)\r\n",
        "a1 = np.array([3, -1])\r\n",
        "a2 = np.array([1, 3])\r\n",
        "a3 = np.array([1, 1])\r\n",
        "\r\n",
        "black = {\"facecolor\": \"black\"}\r\n",
        "\r\n",
        "plt.figure(figsize=(9, 6))\r\n",
        "plt.plot(0, 0, 'kP', ms=10)\r\n",
        "plt.annotate('', xy=w, xytext=(0, 0), arrowprops=black)\r\n",
        "plt.plot([-2, 4], [-2, 4], 'b--', lw=2)\r\n",
        "plt.plot([a1[0], 1], [a1[1], 1], 'g:', lw=2)\r\n",
        "plt.plot([a2[0], 2], [a2[1], 2], 'g:', lw=2)\r\n",
        "plt.plot(a1[0], a1[1], 'ro', ms=10)\r\n",
        "plt.plot(a2[0], a2[1], 'ro', ms=10)\r\n",
        "plt.plot(a3[0], a3[1], 'ro', ms=10)\r\n",
        "plt.text(0.1, 0.5, \"$w$\")\r\n",
        "plt.text(a1[0] + 0.2, a1[1] + 0.2, \"$a_1$\")\r\n",
        "plt.text(a2[0] + 0.2, a2[1] + 0.2, \"$a_2$\")\r\n",
        "plt.text(a3[0] - 0.3, a3[1] + 0.2, \"$a_3$\")\r\n",
        "plt.xticks(np.arange(-3, 15))\r\n",
        "plt.yticks(np.arange(-1, 5))\r\n",
        "plt.xlim(-3, 6)\r\n",
        "plt.ylim(-2, 4)\r\n",
        "plt.show()"
      ],
      "execution_count": 94,
      "outputs": [
        {
          "output_type": "display_data",
          "data": {
            "image/png": "[encoded data removed]",
            "text/plain": [
              "<Figure size 648x432 with 1 Axes>"
            ]
          },
          "metadata": {
            "tags": [],
            "needs_background": "light"
          }
        }
      ]
    },
    {
      "cell_type": "markdown",
      "metadata": {
        "id": "tKY_AxKUaZG8"
      },
      "source": [
        "### 8) 일반적인 풀이\r\n",
        "\r\n",
        "1. 만약 $N=3$이 아니라 일반적인 경우에는 다음처럼 풀 수 있다. \r\n",
        "> $$\r\n",
        "\\begin{align}\r\n",
        "\\begin{aligned}\r\n",
        "\\Vert Aw \\Vert^2 \r\n",
        "&= \\sum_{i=1}^{N}  (a_i^Tw)^2 \\\\\r\n",
        "&= \\sum_{i=1}^{N}  (a_i^Tw)^T(a_i^Tw) \\\\\r\n",
        "&= \\sum_{i=1}^{N}  w^Ta_ia_i^Tw \\\\\r\n",
        "&= w^T \\left( \\sum_{i=1}^{N}  a_ia_i^T \\right) w \\\\\r\n",
        "&= w^T A^TA w \\\\\r\n",
        "\\end{aligned}\r\n",
        "\\end{align}\r\n",
        "$$\r\n",
        "\r\n",
        "2. 분산행렬의 고유분해 공식을 이용하면,\r\n",
        "> $$\r\n",
        "\\begin{align}\r\n",
        "\\begin{aligned}\r\n",
        "w^T A^TA w \r\n",
        "&= w^T V \\Lambda V^T w \\\\\r\n",
        "&= w^T \\left( \\sum_{i=1}^{M}  \\sigma^2_iv_iv_i^T \\right) w \\\\\r\n",
        "&= \\sum_{i=1}^{M}\\sigma^2_i(w^Tv_i)(v_i^Tw) \\\\\r\n",
        "&= \\sum_{i=1}^{M}\\sigma^2_i\\Vert v_i^Tw\\Vert^2 \\\\\r\n",
        "\\end{aligned}\r\n",
        "\\tag{3.4.51}\r\n",
        "\\end{align}\r\n",
        "$$\r\n",
        "\r\n",
        "3. 이 식에서 $M$은 0이 아닌 특잇값 개수다.\r\n",
        "> $$ \r\n",
        "\\begin{align}\r\n",
        "\\arg\\max_w \\Vert Aw \\Vert^2 = \\arg\\max_w \\sum_{i=1}^{M}\\sigma^2_i\\Vert v_i^Tw\\Vert^2 \r\n",
        "\\end{align}\r\n",
        "$$\r\n",
        "> - 이 값을 가장 크게 하려면 $w$를 가장 큰 특잇값에 대응하는 오른쪽 고유벡터 $v_1$으로 해야 한다. "
      ]
    },
    {
      "cell_type": "markdown",
      "metadata": {
        "id": "70dBYWBxawCg"
      },
      "source": [
        "### 9) 랭크-1 근사문제\r\n",
        "\r\n",
        "1. $a_i$를 $w$에 투영한 벡터는 다음과 같다.\r\n",
        "\r\n",
        "$$\r\n",
        "\\begin{align}\r\n",
        "a^{\\Vert w}_i = (a_i^Tw)w\r\n",
        "\\end{align}\r\n",
        "$$\r\n",
        "\r\n",
        "2. $w$ 벡터를 이용하면 $N$개의 $M$차원 벡터 $a_1, a_2, \\cdots, a_N\\;(a_i \\in \\mathbf{R}^M)$를 1차원으로 투영(projection)하여 가장 비슷한 $N$개의 1차원 벡터 $a^{\\Vert w}_1, a^{\\Vert w}_2, \\cdots, a^{\\Vert w}_N\\;(a^{\\Vert w}_i \\in \\mathbf{R}^1)$를 만들 수 있다. \r\n",
        "> $$\r\n",
        "\\begin{align}\r\n",
        "A'=\r\n",
        "\\begin{bmatrix}\r\n",
        "\\left(a^{\\Vert w}_1\\right)^T \\\\\r\n",
        "\\left(a^{\\Vert w}_2\\right)^T \\\\\r\n",
        "\\vdots \\\\\r\n",
        "\\left(a^{\\Vert w}_N\\right)^T\r\n",
        "\\end{bmatrix}\r\n",
        "=\r\n",
        "\\begin{bmatrix}\r\n",
        "a_1^Tw^{}w^T \\\\\r\n",
        "a_2^Tw^{}w^T \\\\\r\n",
        "\\vdots \\\\\r\n",
        "a_N^Tw^{}w^T\r\n",
        "\\end{bmatrix}\r\n",
        "=\r\n",
        "\\begin{bmatrix}\r\n",
        "a_1^T \\\\\r\n",
        "a_2^T \\\\\r\n",
        "\\vdots \\\\\r\n",
        "a_N^T\r\n",
        "\\end{bmatrix}\r\n",
        "w^{}w^T\r\n",
        "=\r\n",
        "Aw^{}w^T\r\n",
        "\\end{align}\r\n",
        "$$\r\n",
        "> - 이 답은 원래 행렬 $A$에 랭크-1 행렬 $w^{}w^T$를 곱해서 원래의 행렬 $A$와 가장 비슷한 행렬 $A'$을 만드는 문제와 같다.\r\n",
        "\r\n",
        "3. 따라서 문제를 랭크-1 근사문제(rank-1 approximation problem)라고도 한다.\r\n",
        "$$ \r\n",
        "\\begin{align}\r\n",
        "\\arg\\min_w \\Vert A - A' \\Vert = \\arg\\min_w \\Vert A^{} - A^{}w^{}w^T \\Vert \r\n",
        "\\end{align}\r\n",
        "$$\r\n"
      ]
    },
    {
      "cell_type": "markdown",
      "metadata": {
        "id": "nZhvcqccbO6S"
      },
      "source": [
        "### 10) $K$차원 근사\r\n",
        "\r\n",
        "1. $N$개의 $M$차원 벡터 $a_1, a_2, \\cdots, a_N\\;(a_i \\in \\mathbf{R}^M)$를 1차원이 아니라 정규직교인 기저벡터 $w_1, w_2, \\cdots, w_K$로 이루어진 $K$차원 벡터공간으로 투영하여 가장 비슷한 $N$개의 $K$차원 벡터 $a^{\\Vert w}_1, a^{\\Vert w}_2, \\cdots, a^{\\Vert w}_N\\;$를 만들기 위한 정규직교 기저벡터 $w_1, w_2, \\cdots, w_K$를 찾는 문제를 생각하자. 이 문제는 랭크-$K$ 근사문제라고 한다.\r\n",
        "\r\n",
        "2. 기저벡터행렬을 $W$라고 하자.\r\n",
        "> $$ \r\n",
        "\\begin{align}\r\n",
        "W = \\begin{bmatrix} w_1 & w_2 & \\cdots & w_K \\end{bmatrix}\r\n",
        "\\end{align}\r\n",
        "$$\r\n",
        "\r\n",
        "3. 정규직교 기저벡터에 대한 벡터 $a_i$의 투영 $a^{\\Vert w}_i$는 각 기저벡터에 대한 내적으로 만들 수 있다.\r\n",
        "> $$\r\n",
        "\\begin{align}\r\n",
        "\\begin{aligned}\r\n",
        "a^{\\Vert w}_i \r\n",
        "&= \r\n",
        "(a_i^Tw_1)w_1 +\r\n",
        "(a_i^Tw_2)w_2 +\r\n",
        "\\cdots\r\n",
        "+ (a_i^Tw_K)w_K \\\\\r\n",
        "\\end{aligned}\r\n",
        "=\r\n",
        "\\sum_{k=1}^K (a_i^Tw_k)w_k\r\n",
        "\\end{align}\r\n",
        "$$\r\n",
        "\r\n",
        "4. 벡터 $a_1, a_2, \\cdots, a_N$를 행벡터로 가지는 행렬 $A$를 가정하면 \r\n",
        "> $$ \r\n",
        "\\begin{align}\r\n",
        "A = \\begin{bmatrix} a_1^T \\\\ a_2^T \\\\ \\vdots \\\\ a_N^T \\end{bmatrix}\r\n",
        "\\end{align}\r\n",
        "$$\r\n",
        "\r\n",
        "5. 모든 점들과의 거리의 제곱의 합은 다음처럼 행렬의 놈으로 계산할 수 있다.\r\n",
        "> $$ \r\n",
        "\\begin{align}\r\n",
        "\\begin{aligned}\r\n",
        "\\sum_{i=1}^N \\Vert a_i^{\\perp w}\\Vert^2 \r\n",
        "&= \\sum_{i=1}^N \\Vert a_i\\Vert^2 - \\sum_{i=1}^N \\Vert a^{\\Vert w}_i\\Vert^2 \\\\\r\n",
        "&= \\Vert A \\Vert^2 - \\sum_{i=1}^N \\Vert a^{\\Vert w}_i\\Vert^2 \\\\\r\n",
        "&= \\sum_{i=1}^N \\sum_{k=1}^K \\Vert (a_i^Tw_k)w_k \\Vert^2 \\\\\r\n",
        "&= \\sum_{i=1}^N \\sum_{k=1}^K \\Vert a_i^Tw_k \\Vert^2 \\\\\r\n",
        "&= \\sum_{k=1}^K w_k^T A^TA w_k \\\\\r\n",
        "\\end{aligned}\r\n",
        "\\end{align}\r\n",
        "$$ \r\n",
        "\r\n",
        "6. 분산행렬의 고유분해를 사용하면\r\n",
        "> $$\r\n",
        "\\begin{align}\r\n",
        "\\begin{aligned}\r\n",
        "\\sum_{k=1}^K w_k^T A^TA w_k \r\n",
        "&= \\sum_{k=1}^K w_k^T V \\Lambda V^T w_k \\\\\r\n",
        "&= \\sum_{k=1}^K w_k^T \\left( \\sum_{i=1}^{M}  \\sigma^2_iv_iv_i^T \\right) w_k \\\\\r\n",
        "&= \\sum_{k=1}^K \\sum_{i=1}^{M}\\sigma^2_i\\Vert v_i^Tw_k\\Vert^2 \\\\\r\n",
        "\\end{aligned}\r\n",
        "\\end{align}\r\n",
        "$$\r\n",
        "\r\n",
        "7. 정리 : 가장 큰 $K$개의 특잇값에 대응하는 오른쪽 특이벡터가 기저벡터일 때 가장 값이 커진다.\r\n"
      ]
    },
    {
      "cell_type": "markdown",
      "metadata": {
        "id": "PVGBz3mHdF26"
      },
      "source": [
        "### 11) 랭크-K 근사문제\r\n",
        "\r\n",
        "1. 오른쪽 기저벡터 중 가장 큰 $K$개의 특잇값에 대응하는 오른쪽 특이벡터가 우리가 찾는 기저벡터가 된다.\r\n",
        "\r\n",
        "2. 이 문제는 다음처럼 랭크-$K$ 근사문제의 형태로 만들 수도 있다.\r\n",
        "> $$ \r\n",
        "\\begin{align}\r\n",
        "\\begin{aligned}\r\n",
        "a^{\\Vert w}_i \r\n",
        "&= \r\n",
        "(a_i^Tw_1)w_1 +\r\n",
        "(a_i^Tw_2)w_2 +\r\n",
        "\\cdots\r\n",
        "+ (a_i^Tw_K)w_K \\\\\r\n",
        "&=\r\n",
        "\\begin{bmatrix} w_1 & w_2 & \\cdots & w_K \\end{bmatrix}\r\n",
        "\\begin{bmatrix} a_i^Tw_1 \\\\ a_i^Tw_2 \\\\ \\vdots \\\\ a_i^Tw_K \\end{bmatrix} \\\\\r\n",
        "&=\r\n",
        "\\begin{bmatrix} w_1 & w_2 & \\cdots & w_K \\end{bmatrix}\r\n",
        "\\begin{bmatrix} w_1^T \\\\ w_2^T \\\\ \\vdots \\\\ w_K^T \\end{bmatrix} a_i \\\\\r\n",
        "&=\r\n",
        "WW^Ta_i\r\n",
        "\\end{aligned}\r\n",
        "\\end{align}\r\n",
        "$$\r\n",
        "\r\n",
        "3. 이러한 투영벡터를 모아놓은 행렬 $A'$\r\n",
        "> $$\r\n",
        "\\begin{align}\r\n",
        "A'=\r\n",
        "\\begin{bmatrix}\r\n",
        "\\left(a^{\\Vert w}_1\\right)^T \\\\\r\n",
        "\\left(a^{\\Vert w}_2\\right)^T \\\\\r\n",
        "\\vdots \\\\\r\n",
        "\\left(a^{\\Vert w}_N\\right)^T\r\n",
        "\\end{bmatrix}\r\n",
        "=\r\n",
        "\\begin{bmatrix}\r\n",
        "a_1^TW^{}W^T \\\\\r\n",
        "a_2^TW^{}W^T\\\\\r\n",
        "\\vdots \\\\\r\n",
        "a_N^TW^{}W^T\r\n",
        "\\end{bmatrix}\r\n",
        "=\r\n",
        "\\begin{bmatrix}\r\n",
        "a_1^T \\\\\r\n",
        "a_2^T \\\\\r\n",
        "\\vdots \\\\\r\n",
        "a_N^T\r\n",
        "\\end{bmatrix}\r\n",
        "W^{}W^T\r\n",
        "=\r\n",
        "AW^{}W^T\r\n",
        "\\end{align}\r\n",
        "$$\r\n",
        "\r\n",
        "4. 이 문제는 원래 행렬 $A$에 랭크-K 행렬 $W_{}W^T$를 곱해서 원래의 행렬 $A$와 가장 비슷한 행렬 $A'$을 만드는 문제와 같다.\r\n",
        "> $$ \r\n",
        "\\begin{align}\r\n",
        "\\arg\\min_{w_1,\\cdots,w_K} \\Vert A - AW^{}W^T \\Vert \r\n",
        "\\end{align}\r\n",
        "$$\r\n"
      ]
    }
  ]
}