{
  "nbformat": 4,
  "nbformat_minor": 0,
  "metadata": {
    "colab": {
      "name": "4_3_적분.ipynb",
      "provenance": [],
      "authorship_tag": "ABX9TyNwSPfVcFqnpZEfytVZXzTf",
      "include_colab_link": true
    },
    "kernelspec": {
      "name": "python3",
      "display_name": "Python 3"
    },
    "language_info": {
      "name": "python"
    }
  },
  "cells": [
    {
      "cell_type": "markdown",
      "metadata": {
        "id": "view-in-github",
        "colab_type": "text"
      },
      "source": [
        "<a href=\"https://colab.research.google.com/github/sejin-sim/Math/blob/main/4_3_%EC%A0%81%EB%B6%84.ipynb\" target=\"_parent\"><img src=\"https://colab.research.google.com/assets/colab-badge.svg\" alt=\"Open In Colab\"/></a>"
      ]
    },
    {
      "cell_type": "markdown",
      "metadata": {
        "id": "LOIOTOkWemsg"
      },
      "source": [
        "##### 기본 셋팅"
      ]
    },
    {
      "cell_type": "code",
      "metadata": {
        "colab": {
          "base_uri": "https://localhost:8080/"
        },
        "id": "80rIn15degoN",
        "outputId": "93cbd20f-3a1f-4601-813e-825680d59b9a"
      },
      "source": [
        "import numpy as np\n",
        "\n",
        "# %matplotlib inline\n",
        "import matplotlib as mpl\n",
        "import matplotlib.pyplot as plt\n",
        "import seaborn as sns\n",
        "import pandas as pd\n",
        "\n",
        "mpl.rc('axes', labelsize=14)\n",
        "mpl.rc('xtick', labelsize=12)\n",
        "mpl.rc('ytick', labelsize=12)\n",
        "mpl.rcParams['axes.unicode_minus'] = False\n",
        "mpl.rcParams.update({\"axes.grid\" : True})\n",
        "\n",
        "plt.rcParams[\"figure.figsize\"] = (15,9)\n",
        "plt.rc(\"font\", size=18)  # 그림의 폰트 크기를 18로 고정\n",
        "\n",
        "np.random.seed(42)\n",
        "\n",
        "# %config InlineBackend.figure_format = 'retina'\n",
        " \n",
        "!apt -qq -y install fonts-nanum\n",
        "fontpath = '/usr/share/fonts/truetype/nanum/NanumBarunGothic.ttf'\n",
        "plt.rc('font', family='NanumBarunGothic') \n",
        "mpl.font_manager._rebuild()\n",
        "\n",
        "import warnings\n",
        "warnings.filterwarnings(action=\"ignore\", message=\"^internal gelsd\")"
      ],
      "execution_count": 1,
      "outputs": [
        {
          "output_type": "stream",
          "text": [
            "fonts-nanum is already the newest version (20170925-1).\n",
            "0 upgraded, 0 newly installed, 0 to remove and 39 not upgraded.\n"
          ],
          "name": "stdout"
        }
      ]
    },
    {
      "cell_type": "markdown",
      "metadata": {
        "id": "5wOcUmXwfBsV"
      },
      "source": [
        "- 적분(integral) : 미분과 반대되는 개념으로 부정적분(indefinite integral)과 정적분(definite integral)이 있다.\n",
        "\n",
        "### 1) 부정적분\n",
        "- 부정적분 : 도함수 f(x)에 대한 미분되기 전의 원래의 함수를 찾는 과정(integration), 또는 그 결과(integral)를 말한다.\n",
        "> $$\n",
        "\\begin{align}\n",
        "\\dfrac{dF(x)}{dx} = f(x) \\;\\;\\leftrightarrow\\;\\; F(x) = \\int_{}^{} f(x) dx + C \n",
        "\\end{align}\n",
        "$$\n",
        "> - $C$ : 상수항을 뜻하며, 미분하면 0이 되므로 부정적분은 무한 개의 해 有. 생략 多"
      ]
    },
    {
      "cell_type": "markdown",
      "metadata": {
        "id": "Pjy57g9VhVD9"
      },
      "source": [
        "#### 연습 문제 4.3.1\n",
        "\n",
        "다음 부정적분을 구하라.\n",
        "\n",
        "(1)\n",
        "$$\n",
        "\\begin{align}\n",
        "\\int 3x^2 dx\n",
        "\\tag{4.3.2}\n",
        "\\end{align}\n",
        "$$\n",
        "\n",
        "(2)\n",
        "$$\n",
        "\\begin{align}\n",
        "\\int (3x^2 - 6x + 1)dx\n",
        "\\tag{4.3.3}\n",
        "\\end{align}\n",
        "$$\n",
        "\n",
        "(3)\n",
        "$$\n",
        "\\begin{align}\n",
        "\\int \\left( 2 + 6x + 4\\exp(x) + \\dfrac{5}{x} \\right) dx\n",
        "\\tag{4.3.4}\n",
        "\\end{align}\n",
        "$$ \n",
        "\n",
        "(4)\n",
        "$$\n",
        "\\begin{align}\n",
        "\\int \\frac{2x}{x^2 - 1} dx\n",
        "\\tag{4.3.5}\n",
        "\\end{align}\n",
        "$$\n"
      ]
    },
    {
      "cell_type": "code",
      "metadata": {
        "colab": {
          "base_uri": "https://localhost:8080/",
          "height": 102
        },
        "id": "63ElSl_Se3C_",
        "outputId": "f3fff359-6672-4823-845c-19814c4e7f0d"
      },
      "source": [
        "import sympy\n",
        "\n",
        "sympy.init_printing(use_latex='mathjax')\n",
        "\n",
        "x = sympy.symbols('x')\n",
        "f = x * sympy.exp(x) + sympy.exp(x)\n",
        "display(f)\n",
        "display(sympy.integrate(f))\n",
        "\n",
        "x, y = sympy.symbols('x y')\n",
        "f = 2 * x + y\n",
        "display(f)\n",
        "sympy.integrate(f, x)"
      ],
      "execution_count": 2,
      "outputs": [
        {
          "output_type": "display_data",
          "data": {
            "text/latex": "$\\displaystyle x e^{x} + e^{x}$",
            "text/plain": [
              "   x    x\n",
              "x⋅ℯ  + ℯ "
            ]
          },
          "metadata": {
            "tags": []
          }
        },
        {
          "output_type": "display_data",
          "data": {
            "text/latex": "$\\displaystyle x e^{x}$",
            "text/plain": [
              "   x\n",
              "x⋅ℯ "
            ]
          },
          "metadata": {
            "tags": []
          }
        },
        {
          "output_type": "display_data",
          "data": {
            "text/latex": "$\\displaystyle 2 x + y$",
            "text/plain": [
              "2⋅x + y"
            ]
          },
          "metadata": {
            "tags": []
          }
        },
        {
          "output_type": "execute_result",
          "data": {
            "text/latex": "$\\displaystyle x^{2} + x y$",
            "text/plain": [
              " 2      \n",
              "x  + x⋅y"
            ]
          },
          "metadata": {
            "tags": []
          },
          "execution_count": 2
        }
      ]
    },
    {
      "cell_type": "code",
      "metadata": {
        "colab": {
          "base_uri": "https://localhost:8080/",
          "height": 112
        },
        "id": "1tlnHZicjJGL",
        "outputId": "861ed5bf-8297-4048-e68f-0cdbe39615eb"
      },
      "source": [
        "print(\"(1) : \\n 도함수\")\n",
        "x = sympy.symbols('x')\n",
        "f = 3 * x ** 2\n",
        "display(f)\n",
        "print(\" 부정적분\")\n",
        "sympy.integrate(f, x)"
      ],
      "execution_count": 3,
      "outputs": [
        {
          "output_type": "stream",
          "text": [
            "(1) : \n",
            " 도함수\n"
          ],
          "name": "stdout"
        },
        {
          "output_type": "display_data",
          "data": {
            "text/latex": "$\\displaystyle 3 x^{2}$",
            "text/plain": [
              "   2\n",
              "3⋅x "
            ]
          },
          "metadata": {
            "tags": []
          }
        },
        {
          "output_type": "stream",
          "text": [
            " 부정적분\n"
          ],
          "name": "stdout"
        },
        {
          "output_type": "execute_result",
          "data": {
            "text/latex": "$\\displaystyle x^{3}$",
            "text/plain": [
              " 3\n",
              "x "
            ]
          },
          "metadata": {
            "tags": []
          },
          "execution_count": 3
        }
      ]
    },
    {
      "cell_type": "code",
      "metadata": {
        "colab": {
          "base_uri": "https://localhost:8080/",
          "height": 112
        },
        "id": "_fIiKivriqgq",
        "outputId": "2504a8e0-0a15-49ad-cc99-1d70eb631d95"
      },
      "source": [
        "print(\"(2) : \\n 도함수\")\n",
        "x = sympy.symbols('x')\n",
        "f = 3 * x ** 2 - 6 * x + 1\n",
        "display(f)\n",
        "print(\" 부정적분\")\n",
        "sympy.integrate(f, x)"
      ],
      "execution_count": 4,
      "outputs": [
        {
          "output_type": "stream",
          "text": [
            "(2) : \n",
            " 도함수\n"
          ],
          "name": "stdout"
        },
        {
          "output_type": "display_data",
          "data": {
            "text/latex": "$\\displaystyle 3 x^{2} - 6 x + 1$",
            "text/plain": [
              "   2          \n",
              "3⋅x  - 6⋅x + 1"
            ]
          },
          "metadata": {
            "tags": []
          }
        },
        {
          "output_type": "stream",
          "text": [
            " 부정적분\n"
          ],
          "name": "stdout"
        },
        {
          "output_type": "execute_result",
          "data": {
            "text/latex": "$\\displaystyle x^{3} - 3 x^{2} + x$",
            "text/plain": [
              " 3      2    \n",
              "x  - 3⋅x  + x"
            ]
          },
          "metadata": {
            "tags": []
          },
          "execution_count": 4
        }
      ]
    },
    {
      "cell_type": "code",
      "metadata": {
        "colab": {
          "base_uri": "https://localhost:8080/",
          "height": 125
        },
        "id": "Ds5boWX_joDs",
        "outputId": "888e6dc5-b912-43f1-e5a3-44c95e85b417"
      },
      "source": [
        "print(\"(3) : \\n 도함수\")\n",
        "x = sympy.symbols('x')\n",
        "f = 2 + 6 * x  + 4 * sympy.exp(x) + 5 / x\n",
        "display(f)\n",
        "print(\" 부정적분\")\n",
        "sympy.integrate(f, x)"
      ],
      "execution_count": 5,
      "outputs": [
        {
          "output_type": "stream",
          "text": [
            "(3) : \n",
            " 도함수\n"
          ],
          "name": "stdout"
        },
        {
          "output_type": "display_data",
          "data": {
            "text/latex": "$\\displaystyle 6 x + 4 e^{x} + 2 + \\frac{5}{x}$",
            "text/plain": [
              "         x       5\n",
              "6⋅x + 4⋅ℯ  + 2 + ─\n",
              "                 x"
            ]
          },
          "metadata": {
            "tags": []
          }
        },
        {
          "output_type": "stream",
          "text": [
            " 부정적분\n"
          ],
          "name": "stdout"
        },
        {
          "output_type": "execute_result",
          "data": {
            "text/latex": "$\\displaystyle 3 x^{2} + 2 x + 4 e^{x} + 5 \\log{\\left(x \\right)}$",
            "text/plain": [
              "   2            x           \n",
              "3⋅x  + 2⋅x + 4⋅ℯ  + 5⋅log(x)"
            ]
          },
          "metadata": {
            "tags": []
          },
          "execution_count": 5
        }
      ]
    },
    {
      "cell_type": "code",
      "metadata": {
        "colab": {
          "base_uri": "https://localhost:8080/",
          "height": 126
        },
        "id": "MfIvoiewjP4t",
        "outputId": "e445b008-5935-4cb2-f3cb-910c9dd35b4d"
      },
      "source": [
        "print(\"(4) : \\n 도함수\")\n",
        "x = sympy.symbols('x')\n",
        "f = (2 * x)  / (x**2 - 1)\n",
        "display(f)\n",
        "print(\" 부정적분\")\n",
        "sympy.integrate(f, x)"
      ],
      "execution_count": 6,
      "outputs": [
        {
          "output_type": "stream",
          "text": [
            "(4) : \n",
            " 도함수\n"
          ],
          "name": "stdout"
        },
        {
          "output_type": "display_data",
          "data": {
            "text/latex": "$\\displaystyle \\frac{2 x}{x^{2} - 1}$",
            "text/plain": [
              " 2⋅x  \n",
              "──────\n",
              " 2    \n",
              "x  - 1"
            ]
          },
          "metadata": {
            "tags": []
          }
        },
        {
          "output_type": "stream",
          "text": [
            " 부정적분\n"
          ],
          "name": "stdout"
        },
        {
          "output_type": "execute_result",
          "data": {
            "text/latex": "$\\displaystyle \\log{\\left(x^{2} - 1 \\right)}$",
            "text/plain": [
              "   ⎛ 2    ⎞\n",
              "log⎝x  - 1⎠"
            ]
          },
          "metadata": {
            "tags": []
          },
          "execution_count": 6
        }
      ]
    },
    {
      "cell_type": "markdown",
      "metadata": {
        "id": "OLKdGhlIk__A"
      },
      "source": [
        "### 2) 편미분의 부정적분\n",
        "\n",
        "1. $f(x, y)$가 함수 $F_1(x, y)$를 $x$로 편미분한 함수\n",
        "> $$ \n",
        "\\begin{align}\n",
        "\\dfrac{\\partial F_1(x, y)}{\\partial x} = f(x, y) \\; \\leftrightarrow \\; F_1(x, y) = \\int_{}^{} f(x, y) dx + C(y)\n",
        "\\end{align}\n",
        "$$\n",
        "> - $C(y)$ : 상수 또는 $y$의 함수\n",
        "\n",
        "2. $f(x, y)$가 함수 $F_2(x, y)$를 $y$로 편미분한 함수\n",
        "> $$ \n",
        "\\begin{align}\n",
        "\\dfrac{\\partial F_2(x, y)}{\\partial y} = f(x, y) \\; \\leftrightarrow \\; F_2(x, y) = \\int_{}^{} f(x, y) dy + C(x)  \n",
        "\\end{align}\n",
        "$$\n",
        "> - $C(x)$ : 상수 또는 $x$의 함수\n"
      ]
    },
    {
      "cell_type": "markdown",
      "metadata": {
        "id": "WU4spBqMlkpB"
      },
      "source": [
        "#### 연습 문제 4.3.2\n",
        "\n",
        "다음 부정적분을 구하라.\n",
        "\n",
        "(1)\n",
        "$$\n",
        "\\begin{align}\n",
        "\\int \\left( 1 + xy \\right) dx\n",
        "\\tag{4.3.8}\n",
        "\\end{align}\n",
        "$$\n",
        "\n",
        "(2)\n",
        "$$\n",
        "\\begin{align}\n",
        "\\int xy\\exp({x^2 + y^2}) dx\n",
        "\\tag{4.3.9}\n",
        "\\end{align}\n",
        "$$"
      ]
    },
    {
      "cell_type": "code",
      "metadata": {
        "colab": {
          "base_uri": "https://localhost:8080/",
          "height": 127
        },
        "id": "8jpSWTznlonH",
        "outputId": "32f49c87-7428-43c1-f258-afa078a8915f"
      },
      "source": [
        "print(\"(1) : \\n 도함수\")\n",
        "x, y = sympy.symbols('x y')\n",
        "f = 1 + x * y\n",
        "display(f)\n",
        "print(\" 부정적분\")\n",
        "sympy.integrate(f, x)"
      ],
      "execution_count": 7,
      "outputs": [
        {
          "output_type": "stream",
          "text": [
            "(1) : \n",
            " 도함수\n"
          ],
          "name": "stdout"
        },
        {
          "output_type": "display_data",
          "data": {
            "text/latex": "$\\displaystyle x y + 1$",
            "text/plain": [
              "x⋅y + 1"
            ]
          },
          "metadata": {
            "tags": []
          }
        },
        {
          "output_type": "stream",
          "text": [
            " 부정적분\n"
          ],
          "name": "stdout"
        },
        {
          "output_type": "execute_result",
          "data": {
            "text/latex": "$\\displaystyle \\frac{x^{2} y}{2} + x$",
            "text/plain": [
              " 2      \n",
              "x ⋅y    \n",
              "──── + x\n",
              " 2      "
            ]
          },
          "metadata": {
            "tags": []
          },
          "execution_count": 7
        }
      ]
    },
    {
      "cell_type": "code",
      "metadata": {
        "colab": {
          "base_uri": "https://localhost:8080/",
          "height": 132
        },
        "id": "bGg9xJE4l29L",
        "outputId": "022e961c-e612-4a66-a3b1-5d78fc24887e"
      },
      "source": [
        "print(\"(2) : \\n 도함수\")\n",
        "x, y = sympy.symbols('x y')\n",
        "f = x*y + sympy.exp(x**2 + y**2)\n",
        "display(f)\n",
        "print(\" 부정적분\")\n",
        "sympy.integrate(f, x)"
      ],
      "execution_count": 8,
      "outputs": [
        {
          "output_type": "stream",
          "text": [
            "(2) : \n",
            " 도함수\n"
          ],
          "name": "stdout"
        },
        {
          "output_type": "display_data",
          "data": {
            "text/latex": "$\\displaystyle x y + e^{x^{2} + y^{2}}$",
            "text/plain": [
              "        2    2\n",
              "       x  + y \n",
              "x⋅y + ℯ       "
            ]
          },
          "metadata": {
            "tags": []
          }
        },
        {
          "output_type": "stream",
          "text": [
            " 부정적분\n"
          ],
          "name": "stdout"
        },
        {
          "output_type": "execute_result",
          "data": {
            "text/latex": "$\\displaystyle \\frac{x^{2} y}{2} + \\frac{\\sqrt{\\pi} e^{y^{2}} \\operatorname{erfi}{\\left(x \\right)}}{2}$",
            "text/plain": [
              "           ⎛ 2⎞        \n",
              " 2         ⎝y ⎠        \n",
              "x ⋅y   √π⋅ℯ    ⋅erfi(x)\n",
              "──── + ────────────────\n",
              " 2            2        "
            ]
          },
          "metadata": {
            "tags": []
          },
          "execution_count": 8
        }
      ]
    },
    {
      "cell_type": "markdown",
      "metadata": {
        "id": "l4eaM2BLmWB3"
      },
      "source": [
        "### 3) 다차 도함수와 다중적분\n",
        "\n",
        "- 다중적분(multiple integration) : 도함수로부터 원래의 함수를 찾아내기 위해 여러번 적분\n",
        "\n",
        "- $f(x, y)$ : $F_3(x, y)$를 $x$로 한번 편미분한 후 $y$로 다시 편미분하여 나온 이차 도함수\n",
        "> $$ \n",
        "\\begin{align}\n",
        "\\dfrac{\\partial^2 F_3(x,y)}{\\partial x \\partial y} \n",
        "= f(x, y) \\; \\leftrightarrow \\; F_3(x, y) \n",
        "= \\int_x \\int_y f(x, y) dydx = \\iint f(x, y) dydx\n",
        "\\end{align}\n",
        "$$\n",
        "\n"
      ]
    },
    {
      "cell_type": "markdown",
      "metadata": {
        "id": "2Sqfgw_pmzm_"
      },
      "source": [
        "#### 연습 문제 4.3.3\n",
        "\n",
        "다음 부정적분을 구하라.\n",
        "\n",
        "$$\n",
        "\\begin{align}\n",
        "\\iint xy \\exp({x^2 + y^2}) dxdy\n",
        "\\tag{4.3.12}\n",
        "\\end{align}\n",
        "$$\n"
      ]
    },
    {
      "cell_type": "code",
      "metadata": {
        "colab": {
          "base_uri": "https://localhost:8080/",
          "height": 112
        },
        "id": "FLD5GhBQm1MG",
        "outputId": "019e4962-494a-4bda-bedd-4146d289b461"
      },
      "source": [
        "print(\"도함수\")\n",
        "x, y = sympy.symbols('x y')\n",
        "f = x*y + sympy.exp(x**2 + y**2)\n",
        "display(f)\n",
        "print(\" 부정적분\")\n",
        "f_x = sympy.integrate(f, x)\n",
        "display(sympy.integrate(f_x, y))"
      ],
      "execution_count": 9,
      "outputs": [
        {
          "output_type": "stream",
          "text": [
            "도함수\n"
          ],
          "name": "stdout"
        },
        {
          "output_type": "display_data",
          "data": {
            "text/latex": "$\\displaystyle x y + e^{x^{2} + y^{2}}$",
            "text/plain": [
              "        2    2\n",
              "       x  + y \n",
              "x⋅y + ℯ       "
            ]
          },
          "metadata": {
            "tags": []
          }
        },
        {
          "output_type": "stream",
          "text": [
            " 부정적분\n"
          ],
          "name": "stdout"
        },
        {
          "output_type": "display_data",
          "data": {
            "text/latex": "$\\displaystyle \\frac{x^{2} y^{2}}{4} + \\frac{\\pi \\operatorname{erfi}{\\left(x \\right)} \\operatorname{erfi}{\\left(y \\right)}}{4}$",
            "text/plain": [
              " 2  2                    \n",
              "x ⋅y    π⋅erfi(x)⋅erfi(y)\n",
              "───── + ─────────────────\n",
              "  4             4        "
            ]
          },
          "metadata": {
            "tags": []
          }
        }
      ]
    },
    {
      "cell_type": "markdown",
      "metadata": {
        "id": "CjnlPoqGn9UI"
      },
      "source": [
        "### 3) 정적분\n",
        "\n",
        "- 정적분(definite integral) : 독립변수 $x$가 어떤 구간 $[a, b]$ 사이일 때, 그 구간에서 함수 $f(x)$의 값과 수평선(x 축)이 이루는 면적을 구하는 행위(integration) 혹은 그 값(integral)\n",
        "> $$\n",
        "\\begin{align}\n",
        "\\int_{a}^{b} f(x) dx \n",
        "\\end{align}\n",
        "$$\n",
        "\n",
        "- 정적분의 값 : 정적분의 기본 정리 또는 수치적분으로 구할 수 있다. \n",
        "\n",
        "1. 기본 정리 : 부정적분으로 구한 함수 $F(x)$를 이용하면 다음처럼 정적분의 값 계산\n",
        "> $$ \n",
        "\\begin{align}\n",
        "\\int_{a}^{b} f(x) dx = F(b) - F(a)  \n",
        "\\end{align}\n",
        "$$\n",
        "\n",
        "2. 수치 적분 : 함수를 아주 작은 구간으로 나누어 실제 면적을 계산함으로써 정적분의 값 계산\n",
        "\n"
      ]
    },
    {
      "cell_type": "code",
      "metadata": {
        "colab": {
          "base_uri": "https://localhost:8080/",
          "height": 287
        },
        "id": "ULlqVJkHoJCX",
        "outputId": "48b6d261-87fd-4119-e810-8b6dbc61d5c3"
      },
      "source": [
        "from matplotlib.patches import Polygon\n",
        "\n",
        "def f(x):\n",
        "    return x ** 3 - 3 * x ** 2 + x + 6\n",
        "\n",
        "a, b = 0, 2\n",
        "x = np.linspace(a - 0.5, b + 0.5, 50)\n",
        "y = f(x)\n",
        "\n",
        "ax = plt.subplot(111)\n",
        "plt.title(\"정적분의 예\")\n",
        "plt.plot(x, y, 'r', linewidth=2)\n",
        "plt.ylim(bottom=0)\n",
        "ix = np.linspace(a, b)\n",
        "iy = f(ix)\n",
        "verts = [(a, 0)] + list(zip(ix, iy)) + [(b, 0)]\n",
        "poly = Polygon(verts, facecolor='0.9', edgecolor='0.5')\n",
        "ax.add_patch(poly)\n",
        "plt.text(0.5 * (a + b), 0.2 * (f(a) + f(b)), r\"$\\int_a^b f(x)dx$\",\n",
        "         horizontalalignment='center', fontsize=20)\n",
        "plt.figtext(0.9, 0.05, '$x$')\n",
        "plt.figtext(0.1, 0.9, '$y$')\n",
        "ax.spines['right'].set_visible(False)\n",
        "ax.spines['top'].set_visible(False)\n",
        "ax.xaxis.set_ticks_position('bottom')\n",
        "ax.set_xticks((a, b))\n",
        "ax.set_xticklabels(('$a$', '$b$'))\n",
        "ax.set_yticks([])\n",
        "ax.set_xlim(-2, 4)\n",
        "ax.set_ylim(0, 8)\n",
        "plt.show()"
      ],
      "execution_count": 10,
      "outputs": [
        {
          "output_type": "display_data",
          "data": {
            "image/png": "[encoded data removed]",
            "text/plain": [
              "<Figure size 432x288 with 1 Axes>"
            ]
          },
          "metadata": {
            "tags": [],
            "needs_background": "light"
          }
        }
      ]
    },
    {
      "cell_type": "markdown",
      "metadata": {
        "id": "2Tw9_0sPpJCB"
      },
      "source": [
        "#### 예제\n",
        "\n",
        "다음 정적분을 구하는 문제를 생각하자.\n",
        "\n",
        "$$\n",
        "\\begin{align}\n",
        "\\int_0^2 ( x^3 - 3x^2 + x + 6) dx\n",
        "\\end{align}\n",
        "$$ "
      ]
    },
    {
      "cell_type": "code",
      "metadata": {
        "colab": {
          "base_uri": "https://localhost:8080/",
          "height": 110
        },
        "id": "BiAjs_qPpNMR",
        "outputId": "fdb692d7-dd73-4563-8082-5e89e2443948"
      },
      "source": [
        "x, y = sympy.symbols('x y')\n",
        "f = x ** 3 - 3 * x ** 2 + x + 6\n",
        "print(\"도함수\")\n",
        "display(f)\n",
        "F = sympy.integrate(f)\n",
        "print(\"부정적분\")\n",
        "display(F)"
      ],
      "execution_count": 13,
      "outputs": [
        {
          "output_type": "stream",
          "text": [
            "도함수\n"
          ],
          "name": "stdout"
        },
        {
          "output_type": "display_data",
          "data": {
            "text/latex": "$\\displaystyle x^{3} - 3 x^{2} + x + 6$",
            "text/plain": [
              " 3      2        \n",
              "x  - 3⋅x  + x + 6"
            ]
          },
          "metadata": {
            "tags": []
          }
        },
        {
          "output_type": "stream",
          "text": [
            "부정적분\n"
          ],
          "name": "stdout"
        },
        {
          "output_type": "display_data",
          "data": {
            "text/latex": "$\\displaystyle \\frac{x^{4}}{4} - x^{3} + \\frac{x^{2}}{2} + 6 x$",
            "text/plain": [
              " 4         2      \n",
              "x     3   x       \n",
              "── - x  + ── + 6⋅x\n",
              "4         2       "
            ]
          },
          "metadata": {
            "tags": []
          }
        }
      ]
    },
    {
      "cell_type": "code",
      "metadata": {
        "colab": {
          "base_uri": "https://localhost:8080/",
          "height": 55
        },
        "id": "ph2XesgXpTW9",
        "outputId": "2bb557e6-98a2-45a3-fb71-6eced44232dc"
      },
      "source": [
        "print(\"# 기본정리 # 함수에 정적분 구간을 넣어 값을 계산\")\n",
        "(F.subs(x, 2) - F.subs(x, 0)).evalf()"
      ],
      "execution_count": 15,
      "outputs": [
        {
          "output_type": "stream",
          "text": [
            "# 기본정리 # 함수에 정적분 구간을 넣어 값을 계산\n"
          ],
          "name": "stdout"
        },
        {
          "output_type": "execute_result",
          "data": {
            "text/latex": "$\\displaystyle 10.0$",
            "text/plain": [
              "10.0000000000000"
            ]
          },
          "metadata": {
            "tags": []
          },
          "execution_count": 15
        }
      ]
    },
    {
      "cell_type": "code",
      "metadata": {
        "colab": {
          "base_uri": "https://localhost:8080/",
          "height": 73
        },
        "id": "bb9BTzgWpirC",
        "outputId": "bfc60fa3-6877-48e5-c661-01784c1096da"
      },
      "source": [
        "import scipy as sp\n",
        "\n",
        "def f(x):\n",
        "    return x ** 3 - 3 * x ** 2 + x + 6\n",
        "\n",
        "print(\"# 수치 적분 #  작은 구간으로 나누어 실제 면적을 계산\")\n",
        "display(sp.integrate.quad(f, 0, 2)) \n",
        "print(\" ㄴ 두번째 숫자 : 오차의 상한값\")"
      ],
      "execution_count": 20,
      "outputs": [
        {
          "output_type": "stream",
          "text": [
            "# 수치 적분 #  작은 구간으로 나누어 실제 면적을 계산\n"
          ],
          "name": "stdout"
        },
        {
          "output_type": "display_data",
          "data": {
            "text/latex": "$\\displaystyle \\left( 10.0, \\  1.11022302462516 \\cdot 10^{-13}\\right)$",
            "text/plain": [
              "(10.0, 1.1102230246251565e-13)"
            ]
          },
          "metadata": {
            "tags": []
          }
        },
        {
          "output_type": "stream",
          "text": [
            " ㄴ 두번째 숫자 : 오차의 상한값\n"
          ],
          "name": "stdout"
        }
      ]
    },
    {
      "cell_type": "markdown",
      "metadata": {
        "id": "H7RyDO8cqaGd"
      },
      "source": [
        "#### 연습 문제 4.3.5\n",
        "\n",
        "다음 정적분의 값을 부정적분과 수치적분 두 가지 방법으로 구하라.\n",
        "\n",
        "(1)\n",
        "$$\n",
        "\\begin{align}\n",
        "\\int_0^1 (3x^2 - 6x + 1)dx\n",
        "\\tag{4.3.16}\n",
        "\\end{align}\n",
        "$$\n",
        "\n",
        "(2)\n",
        "$$\n",
        "\\begin{align}\n",
        "\\int_1^{10} \\left( 2 + 6x + 4\\exp(x) + \\dfrac{5}{x} \\right) dx\n",
        "\\tag{4.3.17}\n",
        "\\end{align}\n",
        "$$ "
      ]
    },
    {
      "cell_type": "code",
      "metadata": {
        "colab": {
          "base_uri": "https://localhost:8080/",
          "height": 188
        },
        "id": "yIJvsYupqd2F",
        "outputId": "99cd7ab9-c178-403c-ccf4-170084153406"
      },
      "source": [
        "print(\"(1) \")\n",
        "x = sympy.symbols('x')\n",
        "f = 3 * x ** 2 - 6 * x  + 1\n",
        "print(\"도함수\")\n",
        "display(f)\n",
        "F = sympy.integrate(f)\n",
        "print(\"부정적분\")\n",
        "display(F)\n",
        "\n",
        "print(\"# 기본정리 # 함수에 정적분 구간을 넣어 값을 계산\")\n",
        "display((F.subs(x, 1) - F.subs(x, 0)).evalf())\n",
        "\n",
        "def f(x):\n",
        "    return  3 * x ** 2 - 6 * x  + 1\n",
        "\n",
        "print(\"# 수치 적분 #  작은 구간으로 나누어 실제 면적을 계산\")\n",
        "display(sp.integrate.quad(f, 0, 1)) "
      ],
      "execution_count": 25,
      "outputs": [
        {
          "output_type": "stream",
          "text": [
            "(1) \n",
            "도함수\n"
          ],
          "name": "stdout"
        },
        {
          "output_type": "display_data",
          "data": {
            "text/latex": "$\\displaystyle 3 x^{2} - 6 x + 1$",
            "text/plain": [
              "   2          \n",
              "3⋅x  - 6⋅x + 1"
            ]
          },
          "metadata": {
            "tags": []
          }
        },
        {
          "output_type": "stream",
          "text": [
            "부정적분\n"
          ],
          "name": "stdout"
        },
        {
          "output_type": "display_data",
          "data": {
            "text/latex": "$\\displaystyle x^{3} - 3 x^{2} + x$",
            "text/plain": [
              " 3      2    \n",
              "x  - 3⋅x  + x"
            ]
          },
          "metadata": {
            "tags": []
          }
        },
        {
          "output_type": "stream",
          "text": [
            "# 기본정리 # 함수에 정적분 구간을 넣어 값을 계산\n"
          ],
          "name": "stdout"
        },
        {
          "output_type": "display_data",
          "data": {
            "text/latex": "$\\displaystyle -1.0$",
            "text/plain": [
              "-1.00000000000000"
            ]
          },
          "metadata": {
            "tags": []
          }
        },
        {
          "output_type": "stream",
          "text": [
            "# 수치 적분 #  작은 구간으로 나누어 실제 면적을 계산\n"
          ],
          "name": "stdout"
        },
        {
          "output_type": "display_data",
          "data": {
            "text/latex": "$\\displaystyle \\left( -1.0, \\  1.30850851714495 \\cdot 10^{-14}\\right)$",
            "text/plain": [
              "(-1.0, 1.3085085171449517e-14)"
            ]
          },
          "metadata": {
            "tags": []
          }
        }
      ]
    },
    {
      "cell_type": "code",
      "metadata": {
        "colab": {
          "base_uri": "https://localhost:8080/",
          "height": 201
        },
        "id": "M80xZj4GqrO6",
        "outputId": "b538e402-1111-4c9e-f160-1848fc70e347"
      },
      "source": [
        "print(\"(2) \")\n",
        "x = sympy.symbols('x')\n",
        "f = 2 + 6 * x + 4 * sympy.exp(x) + 5 / x\n",
        "print(\"도함수\")\n",
        "display(f)\n",
        "F = sympy.integrate(f)\n",
        "print(\"부정적분\")\n",
        "display(F)\n",
        "\n",
        "print(\"# 기본정리 # 함수에 정적분 구간을 넣어 값을 계산\")\n",
        "display((F.subs(x, 10) - F.subs(x, 1)).evalf())\n",
        "\n",
        "def f(x):\n",
        "    return  2 + 6 * x + 4 * sympy.exp(x) + 5 / x\n",
        "\n",
        "print(\"# 수치 적분 #  작은 구간으로 나누어 실제 면적을 계산\")\n",
        "display(sp.integrate.quad(f, 1, 10)) "
      ],
      "execution_count": 27,
      "outputs": [
        {
          "output_type": "stream",
          "text": [
            "(2) \n",
            "도함수\n"
          ],
          "name": "stdout"
        },
        {
          "output_type": "display_data",
          "data": {
            "text/latex": "$\\displaystyle 6 x + 4 e^{x} + 2 + \\frac{5}{x}$",
            "text/plain": [
              "         x       5\n",
              "6⋅x + 4⋅ℯ  + 2 + ─\n",
              "                 x"
            ]
          },
          "metadata": {
            "tags": []
          }
        },
        {
          "output_type": "stream",
          "text": [
            "부정적분\n"
          ],
          "name": "stdout"
        },
        {
          "output_type": "display_data",
          "data": {
            "text/latex": "$\\displaystyle 3 x^{2} + 2 x + 4 e^{x} + 5 \\log{\\left(x \\right)}$",
            "text/plain": [
              "   2            x           \n",
              "3⋅x  + 2⋅x + 4⋅ℯ  + 5⋅log(x)"
            ]
          },
          "metadata": {
            "tags": []
          }
        },
        {
          "output_type": "stream",
          "text": [
            "# 기본정리 # 함수에 정적분 구간을 넣어 값을 계산\n"
          ],
          "name": "stdout"
        },
        {
          "output_type": "display_data",
          "data": {
            "text/latex": "$\\displaystyle 88421.502977378$",
            "text/plain": [
              "88421.5029773780"
            ]
          },
          "metadata": {
            "tags": []
          }
        },
        {
          "output_type": "stream",
          "text": [
            "# 수치 적분 #  작은 구간으로 나누어 실제 면적을 계산\n"
          ],
          "name": "stdout"
        },
        {
          "output_type": "display_data",
          "data": {
            "text/latex": "$\\displaystyle \\left( 88421.5029773783, \\  1.52768907344734 \\cdot 10^{-6}\\right)$",
            "text/plain": [
              "(88421.50297737827, 1.5276890734473408e-06)"
            ]
          },
          "metadata": {
            "tags": []
          }
        }
      ]
    },
    {
      "cell_type": "markdown",
      "metadata": {
        "id": "8XNnC-XGrWMx"
      },
      "source": [
        "### 4) 다변수 정적분\n",
        "\n",
        "- 두 변수로 모두 적분하는 것은 2차원 평면에서 주어진 사각형 영역 아래의 부피를 구하는 것과 같다.\n",
        "> $$  \n",
        "\\begin{align}\n",
        "\\int_{y=c}^{y=d} \\int_{x=a}^{x=b} f(x, y) dx dy \n",
        "\\end{align}\n",
        "$$"
      ]
    },
    {
      "cell_type": "markdown",
      "metadata": {
        "id": "u5rsgAUzrgSh"
      },
      "source": [
        "#### 예제\n",
        "\n",
        "- 다음 함수는 $x=2$에서 $x=8$까지, 그리고 $y=0$에서 $y=6$까지의 정사각형 영역에서 정적분으로 함수의 부피를 구하는 모습을 시각화한 것\n",
        "> $$\n",
        "\\begin{align}\n",
        "\\int_{y=0}^{y=6}\\int_{x=2}^{x=8} x^2 - 10 x + y + 50 \\;\\; dx dy\n",
        "\\end{align}\n",
        "$$"
      ]
    },
    {
      "cell_type": "code",
      "metadata": {
        "colab": {
          "base_uri": "https://localhost:8080/",
          "height": 247
        },
        "id": "e64XfAFhrJMI",
        "outputId": "0aaad945-3707-4f00-ae41-66c85862edb4"
      },
      "source": [
        "fig = plt.figure()\n",
        "ax = fig.add_subplot(111, projection='3d')\n",
        "_x = np.arange(12) / 2 + 2\n",
        "_y = np.arange(12) / 2\n",
        "X, Y = np.meshgrid(_x, _y)\n",
        "x, y = X.ravel(), Y.ravel()\n",
        "z = x * x - 10 * x + y + 50\n",
        "z0 = np.zeros_like(z)\n",
        "ax.bar3d(x, y, z0, 0.48, 0.48, z)\n",
        "ax.set_xlim(0, 10)\n",
        "ax.set_ylim(-2, 10)\n",
        "ax.set_zlim(0, 50)\n",
        "ax.set_xlabel(\"x\")\n",
        "ax.set_ylabel(\"y\")\n",
        "plt.title(\"f(x, y)\")\n",
        "plt.show()"
      ],
      "execution_count": 28,
      "outputs": [
        {
          "output_type": "display_data",
          "data": {
            "image/png": "[encoded data removed]",
            "text/plain": [
              "<Figure size 432x288 with 1 Axes>"
            ]
          },
          "metadata": {
            "tags": [],
            "needs_background": "light"
          }
        }
      ]
    },
    {
      "cell_type": "markdown",
      "metadata": {
        "id": "wa38mULjrv58"
      },
      "source": [
        "#### 예제\n",
        "\n",
        "- 정적분을 수치적분으로 계산\n",
        "> $$\n",
        "\\begin{align}\n",
        "\\int_0^{\\infty} \\int_1^{\\infty} \\dfrac{\\exp(-xy)}{x^2} dx dy\n",
        "\\end{align}\n",
        "$$\n"
      ]
    },
    {
      "cell_type": "code",
      "metadata": {
        "colab": {
          "base_uri": "https://localhost:8080/",
          "height": 38
        },
        "id": "on-u40Sbrn0S",
        "outputId": "1767f262-a19e-4b2f-bd79-8611454a1f4e"
      },
      "source": [
        "def f(y, x):\n",
        "    return np.exp(-x * y) / x**2\n",
        "\n",
        "sp.integrate.dblquad(f, 1, np.inf, lambda x: 0, lambda x: np.inf)"
      ],
      "execution_count": 29,
      "outputs": [
        {
          "output_type": "execute_result",
          "data": {
            "text/latex": "$\\displaystyle \\left( 0.499999999999996, \\  1.06845387433334 \\cdot 10^{-8}\\right)$",
            "text/plain": [
              "(0.4999999999999961, 1.0684538743333441e-08)"
            ]
          },
          "metadata": {
            "tags": []
          },
          "execution_count": 29
        }
      ]
    },
    {
      "cell_type": "markdown",
      "metadata": {
        "id": "8SqH6elIr63j"
      },
      "source": [
        "#### 연습 문제 4.3.6\n",
        "\n",
        "다음 정적분의 값을 수치적분으로 구하라.\n",
        "\n",
        "$$\n",
        "\\begin{align}\n",
        "\\int_{-1}^1 \\int_{-1}^1 \\left( 1 + xy \\right) dxdy\n",
        "\\tag{4.3.21}\n",
        "\\end{align}\n",
        "$$"
      ]
    },
    {
      "cell_type": "code",
      "metadata": {
        "colab": {
          "base_uri": "https://localhost:8080/",
          "height": 38
        },
        "id": "vtzphPz6r4mC",
        "outputId": "be6cf330-a0cb-4334-b349-fe85a21ea321"
      },
      "source": [
        "def f(y, x):\n",
        "    return 1 + x * y\n",
        "\n",
        "sp.integrate.dblquad(f, -1, 1, -1, 1)"
      ],
      "execution_count": 30,
      "outputs": [
        {
          "output_type": "execute_result",
          "data": {
            "text/latex": "$\\displaystyle \\left( 4.0, \\  4.44089209850063 \\cdot 10^{-14}\\right)$",
            "text/plain": [
              "(4.0, 4.440892098500626e-14)"
            ]
          },
          "metadata": {
            "tags": []
          },
          "execution_count": 30
        }
      ]
    },
    {
      "cell_type": "markdown",
      "metadata": {
        "id": "yKxDXFVDsT49"
      },
      "source": [
        "### 5) 다차원 함수의 단일 정적분\n",
        "\n",
        "- 2차원 함수이지만 이중적분을 하지 않고 단일 정적분을 하는 경우 : 하나의 변수만 진짜 변수로 보고 나머지 하나는 상수라고 간주하는 경우 \n",
        "> $$ \n",
        "\\begin{align}\n",
        "\\int_a^b f(x, y) dx\n",
        "\\end{align}\n",
        "$$"
      ]
    },
    {
      "cell_type": "markdown",
      "metadata": {
        "id": "vYLKXsRjsYRL"
      },
      "source": [
        "#### 예제\n",
        "\n",
        "- 다음 함수를 변수 $x$ 만 진짜 입력 변수로 보고 $y$는 단순히 정해지지 않은 상수로 본다면? \n",
        "> $$\n",
        "\\begin{align}\n",
        "f(x, y) = 4x^2 + 4xy + y^2\n",
        "\\end{align}\n",
        "$$\n",
        "\n",
        "- 다음은 1차원 함수로, $y$의 앞에 쉼표(, comma)가 아니라 세미콜론(; semicolon)을 써서 $y$가 변수가 아니라는 점을 강조하였다.\n",
        "> $$\n",
        "\\begin{align}\n",
        "f(x; y) = 4x^2 + (4y)x + (y^2)\n",
        "\\end{align}\n",
        "$$\n"
      ]
    }
  ]
}