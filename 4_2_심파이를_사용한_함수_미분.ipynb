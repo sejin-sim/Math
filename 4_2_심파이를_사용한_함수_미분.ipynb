{
  "nbformat": 4,
  "nbformat_minor": 0,
  "metadata": {
    "colab": {
      "name": "4_2_심파이를 사용한 함수 미분.ipynb",
      "provenance": [],
      "collapsed_sections": [],
      "authorship_tag": "ABX9TyPl+RyTwko2aB3wp/5ii1TX",
      "include_colab_link": true
    },
    "kernelspec": {
      "name": "python3",
      "display_name": "Python 3"
    },
    "language_info": {
      "name": "python"
    }
  },
  "cells": [
    {
      "cell_type": "markdown",
      "metadata": {
        "id": "view-in-github",
        "colab_type": "text"
      },
      "source": [
        "<a href=\"https://colab.research.google.com/github/sejin-sim/Math/blob/main/4_2_%EC%8B%AC%ED%8C%8C%EC%9D%B4%EB%A5%BC_%EC%82%AC%EC%9A%A9%ED%95%9C_%ED%95%A8%EC%88%98_%EB%AF%B8%EB%B6%84.ipynb\" target=\"_parent\"><img src=\"https://colab.research.google.com/assets/colab-badge.svg\" alt=\"Open In Colab\"/></a>"
      ]
    },
    {
      "cell_type": "markdown",
      "metadata": {
        "id": "BrfPcFYR7fpF"
      },
      "source": [
        "##### 기본 셋팅"
      ]
    },
    {
      "cell_type": "code",
      "metadata": {
        "colab": {
          "base_uri": "https://localhost:8080/"
        },
        "id": "jd45eXgJ7aWh",
        "outputId": "d2c8a6b1-ff6b-461f-e330-9a62e600231d"
      },
      "source": [
        "import numpy as np\n",
        "\n",
        "# %matplotlib inline\n",
        "import matplotlib as mpl\n",
        "import matplotlib.pyplot as plt\n",
        "import seaborn as sns\n",
        "import pandas as pd\n",
        "\n",
        "mpl.rc('axes', labelsize=14)\n",
        "mpl.rc('xtick', labelsize=12)\n",
        "mpl.rc('ytick', labelsize=12)\n",
        "mpl.rcParams['axes.unicode_minus'] = False\n",
        "mpl.rcParams.update({\"axes.grid\" : True})\n",
        "\n",
        "plt.rcParams[\"figure.figsize\"] = (15,9)\n",
        "plt.rc(\"font\", size=18)  # 그림의 폰트 크기를 18로 고정\n",
        "\n",
        "np.random.seed(42)\n",
        "\n",
        "# %config InlineBackend.figure_format = 'retina'\n",
        " \n",
        "!apt -qq -y install fonts-nanum\n",
        "fontpath = '/usr/share/fonts/truetype/nanum/NanumBarunGothic.ttf'\n",
        "plt.rc('font', family='NanumBarunGothic') \n",
        "mpl.font_manager._rebuild()\n",
        "\n",
        "import warnings\n",
        "warnings.filterwarnings(action=\"ignore\", message=\"^internal gelsd\")"
      ],
      "execution_count": 1,
      "outputs": [
        {
          "output_type": "stream",
          "text": [
            "fonts-nanum is already the newest version (20170925-1).\n",
            "The following package was automatically installed and is no longer required:\n",
            "  libnvidia-common-460\n",
            "Use 'apt autoremove' to remove it.\n",
            "0 upgraded, 0 newly installed, 0 to remove and 34 not upgraded.\n"
          ],
          "name": "stdout"
        }
      ]
    },
    {
      "cell_type": "markdown",
      "metadata": {
        "id": "tTkhPAgK7o_0"
      },
      "source": [
        "### 1) 예측 모형의 성능\n",
        "\n",
        "- 데이터 분석 목표 : 예측 오차가 가장 작은 최적의 예측모형을 구하는 일\n",
        "\n",
        "- 최적의 모형을 위한 일 : 예측모형 함수의 계수(coefficient = 모수)를 바꾸는 것\n",
        "\n",
        "- ex. 다음과 같은 선형 예측모형 사용 시\n",
        "> $$ \n",
        "\\begin{align}\n",
        "\\hat{y} = w_1 x_1 +  w_2 x_2 + \\ldots +  w_N x_N  = w^T x \n",
        "\\end{align}\n",
        "$$\n",
        " - 우리가 결정할 수 있는 것 : 선형예측모형의 가중치 $w$, 즉 $w_1, w_2, \\ldots, w_N$의 값. (가중치 $w$의 값 = 모수)\n",
        " - 모수에 따라 예측모형의 성능(performance)이 달라진다. \n",
        "\n",
        "- 성능함수(performance function) : 모수를 결정하여 성능을 측정하는 과정 = 다변수 함수를 계산.\n",
        "성능함수의 값은 클수록 좋다. \n",
        "\n",
        "- 손실함수(loss function) = 비용함수(cost function) = 오차함수(error function) : 모수를 입력받아 오차 혹은 오류의 크기를 출력하는 함수를 가장 작게 하는 것을 목표로 하는 함수\n",
        "\n",
        "- 목적함수(objective function) : 성능함수, 손실함수, 비용함수, 오차함수 등 최적화의 대상이 되는 함수\n",
        "\n",
        "- 최적화(optmization) : 목적함수가 주어졌을 때 이 목적함수의 값을 가장 크게 혹은 적게 할 수 있는 입력값, 즉 모수를 구하는 것\n",
        "\n",
        "- 미분(differentiation) : 최적화를 위해 입력값이 변했을 때 함수의 출력값이 어떻게 달라지는지 정량적 파악 필요할 때 사용"
      ]
    },
    {
      "cell_type": "markdown",
      "metadata": {
        "id": "0gWgqkBS9NAv"
      },
      "source": [
        "### 2) 기울기\n",
        "\n",
        "- 수치적 최적화 : 가장 적은 횟수로 여러가지 $x$값을 시도하여 최적의 값을 찾는 방법\n",
        "\n",
        "- 기울기(slope) or 민감도(sensitivity) : 수치적 최적화를 위해 증가 및 감소 시키는 정보\n",
        "\n",
        "- ex. 입력변수의 값이 $x$에서 $x_2$로 $\\Delta x = x_2 - x$만큼 달라진다면, 출력변수는 $f(x)$이라는 값에서 $f(x_2)$라는 값으로 $\\Delta y = f(x_2) - f(x)$만큼 달라질 것이다. \n",
        "> $$ \n",
        "\\begin{align}\n",
        "\\dfrac{\\Delta y}{\\Delta x} = \\dfrac{f(x_2) - f(x)}{x_2 - x} = \\dfrac{f(x + \\Delta x) - f(x)}{\\Delta x} \n",
        "\\end{align}\n",
        "$$\n",
        "\n",
        "- 변화율 : $x_2$가 $x_1$에서 얼마나 멀리 떨어져 있는가 즉, $\\Delta x$의 크기에 따라 달라진다.\n",
        "\n",
        "- 기울기(slope) : $dx$값이 0으로 근접할 때의 변화율을 말한다.\n",
        "> $$ \n",
        "\\begin{align}\n",
        "\\text{slope} = \\lim_{\\Delta x \\rightarrow 0} \\dfrac{f(x + \\Delta x) - f(x)}{\\Delta x} \n",
        "\\end{align}\n",
        "$$\n",
        "\n",
        "- 접선(tangent) : 곡선에 대해 한 점만 공통으로 가지는 선.\n",
        "> 접선이 수평선과 이루는 기울기 : 접선이 $x$ 방향으로 이동한 거리와 $y$ 방향으로 이동한 거리의 비율을 말한다.\n",
        "\n",
        "- 3차 함수의 그래프\n",
        "> $$\n",
        "\\begin{align}\n",
        "x^3 - 3x^2 + x\n",
        "\\end{align}\n",
        "$$\n",
        "$$\n",
        "\\begin{align}\n",
        "x=0 \\;\\;\\rightarrow\\;\\; \\text{slope} = \\dfrac{1}{1} = 1\n",
        "\\end{align}\n",
        "$$\n",
        "$$\n",
        "\\begin{align}\n",
        "x=1 \\;\\;\\rightarrow\\;\\; \\text{slope} = \\dfrac{-2}{1} = -2\n",
        "\\end{align}\n",
        "$$\n"
      ]
    },
    {
      "cell_type": "code",
      "metadata": {
        "colab": {
          "base_uri": "https://localhost:8080/",
          "height": 300
        },
        "id": "9Vcyr-yu7lS_",
        "outputId": "42171823-a5cc-41b6-aa51-961dcb781f08"
      },
      "source": [
        "def f(x):\n",
        "    return x**3 - 3 * x**2 + x\n",
        "\n",
        "x = np.linspace(-1, 3, 400)\n",
        "y = f(x)\n",
        "\n",
        "plt.plot(x, y)\n",
        "plt.plot(0, 0, 'ro')\n",
        "plt.plot(x, x, 'r:')\n",
        "plt.plot(1, -1, 'go')\n",
        "plt.plot(x, (3*1**2-6*1+1)*(x-1)-1, 'g--')\n",
        "\n",
        "plt.xlim(-3.5, 5.5)\n",
        "plt.ylim(-4, 2)\n",
        "plt.xticks(np.arange(-3, 6))\n",
        "plt.yticks(np.arange(-4, 2))\n",
        "\n",
        "plt.annotate('', xy=(1, 0), xytext=(0, 0), arrowprops=dict(facecolor='gray'))\n",
        "plt.annotate('', xy=(1, 1), xytext=(1, 0), arrowprops=dict(facecolor='gray'))\n",
        "\n",
        "plt.annotate('', xy=(2, -1), xytext=(1, -1), arrowprops=dict(facecolor='gray'))\n",
        "plt.annotate('', xy=(2, -3), xytext=(2, -1), arrowprops=dict(facecolor='gray'))\n",
        "\n",
        "plt.xlabel(\"x\")\n",
        "plt.ylabel(\"f(x)\")\n",
        "plt.title(\"함수의 기울기\")\n",
        "plt.show()"
      ],
      "execution_count": 2,
      "outputs": [
        {
          "output_type": "display_data",
          "data": {
            "image/png": "[encoded data removed]",
            "text/plain": [
              "<Figure size 432x288 with 1 Axes>"
            ]
          },
          "metadata": {
            "tags": [],
            "needs_background": "light"
          }
        }
      ]
    },
    {
      "cell_type": "markdown",
      "metadata": {
        "id": "G_SkdPfS_zWl"
      },
      "source": [
        "#### 연습 문제 4.2.1\n",
        "\n",
        "앞의 그래프를 참고하여 다음 표의 $x$ 값들에 대해 기울기의 값이 얼마쯤인지 대략적으로 가늠하여 적어본다.\n",
        "\n",
        "| $x$  | $-0.5$ |  $0$  |  $0.5$ |  $1$  |  $1.5$ |  $2$  |  $2.5$ |\n",
        "| ---- |---- | --- | ---- | --- | ---- | --- | ---- |\n",
        "| 기울기 | $  $  |   $1$ | $ $ |  $-2$  | $ $ | $  $ | $ $ | \n",
        "\n",
        "> 답   \n",
        "\n",
        "| $x$  | $-0.5$ |  $0$  |  $0.5$ |  $1$  |  $1.5$ |  $2$  |  $2.5$ |\n",
        "| ---- |---- | --- | ---- | --- | ---- | --- | ---- |\n",
        "| 기울기 | $ 2.5 $  |   $1$ | $ 1 $ |  $2$  | $ -1$ | $ 1 $ | $ 2.5 $ | \n",
        "\n"
      ]
    },
    {
      "cell_type": "markdown",
      "metadata": {
        "id": "H4EeZPOeCabj"
      },
      "source": [
        "### 3) 수치미분\n",
        "\n",
        "- 수치미분(numerical differentiation) : 수치적으로 대략적인 기울기를 구하는 공식\n",
        "> $$ \n",
        "\\begin{align}\n",
        "\\text{slope} \\approx \\dfrac{f\\left(x + \\dfrac{1}{2}dx\\right) - f\\left(x - \\dfrac{1}{2}dx\\right)}{dx} \n",
        "\\end{align}\n",
        "$$\n",
        "  - `x` : 기울기를 구할 위치\n",
        "  - `dx` : 기울기를 구하기 위해 이동할 거리 \n",
        "\n",
        "- ex. 3차 다항식의 기울기를 $x=0$, $x=1$ 지점에서 수치미분으로 구하는 코드는 다음과 같다. $dx$값은 100만분의 1로 설정하였다."
      ]
    },
    {
      "cell_type": "code",
      "metadata": {
        "colab": {
          "base_uri": "https://localhost:8080/"
        },
        "id": "hJ1iWF6QDU5P",
        "outputId": "d27a0ca8-53a9-4ac1-d905-7804fa15b816"
      },
      "source": [
        "from scipy.misc import derivative\n",
        "\n",
        "print(derivative(f, 0, dx=1e-6))\n",
        "print(derivative(f, 1, dx=1e-6))"
      ],
      "execution_count": 3,
      "outputs": [
        {
          "output_type": "stream",
          "text": [
            "1.000000000001\n",
            "-2.000000000002\n"
          ],
          "name": "stdout"
        }
      ]
    },
    {
      "cell_type": "markdown",
      "metadata": {
        "id": "UdoCgj3WDX72"
      },
      "source": [
        "### 4) 미분\n",
        "\n",
        "- 미분(differentiation) : 어떤 함수로부터 그 함수 기울기를 출력하는 새로운 함수를 만들어내는 작업\n",
        "\n",
        "- 도함수(derivative) : 미분으로 만들어진 새로운 함수\n",
        "> $$ \n",
        "\\begin{align}\n",
        "f' = \\dfrac{d}{dx}(f) = \\dfrac{d}{dx}f = \\dfrac{df}{dx}  = \\dfrac{d}{dx}(y) = \\dfrac{d}{dx}y = \\dfrac{dy}{dx} \n",
        "\\end{align}\n",
        "$$\n",
        " - $f'$ : \"f 프라임(prime)\"\n",
        " - $\\dfrac{df}{dx}$ : \"df 오버(over) dx\""
      ]
    },
    {
      "cell_type": "markdown",
      "metadata": {
        "id": "cVbnU7lbEG4N"
      },
      "source": [
        "#### 연습 문제 4.2.2\n",
        "\n",
        "앞절에서 구한 기울기 값 표를 이용하여 도함수의 그래프를 그려본다."
      ]
    },
    {
      "cell_type": "code",
      "metadata": {
        "colab": {
          "base_uri": "https://localhost:8080/",
          "height": 300
        },
        "id": "B8BOOapiVJe8",
        "outputId": "82576261-6ccf-4cae-b830-556ac1e1e507"
      },
      "source": [
        "x = np.array([-0.5,0,0.5,1,1.5,2,2.5])\n",
        "y = np.array([2.5,1,-1,-2,-1,1,2.5])\n",
        "\n",
        "\n",
        "plt.title(\"도함수 그래프\")\n",
        "plt.ylabel('y')\n",
        "plt.xlabel('x')\n",
        "plt.plot(x, y)\n",
        "plt.show()"
      ],
      "execution_count": 34,
      "outputs": [
        {
          "output_type": "display_data",
          "data": {
            "image/png": "[encoded data removed]",
            "text/plain": [
              "<Figure size 432x288 with 1 Axes>"
            ]
          },
          "metadata": {
            "tags": [],
            "needs_background": "light"
          }
        }
      ]
    },
    {
      "cell_type": "markdown",
      "metadata": {
        "id": "ym9Tow44EzVk"
      },
      "source": [
        "### 4) 미분 가능\n",
        "- 미분 불가능(not differentiable) : 기울기 값을 정의하기 어려운 함수의 위치. ex. $x=0$인 위치에서 기울기를 정의할 수 없다. \n",
        "\n",
        "- 미분 가능(differentiable) : 반대로 기울기를 구할 수 있을 때### 4) 미분 가능\n",
        "- 미분 불가능(not differentiable) : 기울기 값을 정의하기 어려운 함수의 위치. ex. $x=0$인 위치에서 기울기를 정의할 수 없다. \n",
        "\n",
        "- 미분 가능(differentiable) : 반대로 기울기를 구할 수 있을 때"
      ]
    },
    {
      "cell_type": "markdown",
      "metadata": {
        "id": "ihul8ldYFHX_"
      },
      "source": [
        "#### 예제\n",
        "\n",
        "ReLU 함수는 $x<0$인 구간에서는 기울기가 0이고 $x>0$인 구간에서는 기울기가 1이지만 $x=0$인 위치에서는 미분할 수 없다."
      ]
    },
    {
      "cell_type": "code",
      "metadata": {
        "colab": {
          "base_uri": "https://localhost:8080/",
          "height": 300
        },
        "id": "raSWC3JmFGfm",
        "outputId": "547caa9a-8a12-45d9-d8bc-3b8637e16d77"
      },
      "source": [
        "def relu(x):\n",
        "    return np.where(x > 0, x, 0)\n",
        "\n",
        "xx = np.linspace(-2, 2, 100)\n",
        "plt.plot(xx, relu(xx))\n",
        "plt.plot(0, 0, marker='o', ms=10)\n",
        "plt.title(\"ReLU\")\n",
        "plt.xlabel(\"$x$\")\n",
        "plt.ylabel(\"$ReLU(x)$\")\n",
        "plt.show()"
      ],
      "execution_count": 4,
      "outputs": [
        {
          "output_type": "display_data",
          "data": {
            "image/png": "[encoded data removed]",
            "text/plain": [
              "<Figure size 432x288 with 1 Axes>"
            ]
          },
          "metadata": {
            "tags": [],
            "needs_background": "light"
          }
        }
      ]
    },
    {
      "cell_type": "markdown",
      "metadata": {
        "id": "bNItCDwPFL0o"
      },
      "source": [
        "### 5) 미분공식\n",
        "\n",
        "* 기본 미분공식\n",
        "* 선형조합법칙\n",
        "* 곱셈법칙\n",
        "* 연쇄법칙"
      ]
    },
    {
      "cell_type": "markdown",
      "metadata": {
        "id": "6fPBpb0NFVVQ"
      },
      "source": [
        "#### 5)-1 기본 미분공식\n",
        "\n",
        "1. 상수 : 상수를 미분하면 0이 된다.\n",
        "> $$ \n",
        "\\begin{align}\n",
        "\\dfrac{d}{dx}(c) = 0 \n",
        "\\end{align}\n",
        "$$\n",
        "\n",
        "2. 거듭제곱 : $x$의 $n$ 제곱을 미분하면 $n-1$ 제곱으로 제곱수가 1씩 감소한다.\n",
        "> $$ \n",
        "\\begin{align}\n",
        "\\dfrac{d}{dx}(x^n) = n x^{n-1} \n",
        "\\end{align}\n",
        "$$\n",
        "\n",
        "- ex. 거듭제곱공식을 응용하면 다음과 같이 미분할 수 있다.\n",
        "> $$ \n",
        "\\begin{align}\n",
        "\\begin{aligned}\n",
        "\\dfrac{d}{dx}&\\left(x^3\\right) &\\;\\;&&=& \\;\\;\\;\\; 3 x^2 \\\\\n",
        "\\dfrac{d}{dx}&\\left(x^2\\right) &=\\;\\;& 2 x^1 &=& \\;\\;\\;\\; 2x \\\\\n",
        "\\dfrac{d}{dx}&\\left(x\\right)   &=\\;\\;& x^1 = 1 \\cdot x^0 &=& \\;\\;\\;\\; 1 \\\\\n",
        "\\dfrac{d}{dx}&\\left(\\dfrac{1}{x}\\right)   &=\\;\\;& \\dfrac{d}{dx}x^{-1} = -1 x^{-2} &=& -\\dfrac{1}{x^2} \\\\\n",
        "\\dfrac{d}{dx}&\\left(\\dfrac{1}{x^2}\\right) &=\\;\\;& \\dfrac{d}{dx}x^{-2} = -2 x^{-3} &=& -\\dfrac{2}{x^3} \\\\\n",
        "\\dfrac{d}{dx}&\\left(\\dfrac{1}{x^3}\\right) &=\\;\\;& \\dfrac{d}{dx}x^{-3} = -3 x^{-4} &=& -\\dfrac{3}{x^4} \n",
        "\\end{aligned}\n",
        "\\end{align}\n",
        "$$\n",
        "\n",
        "3.  로그 : 로그함수를 미분하면 $x^{-1}$이 된다.\n",
        "> $$ \n",
        "\\begin{align}\n",
        "\\dfrac{d}{dx}(\\log x) = \\dfrac{1}{x} \n",
        "\\end{align}\n",
        "$$\n",
        "\n",
        "4. 지수 : 밑이 오일러 수인 지수함수는 미분해도 변하지 않는다.\n",
        "> $$ \n",
        "\\begin{align}\n",
        "\\dfrac{d}{dx}(e^x) = e^x\n",
        "\\end{align}\n",
        "$$"
      ]
    },
    {
      "cell_type": "markdown",
      "metadata": {
        "id": "GqO35VQxGR4J"
      },
      "source": [
        "#### 5)-2 선형조합법칙\n",
        "\n",
        "- 어떤 함수에 상수를 곱한 함수를 미분한 결과는 원래 함수의 도함수에 그 상수를 곱한 것과 같다.\n",
        "> $$ \n",
        "\\begin{align}\n",
        "\\dfrac{d}{dx}(cf) = c \\cdot \\dfrac{df}{dx}\n",
        "\\end{align}\n",
        "$$\n",
        "\n",
        "- 어떤 두 함수를 더한 함수를 미분한 결과는 원래 함수의 도함수를 더한 것과 같다.\n",
        "> $$ \n",
        "\\begin{align}\n",
        "\\dfrac{d}{dx}\\left(f_1 + f_2\\right) = \\dfrac{df_1}{dx} +  \\dfrac{df_2}{dx}\n",
        "\\end{align}\n",
        "$$\n",
        "\n",
        "- 선형조합(linear combination) : 각 함수의 도함수를 선형조합한 것과 같다.\n",
        "> $$ \n",
        "\\begin{align}\n",
        "\\dfrac{d}{dx}\\left(c_1 f_1 + c_2 f_2 \\right) = c_1 \\dfrac{df_1}{dx} + c_2 \\dfrac{df_2}{dx}\n",
        "\\end{align}\n",
        "$$\n",
        "\n",
        "- ex. \n",
        "> $$\n",
        "\\begin{align}\n",
        "y = 1 + 2x + 3x^2 + 4\\exp(x) + 5\\log(x)\n",
        "\\end{align}\n",
        "$$ \n",
        "$$\n",
        "\\begin{align}\n",
        "\\dfrac{dy}{dx} = 2 + 6x + 4\\exp(x) + \\dfrac{5}{x}\n",
        "\\end{align}\n",
        "$$\n",
        "\n",
        "- ex.\n",
        "> $$\n",
        "\\begin{align}\n",
        "f(x) = x^3 - 3x^2 + x\n",
        "\\end{align}\n",
        "$$\n",
        "$$\n",
        "\\begin{align}\n",
        "f'(x) = 3x^2 - 6x + 1\n",
        "\\end{align}\n",
        "$$\n"
      ]
    },
    {
      "cell_type": "code",
      "metadata": {
        "colab": {
          "base_uri": "https://localhost:8080/",
          "height": 512
        },
        "id": "ZFkYM6UdHNjH",
        "outputId": "5195735c-9cdd-47ca-e75a-85e90253c329"
      },
      "source": [
        "def fprime(x):\n",
        "    return 3 * x ** 2 - 6 * x + 1\n",
        "\n",
        "# 2차 방정식의 근\n",
        "x1, x2 = np.roots([3, -6, 1]) \n",
        "\n",
        "x = np.linspace(-1, 3, 400)\n",
        "\n",
        "plt.figure(figsize=(10, 7))\n",
        "plt.subplot(211)\n",
        "plt.plot(x, f(x))\n",
        "plt.xlim(-2, 4)\n",
        "plt.xticks(np.arange(-1, 4))\n",
        "plt.yticks(np.arange(-5, 4))\n",
        "plt.xlabel('x')\n",
        "plt.title('함수 f(x)')\n",
        "plt.axvline(x1, c=\"b\", ls=\"--\")\n",
        "plt.axvline(x2, c=\"b\", ls=\"--\")\n",
        "\n",
        "plt.subplot(212)\n",
        "plt.plot(x, fprime(x))\n",
        "plt.xlim(-2, 4)\n",
        "plt.xticks(np.arange(-1, 4))\n",
        "plt.yticks(np.arange(-3, 11))\n",
        "plt.xlabel('x')\n",
        "plt.title(\"도함수 f'(x)\")\n",
        "plt.axhline(0, c=\"r\", ls=\"--\")\n",
        "plt.axvline(x1, c=\"b\", ls=\"--\")\n",
        "plt.axvline(x2, c=\"b\", ls=\"--\")\n",
        "\n",
        "plt.tight_layout()\n",
        "plt.show()"
      ],
      "execution_count": 5,
      "outputs": [
        {
          "output_type": "display_data",
          "data": {
            "image/png": "[encoded data removed]",
            "text/plain": [
              "<Figure size 720x504 with 2 Axes>"
            ]
          },
          "metadata": {
            "tags": [],
            "needs_background": "light"
          }
        }
      ]
    },
    {
      "cell_type": "markdown",
      "metadata": {
        "id": "66nbS_4vHhYU"
      },
      "source": [
        "#### 5)-3 곱셈법칙\n",
        "\n",
        "- 곱셈법칙 : 어떤 함수의 형태가 두 함수를 곱한 것과 같을 때, 각 개별 함수의 도함수를 사용하여 원래 함수의 도함수를 구하는 것\n",
        "> $$  \n",
        "\\begin{align}\n",
        "\\dfrac{d}{dx}\\big( f  \\cdot g \\big) = f \\cdot  \\dfrac{dg}{dx} + \\dfrac{df}{dx} \\cdot g \n",
        "\\end{align}\n",
        "$$\n",
        "\n",
        "- ex. \n",
        "> $$\n",
        "\\begin{align}\n",
        "f = x e^x\n",
        "\\end{align}\n",
        "$$\n",
        "$$\n",
        "\\begin{align}\n",
        "\\dfrac{df}{dx} = x e^x + e^x\n",
        "\\end{align}\n",
        "$$"
      ]
    },
    {
      "cell_type": "markdown",
      "metadata": {
        "id": "Mtk8ozxgIE_p"
      },
      "source": [
        "#### 5)-4 연쇄법칙\n",
        "\n",
        "- 연쇄법칙(chain rule) : 미분하고자 하는 함수의 입력 변수가 다른 함수의 출력 변수인 경우 적용할 수 있다.\n",
        "> $$ \n",
        "\\begin{align}\n",
        "\\begin{aligned}\n",
        "f(x) &= h(g(x)) \\\\\n",
        "\\dfrac{df}{dx} &= \\dfrac{dh}{dg} \\cdot \\dfrac{dg}{dx} \\\\\n",
        "\\end{aligned}\n",
        "\\end{align}\n",
        "$$\n",
        "\n",
        "- ex. 정규분포(Gaussian normal distribution)의 확률밀도함수(probability density function)의 도함수를 구하는 식\n",
        "> $$\n",
        "\\begin{align}\n",
        "\\begin{aligned}\n",
        "f &= \\exp \\dfrac{(x-\\mu)^2}{\\sigma^2} \\\\\n",
        "f &= \\exp(z) \\;,\\;\\;\\;\\; z = \\dfrac{y^2}{\\sigma^2} \\;,\\;\\;\\;\\;   y = x-\\mu \\\\\n",
        "\\dfrac{df}{dx} &= \\dfrac{df}{dz} \\cdot \\dfrac{dz}{dy} \\cdot \\dfrac{dy}{dx} \\\\\n",
        "\\dfrac{df}{dz}  &= \\exp(z) = \\exp \\dfrac{(x-\\mu)^2}{\\sigma^2} \\\\\n",
        "\\dfrac{dz}{dy}  &=  \\dfrac{2y}{\\sigma^2} = \\dfrac{2(x-\\mu)}{\\sigma^2} \\\\\n",
        "\\dfrac{dy}{dx}  &=  1 \\\\\n",
        "\\dfrac{df}{dx} &=  \\dfrac{2(x-\\mu)}{\\sigma^2} \\exp \\dfrac{(x-\\mu)^2}{\\sigma^2}\n",
        "\\end{aligned}\n",
        "\\end{align}\n",
        "$$\n",
        "\n",
        "- ex. 로그 함수에 연쇄법칙을 적용\n",
        "> $$ \n",
        "\\begin{align}\n",
        "\\begin{aligned}\n",
        "\\dfrac{d}{dx} \\log f(x) = \\dfrac{f'(x)}{f(x)} \n",
        "\\end{aligned}\n",
        "\\end{align}\n",
        "$$"
      ]
    },
    {
      "cell_type": "markdown",
      "metadata": {
        "id": "YBBMhqcyLdOM"
      },
      "source": [
        "#### 연습 문제 4.2.3\n",
        "\n",
        "다음 함수를 미분하라. 이 식에서 $k$, $a$, $b$는 변수가 아니라 상수다.\n",
        "\n",
        "(1)\n",
        "\n",
        "$$\n",
        "\\begin{align}\n",
        "f(x) = x^3 - 1\n",
        "\\tag{4.2.34}\n",
        "\\end{align}\n",
        "$$\n",
        "\n",
        "> 답 : $ 3x^2 $\n",
        "\n",
        "(2)\n",
        "\n",
        "$$\n",
        "\\begin{align}\n",
        "f(x) = \\log (x^{2}-3k)\n",
        "\\tag{4.2.35}\n",
        "\\end{align}\n",
        "$$\n",
        "\n",
        "> 답 : $ g(x) = x^2 - 3k \\\\\n",
        "f(g) = \\log g\\\\\n",
        "\\dfrac{1}{g} \\cdot 2x = \\dfrac{2x}{x^2-3k} $\n",
        "\n",
        "(3)\n",
        "\n",
        "$$\n",
        "\\begin{align}\n",
        "f(x) =\\exp({ax^b})\n",
        "\\tag{4.2.36}\n",
        "\\end{align}\n",
        "$$\n",
        "\n",
        "> 답 : $ g(x) = ax^b \\\\\n",
        "f(g) = \\exp g \\\\\n",
        "\\exp g \\cdot abx^{b-1} = abx^{b-1} \\exp (ax^b)$\n"
      ]
    },
    {
      "cell_type": "markdown",
      "metadata": {
        "id": "IMLYLICcLgjS"
      },
      "source": [
        "### 6) 2차 도함수\n",
        "\n",
        "- 2차 도함수 : 도함수를 한 번 더 미분하여 만들어진 함수\n",
        "> 2개의 prime 기호($''$)를 붙이거나 $\\dfrac{d^2}{dx^2}$ 기호로 표시\n",
        "\n",
        "- ex. $y = f(x)$라는 함수를 두 번 미분하여 구한 2차 도함수는 다음과 같이 표기\n",
        "> $$ \n",
        "\\begin{align}\n",
        "f'' = \\dfrac{d^2}{dx^2}(f) = \\dfrac{d^2}{dx^2}f = \\dfrac{d^2f}{dx^2} \n",
        "= \\dfrac{d^2}{dx^2}(y) = \\dfrac{d^2}{dx^2}y = \\dfrac{d^2y}{dx^2} \n",
        "\\end{align}\n",
        "$$\n",
        "\n",
        "- 2차 도함수 = 볼록도(convexity) : 도함수의 기울기. \n",
        "> 양수 : 도함수 값이 증가 (볼록(convex))\n",
        "> 음수 : 도함수 값이 감소 (오목(concave))\n",
        "\n",
        "- ex. 다음 그래프의 함수는 $f''(x)$가 음수인 구간($ x < 1$)에서는 오목하고 $f''(x)$가 양수인 구간($ x > 1$)에서는 볼록하다.\n",
        "\n"
      ]
    },
    {
      "cell_type": "code",
      "metadata": {
        "colab": {
          "base_uri": "https://localhost:8080/",
          "height": 728
        },
        "id": "yGPjKj5dMhqb",
        "outputId": "f0a2861f-46ec-403b-8fd5-80c27d4134c4"
      },
      "source": [
        "def fprime2(x):\n",
        "    return 6*x - 6\n",
        "\n",
        "# 2차 방정식의 근\n",
        "x1, x2 = np.roots([3, -6, 1]) \n",
        "\n",
        "x = np.linspace(-1, 3, 400)\n",
        "\n",
        "plt.figure(figsize=(10, 10))\n",
        "\n",
        "plt.subplot(311)\n",
        "plt.plot(x, f(x))\n",
        "plt.xlim(-2, 4)\n",
        "plt.xticks(np.arange(-1, 4))\n",
        "plt.yticks(np.arange(-5, 4))\n",
        "plt.title('함수 f(x)')\n",
        "plt.xlabel('x')\n",
        "plt.axvline(x1, c=\"b\", ls=\"--\")\n",
        "plt.axvline(x2, c=\"b\", ls=\"--\")\n",
        "plt.axvline(1, c=\"g\", ls=\":\")\n",
        "\n",
        "plt.subplot(312)\n",
        "plt.plot(x, fprime(x))\n",
        "plt.xlim(-2, 4)\n",
        "plt.xticks(np.arange(-1, 4))\n",
        "plt.yticks(np.arange(-3, 11))\n",
        "plt.title(\"도함수 f'(x)\")\n",
        "plt.xlabel('x')\n",
        "plt.axhline(0, c='r', ls=\"--\")\n",
        "plt.axvline(x1, c=\"b\", ls=\"--\")\n",
        "plt.axvline(x2, c=\"b\", ls=\"--\")\n",
        "plt.axvline(1, c=\"g\", ls=\":\")\n",
        "\n",
        "plt.subplot(313)\n",
        "plt.plot(x, fprime2(x))\n",
        "plt.xlim(-2, 4)\n",
        "plt.xticks(np.arange(-1, 4))\n",
        "plt.title(\"2차 도함수 f'(x)\")\n",
        "plt.axhline(0, c='r', ls=\"--\")\n",
        "plt.axvline(1, c=\"g\", ls=\":\")\n",
        "\n",
        "plt.tight_layout()\n",
        "plt.show()"
      ],
      "execution_count": 6,
      "outputs": [
        {
          "output_type": "display_data",
          "data": {
            "image/png": "[encoded data removed]",
            "text/plain": [
              "<Figure size 720x720 with 3 Axes>"
            ]
          },
          "metadata": {
            "tags": [],
            "needs_background": "light"
          }
        }
      ]
    },
    {
      "cell_type": "markdown",
      "metadata": {
        "id": "CdyICP8NMotr"
      },
      "source": [
        "### 7) 편미분\n",
        "\n",
        "- 편미분(partial differentiation) : 둘 이상의 독립변수를 가지는 다변수 함수의 미분 시 기울기는 하나의 변수에 대해서만 구할 수 있다. 여러개의 도함수 발생 될 수 있음\n",
        "> $$ \n",
        "\\begin{align}\n",
        "f_x(x,y) = \\dfrac{\\partial f}{\\partial x}\n",
        "\\end{align}\n",
        "$$\n",
        "$$ \n",
        "\\begin{align}\n",
        "f_y(x,y) = \\dfrac{\\partial f}{\\partial y} \n",
        "\\end{align}\n",
        "$$\n",
        "\n",
        "- 어떤 하나의 독립 변수에 대해 미분할 때는 다른 독립 변수를 상수로 생각하면 된다.\n",
        "\n",
        "- ex. \n",
        "> $$\n",
        "\\begin{align}\n",
        "f(x,y) = x^2 + 4xy + 4y^2\n",
        "\\end{align}\n",
        "$$\n",
        "$$\n",
        "\\begin{align}\n",
        "f_x(x,y) = \\dfrac{\\partial f}{\\partial x} = 2x + 4y\n",
        "\\end{align}\n",
        "$$\n",
        "$$\n",
        "\\begin{align}\n",
        "f_y(x,y) = \\dfrac{\\partial f}{\\partial y} = 4x + 8y\n",
        "\\end{align}\n",
        "$$"
      ]
    },
    {
      "cell_type": "markdown",
      "metadata": {
        "id": "umuzW7jgNP6n"
      },
      "source": [
        "### 8) 다변수 함수의 연쇄법칙\n",
        "\n",
        "- ex 1.\n",
        "\n",
        "$$ \n",
        "\\begin{align}\n",
        "\\begin{aligned}\n",
        "y_1 &= f_1(x) \\\\\n",
        "y_2 &= f_2(x) \\\\\n",
        " & \\vdots \\\\\n",
        "y_N &= f_N(x) \n",
        "\\end{aligned}\n",
        "\\end{align}\n",
        "$$\n",
        "\n",
        "$$\n",
        "\\begin{align}\n",
        "z = g(y_1, y_2, \\ldots, y_N)\n",
        "\\end{align}\n",
        "$$\n",
        "\n",
        "$$ \n",
        "\\begin{align}\n",
        "\\dfrac{dz}{dx} \n",
        "= \\dfrac{\\partial z}{\\partial y_1}\\dfrac{dy_1}{dx} + \n",
        "  \\dfrac{\\partial z}{\\partial y_2}\\dfrac{dy_2}{dx} + \\cdots\n",
        "+ \\dfrac{\\partial z}{\\partial y_N}\\dfrac{dy_N}{dx} \n",
        "\\end{align}\n",
        "$$\n",
        "\n",
        "- ex 2.\n",
        "$$ \n",
        "\\begin{align}\n",
        "\\begin{aligned}\n",
        "y_1 &= f_1(x_1, x_2, \\ldots, x_M) \\\\\n",
        "y_2 &= f_2(x_1, x_2, \\ldots, x_M) \\\\\n",
        " & \\vdots \\\\\n",
        "y_N &= f_N(x_1, x_2, \\ldots, x_M) \n",
        "\\end{aligned}\n",
        "\\end{align}\n",
        "$$\n",
        "\n",
        "$$ \n",
        "\\begin{align}\n",
        "\\dfrac{\\partial z}{\\partial x_1} \n",
        "= \\dfrac{\\partial z}{\\partial y_1}\\dfrac{\\partial y_1}{\\partial x_1} + \n",
        "  \\dfrac{\\partial z}{\\partial y_2}\\dfrac{\\partial y_2}{\\partial x_1} + \\cdots\n",
        "+ \\dfrac{\\partial z}{\\partial y_N}\\dfrac{\\partial y_N}{\\partial x_1}  \n",
        "\\end{align}\n",
        "$$"
      ]
    },
    {
      "cell_type": "markdown",
      "metadata": {
        "id": "8YwOrYYyOFTC"
      },
      "source": [
        "### 9) 2차 편미분\n",
        "\n",
        "$$ \n",
        "\\begin{align}\n",
        "f_{xx}(x,y) = \\dfrac{\\partial^2 f}{\\partial x^2} \\;,\\;\\; \n",
        "f_{yy}(x,y) = \\dfrac{\\partial^2 f}{\\partial y^2} \\;,\\;\\; \n",
        "f_{xy}(x,y) = \\dfrac{\\partial^2 f}{\\partial y \\partial x}  = f_{yx}(x,y) = \\dfrac{\\partial^2 f}{\\partial x \\partial y}  \n",
        "\\end{align} \n",
        "$$\n",
        "\n",
        "- $x$로 먼저 미분하고 나중에 $y$로 미분한 2차 도함수 $f_{xy}$는  $y$로 먼저 미분하고 나중에 $x$로 미분한 2차 도함수 $f_{yx}$와 같다. \n",
        "\n",
        "- 슈와르츠 정리(Schwarz's theorem) : 만약 함수가 연속이고 미분 가능하면 미분의 순서는 상관없다.\n",
        "\n",
        "- ex. 위 다변수 함수에 대해 일차 및 이차 편미분 도함수를 구하면 다음과 같다.\n",
        "\n",
        "$$\n",
        "\\begin{align}\n",
        "f_{xx}(x,y) = 2 \\;,\\;\\; f_{yy}(x,y) = 8 \\;,\\;\\; f_{xy}(x,y) = f_{yx}(x,y) = 4\n",
        "\\end{align}\n",
        "$$\n"
      ]
    },
    {
      "cell_type": "markdown",
      "metadata": {
        "id": "BAvFQpwa675V"
      },
      "source": [
        "#### 연습 문제 4.2.4\n",
        "\n",
        "다음 함수에 대한 1차/2차 편미분 $f_x$, $f_y$, $f_{xx}$, $f_{xy}$, $f_{yx}$, $f_{yy}$를 구하라.\n",
        "\n",
        "$$\n",
        "\\begin{align}\n",
        "f(x, y) = \\exp{(x^2 + 2y^2)}\n",
        "\\end{align}\n",
        "$$\n",
        "\n",
        "> 답 : $$\n",
        "\\begin{align}\n",
        "f_{x} = 2x \\exp(x^2 + 2y^2) \\\\\n",
        "f_{y} = 4y \\exp(x^2 + 2y^2) \\\\\n",
        "f_{xx} = (4x^2 + 2) \\exp(x^2 + 2y^2) \\\\\n",
        "f_{xy} = 8xy \\exp(x^2 + 2y^2) \\\\\n",
        "f_{yx} = 8xy \\exp(x^2 + 2y^2) \\\\\n",
        "f_{yy} = (16y^2 + 4) \\exp(x^2 + 2y^2) \\\\\n",
        "\\end{align}\n",
        "$$"
      ]
    },
    {
      "cell_type": "markdown",
      "metadata": {
        "id": "fgxEdwef9kLU"
      },
      "source": [
        "### 10) 테일러 전개\n",
        "\n",
        "- 테일러 전개(Taylor expansion) : 함수의 기울기(1차 미분값)를 알고 있다면 함수의 모양을 근사화하는 것. \n",
        "> $$ \n",
        "\\begin{align}\n",
        "f(x) \\approx f(x_0) + \\dfrac{df(x_0)}{dx}(x - x_0)\n",
        "\\end{align}\n",
        "$$\n",
        " - $x_0$는 함수값과 기울기를 구하는 $x$ 위치이며 사용자가 마음대로 설정할 수 있다.\n",
        "\n",
        "\n",
        "- 다변수 함수의 경우에는 다음처럼 테일러 전개를 한다.\n",
        "\n",
        "$$ \n",
        "\\begin{align}\n",
        "f(x, y) \\approx f(x_0, y_0) \n",
        "+ \\dfrac{\\partial f(x_0, y_0)}{\\partial x}(x - x_0)\n",
        "+ \\dfrac{\\partial f(x_0, y_0)}{\\partial y}(y - y_0)\n",
        "\\end{align}\n",
        "$$\n"
      ]
    },
    {
      "cell_type": "markdown",
      "metadata": {
        "id": "DW1QhWnX99Ux"
      },
      "source": [
        "### 11) 심파이(SymPy)\n",
        "\n",
        "- 심파이는 심볼릭 연산(symbolic operation)을 지원하는 파이썬 패키지. 심볼릭 연산이란 사람이 연필로 계산하는 미분/적분과 동일한 형태의 연산을 말한다. "
      ]
    },
    {
      "cell_type": "code",
      "metadata": {
        "colab": {
          "base_uri": "https://localhost:8080/",
          "height": 38
        },
        "id": "1d1yRzXF-Gdm",
        "outputId": "dd234b7e-cb58-46f4-e46e-f48a440cb3d8"
      },
      "source": [
        "import sympy\n",
        "\n",
        "# Juypter 노트북에서 수학식의 LaTeX 표현을 위해 필요함\n",
        "sympy.init_printing(use_latex='mathjax')\n",
        "\n",
        "x = sympy.symbols('x')\n",
        "x"
      ],
      "execution_count": 7,
      "outputs": [
        {
          "output_type": "execute_result",
          "data": {
            "text/latex": "$\\displaystyle x$",
            "text/plain": [
              "x"
            ]
          },
          "metadata": {
            "tags": []
          },
          "execution_count": 7
        }
      ]
    },
    {
      "cell_type": "code",
      "metadata": {
        "colab": {
          "base_uri": "https://localhost:8080/"
        },
        "id": "FVK0w4Rq-J6h",
        "outputId": "ed72c66e-8037-4b54-eeef-8d57c468580e"
      },
      "source": [
        "type(x)"
      ],
      "execution_count": 8,
      "outputs": [
        {
          "output_type": "execute_result",
          "data": {
            "text/plain": [
              "sympy.core.symbol.Symbol"
            ]
          },
          "metadata": {
            "tags": []
          },
          "execution_count": 8
        }
      ]
    },
    {
      "cell_type": "code",
      "metadata": {
        "colab": {
          "base_uri": "https://localhost:8080/",
          "height": 38
        },
        "id": "mANlvBqs-LjR",
        "outputId": "4cec9922-7902-4b39-ba6a-a635f013665b"
      },
      "source": [
        "f = x * sympy.exp(x)\n",
        "f"
      ],
      "execution_count": 9,
      "outputs": [
        {
          "output_type": "execute_result",
          "data": {
            "text/latex": "$\\displaystyle x e^{x}$",
            "text/plain": [
              "   x\n",
              "x⋅ℯ "
            ]
          },
          "metadata": {
            "tags": []
          },
          "execution_count": 9
        }
      ]
    },
    {
      "cell_type": "code",
      "metadata": {
        "colab": {
          "base_uri": "https://localhost:8080/",
          "height": 38
        },
        "id": "JpZZjO8T-PWz",
        "outputId": "34c7f16e-3069-4098-c0e3-cc4a233e04e6"
      },
      "source": [
        "# 미분 함수\n",
        "sympy.diff(f)"
      ],
      "execution_count": 10,
      "outputs": [
        {
          "output_type": "execute_result",
          "data": {
            "text/latex": "$\\displaystyle x e^{x} + e^{x}$",
            "text/plain": [
              "   x    x\n",
              "x⋅ℯ  + ℯ "
            ]
          },
          "metadata": {
            "tags": []
          },
          "execution_count": 10
        }
      ]
    },
    {
      "cell_type": "code",
      "metadata": {
        "colab": {
          "base_uri": "https://localhost:8080/",
          "height": 38
        },
        "id": "vmPNstDj-YfZ",
        "outputId": "92b2097f-9777-4df4-adc6-72e663627d96"
      },
      "source": [
        "# 소인수 분해 함수\n",
        "sympy.simplify(sympy.diff(f))"
      ],
      "execution_count": 11,
      "outputs": [
        {
          "output_type": "execute_result",
          "data": {
            "text/latex": "$\\displaystyle \\left(x + 1\\right) e^{x}$",
            "text/plain": [
              "         x\n",
              "(x + 1)⋅ℯ "
            ]
          },
          "metadata": {
            "tags": []
          },
          "execution_count": 11
        }
      ]
    },
    {
      "cell_type": "code",
      "metadata": {
        "colab": {
          "base_uri": "https://localhost:8080/",
          "height": 60
        },
        "id": "F9g7Ky0Y-b5u",
        "outputId": "9cac158f-261f-4a37-b568-886b42abf1e8"
      },
      "source": [
        "# 편미분을 하는 경우에는 어떤 변수로 미분하는지를 `diff()` 함수에 명시\n",
        "x, y = sympy.symbols('x y')\n",
        "f = x ** 2 + 4 * x * y + 4 * y ** 2\n",
        "display(f)\n",
        "sympy.diff(f, y)"
      ],
      "execution_count": 12,
      "outputs": [
        {
          "output_type": "display_data",
          "data": {
            "text/latex": "$\\displaystyle x^{2} + 4 x y + 4 y^{2}$",
            "text/plain": [
              " 2              2\n",
              "x  + 4⋅x⋅y + 4⋅y "
            ]
          },
          "metadata": {
            "tags": []
          }
        },
        {
          "output_type": "execute_result",
          "data": {
            "text/latex": "$\\displaystyle 4 x + 8 y$",
            "text/plain": [
              "4⋅x + 8⋅y"
            ]
          },
          "metadata": {
            "tags": []
          },
          "execution_count": 12
        }
      ]
    },
    {
      "cell_type": "code",
      "metadata": {
        "colab": {
          "base_uri": "https://localhost:8080/",
          "height": 91
        },
        "id": "1zumJ6dR-iQ3",
        "outputId": "896a09a9-6745-42d0-ca16-554bc400bc83"
      },
      "source": [
        "x, mu, sigma = sympy.symbols('x mu sigma')\n",
        "f = sympy.exp((x - mu) ** 2 / sigma ** 2)\n",
        "display(f)\n",
        "sympy.diff(f, x)"
      ],
      "execution_count": 13,
      "outputs": [
        {
          "output_type": "display_data",
          "data": {
            "text/latex": "$\\displaystyle e^{\\frac{\\left(- \\mu + x\\right)^{2}}{\\sigma^{2}}}$",
            "text/plain": [
              "         2\n",
              " (-μ + x) \n",
              " ─────────\n",
              "      2   \n",
              "     σ    \n",
              "ℯ         "
            ]
          },
          "metadata": {
            "tags": []
          }
        },
        {
          "output_type": "execute_result",
          "data": {
            "text/latex": "$\\displaystyle \\frac{\\left(- 2 \\mu + 2 x\\right) e^{\\frac{\\left(- \\mu + x\\right)^{2}}{\\sigma^{2}}}}{\\sigma^{2}}$",
            "text/plain": [
              "                      2\n",
              "              (-μ + x) \n",
              "              ─────────\n",
              "                   2   \n",
              "                  σ    \n",
              "(-2⋅μ + 2⋅x)⋅ℯ         \n",
              "───────────────────────\n",
              "            2          \n",
              "           σ           "
            ]
          },
          "metadata": {
            "tags": []
          },
          "execution_count": 13
        }
      ]
    },
    {
      "cell_type": "code",
      "metadata": {
        "colab": {
          "base_uri": "https://localhost:8080/",
          "height": 62
        },
        "id": "At5mq5Mj-u36",
        "outputId": "0f04af3b-0bae-42b1-a2e1-f96eb0c3714c"
      },
      "source": [
        "sympy.simplify(sympy.diff(f, x))"
      ],
      "execution_count": 14,
      "outputs": [
        {
          "output_type": "execute_result",
          "data": {
            "text/latex": "$\\displaystyle \\frac{2 \\left(- \\mu + x\\right) e^{\\frac{\\left(\\mu - x\\right)^{2}}{\\sigma^{2}}}}{\\sigma^{2}}$",
            "text/plain": [
              "                   2\n",
              "            (μ - x) \n",
              "            ────────\n",
              "                2   \n",
              "               σ    \n",
              "2⋅(-μ + x)⋅ℯ        \n",
              "────────────────────\n",
              "          2         \n",
              "         σ          "
            ]
          },
          "metadata": {
            "tags": []
          },
          "execution_count": 14
        }
      ]
    },
    {
      "cell_type": "code",
      "metadata": {
        "colab": {
          "base_uri": "https://localhost:8080/",
          "height": 68
        },
        "id": "QOb2Oyy1-xAc",
        "outputId": "9477a2ed-b4b0-45ee-9f65-aa7007f18aa8"
      },
      "source": [
        "# 2차 도함수\n",
        "sympy.diff(f, x, x)"
      ],
      "execution_count": 15,
      "outputs": [
        {
          "output_type": "execute_result",
          "data": {
            "text/latex": "$\\displaystyle \\frac{2 \\left(1 + \\frac{2 \\left(\\mu - x\\right)^{2}}{\\sigma^{2}}\\right) e^{\\frac{\\left(\\mu - x\\right)^{2}}{\\sigma^{2}}}}{\\sigma^{2}}$",
            "text/plain": [
              "                           2\n",
              "                    (μ - x) \n",
              "                    ────────\n",
              "  ⎛             2⎞      2   \n",
              "  ⎜    2⋅(μ - x) ⎟     σ    \n",
              "2⋅⎜1 + ──────────⎟⋅ℯ        \n",
              "  ⎜         2    ⎟          \n",
              "  ⎝        σ     ⎠          \n",
              "────────────────────────────\n",
              "              2             \n",
              "             σ              "
            ]
          },
          "metadata": {
            "tags": []
          },
          "execution_count": 15
        }
      ]
    },
    {
      "cell_type": "markdown",
      "metadata": {
        "id": "-K1z5C4p-1UZ"
      },
      "source": [
        "#### 연습 문제 4.2.5\n",
        "\n",
        "다음 함수를 미분한 도함수를 심파이를 사용하여 구하라. 여기에서 $k$, $a$, $b$는 변수가 아니라 상수다.\n",
        "\n",
        "(1) \n",
        "\n",
        "$$\n",
        "\\begin{align}\n",
        "f(x) = x^3 - 1\n",
        "\\tag{4.2.59}\n",
        "\\end{align}\n",
        "$$\n",
        "\n",
        "(2) \n",
        "\n",
        "$$\n",
        "\\begin{align}\n",
        "f(x) = \\log (x^{2}-3k)\n",
        "\\tag{4.2.60}\n",
        "\\end{align}\n",
        "$$\n",
        "\n",
        "(3)\n",
        "\n",
        "$$\n",
        "\\begin{align}\n",
        "f(x) =\\exp({ax^b})\n",
        "\\tag{4.2.61}\n",
        "\\end{align}\n",
        "$$\n"
      ]
    },
    {
      "cell_type": "code",
      "metadata": {
        "colab": {
          "base_uri": "https://localhost:8080/",
          "height": 38
        },
        "id": "ks_BbknV-4Jm",
        "outputId": "adf0fff9-b973-4253-f97b-1f71c2de44eb"
      },
      "source": [
        "x, y = sympy.symbols('x y')\n",
        "f = x ** 3 - 1\n",
        "sympy.diff(f)"
      ],
      "execution_count": 16,
      "outputs": [
        {
          "output_type": "execute_result",
          "data": {
            "text/latex": "$\\displaystyle 3 x^{2}$",
            "text/plain": [
              "   2\n",
              "3⋅x "
            ]
          },
          "metadata": {
            "tags": []
          },
          "execution_count": 16
        }
      ]
    },
    {
      "cell_type": "code",
      "metadata": {
        "colab": {
          "base_uri": "https://localhost:8080/",
          "height": 52
        },
        "id": "q47hpL2n_Lmc",
        "outputId": "cbf84464-4270-4122-81fe-419c90bdfb7f"
      },
      "source": [
        "x, k = sympy.symbols('x k')\n",
        "f = sympy.log(x**2 -3*k)\n",
        "sympy.diff(f, x)"
      ],
      "execution_count": 27,
      "outputs": [
        {
          "output_type": "execute_result",
          "data": {
            "text/latex": "$\\displaystyle \\frac{2 x}{- 3 k + x^{2}}$",
            "text/plain": [
              "   2⋅x   \n",
              "─────────\n",
              "        2\n",
              "-3⋅k + x "
            ]
          },
          "metadata": {
            "tags": []
          },
          "execution_count": 27
        }
      ]
    },
    {
      "cell_type": "code",
      "metadata": {
        "colab": {
          "base_uri": "https://localhost:8080/",
          "height": 41
        },
        "id": "ftmTk9lP_3FI",
        "outputId": "b0543f7c-1c59-42d7-c239-52fbc437f133"
      },
      "source": [
        "x, a, b = sympy.symbols('x a b')\n",
        "f = sympy.exp(a*x**b)\n",
        "sympy.simplify(sympy.diff(f, x))"
      ],
      "execution_count": 30,
      "outputs": [
        {
          "output_type": "execute_result",
          "data": {
            "text/latex": "$\\displaystyle a b x^{b - 1} e^{a x^{b}}$",
            "text/plain": [
              "               b\n",
              "     b - 1  a⋅x \n",
              "a⋅b⋅x     ⋅ℯ    "
            ]
          },
          "metadata": {
            "tags": []
          },
          "execution_count": 30
        }
      ]
    },
    {
      "cell_type": "markdown",
      "metadata": {
        "id": "be_GlNTY-3Yh"
      },
      "source": [
        "#### 연습 문제 4.2.6\n",
        "\n",
        "다음 함수에 대한 1차/2차 편미분 $f_x$, $f_y$, $f_{xx}$, $f_{xy}$, $f_{yx}$, $f_{yy}$를 심파이로 구하라.\n",
        "\n",
        "$$\n",
        "\\begin{align}\n",
        "f(x, y) = \\exp{(x^2 + 2y^2)}\n",
        "\\tag{4.2.62}\n",
        "\\end{align}\n",
        "$$"
      ]
    },
    {
      "cell_type": "code",
      "metadata": {
        "colab": {
          "base_uri": "https://localhost:8080/",
          "height": 41
        },
        "id": "lRJUeJFtTrk5",
        "outputId": "9b022ab5-915b-45ba-c2d5-7450fe168088"
      },
      "source": [
        "x, y = sympy.symbols('x y')\n",
        "f = sympy.exp(x**2 + 2*y**2)\n",
        "f"
      ],
      "execution_count": 31,
      "outputs": [
        {
          "output_type": "execute_result",
          "data": {
            "text/latex": "$\\displaystyle e^{x^{2} + 2 y^{2}}$",
            "text/plain": [
              "  2      2\n",
              " x  + 2⋅y \n",
              "ℯ         "
            ]
          },
          "metadata": {
            "tags": []
          },
          "execution_count": 31
        }
      ]
    },
    {
      "cell_type": "code",
      "metadata": {
        "colab": {
          "base_uri": "https://localhost:8080/",
          "height": 41
        },
        "id": "bWhvTKTgAxBE",
        "outputId": "a6540188-2f7b-40c5-a352-167e44eeae34"
      },
      "source": [
        "sympy.diff(f, x)"
      ],
      "execution_count": 20,
      "outputs": [
        {
          "output_type": "execute_result",
          "data": {
            "text/latex": "$\\displaystyle 2 x e^{x^{2} + 2 y^{2}}$",
            "text/plain": [
              "      2      2\n",
              "     x  + 2⋅y \n",
              "2⋅x⋅ℯ         "
            ]
          },
          "metadata": {
            "tags": []
          },
          "execution_count": 20
        }
      ]
    },
    {
      "cell_type": "code",
      "metadata": {
        "colab": {
          "base_uri": "https://localhost:8080/",
          "height": 41
        },
        "id": "sXpiTmjbA-EO",
        "outputId": "91a86c8a-41c7-4e46-8199-069aaefc2d63"
      },
      "source": [
        "sympy.diff(f, y)"
      ],
      "execution_count": 21,
      "outputs": [
        {
          "output_type": "execute_result",
          "data": {
            "text/latex": "$\\displaystyle 4 y e^{x^{2} + 2 y^{2}}$",
            "text/plain": [
              "      2      2\n",
              "     x  + 2⋅y \n",
              "4⋅y⋅ℯ         "
            ]
          },
          "metadata": {
            "tags": []
          },
          "execution_count": 21
        }
      ]
    },
    {
      "cell_type": "code",
      "metadata": {
        "colab": {
          "base_uri": "https://localhost:8080/",
          "height": 41
        },
        "id": "Gai7QGc3BMWP",
        "outputId": "7a181f2e-9993-4645-c254-9adff324cc6a"
      },
      "source": [
        "sympy.diff(f, x, x)"
      ],
      "execution_count": 22,
      "outputs": [
        {
          "output_type": "execute_result",
          "data": {
            "text/latex": "$\\displaystyle 2 \\left(2 x^{2} + 1\\right) e^{x^{2} + 2 y^{2}}$",
            "text/plain": [
              "               2      2\n",
              "  ⎛   2    ⎞  x  + 2⋅y \n",
              "2⋅⎝2⋅x  + 1⎠⋅ℯ         "
            ]
          },
          "metadata": {
            "tags": []
          },
          "execution_count": 22
        }
      ]
    },
    {
      "cell_type": "code",
      "metadata": {
        "colab": {
          "base_uri": "https://localhost:8080/",
          "height": 41
        },
        "id": "QfYt0bwaA_CR",
        "outputId": "2ce7d835-15c7-49ee-fa56-5575d7d7b1a3"
      },
      "source": [
        "sympy.diff(f, x, y)"
      ],
      "execution_count": 23,
      "outputs": [
        {
          "output_type": "execute_result",
          "data": {
            "text/latex": "$\\displaystyle 8 x y e^{x^{2} + 2 y^{2}}$",
            "text/plain": [
              "        2      2\n",
              "       x  + 2⋅y \n",
              "8⋅x⋅y⋅ℯ         "
            ]
          },
          "metadata": {
            "tags": []
          },
          "execution_count": 23
        }
      ]
    },
    {
      "cell_type": "code",
      "metadata": {
        "colab": {
          "base_uri": "https://localhost:8080/",
          "height": 41
        },
        "id": "GpyzLFOLBCQw",
        "outputId": "9e75d694-0998-4d1c-9eae-906d47050824"
      },
      "source": [
        "sympy.diff(f, y, x)"
      ],
      "execution_count": 24,
      "outputs": [
        {
          "output_type": "execute_result",
          "data": {
            "text/latex": "$\\displaystyle 8 x y e^{x^{2} + 2 y^{2}}$",
            "text/plain": [
              "        2      2\n",
              "       x  + 2⋅y \n",
              "8⋅x⋅y⋅ℯ         "
            ]
          },
          "metadata": {
            "tags": []
          },
          "execution_count": 24
        }
      ]
    },
    {
      "cell_type": "code",
      "metadata": {
        "colab": {
          "base_uri": "https://localhost:8080/",
          "height": 41
        },
        "id": "NR6IOGx4BEDh",
        "outputId": "83df645f-bf8f-4736-b506-1baf64fa32d0"
      },
      "source": [
        "sympy.diff(f, y, y)"
      ],
      "execution_count": 25,
      "outputs": [
        {
          "output_type": "execute_result",
          "data": {
            "text/latex": "$\\displaystyle 4 \\left(4 y^{2} + 1\\right) e^{x^{2} + 2 y^{2}}$",
            "text/plain": [
              "               2      2\n",
              "  ⎛   2    ⎞  x  + 2⋅y \n",
              "4⋅⎝4⋅y  + 1⎠⋅ℯ         "
            ]
          },
          "metadata": {
            "tags": []
          },
          "execution_count": 25
        }
      ]
    }
  ]
}