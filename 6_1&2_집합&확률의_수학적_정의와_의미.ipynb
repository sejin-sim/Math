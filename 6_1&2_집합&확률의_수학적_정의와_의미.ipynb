{
  "nbformat": 4,
  "nbformat_minor": 0,
  "metadata": {
    "colab": {
      "name": "6_1&2_집합&확률의 수학적 정의와 의미.ipynb",
      "provenance": [],
      "authorship_tag": "ABX9TyM40jw3GXBDsTu0MLW0vs87",
      "include_colab_link": true
    },
    "kernelspec": {
      "name": "python3",
      "display_name": "Python 3"
    }
  },
  "cells": [
    {
      "cell_type": "markdown",
      "metadata": {
        "id": "view-in-github",
        "colab_type": "text"
      },
      "source": [
        "<a href=\"https://colab.research.google.com/github/sejin-sim/Math/blob/main/6_1%262_%EC%A7%91%ED%95%A9%26%ED%99%95%EB%A5%A0%EC%9D%98_%EC%88%98%ED%95%99%EC%A0%81_%EC%A0%95%EC%9D%98%EC%99%80_%EC%9D%98%EB%AF%B8.ipynb\" target=\"_parent\"><img src=\"https://colab.research.google.com/assets/colab-badge.svg\" alt=\"Open In Colab\"/></a>"
      ]
    },
    {
      "cell_type": "markdown",
      "metadata": {
        "id": "RXmfUuS-80cr"
      },
      "source": [
        "# 1. 집합\r\n",
        "### 1) 집합과 원소\r\n",
        " 1. **집합** : 구별 가능한 객체의 모임\r\n",
        " 2. **원소** : 집합에 포함된 구별 가능한 객체\r\n",
        " 3. 예) 원소 $x$, 그 원소를 포함하는 집합 $A$의 관계\r\n",
        " > $ x \\in A $ , $ x \\notin A $   \r\n",
        " > if $ A = \\{ 1, 2, 3 \\} $ then $ 1 \\in A, \\;\\;\\; 4 \\notin A $   \r\n",
        " > $B = \\{ H, T \\}$   \r\n",
        " > $C = \\{ \\spadesuit, \\heartsuit, \\diamondsuit, \\clubsuit \\}$"
      ]
    },
    {
      "cell_type": "code",
      "metadata": {
        "colab": {
          "base_uri": "https://localhost:8080/"
        },
        "id": "FhErdAbu8wBl",
        "outputId": "e00d983b-2e29-4376-a240-1de2155617e6"
      },
      "source": [
        "A = set([1, 2, 3, 3, 2])  # 중복된 자료는 없어진다.\r\n",
        "B = frozenset(['H', 'T'])\r\n",
        "C = {\"\\u2660\", \"\\u2661\", \"\\u2662\", \"\\u2663\"}\r\n",
        "print(A, B, C)\r\n",
        "print(type(A))"
      ],
      "execution_count": null,
      "outputs": [
        {
          "output_type": "stream",
          "text": [
            "{1, 2, 3} frozenset({'H', 'T'}) {'♠', '♣', '♢', '♡'}\n",
            "<class 'set'>\n"
          ],
          "name": "stdout"
        }
      ]
    },
    {
      "cell_type": "markdown",
      "metadata": {
        "id": "pky1jd8F-oPL"
      },
      "source": [
        "### 2) 집합의 크기\r\n",
        "1. 집합의 크기(=$\\vert A \\vert$) : 집합이 가지는 원소의 갯수\r\n",
        "> if  $ A = \\{ 1, 2, 3 \\} ,\\;\\; |A| = \\text{card}(A) = 3$  \r\n",
        "2. 0보다 크고 1보다 같거나 작은 모든 실수로 이루어진 집합이며 원소의 갯수는 무한히 많은 경우 \r\n",
        "> $ D = \\{ x: 0 < x \\leq 1 \\} $\r\n"
      ]
    },
    {
      "cell_type": "code",
      "metadata": {
        "colab": {
          "base_uri": "https://localhost:8080/"
        },
        "id": "ra-QDJjj_UpT",
        "outputId": "b4858b1a-cd86-4608-c6ca-bda11e39bbf2"
      },
      "source": [
        "len(A), len(B), len(C)"
      ],
      "execution_count": null,
      "outputs": [
        {
          "output_type": "execute_result",
          "data": {
            "text/plain": [
              "(3, 2, 4)"
            ]
          },
          "metadata": {
            "tags": []
          },
          "execution_count": 9
        }
      ]
    },
    {
      "cell_type": "markdown",
      "metadata": {
        "id": "NLRAA54f_5rU"
      },
      "source": [
        "### 3) 합집합과 교집합\r\n",
        "1. **합집합** : 각 집합의 원소를 모두 포함 $ A \\cup B $\r\n",
        "2. **교집합** : 두 사건 모두에 속하는 원소로만 이루어진 집합 $ A \\cap B $"
      ]
    },
    {
      "cell_type": "code",
      "metadata": {
        "colab": {
          "base_uri": "https://localhost:8080/"
        },
        "id": "hLxyWmunAOmz",
        "outputId": "808cf845-688d-453a-8b77-5bf8e7cfc4d8"
      },
      "source": [
        "A1 = set([1, 2, 3, 4])\r\n",
        "A2 = set([2, 4, 6])\r\n",
        "A3 = set([1, 2, 3])\r\n",
        "A4 = set([2, 3, 4, 5, 6])\r\n",
        "\r\n",
        "print(A1.union(A2))\r\n",
        "print(A2 | A1)\r\n",
        "print(A3.intersection(A4))\r\n",
        "print(A3 & A4)"
      ],
      "execution_count": null,
      "outputs": [
        {
          "output_type": "stream",
          "text": [
            "{1, 2, 3, 4, 6}\n",
            "{1, 2, 3, 4, 6}\n",
            "{2, 3}\n",
            "{2, 3}\n"
          ],
          "name": "stdout"
        }
      ]
    },
    {
      "cell_type": "markdown",
      "metadata": {
        "id": "G0m2IqkfAb1m"
      },
      "source": [
        "### 4) 전체집합, 부분집합\r\n",
        "1. **부분집합(subset)** : 집합의 원소 중 일부만을 포함하는 집합\r\n",
        "2. **전체집합** : 원래의 집합\r\n",
        "> if 집합  A 가 집합  Ω 의 의 부분집합이면, $ A \\subset \\Omega , \\;\\; A \\subset A, \\;\\text{ for all } A $\r\n",
        "3. **진부분집합(proper subset)** : 원소의 크기가 더 작은 부분집합"
      ]
    },
    {
      "cell_type": "code",
      "metadata": {
        "colab": {
          "base_uri": "https://localhost:8080/"
        },
        "id": "BsX72ltmBTzl",
        "outputId": "35210b07-6014-4f36-e6d2-de5da0fdb449"
      },
      "source": [
        "# 두 집합이 부분 집합인지 check\r\n",
        "print(A3.issubset(A1))\r\n",
        "print(A3 <= A1)\r\n",
        "\r\n",
        "print(A3.issubset(A2))\r\n",
        "print(A3 <= A2)\r\n",
        "\r\n",
        "print(A3 <= A3) # 모든 집합은 자기 자신의 부분집합이다.\r\n",
        "print(A3 < A3)  # 모든 집합은 자기 자신의 진부분집합이 아니다."
      ],
      "execution_count": null,
      "outputs": [
        {
          "output_type": "stream",
          "text": [
            "True\n",
            "True\n",
            "False\n",
            "False\n",
            "True\n",
            "False\n"
          ],
          "name": "stdout"
        }
      ]
    },
    {
      "cell_type": "markdown",
      "metadata": {
        "id": "PqqxWbMICwIv"
      },
      "source": [
        "### 5) 차집합과 여집합\r\n",
        "1. 차집합(difference) : A 에서  B를 뺀 \r\n",
        "> $ A-B $\r\n",
        "2. 여집합(complement) : 전체집합 $\\Omega$ 중에서 부분집합 $A$에 속하지 않은 원소로만 이루어진 부분집합\r\n",
        "> $ A^C $\r\n",
        "3. 여집합  AC 은 전체집합에서 집합  A 를 뺀 차집합과 같다.\r\n",
        "> $ A^C = \\Omega - A $"
      ]
    },
    {
      "cell_type": "code",
      "metadata": {
        "colab": {
          "base_uri": "https://localhost:8080/"
        },
        "id": "QcHD8Xp6DZ3G",
        "outputId": "b699c114-f6ee-430d-b02d-c01d718d964c"
      },
      "source": [
        "print(A1.difference(A2))\r\n",
        "print(A1 - A2)"
      ],
      "execution_count": null,
      "outputs": [
        {
          "output_type": "stream",
          "text": [
            "{1, 3}\n",
            "{1, 3}\n"
          ],
          "name": "stdout"
        }
      ]
    },
    {
      "cell_type": "markdown",
      "metadata": {
        "id": "5GufMOg7De6H"
      },
      "source": [
        "### 6) 공집합\r\n",
        "1. **공집합(null set, $\\emptyset$)** : 원소도 포함하지 않는 집합\r\n",
        "2. 공집합은 모든 집합의 부분 집합이 된다.\r\n",
        "> $ \\emptyset \\subset A, \\;\\text{ for all } A $\r\n",
        "3. 임의의 집합과 공집합의 교집합은 공집합이, 임의의 집합과 공집합의 합집합은 그 집합 자신이 된다.\r\n",
        "> $ A \\cap \\emptyset = \\emptyset, \\;\\ A \\cup \\emptyset = A  $ \r\n",
        "4. 여집합과 원래의 집합의 교집합은 공집합이다.\r\n",
        "> $ A \\cap A^C = \\emptyset $"
      ]
    },
    {
      "cell_type": "code",
      "metadata": {
        "colab": {
          "base_uri": "https://localhost:8080/"
        },
        "id": "wcx26q2oENXQ",
        "outputId": "e3d87141-db7c-494d-d8c6-77fdb24ed775"
      },
      "source": [
        "empty_set = set([])\r\n",
        "print(empty_set < A1)\r\n",
        "print(empty_set.intersection(A1))\r\n",
        "print(empty_set.union(A1))"
      ],
      "execution_count": null,
      "outputs": [
        {
          "output_type": "stream",
          "text": [
            "True\n",
            "set()\n",
            "{1, 2, 3, 4}\n"
          ],
          "name": "stdout"
        }
      ]
    },
    {
      "cell_type": "markdown",
      "metadata": {
        "id": "mumf_8QAEY-D"
      },
      "source": [
        "### 7) 부분 집합의 수 \r\n",
        "* 원소의 갯수가  $N$개인 집합은 $2^N$개의 부분집합을 가진다. ."
      ]
    },
    {
      "cell_type": "markdown",
      "metadata": {
        "id": "3jQYftHsEorR"
      },
      "source": [
        "### 8) 합집합과 교집합의 분배 법칙\r\n",
        "\r\n",
        "$ A \\cup (B \\cap C) = (A \\cup B) \\cap (A \\cup C)$\r\n",
        "\r\n",
        "$ A \\cap (B \\cup C) = (A \\cap B) \\cup (A \\cap C)$"
      ]
    },
    {
      "cell_type": "markdown",
      "metadata": {
        "id": "7yCjG2bsFfqg"
      },
      "source": [
        "# 2. 확률의 수학적 정의와 의미 (확률표본, 표본공간, 사건)\r\n",
        "### 1) 표본공간과 확률표본   \r\n",
        "1. **확률표본** or 표본 : 확률적 문제에서 발생(realize)할 수 있는 하나의 현상 혹은 선택(sampled)될 수 있는 하나의 경우\r\n",
        "2. **표본공간(sample space, $\\Omega$)** : 가능한 모든 표본의 집합\r\n",
        "> 표본공간 정의 : 고려하는 범위에서 어떤 표본(경우, 현상)이 가능하고 어떤 표본이 가능하지 않은가를 정의하는 작업\r\n",
        "3. 예시)   \r\n",
        "> $ \\Omega_1 = \\{ H, T \\} $   \r\n",
        "> $ \\Omega_2 = \\{ \\spadesuit, \\heartsuit, \\diamondsuit, \\clubsuit \\}$   \r\n",
        "> $ \\Omega_6 = \\{ x: -30 \\leq x \\leq 30 \\} $   \r\n",
        "> $ \\Omega_8 = \\mathbf{R} $ (R = 실수 전체)\r\n",
        "\r\n",
        "\r\n"
      ]
    },
    {
      "cell_type": "markdown",
      "metadata": {
        "id": "p15kug1sKCNi"
      },
      "source": [
        "###2) 사건\r\n",
        "1. **사건(event)** : 표본공간 $\\Omega$의 부분집합, 즉, 전체 표본공간 중에서 우리가 관심을 가지고 있는 일부 표본의 집합을 뜻한다.    \r\n",
        "보통 $A, B, C, \\cdots$ 식으로 대문자 알파벳으로 표기한다.\r\n",
        "2. 예시)   \r\n",
        "> $ B = \\{H\\} $   \r\n",
        "> $ D = \\{H, T\\} = \\Omega $"
      ]
    },
    {
      "cell_type": "code",
      "metadata": {
        "colab": {
          "base_uri": "https://localhost:8080/"
        },
        "id": "pQI5ilg-KVGG",
        "outputId": "ad7fd5a7-8d12-450c-c50d-54c6245aad96"
      },
      "source": [
        "A = frozenset([])\r\n",
        "B = frozenset(['H'])\r\n",
        "C = frozenset(['T'])\r\n",
        "D = frozenset(['H', 'T'])\r\n",
        "set([A, B, C, D])"
      ],
      "execution_count": null,
      "outputs": [
        {
          "output_type": "execute_result",
          "data": {
            "text/plain": [
              "{frozenset(), frozenset({'T'}), frozenset({'H'}), frozenset({'H', 'T'})}"
            ]
          },
          "metadata": {
            "tags": []
          },
          "execution_count": 21
        }
      ]
    },
    {
      "cell_type": "markdown",
      "metadata": {
        "id": "kXFzFAY2KyhJ"
      },
      "source": [
        "### 3) 확률\r\n",
        "1. **확률(probability)**: 사건(부분집합)을 입력하면 숫자(확률값)가 출력되는 함수\r\n",
        "2. 정의역(확률이라는 함수의 입력 값의 집합)은 표본 공간의 모든 사건(부분 집합)의 집합이다.\r\n",
        "3. 확률 : 모든 각각의 사건(부분집합)에 어떤 숫자를 할당(assign, allocate)하는 함수\r\n",
        "> $P(A)$는 $A$라는 사건(부분집합)에 할당된 숫자를 뜻한다.\r\n",
        "4. 규칙 = 콜모고로프의 공리(Kolmogorov's axioms)    \r\n",
        " 1)  $ P(A)\\geq 0 $   \r\n",
        " 2)  $ P(\\Omega) = 1 $   \r\n",
        " 3)  $ A \\cap B = \\emptyset \\;\\;\\; \\rightarrow \\;\\;\\; P(A \\cup B) = P(A) + P(B) $\r\n",
        "5. 예)   \r\n",
        " if $\\Omega=\\{ H, T \\}$, \r\n",
        " * $P(\\{ H \\})$ : H라는 표본이 선택될 확률\r\n",
        " * $P(\\{ H, T \\})$ : H 또는 T라는 표본이 선택될 확률\r\n",
        "6. 확률이라는 함수를 정의   \r\n",
        "Q : 무엇이 선택될 확률이 얼마인가   \r\n",
        "A : 모든 경우(사건, 부분집합)에 대해 미리 준비해놓은 것 또는 할당해놓은 것\r\n",
        "7. 확률은 표본이 아닌 사건(부분집합)을 정의하는 함수\r\n",
        " > 주사위를 던져 숫자 1이 나타나는 경우   \r\n",
        " > $ P(1) = \\dfrac{1}{6} $    (X)   \r\n",
        " > $ P(\\{1\\}) = \\dfrac{1}{6} $ (O)"
      ]
    },
    {
      "cell_type": "code",
      "metadata": {
        "colab": {
          "base_uri": "https://localhost:8080/"
        },
        "id": "htZY_yyENrZB",
        "outputId": "4a35fb2e-ea3b-499b-863b-a91eb7ef1829"
      },
      "source": [
        "P = {A: 0, B: 0.4, C: 0.6, D: 1}\r\n",
        "P"
      ],
      "execution_count": null,
      "outputs": [
        {
          "output_type": "execute_result",
          "data": {
            "text/plain": [
              "{frozenset(): 0,\n",
              " frozenset({'H'}): 0.4,\n",
              " frozenset({'T'}): 0.6,\n",
              " frozenset({'H', 'T'}): 1}"
            ]
          },
          "metadata": {
            "tags": []
          },
          "execution_count": 22
        }
      ]
    },
    {
      "cell_type": "markdown",
      "metadata": {
        "id": "UDjlJmJfQfv_"
      },
      "source": [
        "### 4) 확률의 의미\r\n",
        "1. 빈도주의 관점 : 반복적으로 선택된 표본이 사건(부분 집합)  A 의 원소가 될 경향(propensity)\r\n",
        "> EX) 예를 들어 10,000번을 던지면 $ 10,000 \\times 0.5 = 5,000$번 앞면이 나오는 경향을 가진다는 의미다.\r\n",
        "2. 베이지안 관점 : 선택된 표본이 특정한 사건(부분 집합)에 속한다는 가설(hypothesis), 명제(proposition) 혹은 주장(assertion)의 신뢰도(degree of belief)\r\n",
        "> EX)   \r\n",
        " 1) 새는 날 수 있다 → 새가 날 수 있는 가능성은 95%이다   \r\n",
        " 2) \"앞면이 나오는 사건\"의 확률값이 0.5다 → \"앞면이 나왔다\"는 주장의 신뢰도가 0.5이다"
      ]
    },
    {
      "cell_type": "markdown",
      "metadata": {
        "id": "Lnjj3_QZRY5X"
      },
      "source": [
        "### 5) 베이지안 관점\r\n",
        "\r\n",
        "1. 사건(부분집합) : 원하는 답(표본)이 포함되어 있을 가능성이 있는 후보의 집합   \r\n",
        "2. 사건이 일어났다 or 발생했다 : 사건(부분집합)의 원소 중에 정말로 선택된 표본이 있다는 사실을 알게 되었다.\r\n",
        "3. ex) if 불투명 컵 안에 주사위를 넣고 굴렸다면,\r\n",
        " > \"주사위의 눈금이 짝수가 나오는 사건이 발생했다.\" = \"주사위의 눈금이 짝수다.\" 라는 사실을 알게 된 것\r\n",
        "4. ex) if 의사가 환자를 진찰, \r\n",
        " > 1) \"검진 결과로 보아 암에 걸렸을 확률이 90%\" = \"자신이 암에 걸렸다는 의사 주장이 사실일 가능성은 90%.\"   \r\n",
        " > 2) 의사의 관점에도 검사를 100번 반복해서 90명이 암에 걸린 빈도주의 관점일 수 있으나, 환자 입장에서 다른 환자가 암인가는 의미가 없기 때문에 베이지안 관점으로 바라보게 된다."
      ]
    }
  ]
}