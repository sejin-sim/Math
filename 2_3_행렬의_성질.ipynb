{
  "nbformat": 4,
  "nbformat_minor": 0,
  "metadata": {
    "colab": {
      "name": "2_3_행렬의 성질.ipynb",
      "provenance": [],
      "collapsed_sections": [],
      "authorship_tag": "ABX9TyOrgL6lHgRgObyHg1sULBXy",
      "include_colab_link": true
    },
    "kernelspec": {
      "name": "python3",
      "display_name": "Python 3"
    }
  },
  "cells": [
    {
      "cell_type": "markdown",
      "metadata": {
        "id": "view-in-github",
        "colab_type": "text"
      },
      "source": [
        "<a href=\"https://colab.research.google.com/github/sejin-sim/Math/blob/main/2_3_%ED%96%89%EB%A0%AC%EC%9D%98_%EC%84%B1%EC%A7%88.ipynb\" target=\"_parent\"><img src=\"https://colab.research.google.com/assets/colab-badge.svg\" alt=\"Open In Colab\"/></a>"
      ]
    },
    {
      "cell_type": "markdown",
      "metadata": {
        "id": "C98NIN99ksUb"
      },
      "source": [
        "### 1) 정부호와 준정부호\r\n",
        "1. 양의 정부호(positive definite) : 영 벡터가 아닌 모든 벡터 $x$에 대해 다음 부등식이 성립하면 행렬 $A$는 양의 정부호이다.\r\n",
        "$$ \r\n",
        "\\begin{align}\r\n",
        "x^T A x > 0  \r\n",
        "\\end{align}\r\n",
        "$$\r\n",
        "2. 양의 준정부호(positive semi-definite)\r\n",
        "$$ \r\n",
        "\\begin{align}\r\n",
        "x^T A x \\geq 0  \r\n",
        "\\end{align}\r\n",
        "$$\r\n",
        "3. 모든 행렬에 대해 양의 정부호와 준정부호를 정의할 수 있지만, 보통 대칭행렬에 대해서만 정의한다. \r\n",
        "4. ex) 항등행렬(identity matrix) $I$는 양의 정부호다. 다음 식에서 벡터 $x$가 영벡터(zeros-vector)가 아니라는 점에 주의한다.\r\n",
        "$$ \r\n",
        "\\begin{align}\r\n",
        "x^T I x = \r\n",
        "\\begin{bmatrix}\r\n",
        "x_1 & x_2 & \\cdots & x_N\r\n",
        "\\end{bmatrix}\r\n",
        "\\begin{bmatrix}\r\n",
        "1&0&\\cdots&0\\\\\r\n",
        "0&1&\\cdots&0\\\\\r\n",
        "\\vdots&\\vdots&\\ddots&\\vdots\\\\\r\n",
        "0&0&\\cdots&1\\\\\r\n",
        "\\end{bmatrix}\r\n",
        "\\begin{bmatrix}\r\n",
        "x_1 \\\\ x_2 \\\\ \\vdots \\\\ x_N\r\n",
        "\\end{bmatrix}\r\n",
        "= x_1^2 + x_2^2 + \\cdots + x_N^2 > 0 \r\n",
        "\\end{align}\r\n",
        "$$\r\n",
        "> 다음과 같은 행렬도 양의 정부호다.\r\n",
        "$$ \r\n",
        "\\begin{align}\r\n",
        "A = \\begin{bmatrix} 2&-1&0\\\\-1&2&-1\\\\0&-1&2 \\end{bmatrix} \r\n",
        "\\end{align}\r\n",
        "$$\r\n",
        "\r\n",
        "5. 증명 : 모든 벡터 $x^T = [x_1 \\; x_2 \\; x_3]$에 대해 \r\n",
        "$$ \r\n",
        "\\begin{align}\r\n",
        "\\begin{aligned} \r\n",
        "x^TA x \r\n",
        "&= \r\n",
        "\\begin{bmatrix} x_1 & x_2 & x_3 \\end{bmatrix} \r\n",
        "\\begin{bmatrix} 2&-1&0\\\\-1&2&-1\\\\0&-1&2 \\end{bmatrix}  \r\n",
        "\\begin{bmatrix} x_1\\\\x_2\\\\x_3 \\end{bmatrix} \\\\\r\n",
        "&= \r\n",
        "\\begin{bmatrix} (2x_1-x_2)&(-x_1+2x_2-x_3)&(-x_2+2x_3) \\end{bmatrix} \r\n",
        "\\begin{bmatrix} x_1\\\\x_2\\\\x_3 \\end{bmatrix} \\\\\r\n",
        "&= 2{x_1}^2 - 2x_1x_2 + 2{x_2}^2 - 2x_2x_3 + 2{x_3}^2 \\\\\r\n",
        "&= {x_1}^2+(x_1 - x_2)^{2} + (x_2 - x_3)^{2}+{x_3}^2  = {x_1}^2+(x_1 - x_2)^{2} + (x_2 - x_3)^{2}+{x_3}^2  > 0  \r\n",
        "\\end{aligned}\r\n",
        "\\end{align}\r\n",
        "$$\r\n",
        "> 제곱의 합으로 이루어졌으므로 $x$가 영벡터인 경우($x_1 = x_2 = x_3 = 0$)를 제외하고는 항상 0보다 크다."
      ]
    },
    {
      "cell_type": "markdown",
      "metadata": {
        "id": "x9STZFvVl4iL"
      },
      "source": [
        "#### 연습 문제 2.3.1\r\n",
        "\r\n",
        "다음 행렬이 양의 정부호인지 양의 준정부호인지 혹은 어떤 것에도 해당되지 않는지 판단하라.\r\n",
        "\r\n",
        "$$ \r\n",
        "\\begin{align}\r\n",
        "\\begin{bmatrix} 1 & 1 \\\\ 1 & 1 \\end{bmatrix} \r\n",
        "\\tag{2.3.7}\r\n",
        "\\end{align}\r\n",
        "$$\r\n",
        "- 준정부호이다."
      ]
    },
    {
      "cell_type": "code",
      "metadata": {
        "id": "kZLTJshUkgEE"
      },
      "source": [
        "import numpy as np\r\n",
        "import matplotlib.pylab as plt\r\n",
        "import seaborn as sns"
      ],
      "execution_count": 7,
      "outputs": []
    },
    {
      "cell_type": "code",
      "metadata": {
        "colab": {
          "base_uri": "https://localhost:8080/"
        },
        "id": "SL_8F4XFmEsB",
        "outputId": "ebff118d-dc33-442e-8aa5-19b8888cd3ad"
      },
      "source": [
        "A = np.array([[1, 1],[1, 1]])\r\n",
        "x = np.array([1, 2])\r\n",
        "\r\n",
        "x @ A @ x.T"
      ],
      "execution_count": 8,
      "outputs": [
        {
          "output_type": "execute_result",
          "data": {
            "text/plain": [
              "9"
            ]
          },
          "metadata": {
            "tags": []
          },
          "execution_count": 8
        }
      ]
    },
    {
      "cell_type": "markdown",
      "metadata": {
        "id": "sVQd1_AJpfcU"
      },
      "source": [
        "### 2) 행렬 놈\r\n",
        "1. 행렬의 놈(norm): 행렬 $A$에 대해 다음 식으로 정의되는 숫자이다. \r\n",
        "$$ \r\n",
        "\\begin{align}\r\n",
        "\\Vert A \\Vert_p = \\left( \\sum_{i=1}^N \\sum_{j=1}^M |a_{ij}|^p \\right)^{1/p}  \r\n",
        "\\end{align}\r\n",
        "$$\r\n",
        "> - 보통 $\\Vert A \\Vert_p$로 표기한다.\r\n",
        "> - 이 식에서 $a_{ij}$는 행렬 $A$의 $i$번째 행, $j$번째 열의 원소다.\r\n",
        "> - 행렬의 놈에도 여러 정의가 있는데 여기에서는 요소별 행렬 놈(entrywise matrix norm)의 정의를 따른다. \r\n",
        "\r\n",
        "2. $p$는 보통 1, 2 또는 무한대($\\infty$)가 사용되는데 이 중 $p=2$인 경우가 가장 많이 쓰이므로 $p$값 표시가 없는 경우는 $p=2$인 놈이라고 생각하면 된다.\r\n",
        "$p=2$인 놈은 **프로베니우스 놈(Frobenius norm)**이라고 불리며 $\\Vert A \\Vert_F$이라고 표기하기도 한다.\r\n",
        "\r\n",
        "$$ \r\n",
        "\\begin{align}\r\n",
        "\\Vert A \\Vert = \\Vert A \\Vert_2 = \\Vert A \\Vert_F = \\sqrt{\\sum_{i=1}^N \\sum_{j=1}^M a_{ij}^2}  \r\n",
        "\\end{align}\r\n",
        "$$\r\n",
        "\r\n",
        "3. 놈의 성질\r\n",
        "- 놈은 항상 0보다 같거나 크다\r\n",
        "- 놈은 모든 크기의 행렬에 대해서 정의할 수 있으므로 벡터에 대해서도 정의할 수 있다.\r\n",
        "- 벡터의 놈의 제곱이 벡터의 제곱합과 같다.\r\n",
        "$$ \r\n",
        "\\begin{align}\r\n",
        "\\Vert x \\Vert^2 = \\sum_{i=1}^N x_{i}^2 = x^Tx  \r\n",
        "\\end{align}\r\n",
        "$$\r\n",
        "> - 놈은 0 또는 양수이므로 놈의 제곱이 가장 작을 때 놈도 가장 작아진다. \r\n",
        "> - 놈을 최소화하는 것은 벡터의 제곱합을 최소화하는 것\r\n",
        "\r\n",
        "4. 놈의 추가적인 정의\r\n",
        "- 놈의 값은 0이상이다. 영행렬일 때만 놈의 값이 0이 된다.\r\n",
        "\r\n",
        "$$\r\n",
        "\\begin{align}\r\n",
        "\\|A\\|\\ge 0\r\n",
        "\\end{align}\r\n",
        "$$\r\n",
        "\r\n",
        "* 행렬에 스칼라를 곱하면 놈의 값도 그 스칼라의 절대값을 곱한 것과 같다.\r\n",
        "\r\n",
        "$$\r\n",
        "\\begin{align}\r\n",
        "\\|\\alpha A\\|=|\\alpha| \\|A\\|\r\n",
        "\\end{align}\r\n",
        "$$\r\n",
        "\r\n",
        "* 행렬의 합의 놈은 각 행렬의 놈의 합보다 작거나 같다.\r\n",
        "\r\n",
        "$$\r\n",
        "\\begin{align}\r\n",
        "\\|A+B\\| \\le \\|A\\|+\\|B\\|\r\n",
        "\\end{align}\r\n",
        "$$\r\n",
        "\r\n",
        "* 정방행렬의 곱의 놈은 각 정방행렬의 놈의 곱보다 작거나 같다.\r\n",
        "\r\n",
        "$$\r\n",
        "\\begin{align}\r\n",
        "\\|AB\\| \\le \\|A\\|\\|B\\|\r\n",
        "\\end{align}\r\n",
        "$$\r\n",
        "\r\n",
        "<br/>\r\n",
        "\r\n",
        "- 넘파이에서는 linalg 서브패키지의 `norm()` 명령으로 행렬의 놈을 계산할 수 있다. "
      ]
    },
    {
      "cell_type": "code",
      "metadata": {
        "colab": {
          "base_uri": "https://localhost:8080/"
        },
        "id": "F12yfLZeqb2t",
        "outputId": "7b597544-0fed-4264-eebf-85ff29b4f0fc"
      },
      "source": [
        "import numpy as np\r\n",
        "\r\n",
        "A = (np.arange(9) - 4).reshape((3, 3))\r\n",
        "A"
      ],
      "execution_count": 9,
      "outputs": [
        {
          "output_type": "execute_result",
          "data": {
            "text/plain": [
              "array([[-4, -3, -2],\n",
              "       [-1,  0,  1],\n",
              "       [ 2,  3,  4]])"
            ]
          },
          "metadata": {
            "tags": []
          },
          "execution_count": 9
        }
      ]
    },
    {
      "cell_type": "code",
      "metadata": {
        "colab": {
          "base_uri": "https://localhost:8080/"
        },
        "id": "1_hINyoLqhk1",
        "outputId": "6a6ae2f6-fbe8-456f-ffce-a1d10c37fb03"
      },
      "source": [
        "np.linalg.norm(A)"
      ],
      "execution_count": 10,
      "outputs": [
        {
          "output_type": "execute_result",
          "data": {
            "text/plain": [
              "7.745966692414834"
            ]
          },
          "metadata": {
            "tags": []
          },
          "execution_count": 10
        }
      ]
    },
    {
      "cell_type": "markdown",
      "metadata": {
        "id": "Gn0QixTEqkRz"
      },
      "source": [
        "#### 연습 문제 2.3.2\r\n",
        "\r\n",
        "행렬 $A$, $(A \\in \\mathbf{R}^{N \\times M})$의 놈의 제곱 $\\Vert A \\Vert^2$이 그 행렬을 이루는 행 벡터 $r_i$의 놈의 제곱의 합 또는 열 벡터 $c_i$의 놈의 제곱의 합과 같음을 증명하라.\r\n",
        "\r\n",
        "$$ \r\n",
        "\\begin{align}\r\n",
        "\\Vert A \\Vert^2 = \\sum_{i=1}^N \\Vert r_i \\Vert^2  = \\sum_{j=1}^M \\Vert c_j \\Vert^2  \r\n",
        "\\tag{2.3.11}\r\n",
        "\\end{align}\r\n",
        "$$"
      ]
    },
    {
      "cell_type": "code",
      "metadata": {
        "colab": {
          "base_uri": "https://localhost:8080/"
        },
        "id": "tiVfqn4PquCm",
        "outputId": "c46f6d62-e88c-4541-d6fb-c54f53165a55"
      },
      "source": [
        "print(A)\r\n",
        "print(A.T)\r\n",
        "r = np.linalg.norm(A)\r\n",
        "c = np.linalg.norm(A.T)\r\n",
        "print(r)\r\n",
        "print(c)"
      ],
      "execution_count": 11,
      "outputs": [
        {
          "output_type": "stream",
          "text": [
            "[[-4 -3 -2]\n",
            " [-1  0  1]\n",
            " [ 2  3  4]]\n",
            "[[-4 -1  2]\n",
            " [-3  0  3]\n",
            " [-2  1  4]]\n",
            "7.745966692414834\n",
            "7.745966692414834\n"
          ],
          "name": "stdout"
        }
      ]
    },
    {
      "cell_type": "markdown",
      "metadata": {
        "id": "jaXLQio7rqgM"
      },
      "source": [
        "### 3) 대각합\r\n",
        "1. 대각합(trace) : 정방행렬에 대해서만 정의되며 다음처럼 대각원소의 합으로 계산된다.\r\n",
        "$$ \r\n",
        "\\begin{align}\r\n",
        "\\text{tr}(A) = a_{11} + a_{22} + \\dots + a_{NN}=\\sum_{i=1}^{N} a_{ii}\r\n",
        "\\end{align}\r\n",
        "$$\r\n",
        "> - 대각합의 값은 놈과 달리 음수가 될 수도 있다.\r\n",
        "2. ex) $N$차원 항등행렬(identity matrix)의 대각합은 $N$이다.\r\n",
        "$$ \r\n",
        "\\begin{align}\r\n",
        "\\text{tr}(I_N) = N \r\n",
        "\\end{align}\r\n",
        "$$\r\n",
        "\r\n",
        "3. 대각합의 성질 ($c$는 스칼라이고 $A, B, C$는 행렬)\r\n",
        "* 스칼라를 곱하면 대각합은 스칼라와 원래의 대각합의 곱이다.\r\n",
        "$$ \r\n",
        "\\begin{align}\r\n",
        "\\text{tr} (cA) = c\\;\\text{tr} (A)  \r\n",
        "\\tag{2.3.18}\r\n",
        "\\end{align}\r\n",
        "$$\r\n",
        "* 전치연산을 해도 대각합이 달라지지 않는다.\r\n",
        "$$ \r\n",
        "\\begin{align}\r\n",
        "\\text{tr} (A^T) = \\text{tr} (A)  \r\n",
        "\\tag{2.3.19}\r\n",
        "\\end{align}\r\n",
        "$$\r\n",
        "* 두 행렬의 합의 대각합은 두 행렬의 대각합의 합이다.\r\n",
        "$$ \r\n",
        "\\begin{align}\r\n",
        "\\text{tr} (A + B) = \\text{tr} (A) + \\text{tr} (B)  \r\n",
        "\\tag{2.3.20}\r\n",
        "\\end{align}\r\n",
        "$$\r\n",
        "* 두 행렬의 곱의 대각합은 행렬의 순서를 바꾸어도 달라지지 않는다.\r\n",
        "$$ \r\n",
        "\\begin{align}\r\n",
        "\\text{tr} (AB) = \\text{tr} (BA)  \r\n",
        "\\tag{2.3.21}\r\n",
        "\\end{align}\r\n",
        "$$\r\n",
        "* 세 행렬의 곱의 대각합은 다음과 같이 순서를 순환시켜도 달라지지 않는다.\r\n",
        "$$ \r\n",
        "\\begin{align}\r\n",
        "\\text{tr} (ABC) = \\text{tr} (BCA) = \\text{tr} (CAB)  \r\n",
        "\\tag{2.3.22}\r\n",
        "\\end{align}\r\n",
        "$$\r\n",
        "* 트레이스 트릭(trace trick) : 이차 형식(quadratic form)의 미분을 구하는 데 유용하게 사용된다.\r\n",
        "$$\r\n",
        "\\begin{align}\r\n",
        "\\text{tr} ((AB)C) = \\text{tr} (C(AB)) = \\text{tr} ((CA)B) = \\text{tr} (B(CA)) \r\n",
        "\\tag{2.3.23}\r\n",
        "\\end{align}\r\n",
        "$$\r\n",
        "* 이 두 식에서는 $A, B, C$가 각각 정방행렬일 필요는 없다. 최종적으로 대각합을 구하는 행렬만 정방행렬이기만 하면 된다. 이차 형식의 트레이스 트릭 공식은 다음과 같다.\r\n",
        "$$ \r\n",
        "\\begin{align}\r\n",
        "x^TAx = \\text{tr}(x^TAx) = \\text{tr}(Axx^T)  = \\text{tr}(xx^TA)  \r\n",
        "\\tag{2.3.24}\r\n",
        "\\end{align}\r\n",
        "$$\r\n",
        "> 이 식은 원래의 트레이스 트릭 식의 $A$, $B$, $C$ 에 각각 $x^T$, $A$, $x$를 대입한 것이다. 이차 형식은 스칼라값이기 때문에 대각합을 취해도 원래의 값과 같다.\r\n",
        "\r\n",
        "\r\n",
        "넘파이에서는 `trace()` 명령으로 대각합을 계산할 수 있다. "
      ]
    },
    {
      "cell_type": "code",
      "metadata": {
        "colab": {
          "base_uri": "https://localhost:8080/"
        },
        "id": "PAhxMRk-od7D",
        "outputId": "4fb4933f-de06-4cb8-b899-2e17fdd3b432"
      },
      "source": [
        "np.trace(np.eye(3))"
      ],
      "execution_count": 12,
      "outputs": [
        {
          "output_type": "execute_result",
          "data": {
            "text/plain": [
              "3.0"
            ]
          },
          "metadata": {
            "tags": []
          },
          "execution_count": 12
        }
      ]
    },
    {
      "cell_type": "markdown",
      "metadata": {
        "id": "k0sVUl_BoiA0"
      },
      "source": [
        "#### 연습 문제 2.3.3\r\n",
        "\r\n",
        "$x$, $A$가 각각 크기가 2 인 벡터, 크기가 2x2 인 정방행렬일 때 이차 형식의 트레이스 트릭이 성립함을 보인다."
      ]
    },
    {
      "cell_type": "code",
      "metadata": {
        "colab": {
          "base_uri": "https://localhost:8080/"
        },
        "id": "0A6sRr1hopo1",
        "outputId": "f301b738-ffff-4d9e-a3f9-990b28639a6b"
      },
      "source": [
        "x = np.array([[1],[2]])\r\n",
        "A = np.array([[1, 2],[3, 4]])\r\n",
        "print(x.T @ A @ x) \r\n",
        "print(np.trace(x.T @ A @ x))\r\n",
        "print(np.trace(A @ x @ x.T))\r\n",
        "print(np.trace(x @ x.T @ A)) "
      ],
      "execution_count": 14,
      "outputs": [
        {
          "output_type": "stream",
          "text": [
            "[[27]]\n",
            "27\n",
            "27\n",
            "27\n"
          ],
          "name": "stdout"
        }
      ]
    },
    {
      "cell_type": "markdown",
      "metadata": {
        "id": "0xW0BH3KpUEY"
      },
      "source": [
        "#### 연습 문제 2.3.4\r\n",
        "\r\n",
        "$N \\times M$ 행렬 $X$에 대해 다음 식을 증명하라. \r\n",
        "\r\n",
        "$$ \r\n",
        "\\begin{align}\r\n",
        "\\text{tr}(X(X^TX)^{-1}X^T) = M \r\n",
        "\\tag{2.3.25}\r\n",
        "\\end{align}\r\n",
        "$$\r\n",
        "\r\n",
        "위 식에서 $(X^TX)^{-1}$은 $X^TX$의 역행렬(inverse matrix)로 $X^TX$와 곱하면 항등행렬이 되는 행렬이다. 역행렬에 대해서는 나중에 자세히 공부한다.\r\n",
        "\r\n",
        "$$ \r\n",
        "\\begin{align}\r\n",
        "(X^TX)^{-1}X^TX = X^TX(X^TX)^{-1} = I \r\n",
        "\\tag{2.3.26}\r\n",
        "\\end{align}\r\n",
        "$$\r\n",
        "\r\n",
        "- 해답\r\n",
        "$$ \\text{tr}(X(X^TX)^{-1}X^T) = \\text{tr}((X^TX)^{-1}X^{T}X) = \\text{tr}(I) = M $$\r\n"
      ]
    },
    {
      "cell_type": "markdown",
      "metadata": {
        "id": "qcgUFqZar1-u"
      },
      "source": [
        "#### 연습 문제 2.3.5\r\n",
        "\r\n",
        "행렬 $A \\, (A \\in \\mathbf{R}^{2 \\times 2})$의 놈의 제곱 $\\Vert A \\Vert^2$이 다음과 같음을 증명하라.\r\n",
        "\r\n",
        "$$ \r\n",
        "\\begin{align}\r\n",
        "\\Vert A \\Vert^2 = \\text{tr}(A^TA)  \r\n",
        "\\tag{2.3.27}\r\n",
        "\\end{align}\r\n",
        "$$\r\n",
        "\r\n",
        "- 해답\r\n",
        "$$ \\Vert A \\Vert^{2} = \\sum_{i=1}^{2} \\sum_{j=1}^{2} a_{ij}^{2} =  a_{11}^{2} + a_{12}^{2} + a_{21}^{2} + a_{22}^{2} $$\r\n",
        "$$ \\begin{align}\r\n",
        "\\text{tr}(A^TA) =\r\n",
        "\\left ( \\begin{bmatrix}\r\n",
        " a_{11} & a_{12} \\\\ \r\n",
        " a_{21} & a_{22}\r\n",
        "\\end{bmatrix}\r\n",
        "\\begin{bmatrix}\r\n",
        " a_{11} & a_{12} \\\\ \r\n",
        " a_{21} & a_{22}\r\n",
        "\\end{bmatrix}\r\n",
        " \\right )\r\n",
        "=\r\n",
        "\\left ( \\begin{bmatrix}\r\n",
        " a_{11}^{2} + a_{12}^{2} &  a_{11}a_{21} + a_{12}a_{22} \\\\ \r\n",
        "a_{11}a_{21} + a_{12}a_{22} &   a_{11}^{2} + a_{12}^{2}\r\n",
        "\\end{bmatrix}\r\n",
        " \\right )\r\n",
        "=\r\n",
        "a_{11}^{2} + a_{12}^{2} + a_{21}^{2} + a_{22}^{2}\r\n",
        "\\end{align}\r\n",
        "$$\r\n",
        "\r\n",
        "$$\r\n",
        "\\Vert A \\Vert^2 = \\text{tr}(A^TA)  \r\n",
        "$$"
      ]
    },
    {
      "cell_type": "markdown",
      "metadata": {
        "id": "PNPw0oGZup0Y"
      },
      "source": [
        "### 4) 행렬식(determinant)\r\n",
        "1. 정방행렬 $A$의 행렬식은 $\\text{det}(A)$, $\\text{det}A$,  또는 $|A|$라는 기호로 표기한다. 행렬식은 다음처럼 재귀적인 방법으로 정의된다. \r\n",
        "2. 우선 행렬 $A$가 $1\\times 1$ 즉 스칼라인 경우에는 행렬식이 자기 자신의 값이 된다.\r\n",
        "\r\n",
        "$$\r\n",
        "\\begin{align}\r\n",
        "\\det \\left( \\begin{bmatrix}a\\end{bmatrix} \\right) = a  \r\n",
        "\\tag{2.3.28}\r\n",
        "\\end{align}\r\n",
        "$$\r\n",
        "3. 행렬 $A$가 스칼라가 아니면 **여인수 전개(cofactor expansion)**라고 불리는 다음 식을 이용하여 계산한다. 이 식에서 $a_{i,j}$는 $A$의 $i$행, $j$열 원소이고 $i_0$(또는 $j_0$)는 계산하는 사람이 임의로 선택한 행번호(또는 열번호)이다.\r\n",
        "\r\n",
        "$$ \r\n",
        "\\begin{align}\r\n",
        "\\det(A) = \\sum_{i=1}^N \\left\\{ (-1)^{i+j_0}M_{i,j_0} \\right\\} a_{i,j_0}  \r\n",
        "\\tag{2.3.29}\r\n",
        "\\end{align}\r\n",
        "$$\r\n",
        "\r\n",
        "$$ \r\n",
        "\\begin{align}\r\n",
        "\\det(A) = \\sum_{j=1}^N \\left\\{ (-1)^{i_0+j} M_{i_0,j} \\right\\} a_{i_0,j} \r\n",
        "\\tag{2.3.30}\r\n",
        "\\end{align}\r\n",
        "$$\r\n",
        "- 두 식 아무거나 써도 같은 결과가 나온다.\r\n",
        "- 행렬에서 임의의 행 $i_0$ 하나를 선택하거나 임의의 열 $j_0$ 하나를 선택한 다음 이 값에 가중치 $(-1)^{i+j_0}M_{i,j_0}$ 또는 $ (-1)^{i_0+j} M_{i_0,j}$를 곱하여 더한 것이다. \r\n",
        "\r\n",
        "4. 2x2, 3x3인 정방행렬의 행렬식의 값은 다음 공식으로 계산할 수 있다.\r\n",
        "* 2×2 행렬의 행렬식\r\n",
        "\r\n",
        "$$\r\n",
        "\\begin{align}\r\n",
        "\\det \\left( \\begin{bmatrix}a&b\\\\c&d\\end{bmatrix} \\right) = ad-bc\r\n",
        "\\tag{2.3.45}\r\n",
        "\\end{align}\r\n",
        "$$\r\n",
        "\r\n",
        "* 3×3 행렬의 행렬식\r\n",
        "\r\n",
        "$$\r\n",
        "\\begin{align}\r\n",
        "\\det \\left( \\begin{bmatrix}a&b&c\\\\d&e&f\\\\g&h&i\\end{bmatrix} \\right) =aei+bfg+cdh-ceg-bdi-afh\r\n",
        "\\tag{2.3.46}\r\n",
        "\\end{align}\r\n",
        "$$\r\n",
        "> - 행렬식의 값도 대각합과 마찬가지로 음수가 될 수 있다.\r\n",
        "\r\n",
        "넘파이에서는 linalg 서브패키지의 `det()` 명령으로 행렬식을 계산할 수 있다.  "
      ]
    },
    {
      "cell_type": "code",
      "metadata": {
        "colab": {
          "base_uri": "https://localhost:8080/"
        },
        "id": "zu_2br-9o3RD",
        "outputId": "ebc47b73-9417-4b2a-f709-d6eb4193028f"
      },
      "source": [
        "A = np.array([[1, 2, 3], [4, 5, 6], [7, 8, 9]])\r\n",
        "np.linalg.det(A)"
      ],
      "execution_count": 15,
      "outputs": [
        {
          "output_type": "execute_result",
          "data": {
            "text/plain": [
              "0.0"
            ]
          },
          "metadata": {
            "tags": []
          },
          "execution_count": 15
        }
      ]
    },
    {
      "cell_type": "markdown",
      "metadata": {
        "id": "WPU69j-z3LfU"
      },
      "source": [
        "행렬식은 다음과 같은 성질을 만족한다.\r\n",
        "\r\n",
        "* 전치 행렬의 행렬식은 원래의 행렬의 행렬식과 같다. \r\n",
        "\r\n",
        "$$ \r\n",
        "\\begin{align}\r\n",
        "\\det(A^{T}) = \\det(A)  \r\n",
        "\\tag{2.3.47}\r\n",
        "\\end{align}\r\n",
        "$$\r\n",
        "\r\n",
        "\r\n",
        "* 항등 행렬의 행렬식은 1이다.\r\n",
        "\r\n",
        "$$\r\n",
        "\\begin{align}\r\n",
        "\\det(I) = 1  \r\n",
        "\\tag{2.3.48}\r\n",
        "\\end{align}\r\n",
        "$$\r\n",
        "\r\n",
        "\r\n",
        "* 두 행렬의 곱의 행렬식은 각 행렬의 행렬식의 곱과 같다. \r\n",
        "\r\n",
        "$$\r\n",
        "\\begin{align}\r\n",
        "\\det(AB) = \\det(A)\\det(B)  \r\n",
        "\\tag{2.3.49}\r\n",
        "\\end{align}\r\n",
        "$$\r\n",
        "\r\n",
        "\r\n",
        "* **역행렬** $A^{-1}$은 원래의 행렬 $A$와 다음 관계를 만족하는 정방행렬을 말한다. $I$는 항등 행렬(identity matrix)이다.\r\n",
        "\r\n",
        "$$ \r\n",
        "\\begin{align}\r\n",
        "A^{-1} A = A A^{-1} = I  \r\n",
        "\\tag{2.3.50}\r\n",
        "\\end{align}\r\n",
        "$$\r\n",
        "\r\n",
        "\r\n",
        "* 역행렬의 행렬식은 원래의 행렬의  행렬식의 역수와 같다. \r\n",
        "\r\n",
        "$$ \r\n",
        "\\begin{align}\r\n",
        "\\det(A^{-1}) = \\dfrac{1}{\\det(A)}  \r\n",
        "\\tag{2.3.51}\r\n",
        "\\end{align}\r\n",
        "$$\r\n",
        "\r\n",
        "\r\n",
        "위 식은 역행렬의 정의와 여인수 전개식을 사용하여 증명할 수 있다.\r\n",
        "\r\n",
        "$$ \r\n",
        "\\begin{align}\r\n",
        "\\det(A) \\det(A^{-1}) = \\det{I} = 1 \r\n",
        "\\tag{2.3.52}\r\n",
        "\\end{align}\r\n",
        "$$\r\n",
        "\r\n"
      ]
    },
    {
      "cell_type": "markdown",
      "metadata": {
        "id": "s5H6uVrt3j1d"
      },
      "source": [
        "#### 연습 문제 2.3.7\r\n",
        "\r\n",
        "다음 행렬이 양의 정부호인지, 양의 준정부호인지 혹은 두가지 중 어느것도 아닌지 판단하라. 그리고 행렬의 대각합과 행렬식을 구하라.\r\n",
        "\r\n",
        "(1)\r\n",
        "\r\n",
        "$$\r\n",
        "\\begin{align}\r\n",
        "\\begin{bmatrix} \r\n",
        "2 & -1 & 0 \\\\ -1 & 2 & -1 \\\\ 0 & -1 & 2 \r\n",
        "\\end{bmatrix} \r\n",
        "\\tag{2.3.53}\r\n",
        "\\end{align}\r\n",
        "$$\r\n",
        "\r\n",
        "- 해답\r\n",
        "> 양의 정부호이다. \r\n",
        "\r\n",
        "(2)\r\n",
        "\r\n",
        "$$\r\n",
        "\\begin{align}\r\n",
        "\\begin{bmatrix} \r\n",
        "1 & 2 \\\\ 3 & 4\r\n",
        "\\end{bmatrix} \r\n",
        "\\tag{2.3.54}\r\n",
        "\\end{align}\r\n",
        "$$\r\n",
        "- 해답\r\n",
        "> 양의 정부호도 아니고 양의 준정부호도 아니다."
      ]
    },
    {
      "cell_type": "code",
      "metadata": {
        "colab": {
          "base_uri": "https://localhost:8080/"
        },
        "id": "lC0iUgg_3nAH",
        "outputId": "c0d26b29-f652-4207-e61c-5cc121837894"
      },
      "source": [
        "A = np.array([[2, -1, 0], [-1, 2, -1], [0, -1, 2]])\r\n",
        "print(np.trace(A))\r\n",
        "print(np.linalg.det(A))"
      ],
      "execution_count": 17,
      "outputs": [
        {
          "output_type": "stream",
          "text": [
            "6\n",
            "4.0\n"
          ],
          "name": "stdout"
        }
      ]
    },
    {
      "cell_type": "code",
      "metadata": {
        "colab": {
          "base_uri": "https://localhost:8080/"
        },
        "id": "5JFReEGL41wX",
        "outputId": "f0b4c328-a5f4-430e-da28-d855cbf2b945"
      },
      "source": [
        "B = np.array([[1, 2], [3, 4]])\r\n",
        "print(np.trace(B))\r\n",
        "print(int(np.linalg.det(B)))"
      ],
      "execution_count": 21,
      "outputs": [
        {
          "output_type": "stream",
          "text": [
            "5\n",
            "-2\n"
          ],
          "name": "stdout"
        }
      ]
    }
  ]
}